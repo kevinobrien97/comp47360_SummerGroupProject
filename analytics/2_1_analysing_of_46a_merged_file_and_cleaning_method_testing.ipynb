{
 "cells": [
  {
   "cell_type": "markdown",
   "id": "8f3841c4",
   "metadata": {},
   "source": [
    "### Testing of Data Cleaning Operations and Dataset Assessment on the stop-by-stop data on the 46a\n",
    "- This file is a a practice notebook for analysing the quality of the data for the merged data on the 46a bus line.\n",
    "- The file sought to identify potential isssues and characteristics of the data for the stop-by-stop data asa whole.\n",
    "- Many of these operations were not used but it was useful to draw insights from the data."
   ]
  },
  {
   "cell_type": "code",
   "execution_count": 2,
   "id": "f757ff8d",
   "metadata": {},
   "outputs": [],
   "source": [
    "import pandas as pd\n",
    "import matplotlib.pyplot as plt\n",
    "import numpy as np\n",
    "import datetime as dt\n",
    "from sklearn.model_selection import train_test_split\n",
    "from sklearn.ensemble import RandomForestClassifier, RandomForestRegressor\n",
    "import matplotlib.pyplot as plt\n",
    "from sklearn import metrics\n",
    "from sklearn.metrics import classification_report\n",
    "import seaborn as sns"
   ]
  },
  {
   "cell_type": "code",
   "execution_count": 3,
   "id": "02d858f9",
   "metadata": {},
   "outputs": [
    {
     "name": "stdout",
     "output_type": "stream",
     "text": [
      "/home/team9/tmp\n"
     ]
    }
   ],
   "source": [
    "cd tmp"
   ]
  },
  {
   "cell_type": "code",
   "execution_count": 4,
   "id": "e5e18648",
   "metadata": {},
   "outputs": [
    {
     "name": "stdout",
     "output_type": "stream",
     "text": [
      "/home/team9/tmp/data\n"
     ]
    }
   ],
   "source": [
    "cd data"
   ]
  },
  {
   "cell_type": "code",
   "execution_count": 60,
   "id": "a5fc1a9e",
   "metadata": {},
   "outputs": [
    {
     "name": "stdout",
     "output_type": "stream",
     "text": [
      "Custom_location_53_345035_-6_267261_62b5c8e6c91d98000ba01ceb.csv\r\n",
      "rt_leavetimes_DB_2018.txt\r\n",
      "rt_trips_DB_2018.txt\r\n",
      "rt_vehicles_DB_2018.txt\r\n",
      "\u001b[0m\u001b[01;31mrt_vehicles_DB_2018.zip\u001b[0m\r\n",
      "test_46a_dask.csv\r\n",
      "trips_modelling.csv\r\n",
      "weather_factorised.csv\r\n",
      "weather_trips.csv\r\n"
     ]
    }
   ],
   "source": [
    "ls"
   ]
  },
  {
   "cell_type": "code",
   "execution_count": null,
   "id": "b7ead4cc",
   "metadata": {},
   "outputs": [],
   "source": [
    "# rm test_46a_dask.csv"
   ]
  },
  {
   "cell_type": "code",
   "execution_count": 6,
   "id": "476a77af",
   "metadata": {},
   "outputs": [],
   "source": [
    "LT_46A_68_1 = pd.read_csv('test_46a_dask.csv')"
   ]
  },
  {
   "cell_type": "code",
   "execution_count": 7,
   "id": "5535a232",
   "metadata": {},
   "outputs": [
    {
     "data": {
      "text/html": [
       "<div>\n",
       "<style scoped>\n",
       "    .dataframe tbody tr th:only-of-type {\n",
       "        vertical-align: middle;\n",
       "    }\n",
       "\n",
       "    .dataframe tbody tr th {\n",
       "        vertical-align: top;\n",
       "    }\n",
       "\n",
       "    .dataframe thead th {\n",
       "        text-align: right;\n",
       "    }\n",
       "</style>\n",
       "<table border=\"1\" class=\"dataframe\">\n",
       "  <thead>\n",
       "    <tr style=\"text-align: right;\">\n",
       "      <th></th>\n",
       "      <th>DAYOFSERVICE</th>\n",
       "      <th>TRIPID</th>\n",
       "      <th>PROGRNUMBER</th>\n",
       "      <th>STOPPOINTID</th>\n",
       "      <th>PLANNEDTIME_ARR</th>\n",
       "      <th>PLANNEDTIME_DEP</th>\n",
       "      <th>ACTUALTIME_ARR</th>\n",
       "      <th>ACTUALTIME_DEP</th>\n",
       "      <th>VEHICLEID</th>\n",
       "      <th>LINEID</th>\n",
       "      <th>...</th>\n",
       "      <th>HOUR_DEPARTURE</th>\n",
       "      <th>dt</th>\n",
       "      <th>temp</th>\n",
       "      <th>visibility</th>\n",
       "      <th>wind_speed</th>\n",
       "      <th>weather_main</th>\n",
       "      <th>weather_description</th>\n",
       "      <th>weather_icon</th>\n",
       "      <th>date</th>\n",
       "      <th>ROUTE_DIRECTION</th>\n",
       "    </tr>\n",
       "  </thead>\n",
       "  <tbody>\n",
       "    <tr>\n",
       "      <th>0</th>\n",
       "      <td>2018-01-02</td>\n",
       "      <td>5968538</td>\n",
       "      <td>32</td>\n",
       "      <td>2017</td>\n",
       "      <td>28616</td>\n",
       "      <td>28616</td>\n",
       "      <td>27885.0</td>\n",
       "      <td>27896.0</td>\n",
       "      <td>1930279</td>\n",
       "      <td>46A</td>\n",
       "      <td>...</td>\n",
       "      <td>7.0</td>\n",
       "      <td>1.514876e+09</td>\n",
       "      <td>2.0</td>\n",
       "      <td>10.0</td>\n",
       "      <td>3.0</td>\n",
       "      <td>1.0</td>\n",
       "      <td>9.0</td>\n",
       "      <td>11.0</td>\n",
       "      <td>2018-01-02 07:00:00</td>\n",
       "      <td>46A_68_1</td>\n",
       "    </tr>\n",
       "    <tr>\n",
       "      <th>1</th>\n",
       "      <td>2018-01-02</td>\n",
       "      <td>5968538</td>\n",
       "      <td>45</td>\n",
       "      <td>2035</td>\n",
       "      <td>29338</td>\n",
       "      <td>29338</td>\n",
       "      <td>28416.0</td>\n",
       "      <td>28416.0</td>\n",
       "      <td>1930279</td>\n",
       "      <td>46A</td>\n",
       "      <td>...</td>\n",
       "      <td>7.0</td>\n",
       "      <td>1.514876e+09</td>\n",
       "      <td>2.0</td>\n",
       "      <td>10.0</td>\n",
       "      <td>3.0</td>\n",
       "      <td>1.0</td>\n",
       "      <td>9.0</td>\n",
       "      <td>11.0</td>\n",
       "      <td>2018-01-02 07:00:00</td>\n",
       "      <td>46A_68_1</td>\n",
       "    </tr>\n",
       "    <tr>\n",
       "      <th>2</th>\n",
       "      <td>2018-01-02</td>\n",
       "      <td>5968538</td>\n",
       "      <td>40</td>\n",
       "      <td>4567</td>\n",
       "      <td>29069</td>\n",
       "      <td>29069</td>\n",
       "      <td>28216.0</td>\n",
       "      <td>28240.0</td>\n",
       "      <td>1930279</td>\n",
       "      <td>46A</td>\n",
       "      <td>...</td>\n",
       "      <td>7.0</td>\n",
       "      <td>1.514876e+09</td>\n",
       "      <td>2.0</td>\n",
       "      <td>10.0</td>\n",
       "      <td>3.0</td>\n",
       "      <td>1.0</td>\n",
       "      <td>9.0</td>\n",
       "      <td>11.0</td>\n",
       "      <td>2018-01-02 07:00:00</td>\n",
       "      <td>46A_68_1</td>\n",
       "    </tr>\n",
       "    <tr>\n",
       "      <th>3</th>\n",
       "      <td>2018-01-02</td>\n",
       "      <td>5968538</td>\n",
       "      <td>14</td>\n",
       "      <td>758</td>\n",
       "      <td>27483</td>\n",
       "      <td>27483</td>\n",
       "      <td>27219.0</td>\n",
       "      <td>27219.0</td>\n",
       "      <td>1930279</td>\n",
       "      <td>46A</td>\n",
       "      <td>...</td>\n",
       "      <td>7.0</td>\n",
       "      <td>1.514876e+09</td>\n",
       "      <td>2.0</td>\n",
       "      <td>10.0</td>\n",
       "      <td>3.0</td>\n",
       "      <td>1.0</td>\n",
       "      <td>9.0</td>\n",
       "      <td>11.0</td>\n",
       "      <td>2018-01-02 07:00:00</td>\n",
       "      <td>46A_68_1</td>\n",
       "    </tr>\n",
       "    <tr>\n",
       "      <th>4</th>\n",
       "      <td>2018-01-02</td>\n",
       "      <td>5968538</td>\n",
       "      <td>47</td>\n",
       "      <td>2039</td>\n",
       "      <td>29419</td>\n",
       "      <td>29419</td>\n",
       "      <td>28506.0</td>\n",
       "      <td>28506.0</td>\n",
       "      <td>1930279</td>\n",
       "      <td>46A</td>\n",
       "      <td>...</td>\n",
       "      <td>7.0</td>\n",
       "      <td>1.514876e+09</td>\n",
       "      <td>2.0</td>\n",
       "      <td>10.0</td>\n",
       "      <td>3.0</td>\n",
       "      <td>1.0</td>\n",
       "      <td>9.0</td>\n",
       "      <td>11.0</td>\n",
       "      <td>2018-01-02 07:00:00</td>\n",
       "      <td>46A_68_1</td>\n",
       "    </tr>\n",
       "    <tr>\n",
       "      <th>...</th>\n",
       "      <td>...</td>\n",
       "      <td>...</td>\n",
       "      <td>...</td>\n",
       "      <td>...</td>\n",
       "      <td>...</td>\n",
       "      <td>...</td>\n",
       "      <td>...</td>\n",
       "      <td>...</td>\n",
       "      <td>...</td>\n",
       "      <td>...</td>\n",
       "      <td>...</td>\n",
       "      <td>...</td>\n",
       "      <td>...</td>\n",
       "      <td>...</td>\n",
       "      <td>...</td>\n",
       "      <td>...</td>\n",
       "      <td>...</td>\n",
       "      <td>...</td>\n",
       "      <td>...</td>\n",
       "      <td>...</td>\n",
       "      <td>...</td>\n",
       "    </tr>\n",
       "    <tr>\n",
       "      <th>14469</th>\n",
       "      <td>2018-12-18</td>\n",
       "      <td>8453335</td>\n",
       "      <td>41</td>\n",
       "      <td>2031</td>\n",
       "      <td>29509</td>\n",
       "      <td>29509</td>\n",
       "      <td>29574.0</td>\n",
       "      <td>29574.0</td>\n",
       "      <td>1932339</td>\n",
       "      <td>46A</td>\n",
       "      <td>...</td>\n",
       "      <td>8.0</td>\n",
       "      <td>1.545120e+09</td>\n",
       "      <td>3.0</td>\n",
       "      <td>10.0</td>\n",
       "      <td>2.0</td>\n",
       "      <td>1.0</td>\n",
       "      <td>9.0</td>\n",
       "      <td>11.0</td>\n",
       "      <td>2018-12-18 08:00:00</td>\n",
       "      <td>46A_68_1</td>\n",
       "    </tr>\n",
       "    <tr>\n",
       "      <th>14470</th>\n",
       "      <td>2018-12-17</td>\n",
       "      <td>8453335</td>\n",
       "      <td>11</td>\n",
       "      <td>2795</td>\n",
       "      <td>27395</td>\n",
       "      <td>27395</td>\n",
       "      <td>27726.0</td>\n",
       "      <td>27744.0</td>\n",
       "      <td>1930279</td>\n",
       "      <td>46A</td>\n",
       "      <td>...</td>\n",
       "      <td>7.0</td>\n",
       "      <td>1.545030e+09</td>\n",
       "      <td>2.0</td>\n",
       "      <td>10.0</td>\n",
       "      <td>1.0</td>\n",
       "      <td>0.0</td>\n",
       "      <td>0.0</td>\n",
       "      <td>7.0</td>\n",
       "      <td>2018-12-17 07:00:00</td>\n",
       "      <td>46A_68_1</td>\n",
       "    </tr>\n",
       "    <tr>\n",
       "      <th>14471</th>\n",
       "      <td>2018-12-17</td>\n",
       "      <td>8453335</td>\n",
       "      <td>22</td>\n",
       "      <td>2009</td>\n",
       "      <td>28147</td>\n",
       "      <td>28147</td>\n",
       "      <td>28478.0</td>\n",
       "      <td>28492.0</td>\n",
       "      <td>1930279</td>\n",
       "      <td>46A</td>\n",
       "      <td>...</td>\n",
       "      <td>7.0</td>\n",
       "      <td>1.545030e+09</td>\n",
       "      <td>2.0</td>\n",
       "      <td>10.0</td>\n",
       "      <td>1.0</td>\n",
       "      <td>0.0</td>\n",
       "      <td>0.0</td>\n",
       "      <td>7.0</td>\n",
       "      <td>2018-12-17 07:00:00</td>\n",
       "      <td>46A_68_1</td>\n",
       "    </tr>\n",
       "    <tr>\n",
       "      <th>14472</th>\n",
       "      <td>2018-12-17</td>\n",
       "      <td>8453335</td>\n",
       "      <td>32</td>\n",
       "      <td>2017</td>\n",
       "      <td>28865</td>\n",
       "      <td>28865</td>\n",
       "      <td>29162.0</td>\n",
       "      <td>29174.0</td>\n",
       "      <td>1930279</td>\n",
       "      <td>46A</td>\n",
       "      <td>...</td>\n",
       "      <td>8.0</td>\n",
       "      <td>1.545034e+09</td>\n",
       "      <td>2.0</td>\n",
       "      <td>10.0</td>\n",
       "      <td>2.0</td>\n",
       "      <td>0.0</td>\n",
       "      <td>0.0</td>\n",
       "      <td>7.0</td>\n",
       "      <td>2018-12-17 08:00:00</td>\n",
       "      <td>46A_68_1</td>\n",
       "    </tr>\n",
       "    <tr>\n",
       "      <th>14473</th>\n",
       "      <td>2018-12-17</td>\n",
       "      <td>8453335</td>\n",
       "      <td>42</td>\n",
       "      <td>2032</td>\n",
       "      <td>29601</td>\n",
       "      <td>29601</td>\n",
       "      <td>29990.0</td>\n",
       "      <td>30007.0</td>\n",
       "      <td>1930279</td>\n",
       "      <td>46A</td>\n",
       "      <td>...</td>\n",
       "      <td>8.0</td>\n",
       "      <td>1.545034e+09</td>\n",
       "      <td>2.0</td>\n",
       "      <td>10.0</td>\n",
       "      <td>2.0</td>\n",
       "      <td>0.0</td>\n",
       "      <td>0.0</td>\n",
       "      <td>7.0</td>\n",
       "      <td>2018-12-17 08:00:00</td>\n",
       "      <td>46A_68_1</td>\n",
       "    </tr>\n",
       "  </tbody>\n",
       "</table>\n",
       "<p>14474 rows × 24 columns</p>\n",
       "</div>"
      ],
      "text/plain": [
       "      DAYOFSERVICE   TRIPID  PROGRNUMBER  STOPPOINTID  PLANNEDTIME_ARR  \\\n",
       "0       2018-01-02  5968538           32         2017            28616   \n",
       "1       2018-01-02  5968538           45         2035            29338   \n",
       "2       2018-01-02  5968538           40         4567            29069   \n",
       "3       2018-01-02  5968538           14          758            27483   \n",
       "4       2018-01-02  5968538           47         2039            29419   \n",
       "...            ...      ...          ...          ...              ...   \n",
       "14469   2018-12-18  8453335           41         2031            29509   \n",
       "14470   2018-12-17  8453335           11         2795            27395   \n",
       "14471   2018-12-17  8453335           22         2009            28147   \n",
       "14472   2018-12-17  8453335           32         2017            28865   \n",
       "14473   2018-12-17  8453335           42         2032            29601   \n",
       "\n",
       "       PLANNEDTIME_DEP  ACTUALTIME_ARR  ACTUALTIME_DEP  VEHICLEID LINEID  ...  \\\n",
       "0                28616         27885.0         27896.0    1930279    46A  ...   \n",
       "1                29338         28416.0         28416.0    1930279    46A  ...   \n",
       "2                29069         28216.0         28240.0    1930279    46A  ...   \n",
       "3                27483         27219.0         27219.0    1930279    46A  ...   \n",
       "4                29419         28506.0         28506.0    1930279    46A  ...   \n",
       "...                ...             ...             ...        ...    ...  ...   \n",
       "14469            29509         29574.0         29574.0    1932339    46A  ...   \n",
       "14470            27395         27726.0         27744.0    1930279    46A  ...   \n",
       "14471            28147         28478.0         28492.0    1930279    46A  ...   \n",
       "14472            28865         29162.0         29174.0    1930279    46A  ...   \n",
       "14473            29601         29990.0         30007.0    1930279    46A  ...   \n",
       "\n",
       "      HOUR_DEPARTURE            dt  temp  visibility  wind_speed  \\\n",
       "0                7.0  1.514876e+09   2.0        10.0         3.0   \n",
       "1                7.0  1.514876e+09   2.0        10.0         3.0   \n",
       "2                7.0  1.514876e+09   2.0        10.0         3.0   \n",
       "3                7.0  1.514876e+09   2.0        10.0         3.0   \n",
       "4                7.0  1.514876e+09   2.0        10.0         3.0   \n",
       "...              ...           ...   ...         ...         ...   \n",
       "14469            8.0  1.545120e+09   3.0        10.0         2.0   \n",
       "14470            7.0  1.545030e+09   2.0        10.0         1.0   \n",
       "14471            7.0  1.545030e+09   2.0        10.0         1.0   \n",
       "14472            8.0  1.545034e+09   2.0        10.0         2.0   \n",
       "14473            8.0  1.545034e+09   2.0        10.0         2.0   \n",
       "\n",
       "       weather_main  weather_description  weather_icon                 date  \\\n",
       "0               1.0                  9.0          11.0  2018-01-02 07:00:00   \n",
       "1               1.0                  9.0          11.0  2018-01-02 07:00:00   \n",
       "2               1.0                  9.0          11.0  2018-01-02 07:00:00   \n",
       "3               1.0                  9.0          11.0  2018-01-02 07:00:00   \n",
       "4               1.0                  9.0          11.0  2018-01-02 07:00:00   \n",
       "...             ...                  ...           ...                  ...   \n",
       "14469           1.0                  9.0          11.0  2018-12-18 08:00:00   \n",
       "14470           0.0                  0.0           7.0  2018-12-17 07:00:00   \n",
       "14471           0.0                  0.0           7.0  2018-12-17 07:00:00   \n",
       "14472           0.0                  0.0           7.0  2018-12-17 08:00:00   \n",
       "14473           0.0                  0.0           7.0  2018-12-17 08:00:00   \n",
       "\n",
       "       ROUTE_DIRECTION  \n",
       "0             46A_68_1  \n",
       "1             46A_68_1  \n",
       "2             46A_68_1  \n",
       "3             46A_68_1  \n",
       "4             46A_68_1  \n",
       "...                ...  \n",
       "14469         46A_68_1  \n",
       "14470         46A_68_1  \n",
       "14471         46A_68_1  \n",
       "14472         46A_68_1  \n",
       "14473         46A_68_1  \n",
       "\n",
       "[14474 rows x 24 columns]"
      ]
     },
     "execution_count": 7,
     "metadata": {},
     "output_type": "execute_result"
    }
   ],
   "source": [
    "LT_46A_68_1"
   ]
  },
  {
   "cell_type": "code",
   "execution_count": 8,
   "id": "44710230",
   "metadata": {},
   "outputs": [
    {
     "data": {
      "text/plain": [
       "(14474, 24)"
      ]
     },
     "execution_count": 8,
     "metadata": {},
     "output_type": "execute_result"
    }
   ],
   "source": [
    "LT_46A_68_1.shape"
   ]
  },
  {
   "cell_type": "code",
   "execution_count": 9,
   "id": "a56f2863",
   "metadata": {},
   "outputs": [
    {
     "data": {
      "text/plain": [
       "DAYOFSERVICE            196\n",
       "TRIPID                   60\n",
       "PROGRNUMBER              47\n",
       "STOPPOINTID              47\n",
       "PLANNEDTIME_ARR        1343\n",
       "PLANNEDTIME_DEP        1343\n",
       "ACTUALTIME_ARR         4602\n",
       "ACTUALTIME_DEP         4595\n",
       "VEHICLEID                89\n",
       "LINEID                    1\n",
       "ROUTEID                   1\n",
       "DIRECTION                 1\n",
       "PLANNEDTIME_DEP_T         2\n",
       "ACTUALTIME_DEP_T        191\n",
       "HOUR_DEPARTURE            3\n",
       "dt                      393\n",
       "temp                      5\n",
       "visibility               11\n",
       "wind_speed                9\n",
       "weather_main              2\n",
       "weather_description      14\n",
       "weather_icon             16\n",
       "date                    393\n",
       "ROUTE_DIRECTION           1\n",
       "dtype: int64"
      ]
     },
     "execution_count": 9,
     "metadata": {},
     "output_type": "execute_result"
    }
   ],
   "source": [
    "LT_46A_68_1.nunique()"
   ]
  },
  {
   "cell_type": "code",
   "execution_count": 10,
   "id": "8cecb4a7",
   "metadata": {},
   "outputs": [
    {
     "data": {
      "text/plain": [
       "DAYOFSERVICE            object\n",
       "TRIPID                   int64\n",
       "PROGRNUMBER              int64\n",
       "STOPPOINTID              int64\n",
       "PLANNEDTIME_ARR          int64\n",
       "PLANNEDTIME_DEP          int64\n",
       "ACTUALTIME_ARR         float64\n",
       "ACTUALTIME_DEP         float64\n",
       "VEHICLEID                int64\n",
       "LINEID                  object\n",
       "ROUTEID                 object\n",
       "DIRECTION                int64\n",
       "PLANNEDTIME_DEP_T        int64\n",
       "ACTUALTIME_DEP_T       float64\n",
       "HOUR_DEPARTURE         float64\n",
       "dt                     float64\n",
       "temp                   float64\n",
       "visibility             float64\n",
       "wind_speed             float64\n",
       "weather_main           float64\n",
       "weather_description    float64\n",
       "weather_icon           float64\n",
       "date                    object\n",
       "ROUTE_DIRECTION         object\n",
       "dtype: object"
      ]
     },
     "execution_count": 10,
     "metadata": {},
     "output_type": "execute_result"
    }
   ],
   "source": [
    "LT_46A_68_1.dtypes"
   ]
  },
  {
   "cell_type": "code",
   "execution_count": 11,
   "id": "7f72c524",
   "metadata": {},
   "outputs": [
    {
     "data": {
      "text/plain": [
       "DAYOFSERVICE              0\n",
       "TRIPID                    0\n",
       "PROGRNUMBER               0\n",
       "STOPPOINTID               0\n",
       "PLANNEDTIME_ARR           0\n",
       "PLANNEDTIME_DEP           0\n",
       "ACTUALTIME_ARR            0\n",
       "ACTUALTIME_DEP            0\n",
       "VEHICLEID                 0\n",
       "LINEID                    0\n",
       "ROUTEID                   0\n",
       "DIRECTION                 0\n",
       "PLANNEDTIME_DEP_T         0\n",
       "ACTUALTIME_DEP_T       2487\n",
       "HOUR_DEPARTURE            0\n",
       "dt                        0\n",
       "temp                      0\n",
       "visibility                0\n",
       "wind_speed                0\n",
       "weather_main              0\n",
       "weather_description       0\n",
       "weather_icon              0\n",
       "date                      0\n",
       "ROUTE_DIRECTION           0\n",
       "dtype: int64"
      ]
     },
     "execution_count": 11,
     "metadata": {},
     "output_type": "execute_result"
    }
   ],
   "source": [
    "LT_46A_68_1.isnull().sum()"
   ]
  },
  {
   "cell_type": "code",
   "execution_count": 12,
   "id": "0eb2e4ed",
   "metadata": {},
   "outputs": [],
   "source": [
    "nulls_lt = LT_46A_68_1[LT_46A_68_1[\"ACTUALTIME_DEP_T\"].isnull() == True]"
   ]
  },
  {
   "cell_type": "code",
   "execution_count": 13,
   "id": "50895dfd",
   "metadata": {},
   "outputs": [
    {
     "data": {
      "text/plain": [
       "(2487, 24)"
      ]
     },
     "execution_count": 13,
     "metadata": {},
     "output_type": "execute_result"
    }
   ],
   "source": [
    "nulls_lt.shape"
   ]
  },
  {
   "cell_type": "code",
   "execution_count": 14,
   "id": "b1d08aed",
   "metadata": {},
   "outputs": [],
   "source": [
    "nulls_lt = nulls_lt[[\"ACTUALTIME_DEP_T\", \"PLANNEDTIME_DEP_T\", \"PROGRNUMBER\", \"DAYOFSERVICE\"]]"
   ]
  },
  {
   "cell_type": "code",
   "execution_count": 15,
   "id": "4d683a98",
   "metadata": {},
   "outputs": [
    {
     "data": {
      "text/html": [
       "<div>\n",
       "<style scoped>\n",
       "    .dataframe tbody tr th:only-of-type {\n",
       "        vertical-align: middle;\n",
       "    }\n",
       "\n",
       "    .dataframe tbody tr th {\n",
       "        vertical-align: top;\n",
       "    }\n",
       "\n",
       "    .dataframe thead th {\n",
       "        text-align: right;\n",
       "    }\n",
       "</style>\n",
       "<table border=\"1\" class=\"dataframe\">\n",
       "  <thead>\n",
       "    <tr style=\"text-align: right;\">\n",
       "      <th></th>\n",
       "      <th>ACTUALTIME_DEP_T</th>\n",
       "      <th>PLANNEDTIME_DEP_T</th>\n",
       "      <th>PROGRNUMBER</th>\n",
       "      <th>DAYOFSERVICE</th>\n",
       "    </tr>\n",
       "  </thead>\n",
       "  <tbody>\n",
       "    <tr>\n",
       "      <th>0</th>\n",
       "      <td>NaN</td>\n",
       "      <td>26400</td>\n",
       "      <td>32</td>\n",
       "      <td>2018-01-02</td>\n",
       "    </tr>\n",
       "    <tr>\n",
       "      <th>1</th>\n",
       "      <td>NaN</td>\n",
       "      <td>26400</td>\n",
       "      <td>45</td>\n",
       "      <td>2018-01-02</td>\n",
       "    </tr>\n",
       "    <tr>\n",
       "      <th>2</th>\n",
       "      <td>NaN</td>\n",
       "      <td>26400</td>\n",
       "      <td>40</td>\n",
       "      <td>2018-01-02</td>\n",
       "    </tr>\n",
       "    <tr>\n",
       "      <th>3</th>\n",
       "      <td>NaN</td>\n",
       "      <td>26400</td>\n",
       "      <td>14</td>\n",
       "      <td>2018-01-02</td>\n",
       "    </tr>\n",
       "    <tr>\n",
       "      <th>4</th>\n",
       "      <td>NaN</td>\n",
       "      <td>26400</td>\n",
       "      <td>47</td>\n",
       "      <td>2018-01-02</td>\n",
       "    </tr>\n",
       "    <tr>\n",
       "      <th>...</th>\n",
       "      <td>...</td>\n",
       "      <td>...</td>\n",
       "      <td>...</td>\n",
       "      <td>...</td>\n",
       "    </tr>\n",
       "    <tr>\n",
       "      <th>14465</th>\n",
       "      <td>NaN</td>\n",
       "      <td>26400</td>\n",
       "      <td>43</td>\n",
       "      <td>2018-12-19</td>\n",
       "    </tr>\n",
       "    <tr>\n",
       "      <th>14470</th>\n",
       "      <td>NaN</td>\n",
       "      <td>26400</td>\n",
       "      <td>11</td>\n",
       "      <td>2018-12-17</td>\n",
       "    </tr>\n",
       "    <tr>\n",
       "      <th>14471</th>\n",
       "      <td>NaN</td>\n",
       "      <td>26400</td>\n",
       "      <td>22</td>\n",
       "      <td>2018-12-17</td>\n",
       "    </tr>\n",
       "    <tr>\n",
       "      <th>14472</th>\n",
       "      <td>NaN</td>\n",
       "      <td>26400</td>\n",
       "      <td>32</td>\n",
       "      <td>2018-12-17</td>\n",
       "    </tr>\n",
       "    <tr>\n",
       "      <th>14473</th>\n",
       "      <td>NaN</td>\n",
       "      <td>26400</td>\n",
       "      <td>42</td>\n",
       "      <td>2018-12-17</td>\n",
       "    </tr>\n",
       "  </tbody>\n",
       "</table>\n",
       "<p>2487 rows × 4 columns</p>\n",
       "</div>"
      ],
      "text/plain": [
       "       ACTUALTIME_DEP_T  PLANNEDTIME_DEP_T  PROGRNUMBER DAYOFSERVICE\n",
       "0                   NaN              26400           32   2018-01-02\n",
       "1                   NaN              26400           45   2018-01-02\n",
       "2                   NaN              26400           40   2018-01-02\n",
       "3                   NaN              26400           14   2018-01-02\n",
       "4                   NaN              26400           47   2018-01-02\n",
       "...                 ...                ...          ...          ...\n",
       "14465               NaN              26400           43   2018-12-19\n",
       "14470               NaN              26400           11   2018-12-17\n",
       "14471               NaN              26400           22   2018-12-17\n",
       "14472               NaN              26400           32   2018-12-17\n",
       "14473               NaN              26400           42   2018-12-17\n",
       "\n",
       "[2487 rows x 4 columns]"
      ]
     },
     "execution_count": 15,
     "metadata": {},
     "output_type": "execute_result"
    }
   ],
   "source": [
    "nulls_lt"
   ]
  },
  {
   "cell_type": "code",
   "execution_count": 16,
   "id": "8b10620f",
   "metadata": {},
   "outputs": [
    {
     "data": {
      "text/plain": [
       "ACTUALTIME_DEP_T      0\n",
       "PLANNEDTIME_DEP_T     2\n",
       "PROGRNUMBER          46\n",
       "DAYOFSERVICE         53\n",
       "dtype: int64"
      ]
     },
     "execution_count": 16,
     "metadata": {},
     "output_type": "execute_result"
    }
   ],
   "source": [
    "nulls_lt.nunique()"
   ]
  },
  {
   "cell_type": "code",
   "execution_count": 17,
   "id": "92189c56",
   "metadata": {},
   "outputs": [],
   "source": [
    "nulls2time = nulls_lt.loc[nulls_lt[\"PLANNEDTIME_DEP_T\"] != 26400]"
   ]
  },
  {
   "cell_type": "code",
   "execution_count": 18,
   "id": "379ccc25",
   "metadata": {},
   "outputs": [
    {
     "data": {
      "text/html": [
       "<div>\n",
       "<style scoped>\n",
       "    .dataframe tbody tr th:only-of-type {\n",
       "        vertical-align: middle;\n",
       "    }\n",
       "\n",
       "    .dataframe tbody tr th {\n",
       "        vertical-align: top;\n",
       "    }\n",
       "\n",
       "    .dataframe thead th {\n",
       "        text-align: right;\n",
       "    }\n",
       "</style>\n",
       "<table border=\"1\" class=\"dataframe\">\n",
       "  <thead>\n",
       "    <tr style=\"text-align: right;\">\n",
       "      <th></th>\n",
       "      <th>ACTUALTIME_DEP_T</th>\n",
       "      <th>PLANNEDTIME_DEP_T</th>\n",
       "      <th>PROGRNUMBER</th>\n",
       "      <th>DAYOFSERVICE</th>\n",
       "    </tr>\n",
       "  </thead>\n",
       "  <tbody>\n",
       "    <tr>\n",
       "      <th>80</th>\n",
       "      <td>NaN</td>\n",
       "      <td>27600</td>\n",
       "      <td>36</td>\n",
       "      <td>2018-01-03</td>\n",
       "    </tr>\n",
       "    <tr>\n",
       "      <th>81</th>\n",
       "      <td>NaN</td>\n",
       "      <td>27600</td>\n",
       "      <td>38</td>\n",
       "      <td>2018-01-03</td>\n",
       "    </tr>\n",
       "    <tr>\n",
       "      <th>82</th>\n",
       "      <td>NaN</td>\n",
       "      <td>27600</td>\n",
       "      <td>39</td>\n",
       "      <td>2018-01-03</td>\n",
       "    </tr>\n",
       "    <tr>\n",
       "      <th>83</th>\n",
       "      <td>NaN</td>\n",
       "      <td>27600</td>\n",
       "      <td>40</td>\n",
       "      <td>2018-01-03</td>\n",
       "    </tr>\n",
       "    <tr>\n",
       "      <th>84</th>\n",
       "      <td>NaN</td>\n",
       "      <td>27600</td>\n",
       "      <td>41</td>\n",
       "      <td>2018-01-03</td>\n",
       "    </tr>\n",
       "    <tr>\n",
       "      <th>...</th>\n",
       "      <td>...</td>\n",
       "      <td>...</td>\n",
       "      <td>...</td>\n",
       "      <td>...</td>\n",
       "    </tr>\n",
       "    <tr>\n",
       "      <th>11749</th>\n",
       "      <td>NaN</td>\n",
       "      <td>27600</td>\n",
       "      <td>10</td>\n",
       "      <td>2018-09-07</td>\n",
       "    </tr>\n",
       "    <tr>\n",
       "      <th>11750</th>\n",
       "      <td>NaN</td>\n",
       "      <td>27600</td>\n",
       "      <td>44</td>\n",
       "      <td>2018-09-07</td>\n",
       "    </tr>\n",
       "    <tr>\n",
       "      <th>11770</th>\n",
       "      <td>NaN</td>\n",
       "      <td>27600</td>\n",
       "      <td>29</td>\n",
       "      <td>2018-09-06</td>\n",
       "    </tr>\n",
       "    <tr>\n",
       "      <th>11773</th>\n",
       "      <td>NaN</td>\n",
       "      <td>27600</td>\n",
       "      <td>22</td>\n",
       "      <td>2018-09-06</td>\n",
       "    </tr>\n",
       "    <tr>\n",
       "      <th>11774</th>\n",
       "      <td>NaN</td>\n",
       "      <td>27600</td>\n",
       "      <td>16</td>\n",
       "      <td>2018-09-06</td>\n",
       "    </tr>\n",
       "  </tbody>\n",
       "</table>\n",
       "<p>1440 rows × 4 columns</p>\n",
       "</div>"
      ],
      "text/plain": [
       "       ACTUALTIME_DEP_T  PLANNEDTIME_DEP_T  PROGRNUMBER DAYOFSERVICE\n",
       "80                  NaN              27600           36   2018-01-03\n",
       "81                  NaN              27600           38   2018-01-03\n",
       "82                  NaN              27600           39   2018-01-03\n",
       "83                  NaN              27600           40   2018-01-03\n",
       "84                  NaN              27600           41   2018-01-03\n",
       "...                 ...                ...          ...          ...\n",
       "11749               NaN              27600           10   2018-09-07\n",
       "11750               NaN              27600           44   2018-09-07\n",
       "11770               NaN              27600           29   2018-09-06\n",
       "11773               NaN              27600           22   2018-09-06\n",
       "11774               NaN              27600           16   2018-09-06\n",
       "\n",
       "[1440 rows x 4 columns]"
      ]
     },
     "execution_count": 18,
     "metadata": {},
     "output_type": "execute_result"
    }
   ],
   "source": [
    "nulls2time"
   ]
  },
  {
   "cell_type": "code",
   "execution_count": 19,
   "id": "a422ebe3",
   "metadata": {},
   "outputs": [],
   "source": [
    "LT_46A_68_1 = LT_46A_68_1.dropna()"
   ]
  },
  {
   "cell_type": "code",
   "execution_count": 20,
   "id": "918a0555",
   "metadata": {},
   "outputs": [
    {
     "data": {
      "text/plain": [
       "DAYOFSERVICE           0\n",
       "TRIPID                 0\n",
       "PROGRNUMBER            0\n",
       "STOPPOINTID            0\n",
       "PLANNEDTIME_ARR        0\n",
       "PLANNEDTIME_DEP        0\n",
       "ACTUALTIME_ARR         0\n",
       "ACTUALTIME_DEP         0\n",
       "VEHICLEID              0\n",
       "LINEID                 0\n",
       "ROUTEID                0\n",
       "DIRECTION              0\n",
       "PLANNEDTIME_DEP_T      0\n",
       "ACTUALTIME_DEP_T       0\n",
       "HOUR_DEPARTURE         0\n",
       "dt                     0\n",
       "temp                   0\n",
       "visibility             0\n",
       "wind_speed             0\n",
       "weather_main           0\n",
       "weather_description    0\n",
       "weather_icon           0\n",
       "date                   0\n",
       "ROUTE_DIRECTION        0\n",
       "dtype: int64"
      ]
     },
     "execution_count": 20,
     "metadata": {},
     "output_type": "execute_result"
    }
   ],
   "source": [
    "LT_46A_68_1.isnull().sum()"
   ]
  },
  {
   "cell_type": "code",
   "execution_count": 21,
   "id": "b419fa6f",
   "metadata": {},
   "outputs": [],
   "source": [
    "check_1pn = LT_46A_68_1.loc[LT_46A_68_1[\"PROGRNUMBER\"] == 1]"
   ]
  },
  {
   "cell_type": "code",
   "execution_count": 22,
   "id": "3b9a30c8",
   "metadata": {},
   "outputs": [],
   "source": [
    "check_1pn = check_1pn[[\"ACTUALTIME_DEP_T\", \"PLANNEDTIME_DEP_T\", \"PROGRNUMBER\", \"DAYOFSERVICE\", \"ACTUALTIME_DEP\", \"PLANNEDTIME_DEP\"]]"
   ]
  },
  {
   "cell_type": "code",
   "execution_count": 23,
   "id": "41e81cf4",
   "metadata": {},
   "outputs": [],
   "source": [
    "LT_46A_68_1 = LT_46A_68_1.drop([\"PLANNEDTIME_DEP_T\", \"ACTUALTIME_DEP_T\", \"date\", \"dt\"], axis=1)"
   ]
  },
  {
   "cell_type": "code",
   "execution_count": 24,
   "id": "4e7f951b",
   "metadata": {},
   "outputs": [
    {
     "data": {
      "text/html": [
       "<div>\n",
       "<style scoped>\n",
       "    .dataframe tbody tr th:only-of-type {\n",
       "        vertical-align: middle;\n",
       "    }\n",
       "\n",
       "    .dataframe tbody tr th {\n",
       "        vertical-align: top;\n",
       "    }\n",
       "\n",
       "    .dataframe thead th {\n",
       "        text-align: right;\n",
       "    }\n",
       "</style>\n",
       "<table border=\"1\" class=\"dataframe\">\n",
       "  <thead>\n",
       "    <tr style=\"text-align: right;\">\n",
       "      <th></th>\n",
       "      <th>DAYOFSERVICE</th>\n",
       "      <th>TRIPID</th>\n",
       "      <th>PROGRNUMBER</th>\n",
       "      <th>STOPPOINTID</th>\n",
       "      <th>PLANNEDTIME_ARR</th>\n",
       "      <th>PLANNEDTIME_DEP</th>\n",
       "      <th>ACTUALTIME_ARR</th>\n",
       "      <th>ACTUALTIME_DEP</th>\n",
       "      <th>VEHICLEID</th>\n",
       "      <th>LINEID</th>\n",
       "      <th>ROUTEID</th>\n",
       "      <th>DIRECTION</th>\n",
       "      <th>HOUR_DEPARTURE</th>\n",
       "      <th>temp</th>\n",
       "      <th>visibility</th>\n",
       "      <th>wind_speed</th>\n",
       "      <th>weather_main</th>\n",
       "      <th>weather_description</th>\n",
       "      <th>weather_icon</th>\n",
       "      <th>ROUTE_DIRECTION</th>\n",
       "    </tr>\n",
       "  </thead>\n",
       "  <tbody>\n",
       "    <tr>\n",
       "      <th>37</th>\n",
       "      <td>2018-01-02</td>\n",
       "      <td>5958760</td>\n",
       "      <td>47</td>\n",
       "      <td>2039</td>\n",
       "      <td>30874</td>\n",
       "      <td>30874</td>\n",
       "      <td>30882.0</td>\n",
       "      <td>30882.0</td>\n",
       "      <td>1932297</td>\n",
       "      <td>46A</td>\n",
       "      <td>46A_68</td>\n",
       "      <td>1</td>\n",
       "      <td>8.0</td>\n",
       "      <td>2.0</td>\n",
       "      <td>10.0</td>\n",
       "      <td>2.0</td>\n",
       "      <td>1.0</td>\n",
       "      <td>9.0</td>\n",
       "      <td>11.0</td>\n",
       "      <td>46A_68_1</td>\n",
       "    </tr>\n",
       "    <tr>\n",
       "      <th>38</th>\n",
       "      <td>2018-01-02</td>\n",
       "      <td>5958760</td>\n",
       "      <td>45</td>\n",
       "      <td>2035</td>\n",
       "      <td>30784</td>\n",
       "      <td>30784</td>\n",
       "      <td>30787.0</td>\n",
       "      <td>30821.0</td>\n",
       "      <td>1932297</td>\n",
       "      <td>46A</td>\n",
       "      <td>46A_68</td>\n",
       "      <td>1</td>\n",
       "      <td>8.0</td>\n",
       "      <td>2.0</td>\n",
       "      <td>10.0</td>\n",
       "      <td>2.0</td>\n",
       "      <td>1.0</td>\n",
       "      <td>9.0</td>\n",
       "      <td>11.0</td>\n",
       "      <td>46A_68_1</td>\n",
       "    </tr>\n",
       "    <tr>\n",
       "      <th>39</th>\n",
       "      <td>2018-01-02</td>\n",
       "      <td>5958760</td>\n",
       "      <td>44</td>\n",
       "      <td>2034</td>\n",
       "      <td>30728</td>\n",
       "      <td>30728</td>\n",
       "      <td>30729.0</td>\n",
       "      <td>30740.0</td>\n",
       "      <td>1932297</td>\n",
       "      <td>46A</td>\n",
       "      <td>46A_68</td>\n",
       "      <td>1</td>\n",
       "      <td>8.0</td>\n",
       "      <td>2.0</td>\n",
       "      <td>10.0</td>\n",
       "      <td>2.0</td>\n",
       "      <td>1.0</td>\n",
       "      <td>9.0</td>\n",
       "      <td>11.0</td>\n",
       "      <td>46A_68_1</td>\n",
       "    </tr>\n",
       "    <tr>\n",
       "      <th>40</th>\n",
       "      <td>2018-01-02</td>\n",
       "      <td>5958760</td>\n",
       "      <td>43</td>\n",
       "      <td>2033</td>\n",
       "      <td>30704</td>\n",
       "      <td>30704</td>\n",
       "      <td>30696.0</td>\n",
       "      <td>30707.0</td>\n",
       "      <td>1932297</td>\n",
       "      <td>46A</td>\n",
       "      <td>46A_68</td>\n",
       "      <td>1</td>\n",
       "      <td>8.0</td>\n",
       "      <td>2.0</td>\n",
       "      <td>10.0</td>\n",
       "      <td>2.0</td>\n",
       "      <td>1.0</td>\n",
       "      <td>9.0</td>\n",
       "      <td>11.0</td>\n",
       "      <td>46A_68_1</td>\n",
       "    </tr>\n",
       "    <tr>\n",
       "      <th>41</th>\n",
       "      <td>2018-01-02</td>\n",
       "      <td>5958760</td>\n",
       "      <td>41</td>\n",
       "      <td>2031</td>\n",
       "      <td>30546</td>\n",
       "      <td>30546</td>\n",
       "      <td>30595.0</td>\n",
       "      <td>30621.0</td>\n",
       "      <td>1932297</td>\n",
       "      <td>46A</td>\n",
       "      <td>46A_68</td>\n",
       "      <td>1</td>\n",
       "      <td>8.0</td>\n",
       "      <td>2.0</td>\n",
       "      <td>10.0</td>\n",
       "      <td>2.0</td>\n",
       "      <td>1.0</td>\n",
       "      <td>9.0</td>\n",
       "      <td>11.0</td>\n",
       "      <td>46A_68_1</td>\n",
       "    </tr>\n",
       "    <tr>\n",
       "      <th>...</th>\n",
       "      <td>...</td>\n",
       "      <td>...</td>\n",
       "      <td>...</td>\n",
       "      <td>...</td>\n",
       "      <td>...</td>\n",
       "      <td>...</td>\n",
       "      <td>...</td>\n",
       "      <td>...</td>\n",
       "      <td>...</td>\n",
       "      <td>...</td>\n",
       "      <td>...</td>\n",
       "      <td>...</td>\n",
       "      <td>...</td>\n",
       "      <td>...</td>\n",
       "      <td>...</td>\n",
       "      <td>...</td>\n",
       "      <td>...</td>\n",
       "      <td>...</td>\n",
       "      <td>...</td>\n",
       "      <td>...</td>\n",
       "    </tr>\n",
       "    <tr>\n",
       "      <th>14461</th>\n",
       "      <td>2018-12-20</td>\n",
       "      <td>8453335</td>\n",
       "      <td>39</td>\n",
       "      <td>4566</td>\n",
       "      <td>29338</td>\n",
       "      <td>29338</td>\n",
       "      <td>29264.0</td>\n",
       "      <td>29264.0</td>\n",
       "      <td>1000299</td>\n",
       "      <td>46A</td>\n",
       "      <td>46A_68</td>\n",
       "      <td>1</td>\n",
       "      <td>8.0</td>\n",
       "      <td>2.0</td>\n",
       "      <td>10.0</td>\n",
       "      <td>1.0</td>\n",
       "      <td>0.0</td>\n",
       "      <td>19.0</td>\n",
       "      <td>5.0</td>\n",
       "      <td>46A_68_1</td>\n",
       "    </tr>\n",
       "    <tr>\n",
       "      <th>14466</th>\n",
       "      <td>2018-12-18</td>\n",
       "      <td>8453335</td>\n",
       "      <td>12</td>\n",
       "      <td>756</td>\n",
       "      <td>27482</td>\n",
       "      <td>27482</td>\n",
       "      <td>27674.0</td>\n",
       "      <td>27682.0</td>\n",
       "      <td>1932339</td>\n",
       "      <td>46A</td>\n",
       "      <td>46A_68</td>\n",
       "      <td>1</td>\n",
       "      <td>7.0</td>\n",
       "      <td>3.0</td>\n",
       "      <td>10.0</td>\n",
       "      <td>2.0</td>\n",
       "      <td>1.0</td>\n",
       "      <td>5.0</td>\n",
       "      <td>11.0</td>\n",
       "      <td>46A_68_1</td>\n",
       "    </tr>\n",
       "    <tr>\n",
       "      <th>14467</th>\n",
       "      <td>2018-12-18</td>\n",
       "      <td>8453335</td>\n",
       "      <td>21</td>\n",
       "      <td>2008</td>\n",
       "      <td>28084</td>\n",
       "      <td>28084</td>\n",
       "      <td>28198.0</td>\n",
       "      <td>28198.0</td>\n",
       "      <td>1932339</td>\n",
       "      <td>46A</td>\n",
       "      <td>46A_68</td>\n",
       "      <td>1</td>\n",
       "      <td>7.0</td>\n",
       "      <td>3.0</td>\n",
       "      <td>10.0</td>\n",
       "      <td>2.0</td>\n",
       "      <td>1.0</td>\n",
       "      <td>5.0</td>\n",
       "      <td>11.0</td>\n",
       "      <td>46A_68_1</td>\n",
       "    </tr>\n",
       "    <tr>\n",
       "      <th>14468</th>\n",
       "      <td>2018-12-18</td>\n",
       "      <td>8453335</td>\n",
       "      <td>31</td>\n",
       "      <td>2015</td>\n",
       "      <td>28833</td>\n",
       "      <td>28833</td>\n",
       "      <td>28911.0</td>\n",
       "      <td>28919.0</td>\n",
       "      <td>1932339</td>\n",
       "      <td>46A</td>\n",
       "      <td>46A_68</td>\n",
       "      <td>1</td>\n",
       "      <td>8.0</td>\n",
       "      <td>3.0</td>\n",
       "      <td>10.0</td>\n",
       "      <td>2.0</td>\n",
       "      <td>1.0</td>\n",
       "      <td>9.0</td>\n",
       "      <td>11.0</td>\n",
       "      <td>46A_68_1</td>\n",
       "    </tr>\n",
       "    <tr>\n",
       "      <th>14469</th>\n",
       "      <td>2018-12-18</td>\n",
       "      <td>8453335</td>\n",
       "      <td>41</td>\n",
       "      <td>2031</td>\n",
       "      <td>29509</td>\n",
       "      <td>29509</td>\n",
       "      <td>29574.0</td>\n",
       "      <td>29574.0</td>\n",
       "      <td>1932339</td>\n",
       "      <td>46A</td>\n",
       "      <td>46A_68</td>\n",
       "      <td>1</td>\n",
       "      <td>8.0</td>\n",
       "      <td>3.0</td>\n",
       "      <td>10.0</td>\n",
       "      <td>2.0</td>\n",
       "      <td>1.0</td>\n",
       "      <td>9.0</td>\n",
       "      <td>11.0</td>\n",
       "      <td>46A_68_1</td>\n",
       "    </tr>\n",
       "  </tbody>\n",
       "</table>\n",
       "<p>11987 rows × 20 columns</p>\n",
       "</div>"
      ],
      "text/plain": [
       "      DAYOFSERVICE   TRIPID  PROGRNUMBER  STOPPOINTID  PLANNEDTIME_ARR  \\\n",
       "37      2018-01-02  5958760           47         2039            30874   \n",
       "38      2018-01-02  5958760           45         2035            30784   \n",
       "39      2018-01-02  5958760           44         2034            30728   \n",
       "40      2018-01-02  5958760           43         2033            30704   \n",
       "41      2018-01-02  5958760           41         2031            30546   \n",
       "...            ...      ...          ...          ...              ...   \n",
       "14461   2018-12-20  8453335           39         4566            29338   \n",
       "14466   2018-12-18  8453335           12          756            27482   \n",
       "14467   2018-12-18  8453335           21         2008            28084   \n",
       "14468   2018-12-18  8453335           31         2015            28833   \n",
       "14469   2018-12-18  8453335           41         2031            29509   \n",
       "\n",
       "       PLANNEDTIME_DEP  ACTUALTIME_ARR  ACTUALTIME_DEP  VEHICLEID LINEID  \\\n",
       "37               30874         30882.0         30882.0    1932297    46A   \n",
       "38               30784         30787.0         30821.0    1932297    46A   \n",
       "39               30728         30729.0         30740.0    1932297    46A   \n",
       "40               30704         30696.0         30707.0    1932297    46A   \n",
       "41               30546         30595.0         30621.0    1932297    46A   \n",
       "...                ...             ...             ...        ...    ...   \n",
       "14461            29338         29264.0         29264.0    1000299    46A   \n",
       "14466            27482         27674.0         27682.0    1932339    46A   \n",
       "14467            28084         28198.0         28198.0    1932339    46A   \n",
       "14468            28833         28911.0         28919.0    1932339    46A   \n",
       "14469            29509         29574.0         29574.0    1932339    46A   \n",
       "\n",
       "      ROUTEID  DIRECTION  HOUR_DEPARTURE  temp  visibility  wind_speed  \\\n",
       "37     46A_68          1             8.0   2.0        10.0         2.0   \n",
       "38     46A_68          1             8.0   2.0        10.0         2.0   \n",
       "39     46A_68          1             8.0   2.0        10.0         2.0   \n",
       "40     46A_68          1             8.0   2.0        10.0         2.0   \n",
       "41     46A_68          1             8.0   2.0        10.0         2.0   \n",
       "...       ...        ...             ...   ...         ...         ...   \n",
       "14461  46A_68          1             8.0   2.0        10.0         1.0   \n",
       "14466  46A_68          1             7.0   3.0        10.0         2.0   \n",
       "14467  46A_68          1             7.0   3.0        10.0         2.0   \n",
       "14468  46A_68          1             8.0   3.0        10.0         2.0   \n",
       "14469  46A_68          1             8.0   3.0        10.0         2.0   \n",
       "\n",
       "       weather_main  weather_description  weather_icon ROUTE_DIRECTION  \n",
       "37              1.0                  9.0          11.0        46A_68_1  \n",
       "38              1.0                  9.0          11.0        46A_68_1  \n",
       "39              1.0                  9.0          11.0        46A_68_1  \n",
       "40              1.0                  9.0          11.0        46A_68_1  \n",
       "41              1.0                  9.0          11.0        46A_68_1  \n",
       "...             ...                  ...           ...             ...  \n",
       "14461           0.0                 19.0           5.0        46A_68_1  \n",
       "14466           1.0                  5.0          11.0        46A_68_1  \n",
       "14467           1.0                  5.0          11.0        46A_68_1  \n",
       "14468           1.0                  9.0          11.0        46A_68_1  \n",
       "14469           1.0                  9.0          11.0        46A_68_1  \n",
       "\n",
       "[11987 rows x 20 columns]"
      ]
     },
     "execution_count": 24,
     "metadata": {},
     "output_type": "execute_result"
    }
   ],
   "source": [
    "LT_46A_68_1"
   ]
  },
  {
   "cell_type": "code",
   "execution_count": 25,
   "id": "91cd2314",
   "metadata": {},
   "outputs": [
    {
     "data": {
      "text/plain": [
       "DAYOFSERVICE            179\n",
       "TRIPID                   58\n",
       "PROGRNUMBER              47\n",
       "STOPPOINTID              47\n",
       "PLANNEDTIME_ARR        1343\n",
       "PLANNEDTIME_DEP        1343\n",
       "ACTUALTIME_ARR         4342\n",
       "ACTUALTIME_DEP         4324\n",
       "VEHICLEID                87\n",
       "LINEID                    1\n",
       "ROUTEID                   1\n",
       "DIRECTION                 1\n",
       "HOUR_DEPARTURE            3\n",
       "temp                      5\n",
       "visibility               11\n",
       "wind_speed                9\n",
       "weather_main              2\n",
       "weather_description      14\n",
       "weather_icon             16\n",
       "ROUTE_DIRECTION           1\n",
       "dtype: int64"
      ]
     },
     "execution_count": 25,
     "metadata": {},
     "output_type": "execute_result"
    }
   ],
   "source": [
    "LT_46A_68_1.nunique()"
   ]
  },
  {
   "cell_type": "code",
   "execution_count": 26,
   "id": "60a298aa",
   "metadata": {},
   "outputs": [],
   "source": [
    "CHECK = LT_46A_68_1[[\"TRIPID\", \"PROGRNUMBER\", \"DAYOFSERVICE\"]]"
   ]
  },
  {
   "cell_type": "code",
   "execution_count": 27,
   "id": "92e19a0f",
   "metadata": {},
   "outputs": [
    {
     "data": {
      "text/plain": [
       "TRIPID           58\n",
       "PROGRNUMBER      47\n",
       "DAYOFSERVICE    179\n",
       "dtype: int64"
      ]
     },
     "execution_count": 27,
     "metadata": {},
     "output_type": "execute_result"
    }
   ],
   "source": [
    "CHECK.nunique()"
   ]
  },
  {
   "cell_type": "code",
   "execution_count": 28,
   "id": "9d513072",
   "metadata": {},
   "outputs": [
    {
     "data": {
      "text/plain": [
       "0"
      ]
     },
     "execution_count": 28,
     "metadata": {},
     "output_type": "execute_result"
    }
   ],
   "source": [
    "CHECK.duplicated(keep=False).sum()"
   ]
  },
  {
   "cell_type": "code",
   "execution_count": 29,
   "id": "5b04a96a",
   "metadata": {},
   "outputs": [
    {
     "data": {
      "text/plain": [
       "1     260\n",
       "5     259\n",
       "2     259\n",
       "3     259\n",
       "4     259\n",
       "6     259\n",
       "13    258\n",
       "12    258\n",
       "8     258\n",
       "7     258\n",
       "9     258\n",
       "10    258\n",
       "11    258\n",
       "14    257\n",
       "15    256\n",
       "18    256\n",
       "17    256\n",
       "16    256\n",
       "47    255\n",
       "28    254\n",
       "29    254\n",
       "20    254\n",
       "32    254\n",
       "31    254\n",
       "30    254\n",
       "42    253\n",
       "41    253\n",
       "23    253\n",
       "22    253\n",
       "39    253\n",
       "36    253\n",
       "43    253\n",
       "46    253\n",
       "44    253\n",
       "24    253\n",
       "40    253\n",
       "35    253\n",
       "38    253\n",
       "37    253\n",
       "21    253\n",
       "33    253\n",
       "27    253\n",
       "26    253\n",
       "25    253\n",
       "45    253\n",
       "19    253\n",
       "34    253\n",
       "Name: PROGRNUMBER, dtype: int64"
      ]
     },
     "execution_count": 29,
     "metadata": {},
     "output_type": "execute_result"
    }
   ],
   "source": [
    "CHECK[\"PROGRNUMBER\"].value_counts()"
   ]
  },
  {
   "cell_type": "markdown",
   "id": "b4e7c89f",
   "metadata": {},
   "source": [
    "- stops are missing for a small number of trips.\n",
    "- most of the numbers with less counts are larger numbers so it is liekly because the bus trip was incomplete."
   ]
  },
  {
   "cell_type": "code",
   "execution_count": 30,
   "id": "de191410",
   "metadata": {},
   "outputs": [
    {
     "data": {
      "text/plain": [
       "47"
      ]
     },
     "execution_count": 30,
     "metadata": {},
     "output_type": "execute_result"
    }
   ],
   "source": [
    "CHECK[\"PROGRNUMBER\"].max()"
   ]
  },
  {
   "cell_type": "code",
   "execution_count": 31,
   "id": "effab781",
   "metadata": {},
   "outputs": [
    {
     "data": {
      "text/plain": [
       "1"
      ]
     },
     "execution_count": 31,
     "metadata": {},
     "output_type": "execute_result"
    }
   ],
   "source": [
    "CHECK[\"PROGRNUMBER\"].min()"
   ]
  },
  {
   "cell_type": "code",
   "execution_count": 32,
   "id": "8cb08b11",
   "metadata": {},
   "outputs": [
    {
     "name": "stdout",
     "output_type": "stream",
     "text": [
      "[5958760 5968538 6105593 6103601 6107703 6109092 6223012 6215245 6234929\n",
      " 6241377 6253918 6246423 6279724 6280265 6286317 6388471 6397901 6366038\n",
      " 6379629 6410603 6404347 6583906 6598684 6600168 6630124 6630638 6643302\n",
      " 6638206 6658312 6653011 6770480 6774007 6835578 6845366 6749579 6745582\n",
      " 6756578 6755929 6853274 6858284 6879195 6876307 7513908 7498790 7649290\n",
      " 7644207 7760318 8096715 7783978 8021862 8058603 8065600 8113203 8119705\n",
      " 8140518 8150434 8177996 8453335]\n"
     ]
    }
   ],
   "source": [
    "tripsids = CHECK.TRIPID.unique()\n",
    "print(tripsids)"
   ]
  },
  {
   "cell_type": "code",
   "execution_count": 33,
   "id": "84e305a9",
   "metadata": {},
   "outputs": [
    {
     "name": "stdout",
     "output_type": "stream",
     "text": [
      "['2018-01-02' '2018-01-03' '2018-01-04' '2018-01-05' '2018-01-08'\n",
      " '2018-01-09' '2018-01-10' '2018-01-11' '2018-01-12' '2018-01-15'\n",
      " '2018-01-16' '2018-01-17' '2018-01-18' '2018-01-19' '2018-01-22'\n",
      " '2018-01-23' '2018-01-24' '2018-01-25' '2018-01-26' '2018-01-30'\n",
      " '2018-01-29' '2018-02-01' '2018-02-16' '2018-02-02' '2018-02-05'\n",
      " '2018-02-06' '2018-02-07' '2018-02-08' '2018-02-09' '2018-02-12'\n",
      " '2018-02-13' '2018-02-15' '2018-02-19' '2018-02-20' '2018-02-21'\n",
      " '2018-02-22' '2018-02-23' '2018-02-27' '2018-02-28' '2018-02-14'\n",
      " '2018-02-26' '2018-03-07' '2018-03-05' '2018-03-06' '2018-03-08'\n",
      " '2018-03-09' '2018-03-12' '2018-03-13' '2018-03-14' '2018-03-15'\n",
      " '2018-03-16' '2018-03-19' '2018-03-20' '2018-03-21' '2018-03-22'\n",
      " '2018-03-23' '2018-03-26' '2018-03-27' '2018-03-28' '2018-03-29'\n",
      " '2018-03-30' '2018-04-03' '2018-04-04' '2018-04-05' '2018-04-06'\n",
      " '2018-04-09' '2018-04-10' '2018-04-11' '2018-04-12' '2018-04-13'\n",
      " '2018-04-16' '2018-04-23' '2018-04-17' '2018-04-18' '2018-04-19'\n",
      " '2018-04-20' '2018-04-24' '2018-04-25' '2018-04-26' '2018-04-30'\n",
      " '2018-04-27' '2018-05-21' '2018-05-22' '2018-05-25' '2018-05-23'\n",
      " '2018-05-24' '2018-05-28' '2018-05-29' '2018-05-30' '2018-05-01'\n",
      " '2018-05-02' '2018-05-03' '2018-05-04' '2018-05-08' '2018-05-09'\n",
      " '2018-05-10' '2018-05-11' '2018-05-14' '2018-05-15' '2018-05-17'\n",
      " '2018-05-16' '2018-05-18' '2018-06-05' '2018-06-06' '2018-06-08'\n",
      " '2018-06-07' '2018-06-11' '2018-06-12' '2018-06-13' '2018-06-14'\n",
      " '2018-06-15' '2018-08-27' '2018-08-28' '2018-08-30' '2018-08-29'\n",
      " '2018-08-31' '2018-09-03' '2018-09-04' '2018-09-05' '2018-09-06'\n",
      " '2018-09-07' '2018-09-25' '2018-09-26' '2018-09-27' '2018-09-28'\n",
      " '2018-09-24' '2018-09-19' '2018-09-20' '2018-09-21' '2018-09-10'\n",
      " '2018-09-11' '2018-09-13' '2018-09-12' '2018-09-14' '2018-09-17'\n",
      " '2018-09-18' '2018-10-02' '2018-10-04' '2018-10-05' '2018-10-11'\n",
      " '2018-10-16' '2018-10-17' '2018-10-18' '2018-10-19' '2018-10-22'\n",
      " '2018-10-23' '2018-10-24' '2018-10-25' '2018-10-26' '2018-10-31'\n",
      " '2018-10-15' '2018-10-30' '2018-10-12' '2018-11-05' '2018-11-06'\n",
      " '2018-11-07' '2018-11-08' '2018-11-09' '2018-11-12' '2018-11-14'\n",
      " '2018-11-15' '2018-11-16' '2018-11-22' '2018-11-23' '2018-11-26'\n",
      " '2018-11-27' '2018-11-28' '2018-11-29' '2018-11-30' '2018-12-03'\n",
      " '2018-12-04' '2018-12-05' '2018-12-06' '2018-12-07' '2018-12-11'\n",
      " '2018-12-12' '2018-12-18' '2018-12-20' '2018-12-21']\n"
     ]
    }
   ],
   "source": [
    "dates = CHECK.DAYOFSERVICE.unique()\n",
    "print(dates)"
   ]
  },
  {
   "cell_type": "markdown",
   "id": "277b42ff",
   "metadata": {},
   "source": [
    "#### The following code set to idnetify instances of trips where progress numbers were missing.\n",
    "#### This code ended up being unnecessary because of the manner in which we trained the model."
   ]
  },
  {
   "cell_type": "code",
   "execution_count": 34,
   "id": "bc356a9a",
   "metadata": {},
   "outputs": [
    {
     "name": "stdout",
     "output_type": "stream",
     "text": [
      "[[5968538, '2018-01-03'], [6105593, '2018-01-10'], [6397901, '2018-03-19'], [6583906, '2018-03-27'], [6638206, '2018-04-17'], [6643302, '2018-04-20'], [6770480, '2018-05-21'], [7498790, '2018-08-27'], [8096715, '2018-09-21'], [7783978, '2018-10-05']]\n",
      "CPU times: user 16 s, sys: 0 ns, total: 16 s\n",
      "Wall time: 16 s\n"
     ]
    }
   ],
   "source": [
    "%%time\n",
    "bad_trips = []\n",
    "for j in dates:\n",
    "    for i in tripsids:\n",
    "        curr = LT_46A_68_1.loc[(LT_46A_68_1[\"TRIPID\"] == i) & (LT_46A_68_1[\"DAYOFSERVICE\"] == j)]\n",
    "        if len(curr) == 0:\n",
    "            pass\n",
    "        else:\n",
    "            n_stops = curr[\"PROGRNUMBER\"].count()\n",
    "            if n_stops != 47:\n",
    "                bad_trips.append([i, j])\n",
    "    \n",
    "#not necessary to use because predicting by row instead of combinations of stops\n",
    "print(bad_trips)"
   ]
  },
  {
   "cell_type": "code",
   "execution_count": 35,
   "id": "f61b3b83",
   "metadata": {},
   "outputs": [
    {
     "name": "stdout",
     "output_type": "stream",
     "text": [
      "CPU times: user 31.4 ms, sys: 8.12 ms, total: 39.5 ms\n",
      "Wall time: 36.8 ms\n"
     ]
    }
   ],
   "source": [
    "%%time\n",
    "for i in bad_trips:\n",
    "    LT_46A_68_1 = LT_46A_68_1.drop(LT_46A_68_1[(LT_46A_68_1.TRIPID == i[0]) & (LT_46A_68_1.DAYOFSERVICE == i[1])].index)"
   ]
  },
  {
   "cell_type": "code",
   "execution_count": 36,
   "id": "b1cb1a26",
   "metadata": {},
   "outputs": [
    {
     "name": "stdout",
     "output_type": "stream",
     "text": [
      "179\n"
     ]
    }
   ],
   "source": [
    "print(len(dates))"
   ]
  },
  {
   "cell_type": "code",
   "execution_count": 37,
   "id": "4593f7ca",
   "metadata": {},
   "outputs": [
    {
     "name": "stdout",
     "output_type": "stream",
     "text": [
      "10\n"
     ]
    }
   ],
   "source": [
    "print(len(bad_trips))"
   ]
  },
  {
   "cell_type": "code",
   "execution_count": 38,
   "id": "fa232e41",
   "metadata": {},
   "outputs": [
    {
     "name": "stdout",
     "output_type": "stream",
     "text": [
      "173\n"
     ]
    }
   ],
   "source": [
    "new_dates = LT_46A_68_1.DAYOFSERVICE.unique()\n",
    "print(len(new_dates))\n"
   ]
  },
  {
   "cell_type": "code",
   "execution_count": 39,
   "id": "b333fc5c",
   "metadata": {},
   "outputs": [
    {
     "name": "stdout",
     "output_type": "stream",
     "text": [
      "CPU times: user 15.9 s, sys: 13.3 ms, total: 15.9 s\n",
      "Wall time: 15.9 s\n"
     ]
    }
   ],
   "source": [
    "%%time\n",
    "bad_trips = []\n",
    "for j in dates:\n",
    "    for i in tripsids:\n",
    "        curr = LT_46A_68_1.loc[(LT_46A_68_1[\"TRIPID\"] == i) & (LT_46A_68_1[\"DAYOFSERVICE\"] == j)]\n",
    "        if len(curr) == 0:\n",
    "            pass\n",
    "        else:\n",
    "            n_stops = curr[\"PROGRNUMBER\"].count()\n",
    "            if n_stops != 47:\n",
    "                bad_trips.append([i, j])"
   ]
  },
  {
   "cell_type": "code",
   "execution_count": 40,
   "id": "d7566193",
   "metadata": {},
   "outputs": [
    {
     "name": "stdout",
     "output_type": "stream",
     "text": [
      "0\n"
     ]
    }
   ],
   "source": [
    "print(len(bad_trips))"
   ]
  },
  {
   "cell_type": "code",
   "execution_count": 41,
   "id": "06075fba",
   "metadata": {},
   "outputs": [
    {
     "data": {
      "text/html": [
       "<div>\n",
       "<style scoped>\n",
       "    .dataframe tbody tr th:only-of-type {\n",
       "        vertical-align: middle;\n",
       "    }\n",
       "\n",
       "    .dataframe tbody tr th {\n",
       "        vertical-align: top;\n",
       "    }\n",
       "\n",
       "    .dataframe thead th {\n",
       "        text-align: right;\n",
       "    }\n",
       "</style>\n",
       "<table border=\"1\" class=\"dataframe\">\n",
       "  <thead>\n",
       "    <tr style=\"text-align: right;\">\n",
       "      <th></th>\n",
       "      <th>TRIPID</th>\n",
       "      <th>PROGRNUMBER</th>\n",
       "      <th>DAYOFSERVICE</th>\n",
       "    </tr>\n",
       "  </thead>\n",
       "  <tbody>\n",
       "    <tr>\n",
       "      <th>10227</th>\n",
       "      <td>7498790</td>\n",
       "      <td>46</td>\n",
       "      <td>2018-08-28</td>\n",
       "    </tr>\n",
       "    <tr>\n",
       "      <th>10229</th>\n",
       "      <td>7498790</td>\n",
       "      <td>29</td>\n",
       "      <td>2018-08-28</td>\n",
       "    </tr>\n",
       "    <tr>\n",
       "      <th>10231</th>\n",
       "      <td>7498790</td>\n",
       "      <td>34</td>\n",
       "      <td>2018-08-28</td>\n",
       "    </tr>\n",
       "    <tr>\n",
       "      <th>10233</th>\n",
       "      <td>7498790</td>\n",
       "      <td>39</td>\n",
       "      <td>2018-08-28</td>\n",
       "    </tr>\n",
       "    <tr>\n",
       "      <th>10235</th>\n",
       "      <td>7498790</td>\n",
       "      <td>42</td>\n",
       "      <td>2018-08-28</td>\n",
       "    </tr>\n",
       "    <tr>\n",
       "      <th>...</th>\n",
       "      <td>...</td>\n",
       "      <td>...</td>\n",
       "      <td>...</td>\n",
       "    </tr>\n",
       "    <tr>\n",
       "      <th>10642</th>\n",
       "      <td>7498790</td>\n",
       "      <td>35</td>\n",
       "      <td>2018-08-28</td>\n",
       "    </tr>\n",
       "    <tr>\n",
       "      <th>10646</th>\n",
       "      <td>7498790</td>\n",
       "      <td>3</td>\n",
       "      <td>2018-08-28</td>\n",
       "    </tr>\n",
       "    <tr>\n",
       "      <th>10652</th>\n",
       "      <td>7498790</td>\n",
       "      <td>15</td>\n",
       "      <td>2018-08-29</td>\n",
       "    </tr>\n",
       "    <tr>\n",
       "      <th>10655</th>\n",
       "      <td>7498790</td>\n",
       "      <td>19</td>\n",
       "      <td>2018-08-29</td>\n",
       "    </tr>\n",
       "    <tr>\n",
       "      <th>10657</th>\n",
       "      <td>7498790</td>\n",
       "      <td>17</td>\n",
       "      <td>2018-08-27</td>\n",
       "    </tr>\n",
       "  </tbody>\n",
       "</table>\n",
       "<p>206 rows × 3 columns</p>\n",
       "</div>"
      ],
      "text/plain": [
       "        TRIPID  PROGRNUMBER DAYOFSERVICE\n",
       "10227  7498790           46   2018-08-28\n",
       "10229  7498790           29   2018-08-28\n",
       "10231  7498790           34   2018-08-28\n",
       "10233  7498790           39   2018-08-28\n",
       "10235  7498790           42   2018-08-28\n",
       "...        ...          ...          ...\n",
       "10642  7498790           35   2018-08-28\n",
       "10646  7498790            3   2018-08-28\n",
       "10652  7498790           15   2018-08-29\n",
       "10655  7498790           19   2018-08-29\n",
       "10657  7498790           17   2018-08-27\n",
       "\n",
       "[206 rows x 3 columns]"
      ]
     },
     "execution_count": 41,
     "metadata": {},
     "output_type": "execute_result"
    }
   ],
   "source": [
    "CHECK.loc[(CHECK[\"TRIPID\"] == 7498790)]"
   ]
  },
  {
   "cell_type": "code",
   "execution_count": 42,
   "id": "a6d95758",
   "metadata": {},
   "outputs": [
    {
     "name": "stdout",
     "output_type": "stream",
     "text": [
      "173\n",
      "58\n"
     ]
    }
   ],
   "source": [
    "# needed to make new list of dates and trip IDs\n",
    "dates = LT_46A_68_1.DAYOFSERVICE.unique()\n",
    "print(len(dates))\n",
    "\n",
    "tripsids = LT_46A_68_1.TRIPID.unique()\n",
    "print(len(tripsids))"
   ]
  },
  {
   "cell_type": "markdown",
   "id": "cadad661",
   "metadata": {},
   "source": [
    "#### Following code was made to find trip instances where a later stop had an earlier arrival time than a previous stop which would signal that a trip consisted of unreliable data.\n",
    "#### There was no instances of it found in this data set and the run time on the operation was quite long as well as being relatively memory intensive so the method was excluded from the final cleaning of the data as a whole."
   ]
  },
  {
   "cell_type": "code",
   "execution_count": 43,
   "id": "f3207710",
   "metadata": {},
   "outputs": [
    {
     "name": "stdout",
     "output_type": "stream",
     "text": [
      "[]\n",
      "CPU times: user 44.3 s, sys: 1.76 ms, total: 44.3 s\n",
      "Wall time: 44.3 s\n"
     ]
    }
   ],
   "source": [
    "%%time\n",
    "bad_stops = []\n",
    "valid_combs = []\n",
    "for d in dates:\n",
    "    comb_df = LT_46A_68_1.loc[(LT_46A_68_1[\"DAYOFSERVICE\"] == d)]\n",
    "    comb_trips = comb_df.TRIPID.unique()\n",
    "    for t in comb_trips:\n",
    "        valid_combs.append([t, d])\n",
    "\n",
    "\n",
    "\n",
    "\n",
    "for i in valid_combs:\n",
    "\n",
    "    trip_temp = LT_46A_68_1.loc[(LT_46A_68_1[\"TRIPID\"] == i[0]) & (LT_46A_68_1[\"DAYOFSERVICE\"] == i[1])]\n",
    "          \n",
    "    num_stops = trip_temp[\"PROGRNUMBER\"].max()\n",
    "    \n",
    "\n",
    "\n",
    "    for n in range(1, num_stops-1):\n",
    "\n",
    "        curr_stop = LT_46A_68_1.loc[(LT_46A_68_1[\"TRIPID\"] == i[0]) & (LT_46A_68_1[\"DAYOFSERVICE\"] == i[1]) & (LT_46A_68_1[\"PROGRNUMBER\"] == n)]\n",
    "        next_stop = LT_46A_68_1.loc[(LT_46A_68_1[\"TRIPID\"] == i[0]) & (LT_46A_68_1[\"DAYOFSERVICE\"] == i[1]) & (LT_46A_68_1[\"PROGRNUMBER\"] == (n +1))]\n",
    "\n",
    "        next_val = next_stop.iloc[0][\"ACTUALTIME_ARR\"]\n",
    "        curr_val = curr_stop.iloc[0][\"ACTUALTIME_ARR\"]\n",
    "\n",
    "        if next_val < curr_val :\n",
    "            bad_stops.append([i, j]) #entire route will be corrupted\n",
    "            break\n",
    "\n",
    "\n",
    "print(bad_stops) \n",
    "\n",
    "# make code to remove the trips with bad data"
   ]
  },
  {
   "cell_type": "markdown",
   "id": "490cebc7",
   "metadata": {},
   "source": [
    "- No values in the array so no bad data here\n",
    "- Will still need to edit it to remove them for processing the entire data set\n",
    "- the 43 seconds it took looks slow but originally it was 1 minute and 10 seconds"
   ]
  },
  {
   "cell_type": "code",
   "execution_count": 44,
   "id": "0cfd1273",
   "metadata": {},
   "outputs": [
    {
     "data": {
      "text/html": [
       "<div>\n",
       "<style scoped>\n",
       "    .dataframe tbody tr th:only-of-type {\n",
       "        vertical-align: middle;\n",
       "    }\n",
       "\n",
       "    .dataframe tbody tr th {\n",
       "        vertical-align: top;\n",
       "    }\n",
       "\n",
       "    .dataframe thead th {\n",
       "        text-align: right;\n",
       "    }\n",
       "</style>\n",
       "<table border=\"1\" class=\"dataframe\">\n",
       "  <thead>\n",
       "    <tr style=\"text-align: right;\">\n",
       "      <th></th>\n",
       "      <th>DAYOFSERVICE</th>\n",
       "      <th>TRIPID</th>\n",
       "      <th>PROGRNUMBER</th>\n",
       "      <th>STOPPOINTID</th>\n",
       "      <th>PLANNEDTIME_ARR</th>\n",
       "      <th>PLANNEDTIME_DEP</th>\n",
       "      <th>ACTUALTIME_ARR</th>\n",
       "      <th>ACTUALTIME_DEP</th>\n",
       "      <th>VEHICLEID</th>\n",
       "      <th>LINEID</th>\n",
       "      <th>ROUTEID</th>\n",
       "      <th>DIRECTION</th>\n",
       "      <th>HOUR_DEPARTURE</th>\n",
       "      <th>temp</th>\n",
       "      <th>visibility</th>\n",
       "      <th>wind_speed</th>\n",
       "      <th>weather_main</th>\n",
       "      <th>weather_description</th>\n",
       "      <th>weather_icon</th>\n",
       "      <th>ROUTE_DIRECTION</th>\n",
       "    </tr>\n",
       "  </thead>\n",
       "  <tbody>\n",
       "    <tr>\n",
       "      <th>37</th>\n",
       "      <td>2018-01-02</td>\n",
       "      <td>5958760</td>\n",
       "      <td>47</td>\n",
       "      <td>2039</td>\n",
       "      <td>30874</td>\n",
       "      <td>30874</td>\n",
       "      <td>30882.0</td>\n",
       "      <td>30882.0</td>\n",
       "      <td>1932297</td>\n",
       "      <td>46A</td>\n",
       "      <td>46A_68</td>\n",
       "      <td>1</td>\n",
       "      <td>8.0</td>\n",
       "      <td>2.0</td>\n",
       "      <td>10.0</td>\n",
       "      <td>2.0</td>\n",
       "      <td>1.0</td>\n",
       "      <td>9.0</td>\n",
       "      <td>11.0</td>\n",
       "      <td>46A_68_1</td>\n",
       "    </tr>\n",
       "  </tbody>\n",
       "</table>\n",
       "</div>"
      ],
      "text/plain": [
       "   DAYOFSERVICE   TRIPID  PROGRNUMBER  STOPPOINTID  PLANNEDTIME_ARR  \\\n",
       "37   2018-01-02  5958760           47         2039            30874   \n",
       "\n",
       "    PLANNEDTIME_DEP  ACTUALTIME_ARR  ACTUALTIME_DEP  VEHICLEID LINEID ROUTEID  \\\n",
       "37            30874         30882.0         30882.0    1932297    46A  46A_68   \n",
       "\n",
       "    DIRECTION  HOUR_DEPARTURE  temp  visibility  wind_speed  weather_main  \\\n",
       "37          1             8.0   2.0        10.0         2.0           1.0   \n",
       "\n",
       "    weather_description  weather_icon ROUTE_DIRECTION  \n",
       "37                  9.0          11.0        46A_68_1  "
      ]
     },
     "execution_count": 44,
     "metadata": {},
     "output_type": "execute_result"
    }
   ],
   "source": [
    "LT_46A_68_1.head(1)"
   ]
  },
  {
   "cell_type": "code",
   "execution_count": 45,
   "id": "23f065f6",
   "metadata": {},
   "outputs": [],
   "source": [
    "LT_46A_68_1[\"A_error\"] = (LT_46A_68_1[\"ACTUALTIME_ARR\"] - LT_46A_68_1['PLANNEDTIME_ARR'])\n",
    "LT_46A_68_1[\"D_error\"] = (LT_46A_68_1[\"ACTUALTIME_DEP\"] - LT_46A_68_1['PLANNEDTIME_DEP'])"
   ]
  },
  {
   "cell_type": "code",
   "execution_count": 46,
   "id": "bc75b09c",
   "metadata": {},
   "outputs": [
    {
     "data": {
      "text/html": [
       "<div>\n",
       "<style scoped>\n",
       "    .dataframe tbody tr th:only-of-type {\n",
       "        vertical-align: middle;\n",
       "    }\n",
       "\n",
       "    .dataframe tbody tr th {\n",
       "        vertical-align: top;\n",
       "    }\n",
       "\n",
       "    .dataframe thead th {\n",
       "        text-align: right;\n",
       "    }\n",
       "</style>\n",
       "<table border=\"1\" class=\"dataframe\">\n",
       "  <thead>\n",
       "    <tr style=\"text-align: right;\">\n",
       "      <th></th>\n",
       "      <th>DAYOFSERVICE</th>\n",
       "      <th>TRIPID</th>\n",
       "      <th>PROGRNUMBER</th>\n",
       "      <th>STOPPOINTID</th>\n",
       "      <th>PLANNEDTIME_ARR</th>\n",
       "      <th>PLANNEDTIME_DEP</th>\n",
       "      <th>ACTUALTIME_ARR</th>\n",
       "      <th>ACTUALTIME_DEP</th>\n",
       "      <th>VEHICLEID</th>\n",
       "      <th>LINEID</th>\n",
       "      <th>...</th>\n",
       "      <th>HOUR_DEPARTURE</th>\n",
       "      <th>temp</th>\n",
       "      <th>visibility</th>\n",
       "      <th>wind_speed</th>\n",
       "      <th>weather_main</th>\n",
       "      <th>weather_description</th>\n",
       "      <th>weather_icon</th>\n",
       "      <th>ROUTE_DIRECTION</th>\n",
       "      <th>A_error</th>\n",
       "      <th>D_error</th>\n",
       "    </tr>\n",
       "  </thead>\n",
       "  <tbody>\n",
       "    <tr>\n",
       "      <th>37</th>\n",
       "      <td>2018-01-02</td>\n",
       "      <td>5958760</td>\n",
       "      <td>47</td>\n",
       "      <td>2039</td>\n",
       "      <td>30874</td>\n",
       "      <td>30874</td>\n",
       "      <td>30882.0</td>\n",
       "      <td>30882.0</td>\n",
       "      <td>1932297</td>\n",
       "      <td>46A</td>\n",
       "      <td>...</td>\n",
       "      <td>8.0</td>\n",
       "      <td>2.0</td>\n",
       "      <td>10.0</td>\n",
       "      <td>2.0</td>\n",
       "      <td>1.0</td>\n",
       "      <td>9.0</td>\n",
       "      <td>11.0</td>\n",
       "      <td>46A_68_1</td>\n",
       "      <td>8.0</td>\n",
       "      <td>8.0</td>\n",
       "    </tr>\n",
       "  </tbody>\n",
       "</table>\n",
       "<p>1 rows × 22 columns</p>\n",
       "</div>"
      ],
      "text/plain": [
       "   DAYOFSERVICE   TRIPID  PROGRNUMBER  STOPPOINTID  PLANNEDTIME_ARR  \\\n",
       "37   2018-01-02  5958760           47         2039            30874   \n",
       "\n",
       "    PLANNEDTIME_DEP  ACTUALTIME_ARR  ACTUALTIME_DEP  VEHICLEID LINEID  ...  \\\n",
       "37            30874         30882.0         30882.0    1932297    46A  ...   \n",
       "\n",
       "   HOUR_DEPARTURE  temp  visibility  wind_speed  weather_main  \\\n",
       "37            8.0   2.0        10.0         2.0           1.0   \n",
       "\n",
       "    weather_description  weather_icon  ROUTE_DIRECTION  A_error D_error  \n",
       "37                  9.0          11.0         46A_68_1      8.0     8.0  \n",
       "\n",
       "[1 rows x 22 columns]"
      ]
     },
     "execution_count": 46,
     "metadata": {},
     "output_type": "execute_result"
    }
   ],
   "source": [
    "LT_46A_68_1.head(1)"
   ]
  },
  {
   "cell_type": "code",
   "execution_count": 47,
   "id": "d06ebf05",
   "metadata": {},
   "outputs": [
    {
     "data": {
      "text/html": [
       "<div>\n",
       "<style scoped>\n",
       "    .dataframe tbody tr th:only-of-type {\n",
       "        vertical-align: middle;\n",
       "    }\n",
       "\n",
       "    .dataframe tbody tr th {\n",
       "        vertical-align: top;\n",
       "    }\n",
       "\n",
       "    .dataframe thead th {\n",
       "        text-align: right;\n",
       "    }\n",
       "</style>\n",
       "<table border=\"1\" class=\"dataframe\">\n",
       "  <thead>\n",
       "    <tr style=\"text-align: right;\">\n",
       "      <th></th>\n",
       "      <th>DAYOFSERVICE</th>\n",
       "      <th>TRIPID</th>\n",
       "      <th>PROGRNUMBER</th>\n",
       "      <th>STOPPOINTID</th>\n",
       "      <th>PLANNEDTIME_ARR</th>\n",
       "      <th>PLANNEDTIME_DEP</th>\n",
       "      <th>ACTUALTIME_ARR</th>\n",
       "      <th>ACTUALTIME_DEP</th>\n",
       "      <th>VEHICLEID</th>\n",
       "      <th>LINEID</th>\n",
       "      <th>...</th>\n",
       "      <th>HOUR_DEPARTURE</th>\n",
       "      <th>temp</th>\n",
       "      <th>visibility</th>\n",
       "      <th>wind_speed</th>\n",
       "      <th>weather_main</th>\n",
       "      <th>weather_description</th>\n",
       "      <th>weather_icon</th>\n",
       "      <th>ROUTE_DIRECTION</th>\n",
       "      <th>A_error</th>\n",
       "      <th>D_error</th>\n",
       "    </tr>\n",
       "  </thead>\n",
       "  <tbody>\n",
       "    <tr>\n",
       "      <th>38</th>\n",
       "      <td>2018-01-02</td>\n",
       "      <td>5958760</td>\n",
       "      <td>45</td>\n",
       "      <td>2035</td>\n",
       "      <td>30784</td>\n",
       "      <td>30784</td>\n",
       "      <td>30787.0</td>\n",
       "      <td>30821.0</td>\n",
       "      <td>1932297</td>\n",
       "      <td>46A</td>\n",
       "      <td>...</td>\n",
       "      <td>8.0</td>\n",
       "      <td>2.0</td>\n",
       "      <td>10.0</td>\n",
       "      <td>2.0</td>\n",
       "      <td>1.0</td>\n",
       "      <td>9.0</td>\n",
       "      <td>11.0</td>\n",
       "      <td>46A_68_1</td>\n",
       "      <td>3.0</td>\n",
       "      <td>37.0</td>\n",
       "    </tr>\n",
       "    <tr>\n",
       "      <th>39</th>\n",
       "      <td>2018-01-02</td>\n",
       "      <td>5958760</td>\n",
       "      <td>44</td>\n",
       "      <td>2034</td>\n",
       "      <td>30728</td>\n",
       "      <td>30728</td>\n",
       "      <td>30729.0</td>\n",
       "      <td>30740.0</td>\n",
       "      <td>1932297</td>\n",
       "      <td>46A</td>\n",
       "      <td>...</td>\n",
       "      <td>8.0</td>\n",
       "      <td>2.0</td>\n",
       "      <td>10.0</td>\n",
       "      <td>2.0</td>\n",
       "      <td>1.0</td>\n",
       "      <td>9.0</td>\n",
       "      <td>11.0</td>\n",
       "      <td>46A_68_1</td>\n",
       "      <td>1.0</td>\n",
       "      <td>12.0</td>\n",
       "    </tr>\n",
       "    <tr>\n",
       "      <th>40</th>\n",
       "      <td>2018-01-02</td>\n",
       "      <td>5958760</td>\n",
       "      <td>43</td>\n",
       "      <td>2033</td>\n",
       "      <td>30704</td>\n",
       "      <td>30704</td>\n",
       "      <td>30696.0</td>\n",
       "      <td>30707.0</td>\n",
       "      <td>1932297</td>\n",
       "      <td>46A</td>\n",
       "      <td>...</td>\n",
       "      <td>8.0</td>\n",
       "      <td>2.0</td>\n",
       "      <td>10.0</td>\n",
       "      <td>2.0</td>\n",
       "      <td>1.0</td>\n",
       "      <td>9.0</td>\n",
       "      <td>11.0</td>\n",
       "      <td>46A_68_1</td>\n",
       "      <td>-8.0</td>\n",
       "      <td>3.0</td>\n",
       "    </tr>\n",
       "    <tr>\n",
       "      <th>41</th>\n",
       "      <td>2018-01-02</td>\n",
       "      <td>5958760</td>\n",
       "      <td>41</td>\n",
       "      <td>2031</td>\n",
       "      <td>30546</td>\n",
       "      <td>30546</td>\n",
       "      <td>30595.0</td>\n",
       "      <td>30621.0</td>\n",
       "      <td>1932297</td>\n",
       "      <td>46A</td>\n",
       "      <td>...</td>\n",
       "      <td>8.0</td>\n",
       "      <td>2.0</td>\n",
       "      <td>10.0</td>\n",
       "      <td>2.0</td>\n",
       "      <td>1.0</td>\n",
       "      <td>9.0</td>\n",
       "      <td>11.0</td>\n",
       "      <td>46A_68_1</td>\n",
       "      <td>49.0</td>\n",
       "      <td>75.0</td>\n",
       "    </tr>\n",
       "    <tr>\n",
       "      <th>42</th>\n",
       "      <td>2018-01-02</td>\n",
       "      <td>5958760</td>\n",
       "      <td>40</td>\n",
       "      <td>4567</td>\n",
       "      <td>30475</td>\n",
       "      <td>30475</td>\n",
       "      <td>30520.0</td>\n",
       "      <td>30542.0</td>\n",
       "      <td>1932297</td>\n",
       "      <td>46A</td>\n",
       "      <td>...</td>\n",
       "      <td>8.0</td>\n",
       "      <td>2.0</td>\n",
       "      <td>10.0</td>\n",
       "      <td>2.0</td>\n",
       "      <td>1.0</td>\n",
       "      <td>9.0</td>\n",
       "      <td>11.0</td>\n",
       "      <td>46A_68_1</td>\n",
       "      <td>45.0</td>\n",
       "      <td>67.0</td>\n",
       "    </tr>\n",
       "    <tr>\n",
       "      <th>...</th>\n",
       "      <td>...</td>\n",
       "      <td>...</td>\n",
       "      <td>...</td>\n",
       "      <td>...</td>\n",
       "      <td>...</td>\n",
       "      <td>...</td>\n",
       "      <td>...</td>\n",
       "      <td>...</td>\n",
       "      <td>...</td>\n",
       "      <td>...</td>\n",
       "      <td>...</td>\n",
       "      <td>...</td>\n",
       "      <td>...</td>\n",
       "      <td>...</td>\n",
       "      <td>...</td>\n",
       "      <td>...</td>\n",
       "      <td>...</td>\n",
       "      <td>...</td>\n",
       "      <td>...</td>\n",
       "      <td>...</td>\n",
       "      <td>...</td>\n",
       "    </tr>\n",
       "    <tr>\n",
       "      <th>14456</th>\n",
       "      <td>2018-12-21</td>\n",
       "      <td>8453335</td>\n",
       "      <td>36</td>\n",
       "      <td>2021</td>\n",
       "      <td>29063</td>\n",
       "      <td>29063</td>\n",
       "      <td>28827.0</td>\n",
       "      <td>28872.0</td>\n",
       "      <td>1000299</td>\n",
       "      <td>46A</td>\n",
       "      <td>...</td>\n",
       "      <td>8.0</td>\n",
       "      <td>2.0</td>\n",
       "      <td>6.0</td>\n",
       "      <td>1.0</td>\n",
       "      <td>0.0</td>\n",
       "      <td>7.0</td>\n",
       "      <td>9.0</td>\n",
       "      <td>46A_68_1</td>\n",
       "      <td>-236.0</td>\n",
       "      <td>-191.0</td>\n",
       "    </tr>\n",
       "    <tr>\n",
       "      <th>14458</th>\n",
       "      <td>2018-12-20</td>\n",
       "      <td>8453335</td>\n",
       "      <td>6</td>\n",
       "      <td>842</td>\n",
       "      <td>27038</td>\n",
       "      <td>27038</td>\n",
       "      <td>27145.0</td>\n",
       "      <td>27155.0</td>\n",
       "      <td>1000299</td>\n",
       "      <td>46A</td>\n",
       "      <td>...</td>\n",
       "      <td>7.0</td>\n",
       "      <td>2.0</td>\n",
       "      <td>10.0</td>\n",
       "      <td>1.0</td>\n",
       "      <td>0.0</td>\n",
       "      <td>19.0</td>\n",
       "      <td>5.0</td>\n",
       "      <td>46A_68_1</td>\n",
       "      <td>107.0</td>\n",
       "      <td>117.0</td>\n",
       "    </tr>\n",
       "    <tr>\n",
       "      <th>14459</th>\n",
       "      <td>2018-12-20</td>\n",
       "      <td>8453335</td>\n",
       "      <td>17</td>\n",
       "      <td>761</td>\n",
       "      <td>27821</td>\n",
       "      <td>27821</td>\n",
       "      <td>27873.0</td>\n",
       "      <td>27881.0</td>\n",
       "      <td>1000299</td>\n",
       "      <td>46A</td>\n",
       "      <td>...</td>\n",
       "      <td>7.0</td>\n",
       "      <td>2.0</td>\n",
       "      <td>10.0</td>\n",
       "      <td>1.0</td>\n",
       "      <td>0.0</td>\n",
       "      <td>19.0</td>\n",
       "      <td>5.0</td>\n",
       "      <td>46A_68_1</td>\n",
       "      <td>52.0</td>\n",
       "      <td>60.0</td>\n",
       "    </tr>\n",
       "    <tr>\n",
       "      <th>14466</th>\n",
       "      <td>2018-12-18</td>\n",
       "      <td>8453335</td>\n",
       "      <td>12</td>\n",
       "      <td>756</td>\n",
       "      <td>27482</td>\n",
       "      <td>27482</td>\n",
       "      <td>27674.0</td>\n",
       "      <td>27682.0</td>\n",
       "      <td>1932339</td>\n",
       "      <td>46A</td>\n",
       "      <td>...</td>\n",
       "      <td>7.0</td>\n",
       "      <td>3.0</td>\n",
       "      <td>10.0</td>\n",
       "      <td>2.0</td>\n",
       "      <td>1.0</td>\n",
       "      <td>5.0</td>\n",
       "      <td>11.0</td>\n",
       "      <td>46A_68_1</td>\n",
       "      <td>192.0</td>\n",
       "      <td>200.0</td>\n",
       "    </tr>\n",
       "    <tr>\n",
       "      <th>14468</th>\n",
       "      <td>2018-12-18</td>\n",
       "      <td>8453335</td>\n",
       "      <td>31</td>\n",
       "      <td>2015</td>\n",
       "      <td>28833</td>\n",
       "      <td>28833</td>\n",
       "      <td>28911.0</td>\n",
       "      <td>28919.0</td>\n",
       "      <td>1932339</td>\n",
       "      <td>46A</td>\n",
       "      <td>...</td>\n",
       "      <td>8.0</td>\n",
       "      <td>3.0</td>\n",
       "      <td>10.0</td>\n",
       "      <td>2.0</td>\n",
       "      <td>1.0</td>\n",
       "      <td>9.0</td>\n",
       "      <td>11.0</td>\n",
       "      <td>46A_68_1</td>\n",
       "      <td>78.0</td>\n",
       "      <td>86.0</td>\n",
       "    </tr>\n",
       "  </tbody>\n",
       "</table>\n",
       "<p>7577 rows × 22 columns</p>\n",
       "</div>"
      ],
      "text/plain": [
       "      DAYOFSERVICE   TRIPID  PROGRNUMBER  STOPPOINTID  PLANNEDTIME_ARR  \\\n",
       "38      2018-01-02  5958760           45         2035            30784   \n",
       "39      2018-01-02  5958760           44         2034            30728   \n",
       "40      2018-01-02  5958760           43         2033            30704   \n",
       "41      2018-01-02  5958760           41         2031            30546   \n",
       "42      2018-01-02  5958760           40         4567            30475   \n",
       "...            ...      ...          ...          ...              ...   \n",
       "14456   2018-12-21  8453335           36         2021            29063   \n",
       "14458   2018-12-20  8453335            6          842            27038   \n",
       "14459   2018-12-20  8453335           17          761            27821   \n",
       "14466   2018-12-18  8453335           12          756            27482   \n",
       "14468   2018-12-18  8453335           31         2015            28833   \n",
       "\n",
       "       PLANNEDTIME_DEP  ACTUALTIME_ARR  ACTUALTIME_DEP  VEHICLEID LINEID  ...  \\\n",
       "38               30784         30787.0         30821.0    1932297    46A  ...   \n",
       "39               30728         30729.0         30740.0    1932297    46A  ...   \n",
       "40               30704         30696.0         30707.0    1932297    46A  ...   \n",
       "41               30546         30595.0         30621.0    1932297    46A  ...   \n",
       "42               30475         30520.0         30542.0    1932297    46A  ...   \n",
       "...                ...             ...             ...        ...    ...  ...   \n",
       "14456            29063         28827.0         28872.0    1000299    46A  ...   \n",
       "14458            27038         27145.0         27155.0    1000299    46A  ...   \n",
       "14459            27821         27873.0         27881.0    1000299    46A  ...   \n",
       "14466            27482         27674.0         27682.0    1932339    46A  ...   \n",
       "14468            28833         28911.0         28919.0    1932339    46A  ...   \n",
       "\n",
       "      HOUR_DEPARTURE  temp  visibility  wind_speed  weather_main  \\\n",
       "38               8.0   2.0        10.0         2.0           1.0   \n",
       "39               8.0   2.0        10.0         2.0           1.0   \n",
       "40               8.0   2.0        10.0         2.0           1.0   \n",
       "41               8.0   2.0        10.0         2.0           1.0   \n",
       "42               8.0   2.0        10.0         2.0           1.0   \n",
       "...              ...   ...         ...         ...           ...   \n",
       "14456            8.0   2.0         6.0         1.0           0.0   \n",
       "14458            7.0   2.0        10.0         1.0           0.0   \n",
       "14459            7.0   2.0        10.0         1.0           0.0   \n",
       "14466            7.0   3.0        10.0         2.0           1.0   \n",
       "14468            8.0   3.0        10.0         2.0           1.0   \n",
       "\n",
       "       weather_description  weather_icon  ROUTE_DIRECTION  A_error D_error  \n",
       "38                     9.0          11.0         46A_68_1      3.0    37.0  \n",
       "39                     9.0          11.0         46A_68_1      1.0    12.0  \n",
       "40                     9.0          11.0         46A_68_1     -8.0     3.0  \n",
       "41                     9.0          11.0         46A_68_1     49.0    75.0  \n",
       "42                     9.0          11.0         46A_68_1     45.0    67.0  \n",
       "...                    ...           ...              ...      ...     ...  \n",
       "14456                  7.0           9.0         46A_68_1   -236.0  -191.0  \n",
       "14458                 19.0           5.0         46A_68_1    107.0   117.0  \n",
       "14459                 19.0           5.0         46A_68_1     52.0    60.0  \n",
       "14466                  5.0          11.0         46A_68_1    192.0   200.0  \n",
       "14468                  9.0          11.0         46A_68_1     78.0    86.0  \n",
       "\n",
       "[7577 rows x 22 columns]"
      ]
     },
     "execution_count": 47,
     "metadata": {},
     "output_type": "execute_result"
    }
   ],
   "source": [
    "LT_46A_68_1.loc[(LT_46A_68_1[\"A_error\"] != LT_46A_68_1[\"D_error\"])]"
   ]
  },
  {
   "cell_type": "code",
   "execution_count": 48,
   "id": "ea5368c8",
   "metadata": {},
   "outputs": [
    {
     "data": {
      "image/png": "[encoded data removed]",
      "text/plain": [
       "<Figure size 864x360 with 1 Axes>"
      ]
     },
     "metadata": {
      "needs_background": "light"
     },
     "output_type": "display_data"
    }
   ],
   "source": [
    "fig, ax = plt.subplots(figsize=(12,5))\n",
    "sns.set_context(rc={\"font.size\":15, \"axes.titlesize\":15, \"axes.labelsize\":15})\n",
    "sns.histplot(LT_46A_68_1['A_error'],kde = False)\n",
    "plt.xlabel('Time (Seconds)')\n",
    "\n",
    "plt.show()"
   ]
  },
  {
   "cell_type": "code",
   "execution_count": 49,
   "id": "1bd71803",
   "metadata": {},
   "outputs": [
    {
     "data": {
      "image/png": "[encoded data removed]",
      "text/plain": [
       "<Figure size 864x360 with 1 Axes>"
      ]
     },
     "metadata": {
      "needs_background": "light"
     },
     "output_type": "display_data"
    }
   ],
   "source": [
    "fig, ax = plt.subplots(figsize=(12,5))\n",
    "sns.set_context(rc={\"font.size\":15, \"axes.titlesize\":15, \"axes.labelsize\":15})\n",
    "sns.histplot(LT_46A_68_1['D_error'],kde = False)\n",
    "plt.xlabel('Time (Seconds)')\n",
    "\n",
    "plt.show()"
   ]
  },
  {
   "cell_type": "code",
   "execution_count": 50,
   "id": "bd185a0c",
   "metadata": {},
   "outputs": [
    {
     "data": {
      "image/png": "[encoded data removed]",
      "text/plain": [
       "<Figure size 1080x576 with 1 Axes>"
      ]
     },
     "metadata": {
      "needs_background": "light"
     },
     "output_type": "display_data"
    }
   ],
   "source": [
    "# calculate value 2 standard deviations above the mean\n",
    "topTwoSDs = LT_46A_68_1['A_error'].mean() + (2*LT_46A_68_1['A_error'].std())\n",
    "bottomTwoSDs = LT_46A_68_1['A_error'].mean() - (2*LT_46A_68_1['A_error'].std())\n",
    "AE_NoOutliers = LT_46A_68_1.loc[LT_46A_68_1['A_error'] < topTwoSDs]\n",
    "AE_NoOutliers = AE_NoOutliers.loc[LT_46A_68_1['A_error'] > bottomTwoSDs]\n",
    "\n",
    "\n",
    "\n",
    "fig, ax = plt.subplots(figsize=(15,8))\n",
    "sns.set_context(rc={\"font.size\":15, \"axes.titlesize\":15, \"axes.labelsize\":15})\n",
    "sns.histplot(AE_NoOutliers['A_error'],kde = False)\n",
    "plt.xlabel('Time (seconds)')\n",
    "\n",
    "plt.title('Histogram of Error in Arrival Time at Stops - excluding upper and lower 2.5%')\n",
    "plt.show()"
   ]
  },
  {
   "cell_type": "code",
   "execution_count": 51,
   "id": "26156900",
   "metadata": {},
   "outputs": [
    {
     "data": {
      "image/png": "[encoded data removed]",
      "text/plain": [
       "<Figure size 1080x576 with 1 Axes>"
      ]
     },
     "metadata": {
      "needs_background": "light"
     },
     "output_type": "display_data"
    }
   ],
   "source": [
    "# calculate value 2 standard deviations above the mean\n",
    "topTwoSDs = LT_46A_68_1['D_error'].mean() + (2*LT_46A_68_1['D_error'].std())\n",
    "bottomTwoSDs = LT_46A_68_1['D_error'].mean() - (2*LT_46A_68_1['D_error'].std())\n",
    "DE_NoOutliers = LT_46A_68_1.loc[LT_46A_68_1['D_error'] < topTwoSDs]\n",
    "DE_NoOutliers = DE_NoOutliers.loc[LT_46A_68_1['D_error'] > bottomTwoSDs]\n",
    "\n",
    "\n",
    "\n",
    "fig, ax = plt.subplots(figsize=(15,8))\n",
    "sns.set_context(rc={\"font.size\":15, \"axes.titlesize\":15, \"axes.labelsize\":15})\n",
    "sns.histplot(DE_NoOutliers['D_error'],kde = False)\n",
    "plt.xlabel('Time (seconds)')\n",
    "\n",
    "plt.title('Histogram of Error in Arrival Time at Stops  - excluding upper and lower 2.5%')\n",
    "plt.show()"
   ]
  },
  {
   "cell_type": "code",
   "execution_count": 52,
   "id": "18945b70",
   "metadata": {},
   "outputs": [
    {
     "name": "stdout",
     "output_type": "stream",
     "text": [
      "731.0\n",
      "-410.0\n"
     ]
    }
   ],
   "source": [
    "std_DE_max = DE_NoOutliers['D_error'].max()\n",
    "std_DE_min = DE_NoOutliers['D_error'].min()\n",
    "\n",
    "print(std_DE_max)\n",
    "print(std_DE_min)"
   ]
  },
  {
   "cell_type": "code",
   "execution_count": 53,
   "id": "71043657",
   "metadata": {},
   "outputs": [
    {
     "name": "stdout",
     "output_type": "stream",
     "text": [
      "715.0\n",
      "-420.0\n"
     ]
    }
   ],
   "source": [
    "std_AE_max = AE_NoOutliers['A_error'].max()\n",
    "std_AE_min = AE_NoOutliers['A_error'].min()\n",
    "\n",
    "print(std_AE_max)\n",
    "print(std_AE_min)"
   ]
  },
  {
   "cell_type": "code",
   "execution_count": 54,
   "id": "f9501775",
   "metadata": {},
   "outputs": [],
   "source": [
    "LT_46A_68_1 = LT_46A_68_1[(LT_46A_68_1.D_error < std_DE_max) & (LT_46A_68_1.D_error > std_DE_min)]\n",
    "LT_46A_68_1 = LT_46A_68_1[(LT_46A_68_1.A_error < std_AE_max) & (LT_46A_68_1.A_error > std_AE_min)]\n"
   ]
  },
  {
   "cell_type": "code",
   "execution_count": 55,
   "id": "210b96fd",
   "metadata": {},
   "outputs": [
    {
     "name": "stdout",
     "output_type": "stream",
     "text": [
      "714.0\n",
      "-416.0\n",
      "730.0\n",
      "-409.0\n"
     ]
    }
   ],
   "source": [
    "print(LT_46A_68_1['A_error'].max())\n",
    "print(LT_46A_68_1['A_error'].min())\n",
    "\n",
    "print(LT_46A_68_1['D_error'].max())\n",
    "print(LT_46A_68_1['D_error'].min())"
   ]
  },
  {
   "cell_type": "code",
   "execution_count": 56,
   "id": "3eba8248",
   "metadata": {},
   "outputs": [],
   "source": [
    "# assuming that we are using the same feature selection used for trips\n",
    "# the visibility column is a category because it was still like that from before kevin put it back to continuous\n",
    "# so if using that it must be changed back in dask file\n",
    "# "
   ]
  },
  {
   "cell_type": "code",
   "execution_count": 57,
   "id": "f6f5baee",
   "metadata": {},
   "outputs": [
    {
     "data": {
      "text/plain": [
       "<AxesSubplot:xlabel='PROGRNUMBER'>"
      ]
     },
     "execution_count": 57,
     "metadata": {},
     "output_type": "execute_result"
    },
    {
     "data": {
      "image/png": "[encoded data removed]",
      "text/plain": [
       "<Figure size 432x288 with 1 Axes>"
      ]
     },
     "metadata": {
      "needs_background": "light"
     },
     "output_type": "display_data"
    }
   ],
   "source": [
    "LT_46A_68_1.groupby(['PROGRNUMBER']).size().plot(kind = \"bar\")\n"
   ]
  },
  {
   "cell_type": "code",
   "execution_count": 58,
   "id": "f70d37e0",
   "metadata": {},
   "outputs": [
    {
     "data": {
      "text/plain": [
       "<AxesSubplot:xlabel='PROGRNUMBER', ylabel='Average Arrival Error'>"
      ]
     },
     "execution_count": 58,
     "metadata": {},
     "output_type": "execute_result"
    },
    {
     "data": {
      "image/png": "[encoded data removed]",
      "text/plain": [
       "<Figure size 1152x720 with 1 Axes>"
      ]
     },
     "metadata": {
      "needs_background": "light"
     },
     "output_type": "display_data"
    }
   ],
   "source": [
    " LT_46A_68_1.groupby('PROGRNUMBER')['A_error'].mean().plot(kind = \"bar\", ylabel=\"Average Arrival Error\", figsize=(16,10))"
   ]
  },
  {
   "cell_type": "markdown",
   "id": "9c0316a6",
   "metadata": {},
   "source": [
    "- As one would expect, error is greater at later stops"
   ]
  }
 ],
 "metadata": {
  "kernelspec": {
   "display_name": "Python 3 (ipykernel)",
   "language": "python",
   "name": "python3"
  },
  "language_info": {
   "codemirror_mode": {
    "name": "ipython",
    "version": 3
   },
   "file_extension": ".py",
   "mimetype": "text/x-python",
   "name": "python",
   "nbconvert_exporter": "python",
   "pygments_lexer": "ipython3",
   "version": "3.9.12"
  }
 },
 "nbformat": 4,
 "nbformat_minor": 5
}
