{
 "cells": [
  {
   "cell_type": "markdown",
   "id": "8d60b7fc",
   "metadata": {},
   "source": [
    "### Large Data Files Processing with both DASK and Pandas\n",
    "\n",
    "- Files are imported using DASK, a library which is intentended to be a clone of pandas that supports multiprocessing. The library is incomplete though and as the task counts of the data set builds up, running operations becomes increasingly slower and more stressful on the kernel so the minimal time is spent using it.\n",
    "- The DASK framework enabled us to drop the memory size of the dataset so that it could run in ran. This was achieved through the dropping of unuseful columns, factorizinig of column values and reducing the memory sizes of columns to their loweest necessary data size. (eg int64 columns who only needed 32bit to store the largest and smallest values were converted to int32)\n",
    "- Many hanges to the large data set in this notebook were done in tandem with insights taken from smaller notebooks which worked on segmented datasets of particular bus routes.\n",
    "- This notebook's structure and cell numbering does not have a perfect linear structure due to RAM preserving adjustments which needed to be made in order to deal with the issues that arose with the UCD server's performance in the altter half of the semester.\n",
    "- Although it would have been possible should the UCD server's performance have stayed strong, we chose to apply the more computationally taxing cleaning techniques to the files after they had already been broken up.\n"
   ]
  },
  {
   "cell_type": "code",
   "execution_count": 1,
   "id": "8c8296fa",
   "metadata": {},
   "outputs": [],
   "source": [
    "import pandas as pd\n",
    "import dask.dataframe as dd \n",
    "import matplotlib.pyplot as plt\n",
    "import numpy as np\n",
    "import datetime as dt\n",
    "import gc\n",
    "import psutil\n",
    "import multiprocessing\n",
    "import time\n",
    "import os\n",
    "import signal\n",
    "from os import getpid\n",
    "from sys import argv, exit"
   ]
  },
  {
   "cell_type": "code",
   "execution_count": 2,
   "id": "56136018",
   "metadata": {},
   "outputs": [
    {
     "data": {
      "text/plain": [
       "svmem(total=67481169920, available=26697043968, percent=60.4, used=32030101504, free=17713520640, active=29675589632, inactive=18249072640, buffers=1880395776, cached=15857152000, shared=8072052736, slab=1142431744)"
      ]
     },
     "execution_count": 2,
     "metadata": {},
     "output_type": "execute_result"
    }
   ],
   "source": [
    "psutil.virtual_memory()"
   ]
  },
  {
   "cell_type": "code",
   "execution_count": 3,
   "id": "5bf73690",
   "metadata": {},
   "outputs": [
    {
     "data": {
      "text/plain": [
       "[suser(name='team9', terminal='pts/19', host='95.44.114.87', started=1660195456.0, pid=29053),\n",
       " suser(name='team9', terminal='pts/22', host='95.44.114.87', started=1660195584.0, pid=29453),\n",
       " suser(name='team10', terminal='pts/31', host='tmux(22475).%0', started=1657274368.0, pid=22475)]"
      ]
     },
     "execution_count": 3,
     "metadata": {},
     "output_type": "execute_result"
    }
   ],
   "source": [
    "psutil.users()"
   ]
  },
  {
   "cell_type": "code",
   "execution_count": 4,
   "id": "eb5b054e",
   "metadata": {},
   "outputs": [
    {
     "name": "stdout",
     "output_type": "stream",
     "text": [
      "/home/team9/tmp\n"
     ]
    }
   ],
   "source": [
    "cd tmp"
   ]
  },
  {
   "cell_type": "code",
   "execution_count": 5,
   "id": "91e0631a",
   "metadata": {},
   "outputs": [
    {
     "name": "stdout",
     "output_type": "stream",
     "text": [
      "\u001b[0m\u001b[01;34mdata\u001b[0m/  line_46A_2-Copy1.csv\r\n"
     ]
    }
   ],
   "source": [
    "ls"
   ]
  },
  {
   "cell_type": "code",
   "execution_count": 6,
   "id": "5e20928e",
   "metadata": {},
   "outputs": [
    {
     "name": "stdout",
     "output_type": "stream",
     "text": [
      "/home/team9/tmp/data\n"
     ]
    }
   ],
   "source": [
    "cd data"
   ]
  },
  {
   "cell_type": "code",
   "execution_count": 10,
   "id": "1730ec8c",
   "metadata": {},
   "outputs": [],
   "source": [
    "weather = pd.read_csv('Custom_location_53_345035_-6_267261_62b5c8e6c91d98000ba01ceb.csv')"
   ]
  },
  {
   "cell_type": "code",
   "execution_count": 11,
   "id": "2f8e9c4c",
   "metadata": {},
   "outputs": [
    {
     "data": {
      "text/plain": [
       "(27186, 28)"
      ]
     },
     "execution_count": 11,
     "metadata": {},
     "output_type": "execute_result"
    }
   ],
   "source": [
    "weather.shape"
   ]
  },
  {
   "cell_type": "code",
   "execution_count": 13,
   "id": "79e1162d",
   "metadata": {},
   "outputs": [
    {
     "data": {
      "text/html": [
       "<div>\n",
       "<style scoped>\n",
       "    .dataframe tbody tr th:only-of-type {\n",
       "        vertical-align: middle;\n",
       "    }\n",
       "\n",
       "    .dataframe tbody tr th {\n",
       "        vertical-align: top;\n",
       "    }\n",
       "\n",
       "    .dataframe thead th {\n",
       "        text-align: right;\n",
       "    }\n",
       "</style>\n",
       "<table border=\"1\" class=\"dataframe\">\n",
       "  <thead>\n",
       "    <tr style=\"text-align: right;\">\n",
       "      <th></th>\n",
       "      <th>dt</th>\n",
       "      <th>dt_iso</th>\n",
       "      <th>timezone</th>\n",
       "      <th>city_name</th>\n",
       "      <th>lat</th>\n",
       "      <th>lon</th>\n",
       "      <th>temp</th>\n",
       "      <th>visibility</th>\n",
       "      <th>dew_point</th>\n",
       "      <th>feels_like</th>\n",
       "      <th>...</th>\n",
       "      <th>wind_gust</th>\n",
       "      <th>rain_1h</th>\n",
       "      <th>rain_3h</th>\n",
       "      <th>snow_1h</th>\n",
       "      <th>snow_3h</th>\n",
       "      <th>clouds_all</th>\n",
       "      <th>weather_id</th>\n",
       "      <th>weather_main</th>\n",
       "      <th>weather_description</th>\n",
       "      <th>weather_icon</th>\n",
       "    </tr>\n",
       "  </thead>\n",
       "  <tbody>\n",
       "    <tr>\n",
       "      <th>0</th>\n",
       "      <td>1483228800</td>\n",
       "      <td>2017-01-01 00:00:00 +0000 UTC</td>\n",
       "      <td>0</td>\n",
       "      <td>Custom location</td>\n",
       "      <td>53.345035</td>\n",
       "      <td>-6.267261</td>\n",
       "      <td>5.39</td>\n",
       "      <td>9999.0</td>\n",
       "      <td>4.35</td>\n",
       "      <td>1.78</td>\n",
       "      <td>...</td>\n",
       "      <td>NaN</td>\n",
       "      <td>2.30</td>\n",
       "      <td>NaN</td>\n",
       "      <td>NaN</td>\n",
       "      <td>NaN</td>\n",
       "      <td>75</td>\n",
       "      <td>501</td>\n",
       "      <td>Rain</td>\n",
       "      <td>moderate rain</td>\n",
       "      <td>10n</td>\n",
       "    </tr>\n",
       "    <tr>\n",
       "      <th>1</th>\n",
       "      <td>1483232400</td>\n",
       "      <td>2017-01-01 01:00:00 +0000 UTC</td>\n",
       "      <td>0</td>\n",
       "      <td>Custom location</td>\n",
       "      <td>53.345035</td>\n",
       "      <td>-6.267261</td>\n",
       "      <td>5.39</td>\n",
       "      <td>9999.0</td>\n",
       "      <td>4.35</td>\n",
       "      <td>2.28</td>\n",
       "      <td>...</td>\n",
       "      <td>NaN</td>\n",
       "      <td>1.51</td>\n",
       "      <td>NaN</td>\n",
       "      <td>NaN</td>\n",
       "      <td>NaN</td>\n",
       "      <td>75</td>\n",
       "      <td>501</td>\n",
       "      <td>Rain</td>\n",
       "      <td>moderate rain</td>\n",
       "      <td>10n</td>\n",
       "    </tr>\n",
       "    <tr>\n",
       "      <th>2</th>\n",
       "      <td>1483236000</td>\n",
       "      <td>2017-01-01 02:00:00 +0000 UTC</td>\n",
       "      <td>0</td>\n",
       "      <td>Custom location</td>\n",
       "      <td>53.345035</td>\n",
       "      <td>-6.267261</td>\n",
       "      <td>5.39</td>\n",
       "      <td>9999.0</td>\n",
       "      <td>4.35</td>\n",
       "      <td>2.28</td>\n",
       "      <td>...</td>\n",
       "      <td>NaN</td>\n",
       "      <td>0.64</td>\n",
       "      <td>NaN</td>\n",
       "      <td>NaN</td>\n",
       "      <td>NaN</td>\n",
       "      <td>75</td>\n",
       "      <td>500</td>\n",
       "      <td>Rain</td>\n",
       "      <td>light rain</td>\n",
       "      <td>10n</td>\n",
       "    </tr>\n",
       "    <tr>\n",
       "      <th>3</th>\n",
       "      <td>1483239600</td>\n",
       "      <td>2017-01-01 03:00:00 +0000 UTC</td>\n",
       "      <td>0</td>\n",
       "      <td>Custom location</td>\n",
       "      <td>53.345035</td>\n",
       "      <td>-6.267261</td>\n",
       "      <td>4.39</td>\n",
       "      <td>9999.0</td>\n",
       "      <td>3.36</td>\n",
       "      <td>0.04</td>\n",
       "      <td>...</td>\n",
       "      <td>NaN</td>\n",
       "      <td>0.17</td>\n",
       "      <td>NaN</td>\n",
       "      <td>NaN</td>\n",
       "      <td>NaN</td>\n",
       "      <td>75</td>\n",
       "      <td>500</td>\n",
       "      <td>Rain</td>\n",
       "      <td>light rain</td>\n",
       "      <td>10n</td>\n",
       "    </tr>\n",
       "    <tr>\n",
       "      <th>4</th>\n",
       "      <td>1483243200</td>\n",
       "      <td>2017-01-01 04:00:00 +0000 UTC</td>\n",
       "      <td>0</td>\n",
       "      <td>Custom location</td>\n",
       "      <td>53.345035</td>\n",
       "      <td>-6.267261</td>\n",
       "      <td>4.39</td>\n",
       "      <td>9999.0</td>\n",
       "      <td>2.42</td>\n",
       "      <td>0.04</td>\n",
       "      <td>...</td>\n",
       "      <td>NaN</td>\n",
       "      <td>NaN</td>\n",
       "      <td>NaN</td>\n",
       "      <td>NaN</td>\n",
       "      <td>NaN</td>\n",
       "      <td>75</td>\n",
       "      <td>803</td>\n",
       "      <td>Clouds</td>\n",
       "      <td>broken clouds</td>\n",
       "      <td>04n</td>\n",
       "    </tr>\n",
       "    <tr>\n",
       "      <th>...</th>\n",
       "      <td>...</td>\n",
       "      <td>...</td>\n",
       "      <td>...</td>\n",
       "      <td>...</td>\n",
       "      <td>...</td>\n",
       "      <td>...</td>\n",
       "      <td>...</td>\n",
       "      <td>...</td>\n",
       "      <td>...</td>\n",
       "      <td>...</td>\n",
       "      <td>...</td>\n",
       "      <td>...</td>\n",
       "      <td>...</td>\n",
       "      <td>...</td>\n",
       "      <td>...</td>\n",
       "      <td>...</td>\n",
       "      <td>...</td>\n",
       "      <td>...</td>\n",
       "      <td>...</td>\n",
       "      <td>...</td>\n",
       "      <td>...</td>\n",
       "    </tr>\n",
       "    <tr>\n",
       "      <th>27181</th>\n",
       "      <td>1577818800</td>\n",
       "      <td>2019-12-31 19:00:00 +0000 UTC</td>\n",
       "      <td>0</td>\n",
       "      <td>Custom location</td>\n",
       "      <td>53.345035</td>\n",
       "      <td>-6.267261</td>\n",
       "      <td>9.33</td>\n",
       "      <td>9999.0</td>\n",
       "      <td>6.42</td>\n",
       "      <td>9.33</td>\n",
       "      <td>...</td>\n",
       "      <td>2.68</td>\n",
       "      <td>NaN</td>\n",
       "      <td>NaN</td>\n",
       "      <td>NaN</td>\n",
       "      <td>NaN</td>\n",
       "      <td>75</td>\n",
       "      <td>803</td>\n",
       "      <td>Clouds</td>\n",
       "      <td>broken clouds</td>\n",
       "      <td>04n</td>\n",
       "    </tr>\n",
       "    <tr>\n",
       "      <th>27182</th>\n",
       "      <td>1577822400</td>\n",
       "      <td>2019-12-31 20:00:00 +0000 UTC</td>\n",
       "      <td>0</td>\n",
       "      <td>Custom location</td>\n",
       "      <td>53.345035</td>\n",
       "      <td>-6.267261</td>\n",
       "      <td>8.81</td>\n",
       "      <td>9999.0</td>\n",
       "      <td>6.09</td>\n",
       "      <td>7.02</td>\n",
       "      <td>...</td>\n",
       "      <td>NaN</td>\n",
       "      <td>NaN</td>\n",
       "      <td>NaN</td>\n",
       "      <td>NaN</td>\n",
       "      <td>NaN</td>\n",
       "      <td>90</td>\n",
       "      <td>804</td>\n",
       "      <td>Clouds</td>\n",
       "      <td>overcast clouds</td>\n",
       "      <td>04n</td>\n",
       "    </tr>\n",
       "    <tr>\n",
       "      <th>27183</th>\n",
       "      <td>1577826000</td>\n",
       "      <td>2019-12-31 21:00:00 +0000 UTC</td>\n",
       "      <td>0</td>\n",
       "      <td>Custom location</td>\n",
       "      <td>53.345035</td>\n",
       "      <td>-6.267261</td>\n",
       "      <td>7.86</td>\n",
       "      <td>9999.0</td>\n",
       "      <td>5.33</td>\n",
       "      <td>7.86</td>\n",
       "      <td>...</td>\n",
       "      <td>1.79</td>\n",
       "      <td>NaN</td>\n",
       "      <td>NaN</td>\n",
       "      <td>NaN</td>\n",
       "      <td>NaN</td>\n",
       "      <td>90</td>\n",
       "      <td>804</td>\n",
       "      <td>Clouds</td>\n",
       "      <td>overcast clouds</td>\n",
       "      <td>04n</td>\n",
       "    </tr>\n",
       "    <tr>\n",
       "      <th>27184</th>\n",
       "      <td>1577829600</td>\n",
       "      <td>2019-12-31 22:00:00 +0000 UTC</td>\n",
       "      <td>0</td>\n",
       "      <td>Custom location</td>\n",
       "      <td>53.345035</td>\n",
       "      <td>-6.267261</td>\n",
       "      <td>7.49</td>\n",
       "      <td>9999.0</td>\n",
       "      <td>4.09</td>\n",
       "      <td>7.49</td>\n",
       "      <td>...</td>\n",
       "      <td>1.79</td>\n",
       "      <td>NaN</td>\n",
       "      <td>NaN</td>\n",
       "      <td>NaN</td>\n",
       "      <td>NaN</td>\n",
       "      <td>75</td>\n",
       "      <td>803</td>\n",
       "      <td>Clouds</td>\n",
       "      <td>broken clouds</td>\n",
       "      <td>04n</td>\n",
       "    </tr>\n",
       "    <tr>\n",
       "      <th>27185</th>\n",
       "      <td>1577833200</td>\n",
       "      <td>2019-12-31 23:00:00 +0000 UTC</td>\n",
       "      <td>0</td>\n",
       "      <td>Custom location</td>\n",
       "      <td>53.345035</td>\n",
       "      <td>-6.267261</td>\n",
       "      <td>7.21</td>\n",
       "      <td>9999.0</td>\n",
       "      <td>4.52</td>\n",
       "      <td>5.85</td>\n",
       "      <td>...</td>\n",
       "      <td>NaN</td>\n",
       "      <td>NaN</td>\n",
       "      <td>NaN</td>\n",
       "      <td>NaN</td>\n",
       "      <td>NaN</td>\n",
       "      <td>75</td>\n",
       "      <td>803</td>\n",
       "      <td>Clouds</td>\n",
       "      <td>broken clouds</td>\n",
       "      <td>04n</td>\n",
       "    </tr>\n",
       "  </tbody>\n",
       "</table>\n",
       "<p>27186 rows × 28 columns</p>\n",
       "</div>"
      ],
      "text/plain": [
       "               dt                         dt_iso  timezone        city_name  \\\n",
       "0      1483228800  2017-01-01 00:00:00 +0000 UTC         0  Custom location   \n",
       "1      1483232400  2017-01-01 01:00:00 +0000 UTC         0  Custom location   \n",
       "2      1483236000  2017-01-01 02:00:00 +0000 UTC         0  Custom location   \n",
       "3      1483239600  2017-01-01 03:00:00 +0000 UTC         0  Custom location   \n",
       "4      1483243200  2017-01-01 04:00:00 +0000 UTC         0  Custom location   \n",
       "...           ...                            ...       ...              ...   \n",
       "27181  1577818800  2019-12-31 19:00:00 +0000 UTC         0  Custom location   \n",
       "27182  1577822400  2019-12-31 20:00:00 +0000 UTC         0  Custom location   \n",
       "27183  1577826000  2019-12-31 21:00:00 +0000 UTC         0  Custom location   \n",
       "27184  1577829600  2019-12-31 22:00:00 +0000 UTC         0  Custom location   \n",
       "27185  1577833200  2019-12-31 23:00:00 +0000 UTC         0  Custom location   \n",
       "\n",
       "             lat       lon  temp  visibility  dew_point  feels_like  ...  \\\n",
       "0      53.345035 -6.267261  5.39      9999.0       4.35        1.78  ...   \n",
       "1      53.345035 -6.267261  5.39      9999.0       4.35        2.28  ...   \n",
       "2      53.345035 -6.267261  5.39      9999.0       4.35        2.28  ...   \n",
       "3      53.345035 -6.267261  4.39      9999.0       3.36        0.04  ...   \n",
       "4      53.345035 -6.267261  4.39      9999.0       2.42        0.04  ...   \n",
       "...          ...       ...   ...         ...        ...         ...  ...   \n",
       "27181  53.345035 -6.267261  9.33      9999.0       6.42        9.33  ...   \n",
       "27182  53.345035 -6.267261  8.81      9999.0       6.09        7.02  ...   \n",
       "27183  53.345035 -6.267261  7.86      9999.0       5.33        7.86  ...   \n",
       "27184  53.345035 -6.267261  7.49      9999.0       4.09        7.49  ...   \n",
       "27185  53.345035 -6.267261  7.21      9999.0       4.52        5.85  ...   \n",
       "\n",
       "       wind_gust  rain_1h  rain_3h  snow_1h  snow_3h  clouds_all  weather_id  \\\n",
       "0            NaN     2.30      NaN      NaN      NaN          75         501   \n",
       "1            NaN     1.51      NaN      NaN      NaN          75         501   \n",
       "2            NaN     0.64      NaN      NaN      NaN          75         500   \n",
       "3            NaN     0.17      NaN      NaN      NaN          75         500   \n",
       "4            NaN      NaN      NaN      NaN      NaN          75         803   \n",
       "...          ...      ...      ...      ...      ...         ...         ...   \n",
       "27181       2.68      NaN      NaN      NaN      NaN          75         803   \n",
       "27182        NaN      NaN      NaN      NaN      NaN          90         804   \n",
       "27183       1.79      NaN      NaN      NaN      NaN          90         804   \n",
       "27184       1.79      NaN      NaN      NaN      NaN          75         803   \n",
       "27185        NaN      NaN      NaN      NaN      NaN          75         803   \n",
       "\n",
       "       weather_main  weather_description  weather_icon  \n",
       "0              Rain        moderate rain           10n  \n",
       "1              Rain        moderate rain           10n  \n",
       "2              Rain           light rain           10n  \n",
       "3              Rain           light rain           10n  \n",
       "4            Clouds        broken clouds           04n  \n",
       "...             ...                  ...           ...  \n",
       "27181        Clouds        broken clouds           04n  \n",
       "27182        Clouds      overcast clouds           04n  \n",
       "27183        Clouds      overcast clouds           04n  \n",
       "27184        Clouds        broken clouds           04n  \n",
       "27185        Clouds        broken clouds           04n  \n",
       "\n",
       "[27186 rows x 28 columns]"
      ]
     },
     "execution_count": 13,
     "metadata": {},
     "output_type": "execute_result"
    }
   ],
   "source": [
    "weather"
   ]
  },
  {
   "cell_type": "code",
   "execution_count": 14,
   "id": "a8e269af",
   "metadata": {},
   "outputs": [
    {
     "data": {
      "text/plain": [
       "dt                     26280\n",
       "dt_iso                 26280\n",
       "timezone                   2\n",
       "city_name                  1\n",
       "lat                        1\n",
       "lon                        1\n",
       "temp                    2009\n",
       "visibility                45\n",
       "dew_point               1929\n",
       "feels_like              2550\n",
       "temp_min                 672\n",
       "temp_max                 919\n",
       "pressure                  74\n",
       "sea_level                  0\n",
       "grnd_level                 0\n",
       "humidity                  73\n",
       "wind_speed               101\n",
       "wind_deg                 358\n",
       "wind_gust                 85\n",
       "rain_1h                  281\n",
       "rain_3h                    0\n",
       "snow_1h                   49\n",
       "snow_3h                    0\n",
       "clouds_all                17\n",
       "weather_id                27\n",
       "weather_main              10\n",
       "weather_description       29\n",
       "weather_icon              17\n",
       "dtype: int64"
      ]
     },
     "execution_count": 14,
     "metadata": {},
     "output_type": "execute_result"
    }
   ],
   "source": [
    "weather.nunique()"
   ]
  },
  {
   "cell_type": "markdown",
   "id": "c457ee34",
   "metadata": {},
   "source": [
    "- most look unhelpful\n",
    "- keeping to categorical data\n",
    "- weather description, weather icon, temperature, visibility, wind speed, temperature\n",
    "- will condense the categories down for better predictions\n",
    "- i think i can ignore the timezone issue because the weather icon says whether it is day or night and it is only 1 hour difference and there is a timezone element in the dt iso column\n",
    "- there are not an equal amount of datetimes as total columns so must remove duplicates\n",
    "- weather icon dropoped after model testing"
   ]
  },
  {
   "cell_type": "code",
   "execution_count": 15,
   "id": "b04cc9a1",
   "metadata": {},
   "outputs": [],
   "source": [
    "weather = weather.drop([\"dt_iso\", \"temp_min\", \"weather_id\", \"clouds_all\", \"snow_3h\", \"snow_1h\", \"rain_3h\", \"rain_1h\", \"wind_gust\", \"wind_deg\", \"humidity\", \"grnd_level\", \"sea_level\", \"pressure\", \"temp_max\", \"feels_like\", \"dew_point\", \"lon\", \"lat\", \"city_name\", \"timezone\"], axis=1)"
   ]
  },
  {
   "cell_type": "code",
   "execution_count": 16,
   "id": "3d6cc1cc",
   "metadata": {},
   "outputs": [
    {
     "data": {
      "text/html": [
       "<div>\n",
       "<style scoped>\n",
       "    .dataframe tbody tr th:only-of-type {\n",
       "        vertical-align: middle;\n",
       "    }\n",
       "\n",
       "    .dataframe tbody tr th {\n",
       "        vertical-align: top;\n",
       "    }\n",
       "\n",
       "    .dataframe thead th {\n",
       "        text-align: right;\n",
       "    }\n",
       "</style>\n",
       "<table border=\"1\" class=\"dataframe\">\n",
       "  <thead>\n",
       "    <tr style=\"text-align: right;\">\n",
       "      <th></th>\n",
       "      <th>dt</th>\n",
       "      <th>temp</th>\n",
       "      <th>visibility</th>\n",
       "      <th>wind_speed</th>\n",
       "      <th>weather_main</th>\n",
       "      <th>weather_description</th>\n",
       "      <th>weather_icon</th>\n",
       "    </tr>\n",
       "  </thead>\n",
       "  <tbody>\n",
       "    <tr>\n",
       "      <th>0</th>\n",
       "      <td>1483228800</td>\n",
       "      <td>5.39</td>\n",
       "      <td>9999.0</td>\n",
       "      <td>5.10</td>\n",
       "      <td>Rain</td>\n",
       "      <td>moderate rain</td>\n",
       "      <td>10n</td>\n",
       "    </tr>\n",
       "    <tr>\n",
       "      <th>1</th>\n",
       "      <td>1483232400</td>\n",
       "      <td>5.39</td>\n",
       "      <td>9999.0</td>\n",
       "      <td>4.10</td>\n",
       "      <td>Rain</td>\n",
       "      <td>moderate rain</td>\n",
       "      <td>10n</td>\n",
       "    </tr>\n",
       "    <tr>\n",
       "      <th>2</th>\n",
       "      <td>1483236000</td>\n",
       "      <td>5.39</td>\n",
       "      <td>9999.0</td>\n",
       "      <td>4.10</td>\n",
       "      <td>Rain</td>\n",
       "      <td>light rain</td>\n",
       "      <td>10n</td>\n",
       "    </tr>\n",
       "    <tr>\n",
       "      <th>3</th>\n",
       "      <td>1483239600</td>\n",
       "      <td>4.39</td>\n",
       "      <td>9999.0</td>\n",
       "      <td>6.20</td>\n",
       "      <td>Rain</td>\n",
       "      <td>light rain</td>\n",
       "      <td>10n</td>\n",
       "    </tr>\n",
       "    <tr>\n",
       "      <th>4</th>\n",
       "      <td>1483243200</td>\n",
       "      <td>4.39</td>\n",
       "      <td>9999.0</td>\n",
       "      <td>6.20</td>\n",
       "      <td>Clouds</td>\n",
       "      <td>broken clouds</td>\n",
       "      <td>04n</td>\n",
       "    </tr>\n",
       "    <tr>\n",
       "      <th>...</th>\n",
       "      <td>...</td>\n",
       "      <td>...</td>\n",
       "      <td>...</td>\n",
       "      <td>...</td>\n",
       "      <td>...</td>\n",
       "      <td>...</td>\n",
       "      <td>...</td>\n",
       "    </tr>\n",
       "    <tr>\n",
       "      <th>27181</th>\n",
       "      <td>1577818800</td>\n",
       "      <td>9.33</td>\n",
       "      <td>9999.0</td>\n",
       "      <td>0.45</td>\n",
       "      <td>Clouds</td>\n",
       "      <td>broken clouds</td>\n",
       "      <td>04n</td>\n",
       "    </tr>\n",
       "    <tr>\n",
       "      <th>27182</th>\n",
       "      <td>1577822400</td>\n",
       "      <td>8.81</td>\n",
       "      <td>9999.0</td>\n",
       "      <td>3.10</td>\n",
       "      <td>Clouds</td>\n",
       "      <td>overcast clouds</td>\n",
       "      <td>04n</td>\n",
       "    </tr>\n",
       "    <tr>\n",
       "      <th>27183</th>\n",
       "      <td>1577826000</td>\n",
       "      <td>7.86</td>\n",
       "      <td>9999.0</td>\n",
       "      <td>0.45</td>\n",
       "      <td>Clouds</td>\n",
       "      <td>overcast clouds</td>\n",
       "      <td>04n</td>\n",
       "    </tr>\n",
       "    <tr>\n",
       "      <th>27184</th>\n",
       "      <td>1577829600</td>\n",
       "      <td>7.49</td>\n",
       "      <td>9999.0</td>\n",
       "      <td>0.45</td>\n",
       "      <td>Clouds</td>\n",
       "      <td>broken clouds</td>\n",
       "      <td>04n</td>\n",
       "    </tr>\n",
       "    <tr>\n",
       "      <th>27185</th>\n",
       "      <td>1577833200</td>\n",
       "      <td>7.21</td>\n",
       "      <td>9999.0</td>\n",
       "      <td>2.10</td>\n",
       "      <td>Clouds</td>\n",
       "      <td>broken clouds</td>\n",
       "      <td>04n</td>\n",
       "    </tr>\n",
       "  </tbody>\n",
       "</table>\n",
       "<p>27186 rows × 7 columns</p>\n",
       "</div>"
      ],
      "text/plain": [
       "               dt  temp  visibility  wind_speed weather_main  \\\n",
       "0      1483228800  5.39      9999.0        5.10         Rain   \n",
       "1      1483232400  5.39      9999.0        4.10         Rain   \n",
       "2      1483236000  5.39      9999.0        4.10         Rain   \n",
       "3      1483239600  4.39      9999.0        6.20         Rain   \n",
       "4      1483243200  4.39      9999.0        6.20       Clouds   \n",
       "...           ...   ...         ...         ...          ...   \n",
       "27181  1577818800  9.33      9999.0        0.45       Clouds   \n",
       "27182  1577822400  8.81      9999.0        3.10       Clouds   \n",
       "27183  1577826000  7.86      9999.0        0.45       Clouds   \n",
       "27184  1577829600  7.49      9999.0        0.45       Clouds   \n",
       "27185  1577833200  7.21      9999.0        2.10       Clouds   \n",
       "\n",
       "      weather_description weather_icon  \n",
       "0           moderate rain          10n  \n",
       "1           moderate rain          10n  \n",
       "2              light rain          10n  \n",
       "3              light rain          10n  \n",
       "4           broken clouds          04n  \n",
       "...                   ...          ...  \n",
       "27181       broken clouds          04n  \n",
       "27182     overcast clouds          04n  \n",
       "27183     overcast clouds          04n  \n",
       "27184       broken clouds          04n  \n",
       "27185       broken clouds          04n  \n",
       "\n",
       "[27186 rows x 7 columns]"
      ]
     },
     "execution_count": 16,
     "metadata": {},
     "output_type": "execute_result"
    }
   ],
   "source": [
    "weather"
   ]
  },
  {
   "cell_type": "code",
   "execution_count": 17,
   "id": "bc57b711",
   "metadata": {},
   "outputs": [
    {
     "name": "stdout",
     "output_type": "stream",
     "text": [
      "26.92\n",
      "-4.61\n"
     ]
    }
   ],
   "source": [
    "print(weather[\"temp\"].max())\n",
    "print(weather[\"temp\"].min())"
   ]
  },
  {
   "cell_type": "code",
   "execution_count": 18,
   "id": "71c27fc9",
   "metadata": {},
   "outputs": [
    {
     "data": {
      "text/plain": [
       "dt                       int64\n",
       "temp                   float64\n",
       "visibility             float64\n",
       "wind_speed             float64\n",
       "weather_main            object\n",
       "weather_description     object\n",
       "weather_icon            object\n",
       "dtype: object"
      ]
     },
     "execution_count": 18,
     "metadata": {},
     "output_type": "execute_result"
    }
   ],
   "source": [
    "weather.dtypes"
   ]
  },
  {
   "cell_type": "code",
   "execution_count": 19,
   "id": "cc42cf7d",
   "metadata": {},
   "outputs": [],
   "source": [
    "dupli_epoch = weather[weather.duplicated(['dt'])]\n"
   ]
  },
  {
   "cell_type": "code",
   "execution_count": 20,
   "id": "50096231",
   "metadata": {},
   "outputs": [
    {
     "data": {
      "text/html": [
       "<div>\n",
       "<style scoped>\n",
       "    .dataframe tbody tr th:only-of-type {\n",
       "        vertical-align: middle;\n",
       "    }\n",
       "\n",
       "    .dataframe tbody tr th {\n",
       "        vertical-align: top;\n",
       "    }\n",
       "\n",
       "    .dataframe thead th {\n",
       "        text-align: right;\n",
       "    }\n",
       "</style>\n",
       "<table border=\"1\" class=\"dataframe\">\n",
       "  <thead>\n",
       "    <tr style=\"text-align: right;\">\n",
       "      <th></th>\n",
       "      <th>dt</th>\n",
       "      <th>temp</th>\n",
       "      <th>visibility</th>\n",
       "      <th>wind_speed</th>\n",
       "      <th>weather_main</th>\n",
       "      <th>weather_description</th>\n",
       "      <th>weather_icon</th>\n",
       "    </tr>\n",
       "  </thead>\n",
       "  <tbody>\n",
       "    <tr>\n",
       "      <th>135</th>\n",
       "      <td>1483711200</td>\n",
       "      <td>11.39</td>\n",
       "      <td>9000.0</td>\n",
       "      <td>6.70</td>\n",
       "      <td>Rain</td>\n",
       "      <td>light rain</td>\n",
       "      <td>10d</td>\n",
       "    </tr>\n",
       "    <tr>\n",
       "      <th>137</th>\n",
       "      <td>1483714800</td>\n",
       "      <td>11.39</td>\n",
       "      <td>9999.0</td>\n",
       "      <td>6.20</td>\n",
       "      <td>Rain</td>\n",
       "      <td>light rain</td>\n",
       "      <td>10d</td>\n",
       "    </tr>\n",
       "    <tr>\n",
       "      <th>139</th>\n",
       "      <td>1483718400</td>\n",
       "      <td>11.92</td>\n",
       "      <td>9999.0</td>\n",
       "      <td>6.70</td>\n",
       "      <td>Rain</td>\n",
       "      <td>light rain</td>\n",
       "      <td>10d</td>\n",
       "    </tr>\n",
       "    <tr>\n",
       "      <th>199</th>\n",
       "      <td>1483930800</td>\n",
       "      <td>9.39</td>\n",
       "      <td>9999.0</td>\n",
       "      <td>9.80</td>\n",
       "      <td>Drizzle</td>\n",
       "      <td>light intensity drizzle</td>\n",
       "      <td>09n</td>\n",
       "    </tr>\n",
       "    <tr>\n",
       "      <th>655</th>\n",
       "      <td>1485568800</td>\n",
       "      <td>6.00</td>\n",
       "      <td>9999.0</td>\n",
       "      <td>2.60</td>\n",
       "      <td>Rain</td>\n",
       "      <td>light rain</td>\n",
       "      <td>10n</td>\n",
       "    </tr>\n",
       "    <tr>\n",
       "      <th>...</th>\n",
       "      <td>...</td>\n",
       "      <td>...</td>\n",
       "      <td>...</td>\n",
       "      <td>...</td>\n",
       "      <td>...</td>\n",
       "      <td>...</td>\n",
       "      <td>...</td>\n",
       "    </tr>\n",
       "    <tr>\n",
       "      <th>27002</th>\n",
       "      <td>1577188800</td>\n",
       "      <td>7.48</td>\n",
       "      <td>9000.0</td>\n",
       "      <td>0.89</td>\n",
       "      <td>Rain</td>\n",
       "      <td>light rain</td>\n",
       "      <td>10d</td>\n",
       "    </tr>\n",
       "    <tr>\n",
       "      <th>27062</th>\n",
       "      <td>1577401200</td>\n",
       "      <td>8.62</td>\n",
       "      <td>8000.0</td>\n",
       "      <td>3.10</td>\n",
       "      <td>Rain</td>\n",
       "      <td>light rain</td>\n",
       "      <td>10n</td>\n",
       "    </tr>\n",
       "    <tr>\n",
       "      <th>27064</th>\n",
       "      <td>1577404800</td>\n",
       "      <td>8.43</td>\n",
       "      <td>8000.0</td>\n",
       "      <td>2.10</td>\n",
       "      <td>Rain</td>\n",
       "      <td>light rain</td>\n",
       "      <td>10n</td>\n",
       "    </tr>\n",
       "    <tr>\n",
       "      <th>27066</th>\n",
       "      <td>1577408400</td>\n",
       "      <td>8.70</td>\n",
       "      <td>5000.0</td>\n",
       "      <td>3.10</td>\n",
       "      <td>Rain</td>\n",
       "      <td>light rain</td>\n",
       "      <td>10n</td>\n",
       "    </tr>\n",
       "    <tr>\n",
       "      <th>27068</th>\n",
       "      <td>1577412000</td>\n",
       "      <td>8.78</td>\n",
       "      <td>8000.0</td>\n",
       "      <td>3.10</td>\n",
       "      <td>Rain</td>\n",
       "      <td>light rain</td>\n",
       "      <td>10n</td>\n",
       "    </tr>\n",
       "  </tbody>\n",
       "</table>\n",
       "<p>906 rows × 7 columns</p>\n",
       "</div>"
      ],
      "text/plain": [
       "               dt   temp  visibility  wind_speed weather_main  \\\n",
       "135    1483711200  11.39      9000.0        6.70         Rain   \n",
       "137    1483714800  11.39      9999.0        6.20         Rain   \n",
       "139    1483718400  11.92      9999.0        6.70         Rain   \n",
       "199    1483930800   9.39      9999.0        9.80      Drizzle   \n",
       "655    1485568800   6.00      9999.0        2.60         Rain   \n",
       "...           ...    ...         ...         ...          ...   \n",
       "27002  1577188800   7.48      9000.0        0.89         Rain   \n",
       "27062  1577401200   8.62      8000.0        3.10         Rain   \n",
       "27064  1577404800   8.43      8000.0        2.10         Rain   \n",
       "27066  1577408400   8.70      5000.0        3.10         Rain   \n",
       "27068  1577412000   8.78      8000.0        3.10         Rain   \n",
       "\n",
       "           weather_description weather_icon  \n",
       "135                 light rain          10d  \n",
       "137                 light rain          10d  \n",
       "139                 light rain          10d  \n",
       "199    light intensity drizzle          09n  \n",
       "655                 light rain          10n  \n",
       "...                        ...          ...  \n",
       "27002               light rain          10d  \n",
       "27062               light rain          10n  \n",
       "27064               light rain          10n  \n",
       "27066               light rain          10n  \n",
       "27068               light rain          10n  \n",
       "\n",
       "[906 rows x 7 columns]"
      ]
     },
     "execution_count": 20,
     "metadata": {},
     "output_type": "execute_result"
    }
   ],
   "source": [
    "dupli_epoch"
   ]
  },
  {
   "cell_type": "code",
   "execution_count": 21,
   "id": "0dcd9793",
   "metadata": {},
   "outputs": [
    {
     "name": "stdout",
     "output_type": "stream",
     "text": [
      "             dt   temp  visibility  wind_speed weather_main  \\\n",
      "134  1483711200  11.39      9000.0         6.7      Drizzle   \n",
      "135  1483711200  11.39      9000.0         6.7         Rain   \n",
      "\n",
      "              weather_description weather_icon  \n",
      "134  light intensity drizzle rain          09d  \n",
      "135                    light rain          10d  \n",
      "             dt   temp  visibility  wind_speed weather_main  \\\n",
      "138  1483718400  11.92      9999.0         6.7      Drizzle   \n",
      "139  1483718400  11.92      9999.0         6.7         Rain   \n",
      "\n",
      "              weather_description weather_icon  \n",
      "138  light intensity drizzle rain          09d  \n",
      "139                    light rain          10d  \n",
      "             dt   temp  visibility  wind_speed weather_main  \\\n",
      "134  1483711200  11.39      9000.0         6.7      Drizzle   \n",
      "135  1483711200  11.39      9000.0         6.7         Rain   \n",
      "\n",
      "              weather_description weather_icon  \n",
      "134  light intensity drizzle rain          09d  \n",
      "135                    light rain          10d  \n",
      "             dt  temp  visibility  wind_speed weather_main  \\\n",
      "198  1483930800  9.39      9999.0         9.8         Rain   \n",
      "199  1483930800  9.39      9999.0         9.8      Drizzle   \n",
      "\n",
      "         weather_description weather_icon  \n",
      "198               light rain          10n  \n",
      "199  light intensity drizzle          09n  \n",
      "               dt  temp  visibility  wind_speed weather_main  \\\n",
      "27063  1577404800  8.43      8000.0         2.1      Drizzle   \n",
      "27064  1577404800  8.43      8000.0         2.1         Rain   \n",
      "\n",
      "           weather_description weather_icon  \n",
      "27063  light intensity drizzle          09n  \n",
      "27064               light rain          10n  \n",
      "               dt  temp  visibility  wind_speed weather_main  \\\n",
      "27067  1577412000  8.78      8000.0         3.1      Drizzle   \n",
      "27068  1577412000  8.78      8000.0         3.1         Rain   \n",
      "\n",
      "                weather_description weather_icon  \n",
      "27067  light intensity drizzle rain          09n  \n",
      "27068                    light rain          10n  \n"
     ]
    }
   ],
   "source": [
    "dupliexamine_epoch = weather.loc[weather['dt'] == 1483711200]\n",
    "print(dupliexamine_epoch)\n",
    "dupliexamine_epoch = weather.loc[weather['dt'] == 1483718400]\n",
    "print(dupliexamine_epoch)\n",
    "dupliexamine_epoch = weather.loc[weather['dt'] == 1483711200]\n",
    "print(dupliexamine_epoch)\n",
    "dupliexamine_epoch = weather.loc[weather['dt'] == 1483930800]\n",
    "print(dupliexamine_epoch)\n",
    "dupliexamine_epoch = weather.loc[weather['dt'] == 1577404800]\n",
    "print(dupliexamine_epoch)\n",
    "dupliexamine_epoch = weather.loc[weather['dt'] == 1577412000]\n",
    "print(dupliexamine_epoch)"
   ]
  },
  {
   "cell_type": "markdown",
   "id": "2f6bbd8d",
   "metadata": {},
   "source": [
    "- duplicates are all basically the same with slight variations in the final 2 columns so are not worth keeping in"
   ]
  },
  {
   "cell_type": "code",
   "execution_count": 22,
   "id": "7a295791",
   "metadata": {},
   "outputs": [],
   "source": [
    "weather = weather.drop_duplicates(subset=['dt'])\n"
   ]
  },
  {
   "cell_type": "code",
   "execution_count": 23,
   "id": "0aee338d",
   "metadata": {},
   "outputs": [
    {
     "data": {
      "text/html": [
       "<div>\n",
       "<style scoped>\n",
       "    .dataframe tbody tr th:only-of-type {\n",
       "        vertical-align: middle;\n",
       "    }\n",
       "\n",
       "    .dataframe tbody tr th {\n",
       "        vertical-align: top;\n",
       "    }\n",
       "\n",
       "    .dataframe thead th {\n",
       "        text-align: right;\n",
       "    }\n",
       "</style>\n",
       "<table border=\"1\" class=\"dataframe\">\n",
       "  <thead>\n",
       "    <tr style=\"text-align: right;\">\n",
       "      <th></th>\n",
       "      <th>dt</th>\n",
       "      <th>temp</th>\n",
       "      <th>visibility</th>\n",
       "      <th>wind_speed</th>\n",
       "      <th>weather_main</th>\n",
       "      <th>weather_description</th>\n",
       "      <th>weather_icon</th>\n",
       "    </tr>\n",
       "  </thead>\n",
       "  <tbody>\n",
       "    <tr>\n",
       "      <th>130</th>\n",
       "      <td>1483696800</td>\n",
       "      <td>10.44</td>\n",
       "      <td>8000.0</td>\n",
       "      <td>6.0</td>\n",
       "      <td>Rain</td>\n",
       "      <td>light rain</td>\n",
       "      <td>10d</td>\n",
       "    </tr>\n",
       "    <tr>\n",
       "      <th>131</th>\n",
       "      <td>1483700400</td>\n",
       "      <td>11.39</td>\n",
       "      <td>9999.0</td>\n",
       "      <td>4.6</td>\n",
       "      <td>Rain</td>\n",
       "      <td>light rain</td>\n",
       "      <td>10d</td>\n",
       "    </tr>\n",
       "    <tr>\n",
       "      <th>132</th>\n",
       "      <td>1483704000</td>\n",
       "      <td>11.39</td>\n",
       "      <td>9999.0</td>\n",
       "      <td>6.2</td>\n",
       "      <td>Clouds</td>\n",
       "      <td>broken clouds</td>\n",
       "      <td>04d</td>\n",
       "    </tr>\n",
       "    <tr>\n",
       "      <th>133</th>\n",
       "      <td>1483707600</td>\n",
       "      <td>11.39</td>\n",
       "      <td>9999.0</td>\n",
       "      <td>7.2</td>\n",
       "      <td>Rain</td>\n",
       "      <td>light rain</td>\n",
       "      <td>10d</td>\n",
       "    </tr>\n",
       "    <tr>\n",
       "      <th>134</th>\n",
       "      <td>1483711200</td>\n",
       "      <td>11.39</td>\n",
       "      <td>9000.0</td>\n",
       "      <td>6.7</td>\n",
       "      <td>Drizzle</td>\n",
       "      <td>light intensity drizzle rain</td>\n",
       "      <td>09d</td>\n",
       "    </tr>\n",
       "    <tr>\n",
       "      <th>136</th>\n",
       "      <td>1483714800</td>\n",
       "      <td>11.39</td>\n",
       "      <td>9999.0</td>\n",
       "      <td>6.2</td>\n",
       "      <td>Drizzle</td>\n",
       "      <td>light intensity drizzle rain</td>\n",
       "      <td>09d</td>\n",
       "    </tr>\n",
       "    <tr>\n",
       "      <th>138</th>\n",
       "      <td>1483718400</td>\n",
       "      <td>11.92</td>\n",
       "      <td>9999.0</td>\n",
       "      <td>6.7</td>\n",
       "      <td>Drizzle</td>\n",
       "      <td>light intensity drizzle rain</td>\n",
       "      <td>09d</td>\n",
       "    </tr>\n",
       "    <tr>\n",
       "      <th>140</th>\n",
       "      <td>1483722000</td>\n",
       "      <td>11.92</td>\n",
       "      <td>9999.0</td>\n",
       "      <td>6.2</td>\n",
       "      <td>Drizzle</td>\n",
       "      <td>light intensity drizzle</td>\n",
       "      <td>09n</td>\n",
       "    </tr>\n",
       "  </tbody>\n",
       "</table>\n",
       "</div>"
      ],
      "text/plain": [
       "             dt   temp  visibility  wind_speed weather_main  \\\n",
       "130  1483696800  10.44      8000.0         6.0         Rain   \n",
       "131  1483700400  11.39      9999.0         4.6         Rain   \n",
       "132  1483704000  11.39      9999.0         6.2       Clouds   \n",
       "133  1483707600  11.39      9999.0         7.2         Rain   \n",
       "134  1483711200  11.39      9000.0         6.7      Drizzle   \n",
       "136  1483714800  11.39      9999.0         6.2      Drizzle   \n",
       "138  1483718400  11.92      9999.0         6.7      Drizzle   \n",
       "140  1483722000  11.92      9999.0         6.2      Drizzle   \n",
       "\n",
       "              weather_description weather_icon  \n",
       "130                    light rain          10d  \n",
       "131                    light rain          10d  \n",
       "132                 broken clouds          04d  \n",
       "133                    light rain          10d  \n",
       "134  light intensity drizzle rain          09d  \n",
       "136  light intensity drizzle rain          09d  \n",
       "138  light intensity drizzle rain          09d  \n",
       "140       light intensity drizzle          09n  "
      ]
     },
     "execution_count": 23,
     "metadata": {},
     "output_type": "execute_result"
    }
   ],
   "source": [
    "weather.loc[130:140]\n",
    "#check to see drop happnened\n",
    "# 135 should be gone"
   ]
  },
  {
   "cell_type": "code",
   "execution_count": 24,
   "id": "8d717381",
   "metadata": {},
   "outputs": [],
   "source": [
    "weather=weather.reset_index(drop=True)"
   ]
  },
  {
   "cell_type": "code",
   "execution_count": 25,
   "id": "d2c411fc",
   "metadata": {},
   "outputs": [
    {
     "data": {
      "text/plain": [
       "22.1"
      ]
     },
     "execution_count": 25,
     "metadata": {},
     "output_type": "execute_result"
    }
   ],
   "source": [
    "weather.wind_speed.max()"
   ]
  },
  {
   "cell_type": "code",
   "execution_count": 26,
   "id": "d15f7614",
   "metadata": {},
   "outputs": [
    {
     "data": {
      "text/plain": [
       "0.0"
      ]
     },
     "execution_count": 26,
     "metadata": {},
     "output_type": "execute_result"
    }
   ],
   "source": [
    "weather.wind_speed.min()"
   ]
  },
  {
   "cell_type": "markdown",
   "id": "88507c17",
   "metadata": {},
   "source": [
    "- must be in miles per hour"
   ]
  },
  {
   "cell_type": "code",
   "execution_count": 27,
   "id": "ec1ead50",
   "metadata": {},
   "outputs": [],
   "source": [
    "#  unfactorised one meant for analysing the features\n",
    "#weather.to_csv('./weather_trips.csv')"
   ]
  },
  {
   "cell_type": "code",
   "execution_count": 28,
   "id": "cbdb3d39",
   "metadata": {},
   "outputs": [],
   "source": [
    "# function for rounding \n",
    "def round_int(x, base):\n",
    "    return int(base * round(float(x)/base))\n",
    "\n",
    "weather['temp'] = weather['temp'].apply(lambda x: round_int(x, base=1))\n"
   ]
  },
  {
   "cell_type": "code",
   "execution_count": 29,
   "id": "bba6bf28",
   "metadata": {},
   "outputs": [
    {
     "data": {
      "text/html": [
       "<div>\n",
       "<style scoped>\n",
       "    .dataframe tbody tr th:only-of-type {\n",
       "        vertical-align: middle;\n",
       "    }\n",
       "\n",
       "    .dataframe tbody tr th {\n",
       "        vertical-align: top;\n",
       "    }\n",
       "\n",
       "    .dataframe thead th {\n",
       "        text-align: right;\n",
       "    }\n",
       "</style>\n",
       "<table border=\"1\" class=\"dataframe\">\n",
       "  <thead>\n",
       "    <tr style=\"text-align: right;\">\n",
       "      <th></th>\n",
       "      <th>dt</th>\n",
       "      <th>temp</th>\n",
       "      <th>visibility</th>\n",
       "      <th>wind_speed</th>\n",
       "      <th>weather_main</th>\n",
       "      <th>weather_description</th>\n",
       "      <th>weather_icon</th>\n",
       "    </tr>\n",
       "  </thead>\n",
       "  <tbody>\n",
       "    <tr>\n",
       "      <th>0</th>\n",
       "      <td>1483228800</td>\n",
       "      <td>5</td>\n",
       "      <td>9999.0</td>\n",
       "      <td>5.1</td>\n",
       "      <td>Rain</td>\n",
       "      <td>moderate rain</td>\n",
       "      <td>10n</td>\n",
       "    </tr>\n",
       "    <tr>\n",
       "      <th>1</th>\n",
       "      <td>1483232400</td>\n",
       "      <td>5</td>\n",
       "      <td>9999.0</td>\n",
       "      <td>4.1</td>\n",
       "      <td>Rain</td>\n",
       "      <td>moderate rain</td>\n",
       "      <td>10n</td>\n",
       "    </tr>\n",
       "    <tr>\n",
       "      <th>2</th>\n",
       "      <td>1483236000</td>\n",
       "      <td>5</td>\n",
       "      <td>9999.0</td>\n",
       "      <td>4.1</td>\n",
       "      <td>Rain</td>\n",
       "      <td>light rain</td>\n",
       "      <td>10n</td>\n",
       "    </tr>\n",
       "    <tr>\n",
       "      <th>3</th>\n",
       "      <td>1483239600</td>\n",
       "      <td>4</td>\n",
       "      <td>9999.0</td>\n",
       "      <td>6.2</td>\n",
       "      <td>Rain</td>\n",
       "      <td>light rain</td>\n",
       "      <td>10n</td>\n",
       "    </tr>\n",
       "    <tr>\n",
       "      <th>4</th>\n",
       "      <td>1483243200</td>\n",
       "      <td>4</td>\n",
       "      <td>9999.0</td>\n",
       "      <td>6.2</td>\n",
       "      <td>Clouds</td>\n",
       "      <td>broken clouds</td>\n",
       "      <td>04n</td>\n",
       "    </tr>\n",
       "  </tbody>\n",
       "</table>\n",
       "</div>"
      ],
      "text/plain": [
       "           dt  temp  visibility  wind_speed weather_main weather_description  \\\n",
       "0  1483228800     5      9999.0         5.1         Rain       moderate rain   \n",
       "1  1483232400     5      9999.0         4.1         Rain       moderate rain   \n",
       "2  1483236000     5      9999.0         4.1         Rain          light rain   \n",
       "3  1483239600     4      9999.0         6.2         Rain          light rain   \n",
       "4  1483243200     4      9999.0         6.2       Clouds       broken clouds   \n",
       "\n",
       "  weather_icon  \n",
       "0          10n  \n",
       "1          10n  \n",
       "2          10n  \n",
       "3          10n  \n",
       "4          04n  "
      ]
     },
     "execution_count": 29,
     "metadata": {},
     "output_type": "execute_result"
    }
   ],
   "source": [
    "weather.head()"
   ]
  },
  {
   "cell_type": "code",
   "execution_count": 30,
   "id": "efc0508e",
   "metadata": {},
   "outputs": [
    {
     "data": {
      "text/plain": [
       "27"
      ]
     },
     "execution_count": 30,
     "metadata": {},
     "output_type": "execute_result"
    }
   ],
   "source": [
    "weather.temp.max()"
   ]
  },
  {
   "cell_type": "code",
   "execution_count": 31,
   "id": "fef0f459",
   "metadata": {},
   "outputs": [
    {
     "data": {
      "text/plain": [
       "-5"
      ]
     },
     "execution_count": 31,
     "metadata": {},
     "output_type": "execute_result"
    }
   ],
   "source": [
    "weather.temp.min()"
   ]
  },
  {
   "cell_type": "code",
   "execution_count": 32,
   "id": "7fea98ab",
   "metadata": {},
   "outputs": [
    {
     "data": {
      "text/html": [
       "<div>\n",
       "<style scoped>\n",
       "    .dataframe tbody tr th:only-of-type {\n",
       "        vertical-align: middle;\n",
       "    }\n",
       "\n",
       "    .dataframe tbody tr th {\n",
       "        vertical-align: top;\n",
       "    }\n",
       "\n",
       "    .dataframe thead th {\n",
       "        text-align: right;\n",
       "    }\n",
       "</style>\n",
       "<table border=\"1\" class=\"dataframe\">\n",
       "  <thead>\n",
       "    <tr style=\"text-align: right;\">\n",
       "      <th></th>\n",
       "      <th>dt</th>\n",
       "      <th>temp</th>\n",
       "      <th>visibility</th>\n",
       "      <th>wind_speed</th>\n",
       "      <th>weather_main</th>\n",
       "      <th>weather_description</th>\n",
       "      <th>weather_icon</th>\n",
       "    </tr>\n",
       "  </thead>\n",
       "  <tbody>\n",
       "    <tr>\n",
       "      <th>0</th>\n",
       "      <td>1483228800</td>\n",
       "      <td>5</td>\n",
       "      <td>9999.0</td>\n",
       "      <td>5.1</td>\n",
       "      <td>Rain</td>\n",
       "      <td>moderate rain</td>\n",
       "      <td>10n</td>\n",
       "    </tr>\n",
       "    <tr>\n",
       "      <th>1</th>\n",
       "      <td>1483232400</td>\n",
       "      <td>5</td>\n",
       "      <td>9999.0</td>\n",
       "      <td>4.1</td>\n",
       "      <td>Rain</td>\n",
       "      <td>moderate rain</td>\n",
       "      <td>10n</td>\n",
       "    </tr>\n",
       "    <tr>\n",
       "      <th>2</th>\n",
       "      <td>1483236000</td>\n",
       "      <td>5</td>\n",
       "      <td>9999.0</td>\n",
       "      <td>4.1</td>\n",
       "      <td>Rain</td>\n",
       "      <td>light rain</td>\n",
       "      <td>10n</td>\n",
       "    </tr>\n",
       "    <tr>\n",
       "      <th>3</th>\n",
       "      <td>1483239600</td>\n",
       "      <td>4</td>\n",
       "      <td>9999.0</td>\n",
       "      <td>6.2</td>\n",
       "      <td>Rain</td>\n",
       "      <td>light rain</td>\n",
       "      <td>10n</td>\n",
       "    </tr>\n",
       "    <tr>\n",
       "      <th>4</th>\n",
       "      <td>1483243200</td>\n",
       "      <td>4</td>\n",
       "      <td>9999.0</td>\n",
       "      <td>6.2</td>\n",
       "      <td>Clouds</td>\n",
       "      <td>broken clouds</td>\n",
       "      <td>04n</td>\n",
       "    </tr>\n",
       "    <tr>\n",
       "      <th>5</th>\n",
       "      <td>1483246800</td>\n",
       "      <td>3</td>\n",
       "      <td>9999.0</td>\n",
       "      <td>6.2</td>\n",
       "      <td>Clouds</td>\n",
       "      <td>scattered clouds</td>\n",
       "      <td>03n</td>\n",
       "    </tr>\n",
       "    <tr>\n",
       "      <th>6</th>\n",
       "      <td>1483250400</td>\n",
       "      <td>2</td>\n",
       "      <td>9999.0</td>\n",
       "      <td>5.7</td>\n",
       "      <td>Clouds</td>\n",
       "      <td>few clouds</td>\n",
       "      <td>02n</td>\n",
       "    </tr>\n",
       "    <tr>\n",
       "      <th>7</th>\n",
       "      <td>1483254000</td>\n",
       "      <td>2</td>\n",
       "      <td>9999.0</td>\n",
       "      <td>6.7</td>\n",
       "      <td>Clouds</td>\n",
       "      <td>few clouds</td>\n",
       "      <td>02n</td>\n",
       "    </tr>\n",
       "    <tr>\n",
       "      <th>8</th>\n",
       "      <td>1483257600</td>\n",
       "      <td>2</td>\n",
       "      <td>9999.0</td>\n",
       "      <td>6.2</td>\n",
       "      <td>Clouds</td>\n",
       "      <td>few clouds</td>\n",
       "      <td>02n</td>\n",
       "    </tr>\n",
       "    <tr>\n",
       "      <th>9</th>\n",
       "      <td>1483261200</td>\n",
       "      <td>3</td>\n",
       "      <td>9999.0</td>\n",
       "      <td>5.7</td>\n",
       "      <td>Clouds</td>\n",
       "      <td>few clouds</td>\n",
       "      <td>02d</td>\n",
       "    </tr>\n",
       "  </tbody>\n",
       "</table>\n",
       "</div>"
      ],
      "text/plain": [
       "           dt  temp  visibility  wind_speed weather_main weather_description  \\\n",
       "0  1483228800     5      9999.0         5.1         Rain       moderate rain   \n",
       "1  1483232400     5      9999.0         4.1         Rain       moderate rain   \n",
       "2  1483236000     5      9999.0         4.1         Rain          light rain   \n",
       "3  1483239600     4      9999.0         6.2         Rain          light rain   \n",
       "4  1483243200     4      9999.0         6.2       Clouds       broken clouds   \n",
       "5  1483246800     3      9999.0         6.2       Clouds    scattered clouds   \n",
       "6  1483250400     2      9999.0         5.7       Clouds          few clouds   \n",
       "7  1483254000     2      9999.0         6.7       Clouds          few clouds   \n",
       "8  1483257600     2      9999.0         6.2       Clouds          few clouds   \n",
       "9  1483261200     3      9999.0         5.7       Clouds          few clouds   \n",
       "\n",
       "  weather_icon  \n",
       "0          10n  \n",
       "1          10n  \n",
       "2          10n  \n",
       "3          10n  \n",
       "4          04n  \n",
       "5          03n  \n",
       "6          02n  \n",
       "7          02n  \n",
       "8          02n  \n",
       "9          02d  "
      ]
     },
     "execution_count": 32,
     "metadata": {},
     "output_type": "execute_result"
    }
   ],
   "source": [
    "weather.head(10)"
   ]
  },
  {
   "cell_type": "code",
   "execution_count": 33,
   "id": "509a1f6b",
   "metadata": {},
   "outputs": [
    {
     "data": {
      "text/plain": [
       "dt                      0\n",
       "temp                    0\n",
       "visibility             45\n",
       "wind_speed              0\n",
       "weather_main            0\n",
       "weather_description     0\n",
       "weather_icon            0\n",
       "dtype: int64"
      ]
     },
     "execution_count": 33,
     "metadata": {},
     "output_type": "execute_result"
    }
   ],
   "source": [
    "weather.isnull().sum()"
   ]
  },
  {
   "cell_type": "markdown",
   "id": "d6eb0ece",
   "metadata": {},
   "source": [
    "- set as minus 1 so that rows wont need to be dropped as it may be an issue with joining if certain times are missing"
   ]
  },
  {
   "cell_type": "code",
   "execution_count": 34,
   "id": "f84d039f",
   "metadata": {},
   "outputs": [
    {
     "data": {
      "text/plain": [
       "dt                     0\n",
       "temp                   0\n",
       "visibility             0\n",
       "wind_speed             0\n",
       "weather_main           0\n",
       "weather_description    0\n",
       "weather_icon           0\n",
       "dtype: int64"
      ]
     },
     "execution_count": 34,
     "metadata": {},
     "output_type": "execute_result"
    }
   ],
   "source": [
    "weather['visibility'] = weather['visibility'].fillna(-1)\n",
    "weather.isnull().sum()"
   ]
  },
  {
   "cell_type": "code",
   "execution_count": 35,
   "id": "b82e83a5",
   "metadata": {},
   "outputs": [
    {
     "data": {
      "text/plain": [
       "46"
      ]
     },
     "execution_count": 35,
     "metadata": {},
     "output_type": "execute_result"
    }
   ],
   "source": [
    "weather['visibility'].nunique()"
   ]
  },
  {
   "cell_type": "markdown",
   "id": "5189966d",
   "metadata": {},
   "source": [
    "- using visibility has potential problems as it's not clear yet whether the data we will use for real time will match the format. \n",
    "- after check with the results in the data analysis the feature was not sufficiently important to justify keeping."
   ]
  },
  {
   "cell_type": "code",
   "execution_count": 36,
   "id": "7f257584",
   "metadata": {},
   "outputs": [],
   "source": [
    "weather = weather.drop([\"visibility\"], axis=1)"
   ]
  },
  {
   "cell_type": "code",
   "execution_count": 37,
   "id": "f80c3d28",
   "metadata": {},
   "outputs": [
    {
     "data": {
      "text/plain": [
       "dt                     26280\n",
       "temp                      33\n",
       "wind_speed               101\n",
       "weather_main              10\n",
       "weather_description       29\n",
       "weather_icon              17\n",
       "dtype: int64"
      ]
     },
     "execution_count": 37,
     "metadata": {},
     "output_type": "execute_result"
    }
   ],
   "source": [
    "weather.nunique()"
   ]
  },
  {
   "cell_type": "code",
   "execution_count": 38,
   "id": "0da40023",
   "metadata": {},
   "outputs": [
    {
     "name": "stdout",
     "output_type": "stream",
     "text": [
      "22.1\n",
      "0.0\n"
     ]
    }
   ],
   "source": [
    "max_wind = weather[\"wind_speed\"].max()\n",
    "min_wind = weather[\"wind_speed\"].min()\n",
    "\n",
    "print(max_wind)\n",
    "print(min_wind)"
   ]
  },
  {
   "cell_type": "code",
   "execution_count": 39,
   "id": "ecfdff6d",
   "metadata": {},
   "outputs": [],
   "source": [
    "weather[\"wind_speed\"] = weather[\"wind_speed\"].apply(lambda x: round_int(x, base=2))"
   ]
  },
  {
   "cell_type": "code",
   "execution_count": 40,
   "id": "33b53438",
   "metadata": {},
   "outputs": [
    {
     "name": "stdout",
     "output_type": "stream",
     "text": [
      "22\n",
      "0\n"
     ]
    }
   ],
   "source": [
    "max_wind = weather[\"wind_speed\"].max()\n",
    "min_wind = weather[\"wind_speed\"].min()\n",
    "\n",
    "print(max_wind)\n",
    "print(min_wind)"
   ]
  },
  {
   "cell_type": "code",
   "execution_count": 41,
   "id": "36150594",
   "metadata": {},
   "outputs": [],
   "source": [
    "#weather[\"wind_speed\"] = pd.factorize(weather[\"wind_speed\"], sort=True)[0]"
   ]
  },
  {
   "cell_type": "code",
   "execution_count": 42,
   "id": "60e26eef",
   "metadata": {},
   "outputs": [
    {
     "data": {
      "text/html": [
       "<div>\n",
       "<style scoped>\n",
       "    .dataframe tbody tr th:only-of-type {\n",
       "        vertical-align: middle;\n",
       "    }\n",
       "\n",
       "    .dataframe tbody tr th {\n",
       "        vertical-align: top;\n",
       "    }\n",
       "\n",
       "    .dataframe thead th {\n",
       "        text-align: right;\n",
       "    }\n",
       "</style>\n",
       "<table border=\"1\" class=\"dataframe\">\n",
       "  <thead>\n",
       "    <tr style=\"text-align: right;\">\n",
       "      <th></th>\n",
       "      <th>dt</th>\n",
       "      <th>temp</th>\n",
       "      <th>wind_speed</th>\n",
       "      <th>weather_main</th>\n",
       "      <th>weather_description</th>\n",
       "      <th>weather_icon</th>\n",
       "    </tr>\n",
       "  </thead>\n",
       "  <tbody>\n",
       "    <tr>\n",
       "      <th>0</th>\n",
       "      <td>1483228800</td>\n",
       "      <td>5</td>\n",
       "      <td>6</td>\n",
       "      <td>Rain</td>\n",
       "      <td>moderate rain</td>\n",
       "      <td>10n</td>\n",
       "    </tr>\n",
       "    <tr>\n",
       "      <th>1</th>\n",
       "      <td>1483232400</td>\n",
       "      <td>5</td>\n",
       "      <td>4</td>\n",
       "      <td>Rain</td>\n",
       "      <td>moderate rain</td>\n",
       "      <td>10n</td>\n",
       "    </tr>\n",
       "    <tr>\n",
       "      <th>2</th>\n",
       "      <td>1483236000</td>\n",
       "      <td>5</td>\n",
       "      <td>4</td>\n",
       "      <td>Rain</td>\n",
       "      <td>light rain</td>\n",
       "      <td>10n</td>\n",
       "    </tr>\n",
       "    <tr>\n",
       "      <th>3</th>\n",
       "      <td>1483239600</td>\n",
       "      <td>4</td>\n",
       "      <td>6</td>\n",
       "      <td>Rain</td>\n",
       "      <td>light rain</td>\n",
       "      <td>10n</td>\n",
       "    </tr>\n",
       "    <tr>\n",
       "      <th>4</th>\n",
       "      <td>1483243200</td>\n",
       "      <td>4</td>\n",
       "      <td>6</td>\n",
       "      <td>Clouds</td>\n",
       "      <td>broken clouds</td>\n",
       "      <td>04n</td>\n",
       "    </tr>\n",
       "    <tr>\n",
       "      <th>5</th>\n",
       "      <td>1483246800</td>\n",
       "      <td>3</td>\n",
       "      <td>6</td>\n",
       "      <td>Clouds</td>\n",
       "      <td>scattered clouds</td>\n",
       "      <td>03n</td>\n",
       "    </tr>\n",
       "    <tr>\n",
       "      <th>6</th>\n",
       "      <td>1483250400</td>\n",
       "      <td>2</td>\n",
       "      <td>6</td>\n",
       "      <td>Clouds</td>\n",
       "      <td>few clouds</td>\n",
       "      <td>02n</td>\n",
       "    </tr>\n",
       "    <tr>\n",
       "      <th>7</th>\n",
       "      <td>1483254000</td>\n",
       "      <td>2</td>\n",
       "      <td>6</td>\n",
       "      <td>Clouds</td>\n",
       "      <td>few clouds</td>\n",
       "      <td>02n</td>\n",
       "    </tr>\n",
       "    <tr>\n",
       "      <th>8</th>\n",
       "      <td>1483257600</td>\n",
       "      <td>2</td>\n",
       "      <td>6</td>\n",
       "      <td>Clouds</td>\n",
       "      <td>few clouds</td>\n",
       "      <td>02n</td>\n",
       "    </tr>\n",
       "    <tr>\n",
       "      <th>9</th>\n",
       "      <td>1483261200</td>\n",
       "      <td>3</td>\n",
       "      <td>6</td>\n",
       "      <td>Clouds</td>\n",
       "      <td>few clouds</td>\n",
       "      <td>02d</td>\n",
       "    </tr>\n",
       "  </tbody>\n",
       "</table>\n",
       "</div>"
      ],
      "text/plain": [
       "           dt  temp  wind_speed weather_main weather_description weather_icon\n",
       "0  1483228800     5           6         Rain       moderate rain          10n\n",
       "1  1483232400     5           4         Rain       moderate rain          10n\n",
       "2  1483236000     5           4         Rain          light rain          10n\n",
       "3  1483239600     4           6         Rain          light rain          10n\n",
       "4  1483243200     4           6       Clouds       broken clouds          04n\n",
       "5  1483246800     3           6       Clouds    scattered clouds          03n\n",
       "6  1483250400     2           6       Clouds          few clouds          02n\n",
       "7  1483254000     2           6       Clouds          few clouds          02n\n",
       "8  1483257600     2           6       Clouds          few clouds          02n\n",
       "9  1483261200     3           6       Clouds          few clouds          02d"
      ]
     },
     "execution_count": 42,
     "metadata": {},
     "output_type": "execute_result"
    }
   ],
   "source": [
    "weather.head(10)"
   ]
  },
  {
   "cell_type": "code",
   "execution_count": 43,
   "id": "8f6a5d81",
   "metadata": {},
   "outputs": [],
   "source": [
    "weather['weather_main'] = weather['weather_main'].apply(lambda x: 1 if (x == \"Rain\" or x == \"Mist\" or x == \"Thunderstorm\") else 0)"
   ]
  },
  {
   "cell_type": "markdown",
   "id": "800aabc5",
   "metadata": {},
   "source": [
    "- dropping the weather icon and weather description\n",
    "    - after model testing"
   ]
  },
  {
   "cell_type": "code",
   "execution_count": 44,
   "id": "5239c26b",
   "metadata": {},
   "outputs": [],
   "source": [
    "weather = weather.drop([\"weather_description\", \"weather_icon\"], axis=1)"
   ]
  },
  {
   "cell_type": "code",
   "execution_count": 45,
   "id": "aeeaef91",
   "metadata": {},
   "outputs": [
    {
     "data": {
      "text/html": [
       "<div>\n",
       "<style scoped>\n",
       "    .dataframe tbody tr th:only-of-type {\n",
       "        vertical-align: middle;\n",
       "    }\n",
       "\n",
       "    .dataframe tbody tr th {\n",
       "        vertical-align: top;\n",
       "    }\n",
       "\n",
       "    .dataframe thead th {\n",
       "        text-align: right;\n",
       "    }\n",
       "</style>\n",
       "<table border=\"1\" class=\"dataframe\">\n",
       "  <thead>\n",
       "    <tr style=\"text-align: right;\">\n",
       "      <th></th>\n",
       "      <th>dt</th>\n",
       "      <th>temp</th>\n",
       "      <th>wind_speed</th>\n",
       "      <th>weather_main</th>\n",
       "    </tr>\n",
       "  </thead>\n",
       "  <tbody>\n",
       "    <tr>\n",
       "      <th>0</th>\n",
       "      <td>1483228800</td>\n",
       "      <td>5</td>\n",
       "      <td>6</td>\n",
       "      <td>1</td>\n",
       "    </tr>\n",
       "    <tr>\n",
       "      <th>1</th>\n",
       "      <td>1483232400</td>\n",
       "      <td>5</td>\n",
       "      <td>4</td>\n",
       "      <td>1</td>\n",
       "    </tr>\n",
       "    <tr>\n",
       "      <th>2</th>\n",
       "      <td>1483236000</td>\n",
       "      <td>5</td>\n",
       "      <td>4</td>\n",
       "      <td>1</td>\n",
       "    </tr>\n",
       "    <tr>\n",
       "      <th>3</th>\n",
       "      <td>1483239600</td>\n",
       "      <td>4</td>\n",
       "      <td>6</td>\n",
       "      <td>1</td>\n",
       "    </tr>\n",
       "    <tr>\n",
       "      <th>4</th>\n",
       "      <td>1483243200</td>\n",
       "      <td>4</td>\n",
       "      <td>6</td>\n",
       "      <td>0</td>\n",
       "    </tr>\n",
       "    <tr>\n",
       "      <th>...</th>\n",
       "      <td>...</td>\n",
       "      <td>...</td>\n",
       "      <td>...</td>\n",
       "      <td>...</td>\n",
       "    </tr>\n",
       "    <tr>\n",
       "      <th>26275</th>\n",
       "      <td>1577818800</td>\n",
       "      <td>9</td>\n",
       "      <td>0</td>\n",
       "      <td>0</td>\n",
       "    </tr>\n",
       "    <tr>\n",
       "      <th>26276</th>\n",
       "      <td>1577822400</td>\n",
       "      <td>9</td>\n",
       "      <td>4</td>\n",
       "      <td>0</td>\n",
       "    </tr>\n",
       "    <tr>\n",
       "      <th>26277</th>\n",
       "      <td>1577826000</td>\n",
       "      <td>8</td>\n",
       "      <td>0</td>\n",
       "      <td>0</td>\n",
       "    </tr>\n",
       "    <tr>\n",
       "      <th>26278</th>\n",
       "      <td>1577829600</td>\n",
       "      <td>7</td>\n",
       "      <td>0</td>\n",
       "      <td>0</td>\n",
       "    </tr>\n",
       "    <tr>\n",
       "      <th>26279</th>\n",
       "      <td>1577833200</td>\n",
       "      <td>7</td>\n",
       "      <td>2</td>\n",
       "      <td>0</td>\n",
       "    </tr>\n",
       "  </tbody>\n",
       "</table>\n",
       "<p>26280 rows × 4 columns</p>\n",
       "</div>"
      ],
      "text/plain": [
       "               dt  temp  wind_speed  weather_main\n",
       "0      1483228800     5           6             1\n",
       "1      1483232400     5           4             1\n",
       "2      1483236000     5           4             1\n",
       "3      1483239600     4           6             1\n",
       "4      1483243200     4           6             0\n",
       "...           ...   ...         ...           ...\n",
       "26275  1577818800     9           0             0\n",
       "26276  1577822400     9           4             0\n",
       "26277  1577826000     8           0             0\n",
       "26278  1577829600     7           0             0\n",
       "26279  1577833200     7           2             0\n",
       "\n",
       "[26280 rows x 4 columns]"
      ]
     },
     "execution_count": 45,
     "metadata": {},
     "output_type": "execute_result"
    }
   ],
   "source": [
    "weather"
   ]
  },
  {
   "cell_type": "code",
   "execution_count": 46,
   "id": "c3d307bb",
   "metadata": {},
   "outputs": [],
   "source": [
    "weather[\"weather_main\"] = pd.factorize(weather[\"weather_main\"], sort=True)[0]"
   ]
  },
  {
   "cell_type": "code",
   "execution_count": 47,
   "id": "29c4ed64",
   "metadata": {},
   "outputs": [
    {
     "data": {
      "text/html": [
       "<div>\n",
       "<style scoped>\n",
       "    .dataframe tbody tr th:only-of-type {\n",
       "        vertical-align: middle;\n",
       "    }\n",
       "\n",
       "    .dataframe tbody tr th {\n",
       "        vertical-align: top;\n",
       "    }\n",
       "\n",
       "    .dataframe thead th {\n",
       "        text-align: right;\n",
       "    }\n",
       "</style>\n",
       "<table border=\"1\" class=\"dataframe\">\n",
       "  <thead>\n",
       "    <tr style=\"text-align: right;\">\n",
       "      <th></th>\n",
       "      <th>dt</th>\n",
       "      <th>temp</th>\n",
       "      <th>wind_speed</th>\n",
       "      <th>weather_main</th>\n",
       "    </tr>\n",
       "  </thead>\n",
       "  <tbody>\n",
       "    <tr>\n",
       "      <th>0</th>\n",
       "      <td>1483228800</td>\n",
       "      <td>5</td>\n",
       "      <td>6</td>\n",
       "      <td>1</td>\n",
       "    </tr>\n",
       "    <tr>\n",
       "      <th>1</th>\n",
       "      <td>1483232400</td>\n",
       "      <td>5</td>\n",
       "      <td>4</td>\n",
       "      <td>1</td>\n",
       "    </tr>\n",
       "    <tr>\n",
       "      <th>2</th>\n",
       "      <td>1483236000</td>\n",
       "      <td>5</td>\n",
       "      <td>4</td>\n",
       "      <td>1</td>\n",
       "    </tr>\n",
       "    <tr>\n",
       "      <th>3</th>\n",
       "      <td>1483239600</td>\n",
       "      <td>4</td>\n",
       "      <td>6</td>\n",
       "      <td>1</td>\n",
       "    </tr>\n",
       "    <tr>\n",
       "      <th>4</th>\n",
       "      <td>1483243200</td>\n",
       "      <td>4</td>\n",
       "      <td>6</td>\n",
       "      <td>0</td>\n",
       "    </tr>\n",
       "  </tbody>\n",
       "</table>\n",
       "</div>"
      ],
      "text/plain": [
       "           dt  temp  wind_speed  weather_main\n",
       "0  1483228800     5           6             1\n",
       "1  1483232400     5           4             1\n",
       "2  1483236000     5           4             1\n",
       "3  1483239600     4           6             1\n",
       "4  1483243200     4           6             0"
      ]
     },
     "execution_count": 47,
     "metadata": {},
     "output_type": "execute_result"
    }
   ],
   "source": [
    "weather.head(5)"
   ]
  },
  {
   "cell_type": "code",
   "execution_count": 48,
   "id": "760b6b20",
   "metadata": {},
   "outputs": [
    {
     "data": {
      "text/plain": [
       "dt              int64\n",
       "temp            int64\n",
       "wind_speed      int64\n",
       "weather_main    int64\n",
       "dtype: object"
      ]
     },
     "execution_count": 48,
     "metadata": {},
     "output_type": "execute_result"
    }
   ],
   "source": [
    "weather.dtypes"
   ]
  },
  {
   "cell_type": "code",
   "execution_count": 49,
   "id": "d7584ecb",
   "metadata": {},
   "outputs": [
    {
     "data": {
      "text/html": [
       "<div>\n",
       "<style scoped>\n",
       "    .dataframe tbody tr th:only-of-type {\n",
       "        vertical-align: middle;\n",
       "    }\n",
       "\n",
       "    .dataframe tbody tr th {\n",
       "        vertical-align: top;\n",
       "    }\n",
       "\n",
       "    .dataframe thead th {\n",
       "        text-align: right;\n",
       "    }\n",
       "</style>\n",
       "<table border=\"1\" class=\"dataframe\">\n",
       "  <thead>\n",
       "    <tr style=\"text-align: right;\">\n",
       "      <th></th>\n",
       "      <th>dt</th>\n",
       "      <th>temp</th>\n",
       "      <th>wind_speed</th>\n",
       "      <th>weather_main</th>\n",
       "      <th>date</th>\n",
       "    </tr>\n",
       "  </thead>\n",
       "  <tbody>\n",
       "    <tr>\n",
       "      <th>0</th>\n",
       "      <td>1483228800</td>\n",
       "      <td>5</td>\n",
       "      <td>6</td>\n",
       "      <td>1</td>\n",
       "      <td>2017-01-01 00:00:00</td>\n",
       "    </tr>\n",
       "    <tr>\n",
       "      <th>1</th>\n",
       "      <td>1483232400</td>\n",
       "      <td>5</td>\n",
       "      <td>4</td>\n",
       "      <td>1</td>\n",
       "      <td>2017-01-01 01:00:00</td>\n",
       "    </tr>\n",
       "    <tr>\n",
       "      <th>2</th>\n",
       "      <td>1483236000</td>\n",
       "      <td>5</td>\n",
       "      <td>4</td>\n",
       "      <td>1</td>\n",
       "      <td>2017-01-01 02:00:00</td>\n",
       "    </tr>\n",
       "    <tr>\n",
       "      <th>3</th>\n",
       "      <td>1483239600</td>\n",
       "      <td>4</td>\n",
       "      <td>6</td>\n",
       "      <td>1</td>\n",
       "      <td>2017-01-01 03:00:00</td>\n",
       "    </tr>\n",
       "    <tr>\n",
       "      <th>4</th>\n",
       "      <td>1483243200</td>\n",
       "      <td>4</td>\n",
       "      <td>6</td>\n",
       "      <td>0</td>\n",
       "      <td>2017-01-01 04:00:00</td>\n",
       "    </tr>\n",
       "    <tr>\n",
       "      <th>...</th>\n",
       "      <td>...</td>\n",
       "      <td>...</td>\n",
       "      <td>...</td>\n",
       "      <td>...</td>\n",
       "      <td>...</td>\n",
       "    </tr>\n",
       "    <tr>\n",
       "      <th>26275</th>\n",
       "      <td>1577818800</td>\n",
       "      <td>9</td>\n",
       "      <td>0</td>\n",
       "      <td>0</td>\n",
       "      <td>2019-12-31 19:00:00</td>\n",
       "    </tr>\n",
       "    <tr>\n",
       "      <th>26276</th>\n",
       "      <td>1577822400</td>\n",
       "      <td>9</td>\n",
       "      <td>4</td>\n",
       "      <td>0</td>\n",
       "      <td>2019-12-31 20:00:00</td>\n",
       "    </tr>\n",
       "    <tr>\n",
       "      <th>26277</th>\n",
       "      <td>1577826000</td>\n",
       "      <td>8</td>\n",
       "      <td>0</td>\n",
       "      <td>0</td>\n",
       "      <td>2019-12-31 21:00:00</td>\n",
       "    </tr>\n",
       "    <tr>\n",
       "      <th>26278</th>\n",
       "      <td>1577829600</td>\n",
       "      <td>7</td>\n",
       "      <td>0</td>\n",
       "      <td>0</td>\n",
       "      <td>2019-12-31 22:00:00</td>\n",
       "    </tr>\n",
       "    <tr>\n",
       "      <th>26279</th>\n",
       "      <td>1577833200</td>\n",
       "      <td>7</td>\n",
       "      <td>2</td>\n",
       "      <td>0</td>\n",
       "      <td>2019-12-31 23:00:00</td>\n",
       "    </tr>\n",
       "  </tbody>\n",
       "</table>\n",
       "<p>26280 rows × 5 columns</p>\n",
       "</div>"
      ],
      "text/plain": [
       "               dt  temp  wind_speed  weather_main                date\n",
       "0      1483228800     5           6             1 2017-01-01 00:00:00\n",
       "1      1483232400     5           4             1 2017-01-01 01:00:00\n",
       "2      1483236000     5           4             1 2017-01-01 02:00:00\n",
       "3      1483239600     4           6             1 2017-01-01 03:00:00\n",
       "4      1483243200     4           6             0 2017-01-01 04:00:00\n",
       "...           ...   ...         ...           ...                 ...\n",
       "26275  1577818800     9           0             0 2019-12-31 19:00:00\n",
       "26276  1577822400     9           4             0 2019-12-31 20:00:00\n",
       "26277  1577826000     8           0             0 2019-12-31 21:00:00\n",
       "26278  1577829600     7           0             0 2019-12-31 22:00:00\n",
       "26279  1577833200     7           2             0 2019-12-31 23:00:00\n",
       "\n",
       "[26280 rows x 5 columns]"
      ]
     },
     "execution_count": 49,
     "metadata": {},
     "output_type": "execute_result"
    }
   ],
   "source": [
    "# makes date column for join\n",
    "weather['date'] = pd.to_datetime(weather['dt'], unit='s')\n",
    "weather"
   ]
  },
  {
   "cell_type": "code",
   "execution_count": 50,
   "id": "4de43954",
   "metadata": {},
   "outputs": [],
   "source": [
    "# only interested in weather from 2018\n",
    "weather = weather.loc[weather['date']<'2019']"
   ]
  },
  {
   "cell_type": "code",
   "execution_count": 51,
   "id": "87f7ab17",
   "metadata": {},
   "outputs": [],
   "source": [
    "weather = weather.loc[weather['date']>'2018']"
   ]
  },
  {
   "cell_type": "code",
   "execution_count": 52,
   "id": "1f8492a1",
   "metadata": {},
   "outputs": [
    {
     "data": {
      "text/html": [
       "<div>\n",
       "<style scoped>\n",
       "    .dataframe tbody tr th:only-of-type {\n",
       "        vertical-align: middle;\n",
       "    }\n",
       "\n",
       "    .dataframe tbody tr th {\n",
       "        vertical-align: top;\n",
       "    }\n",
       "\n",
       "    .dataframe thead th {\n",
       "        text-align: right;\n",
       "    }\n",
       "</style>\n",
       "<table border=\"1\" class=\"dataframe\">\n",
       "  <thead>\n",
       "    <tr style=\"text-align: right;\">\n",
       "      <th></th>\n",
       "      <th>dt</th>\n",
       "      <th>temp</th>\n",
       "      <th>wind_speed</th>\n",
       "      <th>weather_main</th>\n",
       "      <th>date</th>\n",
       "    </tr>\n",
       "  </thead>\n",
       "  <tbody>\n",
       "    <tr>\n",
       "      <th>0</th>\n",
       "      <td>1514768400</td>\n",
       "      <td>4</td>\n",
       "      <td>12</td>\n",
       "      <td>1</td>\n",
       "      <td>2018-01-01 01:00:00</td>\n",
       "    </tr>\n",
       "    <tr>\n",
       "      <th>1</th>\n",
       "      <td>1514772000</td>\n",
       "      <td>5</td>\n",
       "      <td>12</td>\n",
       "      <td>0</td>\n",
       "      <td>2018-01-01 02:00:00</td>\n",
       "    </tr>\n",
       "    <tr>\n",
       "      <th>2</th>\n",
       "      <td>1514775600</td>\n",
       "      <td>5</td>\n",
       "      <td>12</td>\n",
       "      <td>0</td>\n",
       "      <td>2018-01-01 03:00:00</td>\n",
       "    </tr>\n",
       "    <tr>\n",
       "      <th>3</th>\n",
       "      <td>1514779200</td>\n",
       "      <td>5</td>\n",
       "      <td>12</td>\n",
       "      <td>0</td>\n",
       "      <td>2018-01-01 04:00:00</td>\n",
       "    </tr>\n",
       "    <tr>\n",
       "      <th>4</th>\n",
       "      <td>1514782800</td>\n",
       "      <td>5</td>\n",
       "      <td>10</td>\n",
       "      <td>0</td>\n",
       "      <td>2018-01-01 05:00:00</td>\n",
       "    </tr>\n",
       "    <tr>\n",
       "      <th>...</th>\n",
       "      <td>...</td>\n",
       "      <td>...</td>\n",
       "      <td>...</td>\n",
       "      <td>...</td>\n",
       "      <td>...</td>\n",
       "    </tr>\n",
       "    <tr>\n",
       "      <th>8754</th>\n",
       "      <td>1546282800</td>\n",
       "      <td>10</td>\n",
       "      <td>2</td>\n",
       "      <td>0</td>\n",
       "      <td>2018-12-31 19:00:00</td>\n",
       "    </tr>\n",
       "    <tr>\n",
       "      <th>8755</th>\n",
       "      <td>1546286400</td>\n",
       "      <td>10</td>\n",
       "      <td>0</td>\n",
       "      <td>0</td>\n",
       "      <td>2018-12-31 20:00:00</td>\n",
       "    </tr>\n",
       "    <tr>\n",
       "      <th>8756</th>\n",
       "      <td>1546290000</td>\n",
       "      <td>10</td>\n",
       "      <td>0</td>\n",
       "      <td>0</td>\n",
       "      <td>2018-12-31 21:00:00</td>\n",
       "    </tr>\n",
       "    <tr>\n",
       "      <th>8757</th>\n",
       "      <td>1546293600</td>\n",
       "      <td>10</td>\n",
       "      <td>2</td>\n",
       "      <td>0</td>\n",
       "      <td>2018-12-31 22:00:00</td>\n",
       "    </tr>\n",
       "    <tr>\n",
       "      <th>8758</th>\n",
       "      <td>1546297200</td>\n",
       "      <td>10</td>\n",
       "      <td>2</td>\n",
       "      <td>0</td>\n",
       "      <td>2018-12-31 23:00:00</td>\n",
       "    </tr>\n",
       "  </tbody>\n",
       "</table>\n",
       "<p>8759 rows × 5 columns</p>\n",
       "</div>"
      ],
      "text/plain": [
       "              dt  temp  wind_speed  weather_main                date\n",
       "0     1514768400     4          12             1 2018-01-01 01:00:00\n",
       "1     1514772000     5          12             0 2018-01-01 02:00:00\n",
       "2     1514775600     5          12             0 2018-01-01 03:00:00\n",
       "3     1514779200     5          12             0 2018-01-01 04:00:00\n",
       "4     1514782800     5          10             0 2018-01-01 05:00:00\n",
       "...          ...   ...         ...           ...                 ...\n",
       "8754  1546282800    10           2             0 2018-12-31 19:00:00\n",
       "8755  1546286400    10           0             0 2018-12-31 20:00:00\n",
       "8756  1546290000    10           0             0 2018-12-31 21:00:00\n",
       "8757  1546293600    10           2             0 2018-12-31 22:00:00\n",
       "8758  1546297200    10           2             0 2018-12-31 23:00:00\n",
       "\n",
       "[8759 rows x 5 columns]"
      ]
     },
     "execution_count": 52,
     "metadata": {},
     "output_type": "execute_result"
    }
   ],
   "source": [
    "weather=weather.reset_index(drop=True)\n",
    "weather"
   ]
  },
  {
   "cell_type": "code",
   "execution_count": 53,
   "id": "1a31f5af",
   "metadata": {},
   "outputs": [],
   "source": [
    "weather[\"date\"] = weather[\"date\"].astype(\"datetime64\")\n",
    "weather['DAYOFWEEK'] = weather['date'].dt.weekday"
   ]
  },
  {
   "cell_type": "code",
   "execution_count": 54,
   "id": "7a36de6c",
   "metadata": {},
   "outputs": [
    {
     "data": {
      "text/html": [
       "<div>\n",
       "<style scoped>\n",
       "    .dataframe tbody tr th:only-of-type {\n",
       "        vertical-align: middle;\n",
       "    }\n",
       "\n",
       "    .dataframe tbody tr th {\n",
       "        vertical-align: top;\n",
       "    }\n",
       "\n",
       "    .dataframe thead th {\n",
       "        text-align: right;\n",
       "    }\n",
       "</style>\n",
       "<table border=\"1\" class=\"dataframe\">\n",
       "  <thead>\n",
       "    <tr style=\"text-align: right;\">\n",
       "      <th></th>\n",
       "      <th>dt</th>\n",
       "      <th>temp</th>\n",
       "      <th>wind_speed</th>\n",
       "      <th>weather_main</th>\n",
       "      <th>date</th>\n",
       "      <th>DAYOFWEEK</th>\n",
       "    </tr>\n",
       "  </thead>\n",
       "  <tbody>\n",
       "    <tr>\n",
       "      <th>0</th>\n",
       "      <td>1514768400</td>\n",
       "      <td>4</td>\n",
       "      <td>12</td>\n",
       "      <td>1</td>\n",
       "      <td>2018-01-01 01:00:00</td>\n",
       "      <td>0</td>\n",
       "    </tr>\n",
       "    <tr>\n",
       "      <th>1</th>\n",
       "      <td>1514772000</td>\n",
       "      <td>5</td>\n",
       "      <td>12</td>\n",
       "      <td>0</td>\n",
       "      <td>2018-01-01 02:00:00</td>\n",
       "      <td>0</td>\n",
       "    </tr>\n",
       "    <tr>\n",
       "      <th>2</th>\n",
       "      <td>1514775600</td>\n",
       "      <td>5</td>\n",
       "      <td>12</td>\n",
       "      <td>0</td>\n",
       "      <td>2018-01-01 03:00:00</td>\n",
       "      <td>0</td>\n",
       "    </tr>\n",
       "    <tr>\n",
       "      <th>3</th>\n",
       "      <td>1514779200</td>\n",
       "      <td>5</td>\n",
       "      <td>12</td>\n",
       "      <td>0</td>\n",
       "      <td>2018-01-01 04:00:00</td>\n",
       "      <td>0</td>\n",
       "    </tr>\n",
       "    <tr>\n",
       "      <th>4</th>\n",
       "      <td>1514782800</td>\n",
       "      <td>5</td>\n",
       "      <td>10</td>\n",
       "      <td>0</td>\n",
       "      <td>2018-01-01 05:00:00</td>\n",
       "      <td>0</td>\n",
       "    </tr>\n",
       "    <tr>\n",
       "      <th>...</th>\n",
       "      <td>...</td>\n",
       "      <td>...</td>\n",
       "      <td>...</td>\n",
       "      <td>...</td>\n",
       "      <td>...</td>\n",
       "      <td>...</td>\n",
       "    </tr>\n",
       "    <tr>\n",
       "      <th>8754</th>\n",
       "      <td>1546282800</td>\n",
       "      <td>10</td>\n",
       "      <td>2</td>\n",
       "      <td>0</td>\n",
       "      <td>2018-12-31 19:00:00</td>\n",
       "      <td>0</td>\n",
       "    </tr>\n",
       "    <tr>\n",
       "      <th>8755</th>\n",
       "      <td>1546286400</td>\n",
       "      <td>10</td>\n",
       "      <td>0</td>\n",
       "      <td>0</td>\n",
       "      <td>2018-12-31 20:00:00</td>\n",
       "      <td>0</td>\n",
       "    </tr>\n",
       "    <tr>\n",
       "      <th>8756</th>\n",
       "      <td>1546290000</td>\n",
       "      <td>10</td>\n",
       "      <td>0</td>\n",
       "      <td>0</td>\n",
       "      <td>2018-12-31 21:00:00</td>\n",
       "      <td>0</td>\n",
       "    </tr>\n",
       "    <tr>\n",
       "      <th>8757</th>\n",
       "      <td>1546293600</td>\n",
       "      <td>10</td>\n",
       "      <td>2</td>\n",
       "      <td>0</td>\n",
       "      <td>2018-12-31 22:00:00</td>\n",
       "      <td>0</td>\n",
       "    </tr>\n",
       "    <tr>\n",
       "      <th>8758</th>\n",
       "      <td>1546297200</td>\n",
       "      <td>10</td>\n",
       "      <td>2</td>\n",
       "      <td>0</td>\n",
       "      <td>2018-12-31 23:00:00</td>\n",
       "      <td>0</td>\n",
       "    </tr>\n",
       "  </tbody>\n",
       "</table>\n",
       "<p>8759 rows × 6 columns</p>\n",
       "</div>"
      ],
      "text/plain": [
       "              dt  temp  wind_speed  weather_main                date  \\\n",
       "0     1514768400     4          12             1 2018-01-01 01:00:00   \n",
       "1     1514772000     5          12             0 2018-01-01 02:00:00   \n",
       "2     1514775600     5          12             0 2018-01-01 03:00:00   \n",
       "3     1514779200     5          12             0 2018-01-01 04:00:00   \n",
       "4     1514782800     5          10             0 2018-01-01 05:00:00   \n",
       "...          ...   ...         ...           ...                 ...   \n",
       "8754  1546282800    10           2             0 2018-12-31 19:00:00   \n",
       "8755  1546286400    10           0             0 2018-12-31 20:00:00   \n",
       "8756  1546290000    10           0             0 2018-12-31 21:00:00   \n",
       "8757  1546293600    10           2             0 2018-12-31 22:00:00   \n",
       "8758  1546297200    10           2             0 2018-12-31 23:00:00   \n",
       "\n",
       "      DAYOFWEEK  \n",
       "0             0  \n",
       "1             0  \n",
       "2             0  \n",
       "3             0  \n",
       "4             0  \n",
       "...         ...  \n",
       "8754          0  \n",
       "8755          0  \n",
       "8756          0  \n",
       "8757          0  \n",
       "8758          0  \n",
       "\n",
       "[8759 rows x 6 columns]"
      ]
     },
     "execution_count": 54,
     "metadata": {},
     "output_type": "execute_result"
    }
   ],
   "source": [
    "weather"
   ]
  },
  {
   "cell_type": "code",
   "execution_count": 57,
   "id": "bd57d28c",
   "metadata": {},
   "outputs": [
    {
     "data": {
      "text/plain": [
       "dt              8759\n",
       "temp              33\n",
       "wind_speed        10\n",
       "weather_main       2\n",
       "date            8759\n",
       "DAYOFWEEK          7\n",
       "dtype: int64"
      ]
     },
     "execution_count": 57,
     "metadata": {},
     "output_type": "execute_result"
    }
   ],
   "source": [
    "weather.nunique()"
   ]
  },
  {
   "cell_type": "code",
   "execution_count": 58,
   "id": "c62e2c25",
   "metadata": {},
   "outputs": [],
   "source": [
    "#weather.to_csv('./weather_factorised.csv')"
   ]
  },
  {
   "cell_type": "markdown",
   "id": "3ae65ba0",
   "metadata": {},
   "source": [
    "# Bus Data"
   ]
  },
  {
   "cell_type": "code",
   "execution_count": 9,
   "id": "5bc10181",
   "metadata": {},
   "outputs": [
    {
     "data": {
      "text/plain": [
       "svmem(total=67481169920, available=19750899712, percent=70.7, used=38974631936, free=11555160064, active=34063101952, inactive=20157714432, buffers=214896640, cached=16736481280, shared=8072019968, slab=947777536)"
      ]
     },
     "execution_count": 9,
     "metadata": {},
     "output_type": "execute_result"
    }
   ],
   "source": [
    "psutil.virtual_memory()"
   ]
  },
  {
   "cell_type": "code",
   "execution_count": 7,
   "id": "e9e1845e",
   "metadata": {},
   "outputs": [
    {
     "name": "stdout",
     "output_type": "stream",
     "text": [
      "CPU times: user 33.6 ms, sys: 2.57 ms, total: 36.2 ms\n",
      "Wall time: 213 ms\n"
     ]
    }
   ],
   "source": [
    "%%time\n",
    "trips = dd.read_csv('rt_trips_DB_2018.txt', sep=\";\", dtype={'DATASOURCE': 'category', 'DAYOFSERVICE': 'object', 'TRIPID': 'int32', 'LINEID': 'category', 'ROUTEID': 'category', 'DIRECTION': 'category', 'PLANNEDTIME_ARR': 'float64', 'PLANNEDTIME_DEP': 'float64', 'ACTUALTIME_ARR': 'float64', 'ACTUALTIME_DEP': 'float64', 'BASIN': 'category', 'TENDERLOT': 'category', 'SUPPRESSED': 'category', 'JUSTIFICATIONID': 'string', 'LASTUPDATE': 'string', 'NOTE': 'string'})\n",
    "#trips\n",
    "# ACTUALTIME_DEP had to be float64 because of issue with the data to do with null values"
   ]
  },
  {
   "cell_type": "code",
   "execution_count": 8,
   "id": "fe569b14",
   "metadata": {},
   "outputs": [
    {
     "data": {
      "text/plain": [
       "svmem(total=67481169920, available=26704748544, percent=60.4, used=32022335488, free=18019004416, active=29652357120, inactive=17970089984, buffers=1880383488, cached=15559446528, shared=8072052736, slab=1142063104)"
      ]
     },
     "execution_count": 8,
     "metadata": {},
     "output_type": "execute_result"
    }
   ],
   "source": [
    "psutil.virtual_memory()"
   ]
  },
  {
   "cell_type": "code",
   "execution_count": 9,
   "id": "4182690e",
   "metadata": {},
   "outputs": [
    {
     "name": "stdout",
     "output_type": "stream",
     "text": [
      "<class 'dask.dataframe.core.DataFrame'>\n"
     ]
    }
   ],
   "source": [
    "print(type(trips))"
   ]
  },
  {
   "cell_type": "code",
   "execution_count": 10,
   "id": "0bae8e9f",
   "metadata": {},
   "outputs": [
    {
     "data": {
      "text/html": [
       "<div><strong>Dask DataFrame Structure:</strong></div>\n",
       "<div>\n",
       "<style scoped>\n",
       "    .dataframe tbody tr th:only-of-type {\n",
       "        vertical-align: middle;\n",
       "    }\n",
       "\n",
       "    .dataframe tbody tr th {\n",
       "        vertical-align: top;\n",
       "    }\n",
       "\n",
       "    .dataframe thead th {\n",
       "        text-align: right;\n",
       "    }\n",
       "</style>\n",
       "<table border=\"1\" class=\"dataframe\">\n",
       "  <thead>\n",
       "    <tr style=\"text-align: right;\">\n",
       "      <th></th>\n",
       "      <th>DATASOURCE</th>\n",
       "      <th>DAYOFSERVICE</th>\n",
       "      <th>TRIPID</th>\n",
       "      <th>LINEID</th>\n",
       "      <th>ROUTEID</th>\n",
       "      <th>DIRECTION</th>\n",
       "      <th>PLANNEDTIME_ARR</th>\n",
       "      <th>PLANNEDTIME_DEP</th>\n",
       "      <th>ACTUALTIME_ARR</th>\n",
       "      <th>ACTUALTIME_DEP</th>\n",
       "      <th>BASIN</th>\n",
       "      <th>TENDERLOT</th>\n",
       "      <th>SUPPRESSED</th>\n",
       "      <th>JUSTIFICATIONID</th>\n",
       "      <th>LASTUPDATE</th>\n",
       "      <th>NOTE</th>\n",
       "    </tr>\n",
       "    <tr>\n",
       "      <th>npartitions=3</th>\n",
       "      <th></th>\n",
       "      <th></th>\n",
       "      <th></th>\n",
       "      <th></th>\n",
       "      <th></th>\n",
       "      <th></th>\n",
       "      <th></th>\n",
       "      <th></th>\n",
       "      <th></th>\n",
       "      <th></th>\n",
       "      <th></th>\n",
       "      <th></th>\n",
       "      <th></th>\n",
       "      <th></th>\n",
       "      <th></th>\n",
       "      <th></th>\n",
       "    </tr>\n",
       "  </thead>\n",
       "  <tbody>\n",
       "    <tr>\n",
       "      <th></th>\n",
       "      <td>category[unknown]</td>\n",
       "      <td>object</td>\n",
       "      <td>int32</td>\n",
       "      <td>category[unknown]</td>\n",
       "      <td>category[unknown]</td>\n",
       "      <td>category[unknown]</td>\n",
       "      <td>float64</td>\n",
       "      <td>float64</td>\n",
       "      <td>float64</td>\n",
       "      <td>float64</td>\n",
       "      <td>category[unknown]</td>\n",
       "      <td>category[unknown]</td>\n",
       "      <td>category[unknown]</td>\n",
       "      <td>string</td>\n",
       "      <td>string</td>\n",
       "      <td>string</td>\n",
       "    </tr>\n",
       "    <tr>\n",
       "      <th></th>\n",
       "      <td>...</td>\n",
       "      <td>...</td>\n",
       "      <td>...</td>\n",
       "      <td>...</td>\n",
       "      <td>...</td>\n",
       "      <td>...</td>\n",
       "      <td>...</td>\n",
       "      <td>...</td>\n",
       "      <td>...</td>\n",
       "      <td>...</td>\n",
       "      <td>...</td>\n",
       "      <td>...</td>\n",
       "      <td>...</td>\n",
       "      <td>...</td>\n",
       "      <td>...</td>\n",
       "      <td>...</td>\n",
       "    </tr>\n",
       "    <tr>\n",
       "      <th></th>\n",
       "      <td>...</td>\n",
       "      <td>...</td>\n",
       "      <td>...</td>\n",
       "      <td>...</td>\n",
       "      <td>...</td>\n",
       "      <td>...</td>\n",
       "      <td>...</td>\n",
       "      <td>...</td>\n",
       "      <td>...</td>\n",
       "      <td>...</td>\n",
       "      <td>...</td>\n",
       "      <td>...</td>\n",
       "      <td>...</td>\n",
       "      <td>...</td>\n",
       "      <td>...</td>\n",
       "      <td>...</td>\n",
       "    </tr>\n",
       "    <tr>\n",
       "      <th></th>\n",
       "      <td>...</td>\n",
       "      <td>...</td>\n",
       "      <td>...</td>\n",
       "      <td>...</td>\n",
       "      <td>...</td>\n",
       "      <td>...</td>\n",
       "      <td>...</td>\n",
       "      <td>...</td>\n",
       "      <td>...</td>\n",
       "      <td>...</td>\n",
       "      <td>...</td>\n",
       "      <td>...</td>\n",
       "      <td>...</td>\n",
       "      <td>...</td>\n",
       "      <td>...</td>\n",
       "      <td>...</td>\n",
       "    </tr>\n",
       "  </tbody>\n",
       "</table>\n",
       "</div>\n",
       "<div>Dask Name: read-csv, 3 tasks</div>"
      ],
      "text/plain": [
       "Dask DataFrame Structure:\n",
       "                      DATASOURCE DAYOFSERVICE TRIPID             LINEID            ROUTEID          DIRECTION PLANNEDTIME_ARR PLANNEDTIME_DEP ACTUALTIME_ARR ACTUALTIME_DEP              BASIN          TENDERLOT         SUPPRESSED JUSTIFICATIONID LASTUPDATE    NOTE\n",
       "npartitions=3                                                                                                                                                                                                                                                          \n",
       "               category[unknown]       object  int32  category[unknown]  category[unknown]  category[unknown]         float64         float64        float64        float64  category[unknown]  category[unknown]  category[unknown]          string     string  string\n",
       "                             ...          ...    ...                ...                ...                ...             ...             ...            ...            ...                ...                ...                ...             ...        ...     ...\n",
       "                             ...          ...    ...                ...                ...                ...             ...             ...            ...            ...                ...                ...                ...             ...        ...     ...\n",
       "                             ...          ...    ...                ...                ...                ...             ...             ...            ...            ...                ...                ...                ...             ...        ...     ...\n",
       "Dask Name: read-csv, 3 tasks"
      ]
     },
     "execution_count": 10,
     "metadata": {},
     "output_type": "execute_result"
    }
   ],
   "source": [
    "trips"
   ]
  },
  {
   "cell_type": "code",
   "execution_count": 14,
   "id": "f0341a4b",
   "metadata": {},
   "outputs": [
    {
     "data": {
      "text/plain": [
       "0    <class 'pandas.core.frame.DataFrame'>\n",
       "1    <class 'pandas.core.frame.DataFrame'>\n",
       "2    <class 'pandas.core.frame.DataFrame'>\n",
       "dtype: object"
      ]
     },
     "execution_count": 14,
     "metadata": {},
     "output_type": "execute_result"
    }
   ],
   "source": [
    "trips.map_partitions(type).compute()"
   ]
  },
  {
   "cell_type": "code",
   "execution_count": 15,
   "id": "b8f4b57c",
   "metadata": {},
   "outputs": [
    {
     "data": {
      "text/plain": [
       "svmem(total=67481169920, available=19540074496, percent=71.0, used=39186141184, free=11125739520, active=34275926016, inactive=20377067520, buffers=214876160, cached=16954413056, shared=8072019968, slab=946151424)"
      ]
     },
     "execution_count": 15,
     "metadata": {},
     "output_type": "execute_result"
    }
   ],
   "source": [
    "psutil.virtual_memory()"
   ]
  },
  {
   "cell_type": "code",
   "execution_count": 11,
   "id": "9c9c3906",
   "metadata": {},
   "outputs": [],
   "source": [
    "# converts to pandas\n",
    "trips = trips.compute()"
   ]
  },
  {
   "cell_type": "code",
   "execution_count": 12,
   "id": "b59e1ebb",
   "metadata": {},
   "outputs": [
    {
     "name": "stdout",
     "output_type": "stream",
     "text": [
      "<class 'pandas.core.frame.DataFrame'>\n",
      "Int64Index: 2182637 entries, 0 to 727498\n",
      "Data columns (total 16 columns):\n",
      " #   Column           Dtype   \n",
      "---  ------           -----   \n",
      " 0   DATASOURCE       category\n",
      " 1   DAYOFSERVICE     object  \n",
      " 2   TRIPID           int32   \n",
      " 3   LINEID           category\n",
      " 4   ROUTEID          category\n",
      " 5   DIRECTION        category\n",
      " 6   PLANNEDTIME_ARR  float64 \n",
      " 7   PLANNEDTIME_DEP  float64 \n",
      " 8   ACTUALTIME_ARR   float64 \n",
      " 9   ACTUALTIME_DEP   float64 \n",
      " 10  BASIN            category\n",
      " 11  TENDERLOT        category\n",
      " 12  SUPPRESSED       category\n",
      " 13  JUSTIFICATIONID  string  \n",
      " 14  LASTUPDATE       string  \n",
      " 15  NOTE             string  \n",
      "dtypes: category(7), float64(4), int32(1), object(1), string(3)\n",
      "memory usage: 177.0+ MB\n"
     ]
    }
   ],
   "source": [
    "trips.info()"
   ]
  },
  {
   "cell_type": "code",
   "execution_count": 13,
   "id": "2390abf7",
   "metadata": {},
   "outputs": [
    {
     "data": {
      "text/plain": [
       "svmem(total=67481169920, available=26234757120, percent=61.1, used=32492371968, free=17316241408, active=30121365504, inactive=18201718784, buffers=1880387584, cached=15792168960, shared=8072052736, slab=1142292480)"
      ]
     },
     "execution_count": 13,
     "metadata": {},
     "output_type": "execute_result"
    }
   ],
   "source": [
    "psutil.virtual_memory()"
   ]
  },
  {
   "cell_type": "code",
   "execution_count": 16,
   "id": "96d78101",
   "metadata": {},
   "outputs": [
    {
     "data": {
      "text/html": [
       "<div>\n",
       "<style scoped>\n",
       "    .dataframe tbody tr th:only-of-type {\n",
       "        vertical-align: middle;\n",
       "    }\n",
       "\n",
       "    .dataframe tbody tr th {\n",
       "        vertical-align: top;\n",
       "    }\n",
       "\n",
       "    .dataframe thead th {\n",
       "        text-align: right;\n",
       "    }\n",
       "</style>\n",
       "<table border=\"1\" class=\"dataframe\">\n",
       "  <thead>\n",
       "    <tr style=\"text-align: right;\">\n",
       "      <th></th>\n",
       "      <th>DATASOURCE</th>\n",
       "      <th>DAYOFSERVICE</th>\n",
       "      <th>TRIPID</th>\n",
       "      <th>LINEID</th>\n",
       "      <th>ROUTEID</th>\n",
       "      <th>DIRECTION</th>\n",
       "      <th>PLANNEDTIME_ARR</th>\n",
       "      <th>PLANNEDTIME_DEP</th>\n",
       "      <th>ACTUALTIME_ARR</th>\n",
       "      <th>ACTUALTIME_DEP</th>\n",
       "      <th>BASIN</th>\n",
       "      <th>TENDERLOT</th>\n",
       "      <th>SUPPRESSED</th>\n",
       "      <th>JUSTIFICATIONID</th>\n",
       "      <th>LASTUPDATE</th>\n",
       "      <th>NOTE</th>\n",
       "    </tr>\n",
       "  </thead>\n",
       "  <tbody>\n",
       "    <tr>\n",
       "      <th>0</th>\n",
       "      <td>DB</td>\n",
       "      <td>07-FEB-18 00:00:00</td>\n",
       "      <td>6253783</td>\n",
       "      <td>68</td>\n",
       "      <td>68_80</td>\n",
       "      <td>1</td>\n",
       "      <td>87245.0</td>\n",
       "      <td>84600.0</td>\n",
       "      <td>87524.0</td>\n",
       "      <td>84600.0</td>\n",
       "      <td>BasDef</td>\n",
       "      <td>NaN</td>\n",
       "      <td>NaN</td>\n",
       "      <td>&lt;NA&gt;</td>\n",
       "      <td>28-FEB-18 12:05:11</td>\n",
       "      <td>,2967409,</td>\n",
       "    </tr>\n",
       "    <tr>\n",
       "      <th>1</th>\n",
       "      <td>DB</td>\n",
       "      <td>07-FEB-18 00:00:00</td>\n",
       "      <td>6262138</td>\n",
       "      <td>25B</td>\n",
       "      <td>25B_271</td>\n",
       "      <td>2</td>\n",
       "      <td>30517.0</td>\n",
       "      <td>26460.0</td>\n",
       "      <td>32752.0</td>\n",
       "      <td>NaN</td>\n",
       "      <td>BasDef</td>\n",
       "      <td>NaN</td>\n",
       "      <td>NaN</td>\n",
       "      <td>&lt;NA&gt;</td>\n",
       "      <td>28-FEB-18 12:05:11</td>\n",
       "      <td>,2580260,</td>\n",
       "    </tr>\n",
       "    <tr>\n",
       "      <th>2</th>\n",
       "      <td>DB</td>\n",
       "      <td>07-FEB-18 00:00:00</td>\n",
       "      <td>6254942</td>\n",
       "      <td>45A</td>\n",
       "      <td>45A_70</td>\n",
       "      <td>2</td>\n",
       "      <td>35512.0</td>\n",
       "      <td>32100.0</td>\n",
       "      <td>36329.0</td>\n",
       "      <td>32082.0</td>\n",
       "      <td>BasDef</td>\n",
       "      <td>NaN</td>\n",
       "      <td>NaN</td>\n",
       "      <td>&lt;NA&gt;</td>\n",
       "      <td>28-FEB-18 12:05:11</td>\n",
       "      <td>,2448968,</td>\n",
       "    </tr>\n",
       "  </tbody>\n",
       "</table>\n",
       "</div>"
      ],
      "text/plain": [
       "  DATASOURCE        DAYOFSERVICE   TRIPID LINEID  ROUTEID DIRECTION  \\\n",
       "0         DB  07-FEB-18 00:00:00  6253783     68    68_80        1    \n",
       "1         DB  07-FEB-18 00:00:00  6262138    25B  25B_271        2    \n",
       "2         DB  07-FEB-18 00:00:00  6254942    45A   45A_70        2    \n",
       "\n",
       "   PLANNEDTIME_ARR  PLANNEDTIME_DEP  ACTUALTIME_ARR  ACTUALTIME_DEP   BASIN  \\\n",
       "0          87245.0          84600.0         87524.0         84600.0  BasDef   \n",
       "1          30517.0          26460.0         32752.0             NaN  BasDef   \n",
       "2          35512.0          32100.0         36329.0         32082.0  BasDef   \n",
       "\n",
       "  TENDERLOT SUPPRESSED JUSTIFICATIONID          LASTUPDATE       NOTE  \n",
       "0       NaN        NaN            <NA>  28-FEB-18 12:05:11  ,2967409,  \n",
       "1       NaN        NaN            <NA>  28-FEB-18 12:05:11  ,2580260,  \n",
       "2       NaN        NaN            <NA>  28-FEB-18 12:05:11  ,2448968,  "
      ]
     },
     "execution_count": 16,
     "metadata": {},
     "output_type": "execute_result"
    }
   ],
   "source": [
    "trips.head(3)"
   ]
  },
  {
   "cell_type": "code",
   "execution_count": 19,
   "id": "b3fd04f6",
   "metadata": {},
   "outputs": [
    {
     "data": {
      "text/plain": [
       "2     1100273\n",
       "1     1082364\n",
       "Name: DIRECTION, dtype: int64"
      ]
     },
     "execution_count": 19,
     "metadata": {},
     "output_type": "execute_result"
    }
   ],
   "source": [
    "trips.DIRECTION.value_counts()"
   ]
  },
  {
   "cell_type": "code",
   "execution_count": 20,
   "id": "318017de",
   "metadata": {},
   "outputs": [
    {
     "data": {
      "text/plain": [
       "0"
      ]
     },
     "execution_count": 20,
     "metadata": {},
     "output_type": "execute_result"
    }
   ],
   "source": [
    "trips.duplicated().sum()"
   ]
  },
  {
   "cell_type": "code",
   "execution_count": 23,
   "id": "6f37af05",
   "metadata": {},
   "outputs": [
    {
     "data": {
      "text/html": [
       "<div>\n",
       "<style scoped>\n",
       "    .dataframe tbody tr th:only-of-type {\n",
       "        vertical-align: middle;\n",
       "    }\n",
       "\n",
       "    .dataframe tbody tr th {\n",
       "        vertical-align: top;\n",
       "    }\n",
       "\n",
       "    .dataframe thead th {\n",
       "        text-align: right;\n",
       "    }\n",
       "</style>\n",
       "<table border=\"1\" class=\"dataframe\">\n",
       "  <thead>\n",
       "    <tr style=\"text-align: right;\">\n",
       "      <th></th>\n",
       "      <th>DATASOURCE</th>\n",
       "      <th>DAYOFSERVICE</th>\n",
       "      <th>TRIPID</th>\n",
       "      <th>LINEID</th>\n",
       "      <th>ROUTEID</th>\n",
       "      <th>DIRECTION</th>\n",
       "      <th>PLANNEDTIME_ARR</th>\n",
       "      <th>PLANNEDTIME_DEP</th>\n",
       "      <th>ACTUALTIME_ARR</th>\n",
       "      <th>ACTUALTIME_DEP</th>\n",
       "      <th>BASIN</th>\n",
       "      <th>TENDERLOT</th>\n",
       "      <th>SUPPRESSED</th>\n",
       "      <th>JUSTIFICATIONID</th>\n",
       "      <th>LASTUPDATE</th>\n",
       "      <th>NOTE</th>\n",
       "    </tr>\n",
       "  </thead>\n",
       "  <tbody>\n",
       "    <tr>\n",
       "      <th>727496</th>\n",
       "      <td>DB</td>\n",
       "      <td>14-MAY-18 00:00:00</td>\n",
       "      <td>6765486</td>\n",
       "      <td>33D</td>\n",
       "      <td>33D_62</td>\n",
       "      <td>2</td>\n",
       "      <td>29460.0</td>\n",
       "      <td>26400.0</td>\n",
       "      <td>29904.0</td>\n",
       "      <td>NaN</td>\n",
       "      <td>BasDef</td>\n",
       "      <td>NaN</td>\n",
       "      <td>NaN</td>\n",
       "      <td>&lt;NA&gt;</td>\n",
       "      <td>26-JUN-18 09:13:13</td>\n",
       "      <td>,3077688,</td>\n",
       "    </tr>\n",
       "    <tr>\n",
       "      <th>727497</th>\n",
       "      <td>DB</td>\n",
       "      <td>14-MAY-18 00:00:00</td>\n",
       "      <td>6764987</td>\n",
       "      <td>70</td>\n",
       "      <td>70_60</td>\n",
       "      <td>1</td>\n",
       "      <td>65277.0</td>\n",
       "      <td>60600.0</td>\n",
       "      <td>66341.0</td>\n",
       "      <td>NaN</td>\n",
       "      <td>BasDef</td>\n",
       "      <td>NaN</td>\n",
       "      <td>NaN</td>\n",
       "      <td>&lt;NA&gt;</td>\n",
       "      <td>26-JUN-18 09:13:13</td>\n",
       "      <td>,3208841,</td>\n",
       "    </tr>\n",
       "    <tr>\n",
       "      <th>727498</th>\n",
       "      <td>DB</td>\n",
       "      <td>14-MAY-18 00:00:00</td>\n",
       "      <td>6765012</td>\n",
       "      <td>27</td>\n",
       "      <td>27_19</td>\n",
       "      <td>1</td>\n",
       "      <td>47722.0</td>\n",
       "      <td>41700.0</td>\n",
       "      <td>47508.0</td>\n",
       "      <td>41642.0</td>\n",
       "      <td>BasDef</td>\n",
       "      <td>NaN</td>\n",
       "      <td>NaN</td>\n",
       "      <td>&lt;NA&gt;</td>\n",
       "      <td>26-JUN-18 09:13:13</td>\n",
       "      <td>,2960092,</td>\n",
       "    </tr>\n",
       "  </tbody>\n",
       "</table>\n",
       "</div>"
      ],
      "text/plain": [
       "       DATASOURCE        DAYOFSERVICE   TRIPID LINEID ROUTEID DIRECTION  \\\n",
       "727496         DB  14-MAY-18 00:00:00  6765486    33D  33D_62        2    \n",
       "727497         DB  14-MAY-18 00:00:00  6764987     70   70_60        1    \n",
       "727498         DB  14-MAY-18 00:00:00  6765012     27   27_19        1    \n",
       "\n",
       "        PLANNEDTIME_ARR  PLANNEDTIME_DEP  ACTUALTIME_ARR  ACTUALTIME_DEP  \\\n",
       "727496          29460.0          26400.0         29904.0             NaN   \n",
       "727497          65277.0          60600.0         66341.0             NaN   \n",
       "727498          47722.0          41700.0         47508.0         41642.0   \n",
       "\n",
       "         BASIN TENDERLOT SUPPRESSED JUSTIFICATIONID          LASTUPDATE  \\\n",
       "727496  BasDef       NaN        NaN            <NA>  26-JUN-18 09:13:13   \n",
       "727497  BasDef       NaN        NaN            <NA>  26-JUN-18 09:13:13   \n",
       "727498  BasDef       NaN        NaN            <NA>  26-JUN-18 09:13:13   \n",
       "\n",
       "             NOTE  \n",
       "727496  ,3077688,  \n",
       "727497  ,3208841,  \n",
       "727498  ,2960092,  "
      ]
     },
     "execution_count": 23,
     "metadata": {},
     "output_type": "execute_result"
    }
   ],
   "source": [
    "trips.tail(3)"
   ]
  },
  {
   "cell_type": "markdown",
   "id": "6345650e",
   "metadata": {},
   "source": [
    "- multiple empty columns\n",
    "- multiple probable useless ones\n",
    "    - \"note\", \"last update\", \"basin\", \"LASTUPDATE\""
   ]
  },
  {
   "cell_type": "code",
   "execution_count": 14,
   "id": "d43ce9b1",
   "metadata": {},
   "outputs": [],
   "source": [
    "trips = trips.drop({'TENDERLOT', \"SUPPRESSED\", \"JUSTIFICATIONID\", \"DATASOURCE\", \"LASTUPDATE\", \"NOTE\",\"BASIN\"}, axis=1)\n"
   ]
  },
  {
   "cell_type": "code",
   "execution_count": 35,
   "id": "c157d100",
   "metadata": {},
   "outputs": [
    {
     "data": {
      "text/html": [
       "<div>\n",
       "<style scoped>\n",
       "    .dataframe tbody tr th:only-of-type {\n",
       "        vertical-align: middle;\n",
       "    }\n",
       "\n",
       "    .dataframe tbody tr th {\n",
       "        vertical-align: top;\n",
       "    }\n",
       "\n",
       "    .dataframe thead th {\n",
       "        text-align: right;\n",
       "    }\n",
       "</style>\n",
       "<table border=\"1\" class=\"dataframe\">\n",
       "  <thead>\n",
       "    <tr style=\"text-align: right;\">\n",
       "      <th></th>\n",
       "      <th>DAYOFSERVICE</th>\n",
       "      <th>TRIPID</th>\n",
       "      <th>LINEID</th>\n",
       "      <th>ROUTEID</th>\n",
       "      <th>DIRECTION</th>\n",
       "      <th>PLANNEDTIME_ARR</th>\n",
       "      <th>PLANNEDTIME_DEP</th>\n",
       "      <th>ACTUALTIME_ARR</th>\n",
       "      <th>ACTUALTIME_DEP</th>\n",
       "    </tr>\n",
       "  </thead>\n",
       "  <tbody>\n",
       "    <tr>\n",
       "      <th>0</th>\n",
       "      <td>07-FEB-18 00:00:00</td>\n",
       "      <td>6253783</td>\n",
       "      <td>68</td>\n",
       "      <td>68_80</td>\n",
       "      <td>1</td>\n",
       "      <td>87245.0</td>\n",
       "      <td>84600.0</td>\n",
       "      <td>87524.0</td>\n",
       "      <td>84600.0</td>\n",
       "    </tr>\n",
       "    <tr>\n",
       "      <th>1</th>\n",
       "      <td>07-FEB-18 00:00:00</td>\n",
       "      <td>6262138</td>\n",
       "      <td>25B</td>\n",
       "      <td>25B_271</td>\n",
       "      <td>2</td>\n",
       "      <td>30517.0</td>\n",
       "      <td>26460.0</td>\n",
       "      <td>32752.0</td>\n",
       "      <td>NaN</td>\n",
       "    </tr>\n",
       "    <tr>\n",
       "      <th>2</th>\n",
       "      <td>07-FEB-18 00:00:00</td>\n",
       "      <td>6254942</td>\n",
       "      <td>45A</td>\n",
       "      <td>45A_70</td>\n",
       "      <td>2</td>\n",
       "      <td>35512.0</td>\n",
       "      <td>32100.0</td>\n",
       "      <td>36329.0</td>\n",
       "      <td>32082.0</td>\n",
       "    </tr>\n",
       "    <tr>\n",
       "      <th>3</th>\n",
       "      <td>07-FEB-18 00:00:00</td>\n",
       "      <td>6259460</td>\n",
       "      <td>25A</td>\n",
       "      <td>25A_273</td>\n",
       "      <td>1</td>\n",
       "      <td>57261.0</td>\n",
       "      <td>54420.0</td>\n",
       "      <td>58463.0</td>\n",
       "      <td>54443.0</td>\n",
       "    </tr>\n",
       "    <tr>\n",
       "      <th>4</th>\n",
       "      <td>07-FEB-18 00:00:00</td>\n",
       "      <td>6253175</td>\n",
       "      <td>14</td>\n",
       "      <td>14_15</td>\n",
       "      <td>1</td>\n",
       "      <td>85383.0</td>\n",
       "      <td>81600.0</td>\n",
       "      <td>84682.0</td>\n",
       "      <td>81608.0</td>\n",
       "    </tr>\n",
       "    <tr>\n",
       "      <th>...</th>\n",
       "      <td>...</td>\n",
       "      <td>...</td>\n",
       "      <td>...</td>\n",
       "      <td>...</td>\n",
       "      <td>...</td>\n",
       "      <td>...</td>\n",
       "      <td>...</td>\n",
       "      <td>...</td>\n",
       "      <td>...</td>\n",
       "    </tr>\n",
       "    <tr>\n",
       "      <th>727494</th>\n",
       "      <td>14-MAY-18 00:00:00</td>\n",
       "      <td>6765849</td>\n",
       "      <td>123</td>\n",
       "      <td>123_36</td>\n",
       "      <td>2</td>\n",
       "      <td>61560.0</td>\n",
       "      <td>57840.0</td>\n",
       "      <td>61365.0</td>\n",
       "      <td>57859.0</td>\n",
       "    </tr>\n",
       "    <tr>\n",
       "      <th>727495</th>\n",
       "      <td>14-MAY-18 00:00:00</td>\n",
       "      <td>6765469</td>\n",
       "      <td>75</td>\n",
       "      <td>75_17</td>\n",
       "      <td>1</td>\n",
       "      <td>53416.0</td>\n",
       "      <td>48600.0</td>\n",
       "      <td>NaN</td>\n",
       "      <td>48823.0</td>\n",
       "    </tr>\n",
       "    <tr>\n",
       "      <th>727496</th>\n",
       "      <td>14-MAY-18 00:00:00</td>\n",
       "      <td>6765486</td>\n",
       "      <td>33D</td>\n",
       "      <td>33D_62</td>\n",
       "      <td>2</td>\n",
       "      <td>29460.0</td>\n",
       "      <td>26400.0</td>\n",
       "      <td>29904.0</td>\n",
       "      <td>NaN</td>\n",
       "    </tr>\n",
       "    <tr>\n",
       "      <th>727497</th>\n",
       "      <td>14-MAY-18 00:00:00</td>\n",
       "      <td>6764987</td>\n",
       "      <td>70</td>\n",
       "      <td>70_60</td>\n",
       "      <td>1</td>\n",
       "      <td>65277.0</td>\n",
       "      <td>60600.0</td>\n",
       "      <td>66341.0</td>\n",
       "      <td>NaN</td>\n",
       "    </tr>\n",
       "    <tr>\n",
       "      <th>727498</th>\n",
       "      <td>14-MAY-18 00:00:00</td>\n",
       "      <td>6765012</td>\n",
       "      <td>27</td>\n",
       "      <td>27_19</td>\n",
       "      <td>1</td>\n",
       "      <td>47722.0</td>\n",
       "      <td>41700.0</td>\n",
       "      <td>47508.0</td>\n",
       "      <td>41642.0</td>\n",
       "    </tr>\n",
       "  </tbody>\n",
       "</table>\n",
       "<p>2182637 rows × 9 columns</p>\n",
       "</div>"
      ],
      "text/plain": [
       "              DAYOFSERVICE   TRIPID LINEID  ROUTEID DIRECTION  \\\n",
       "0       07-FEB-18 00:00:00  6253783     68    68_80        1    \n",
       "1       07-FEB-18 00:00:00  6262138    25B  25B_271        2    \n",
       "2       07-FEB-18 00:00:00  6254942    45A   45A_70        2    \n",
       "3       07-FEB-18 00:00:00  6259460    25A  25A_273        1    \n",
       "4       07-FEB-18 00:00:00  6253175     14    14_15        1    \n",
       "...                    ...      ...    ...      ...       ...   \n",
       "727494  14-MAY-18 00:00:00  6765849    123   123_36        2    \n",
       "727495  14-MAY-18 00:00:00  6765469     75    75_17        1    \n",
       "727496  14-MAY-18 00:00:00  6765486    33D   33D_62        2    \n",
       "727497  14-MAY-18 00:00:00  6764987     70    70_60        1    \n",
       "727498  14-MAY-18 00:00:00  6765012     27    27_19        1    \n",
       "\n",
       "        PLANNEDTIME_ARR  PLANNEDTIME_DEP  ACTUALTIME_ARR  ACTUALTIME_DEP  \n",
       "0               87245.0          84600.0         87524.0         84600.0  \n",
       "1               30517.0          26460.0         32752.0             NaN  \n",
       "2               35512.0          32100.0         36329.0         32082.0  \n",
       "3               57261.0          54420.0         58463.0         54443.0  \n",
       "4               85383.0          81600.0         84682.0         81608.0  \n",
       "...                 ...              ...             ...             ...  \n",
       "727494          61560.0          57840.0         61365.0         57859.0  \n",
       "727495          53416.0          48600.0             NaN         48823.0  \n",
       "727496          29460.0          26400.0         29904.0             NaN  \n",
       "727497          65277.0          60600.0         66341.0             NaN  \n",
       "727498          47722.0          41700.0         47508.0         41642.0  \n",
       "\n",
       "[2182637 rows x 9 columns]"
      ]
     },
     "execution_count": 35,
     "metadata": {},
     "output_type": "execute_result"
    }
   ],
   "source": [
    "trips"
   ]
  },
  {
   "cell_type": "code",
   "execution_count": 36,
   "id": "07dbc898",
   "metadata": {},
   "outputs": [
    {
     "data": {
      "text/html": [
       "<div>\n",
       "<style scoped>\n",
       "    .dataframe tbody tr th:only-of-type {\n",
       "        vertical-align: middle;\n",
       "    }\n",
       "\n",
       "    .dataframe tbody tr th {\n",
       "        vertical-align: top;\n",
       "    }\n",
       "\n",
       "    .dataframe thead th {\n",
       "        text-align: right;\n",
       "    }\n",
       "</style>\n",
       "<table border=\"1\" class=\"dataframe\">\n",
       "  <thead>\n",
       "    <tr style=\"text-align: right;\">\n",
       "      <th></th>\n",
       "      <th>DAYOFSERVICE</th>\n",
       "      <th>TRIPID</th>\n",
       "      <th>LINEID</th>\n",
       "      <th>ROUTEID</th>\n",
       "      <th>DIRECTION</th>\n",
       "      <th>PLANNEDTIME_ARR</th>\n",
       "      <th>PLANNEDTIME_DEP</th>\n",
       "      <th>ACTUALTIME_ARR</th>\n",
       "      <th>ACTUALTIME_DEP</th>\n",
       "    </tr>\n",
       "  </thead>\n",
       "  <tbody>\n",
       "    <tr>\n",
       "      <th>0</th>\n",
       "      <td>07-FEB-18 00:00:00</td>\n",
       "      <td>6253783</td>\n",
       "      <td>68</td>\n",
       "      <td>68_80</td>\n",
       "      <td>1</td>\n",
       "      <td>87245.0</td>\n",
       "      <td>84600.0</td>\n",
       "      <td>87524.0</td>\n",
       "      <td>84600.0</td>\n",
       "    </tr>\n",
       "    <tr>\n",
       "      <th>1</th>\n",
       "      <td>07-FEB-18 00:00:00</td>\n",
       "      <td>6262138</td>\n",
       "      <td>25B</td>\n",
       "      <td>25B_271</td>\n",
       "      <td>2</td>\n",
       "      <td>30517.0</td>\n",
       "      <td>26460.0</td>\n",
       "      <td>32752.0</td>\n",
       "      <td>NaN</td>\n",
       "    </tr>\n",
       "    <tr>\n",
       "      <th>2</th>\n",
       "      <td>07-FEB-18 00:00:00</td>\n",
       "      <td>6254942</td>\n",
       "      <td>45A</td>\n",
       "      <td>45A_70</td>\n",
       "      <td>2</td>\n",
       "      <td>35512.0</td>\n",
       "      <td>32100.0</td>\n",
       "      <td>36329.0</td>\n",
       "      <td>32082.0</td>\n",
       "    </tr>\n",
       "  </tbody>\n",
       "</table>\n",
       "</div>"
      ],
      "text/plain": [
       "         DAYOFSERVICE   TRIPID LINEID  ROUTEID DIRECTION  PLANNEDTIME_ARR  \\\n",
       "0  07-FEB-18 00:00:00  6253783     68    68_80        1           87245.0   \n",
       "1  07-FEB-18 00:00:00  6262138    25B  25B_271        2           30517.0   \n",
       "2  07-FEB-18 00:00:00  6254942    45A   45A_70        2           35512.0   \n",
       "\n",
       "   PLANNEDTIME_DEP  ACTUALTIME_ARR  ACTUALTIME_DEP  \n",
       "0          84600.0         87524.0         84600.0  \n",
       "1          26460.0         32752.0             NaN  \n",
       "2          32100.0         36329.0         32082.0  "
      ]
     },
     "execution_count": 36,
     "metadata": {},
     "output_type": "execute_result"
    }
   ],
   "source": [
    "trips.head(3)"
   ]
  },
  {
   "cell_type": "code",
   "execution_count": 15,
   "id": "481800d4",
   "metadata": {},
   "outputs": [],
   "source": [
    "#changes the formats and created column to merge with that used less memory\n",
    "trips[\"DAYOFSERVICE\"] = trips[\"DAYOFSERVICE\"].astype(\"datetime64\")\n",
    "trips[\"DOY\"] = trips[\"DAYOFSERVICE\"].dt.dayofyear\n",
    "\n",
    "trips[\"DOY\"] = trips[\"DOY\"].astype(\"int16\")\n",
    "\n",
    "trips = trips.drop(\"DAYOFSERVICE\", axis=1)"
   ]
  },
  {
   "cell_type": "code",
   "execution_count": 16,
   "id": "4c508701",
   "metadata": {},
   "outputs": [
    {
     "data": {
      "text/plain": [
       "360"
      ]
     },
     "execution_count": 16,
     "metadata": {},
     "output_type": "execute_result"
    }
   ],
   "source": [
    "trips.DOY.nunique()"
   ]
  },
  {
   "cell_type": "markdown",
   "id": "99d91ee5",
   "metadata": {},
   "source": [
    "- 5 days missing"
   ]
  },
  {
   "cell_type": "code",
   "execution_count": 7,
   "id": "470cd000",
   "metadata": {},
   "outputs": [
    {
     "data": {
      "text/plain": [
       "svmem(total=67481169920, available=26694668288, percent=60.4, used=32032460800, free=17711017984, active=29680484352, inactive=18249068544, buffers=1880395776, cached=15857295360, shared=8072052736, slab=1142521856)"
      ]
     },
     "execution_count": 7,
     "metadata": {},
     "output_type": "execute_result"
    }
   ],
   "source": [
    "psutil.virtual_memory()"
   ]
  },
  {
   "cell_type": "code",
   "execution_count": 8,
   "id": "22f6a9fb",
   "metadata": {},
   "outputs": [
    {
     "name": "stdout",
     "output_type": "stream",
     "text": [
      "CPU times: user 51.4 ms, sys: 3.74 ms, total: 55.2 ms\n",
      "Wall time: 103 ms\n"
     ]
    }
   ],
   "source": [
    "%%time\n",
    "leaveTimes = dd.read_csv('rt_leavetimes_DB_2018.txt', sep=\";\", dtype={'DATASOURCE': 'category', 'DAYOFSERVICE': 'object', 'PROGRNUMBER': 'int8', 'STOPPOINTID': 'int16','TRIPID': 'int32', 'LINEID': 'category', 'ROUTEID': 'category', 'VEHICLEID': 'category', 'PLANNEDTIME_ARR': 'int32', 'PLANNEDTIME_DEP': 'int32', 'ACTUALTIME_ARR': 'int32', 'ACTUALTIME_DEP': 'int32','PASSENGERSIN': 'category', 'PASSENGERSOUT': 'category', 'DISTANCE': 'category', 'SUPPRESSED': 'category', 'JUSTIFICATIONID': 'string', 'LASTUPDATE': 'string', 'NOTE': 'string'})"
   ]
  },
  {
   "cell_type": "code",
   "execution_count": 9,
   "id": "b04b934e",
   "metadata": {},
   "outputs": [
    {
     "data": {
      "text/plain": [
       "svmem(total=67481169920, available=26691756032, percent=60.4, used=32035364864, free=17707462656, active=29683171328, inactive=18249711616, buffers=1880399872, cached=15857942528, shared=8072052736, slab=1142521856)"
      ]
     },
     "execution_count": 9,
     "metadata": {},
     "output_type": "execute_result"
    }
   ],
   "source": [
    "psutil.virtual_memory()"
   ]
  },
  {
   "cell_type": "code",
   "execution_count": 10,
   "id": "86d9c103",
   "metadata": {},
   "outputs": [
    {
     "data": {
      "text/html": [
       "<div><strong>Dask DataFrame Structure:</strong></div>\n",
       "<div>\n",
       "<style scoped>\n",
       "    .dataframe tbody tr th:only-of-type {\n",
       "        vertical-align: middle;\n",
       "    }\n",
       "\n",
       "    .dataframe tbody tr th {\n",
       "        vertical-align: top;\n",
       "    }\n",
       "\n",
       "    .dataframe thead th {\n",
       "        text-align: right;\n",
       "    }\n",
       "</style>\n",
       "<table border=\"1\" class=\"dataframe\">\n",
       "  <thead>\n",
       "    <tr style=\"text-align: right;\">\n",
       "      <th></th>\n",
       "      <th>DATASOURCE</th>\n",
       "      <th>DAYOFSERVICE</th>\n",
       "      <th>TRIPID</th>\n",
       "      <th>PROGRNUMBER</th>\n",
       "      <th>STOPPOINTID</th>\n",
       "      <th>PLANNEDTIME_ARR</th>\n",
       "      <th>PLANNEDTIME_DEP</th>\n",
       "      <th>ACTUALTIME_ARR</th>\n",
       "      <th>ACTUALTIME_DEP</th>\n",
       "      <th>VEHICLEID</th>\n",
       "      <th>PASSENGERS</th>\n",
       "      <th>PASSENGERSIN</th>\n",
       "      <th>PASSENGERSOUT</th>\n",
       "      <th>DISTANCE</th>\n",
       "      <th>SUPPRESSED</th>\n",
       "      <th>JUSTIFICATIONID</th>\n",
       "      <th>LASTUPDATE</th>\n",
       "      <th>NOTE</th>\n",
       "    </tr>\n",
       "    <tr>\n",
       "      <th>npartitions=176</th>\n",
       "      <th></th>\n",
       "      <th></th>\n",
       "      <th></th>\n",
       "      <th></th>\n",
       "      <th></th>\n",
       "      <th></th>\n",
       "      <th></th>\n",
       "      <th></th>\n",
       "      <th></th>\n",
       "      <th></th>\n",
       "      <th></th>\n",
       "      <th></th>\n",
       "      <th></th>\n",
       "      <th></th>\n",
       "      <th></th>\n",
       "      <th></th>\n",
       "      <th></th>\n",
       "      <th></th>\n",
       "    </tr>\n",
       "  </thead>\n",
       "  <tbody>\n",
       "    <tr>\n",
       "      <th></th>\n",
       "      <td>category[unknown]</td>\n",
       "      <td>object</td>\n",
       "      <td>int32</td>\n",
       "      <td>int8</td>\n",
       "      <td>int16</td>\n",
       "      <td>int32</td>\n",
       "      <td>int32</td>\n",
       "      <td>int32</td>\n",
       "      <td>int32</td>\n",
       "      <td>category[unknown]</td>\n",
       "      <td>float64</td>\n",
       "      <td>category[unknown]</td>\n",
       "      <td>category[unknown]</td>\n",
       "      <td>category[unknown]</td>\n",
       "      <td>category[unknown]</td>\n",
       "      <td>string</td>\n",
       "      <td>string</td>\n",
       "      <td>string</td>\n",
       "    </tr>\n",
       "    <tr>\n",
       "      <th></th>\n",
       "      <td>...</td>\n",
       "      <td>...</td>\n",
       "      <td>...</td>\n",
       "      <td>...</td>\n",
       "      <td>...</td>\n",
       "      <td>...</td>\n",
       "      <td>...</td>\n",
       "      <td>...</td>\n",
       "      <td>...</td>\n",
       "      <td>...</td>\n",
       "      <td>...</td>\n",
       "      <td>...</td>\n",
       "      <td>...</td>\n",
       "      <td>...</td>\n",
       "      <td>...</td>\n",
       "      <td>...</td>\n",
       "      <td>...</td>\n",
       "      <td>...</td>\n",
       "    </tr>\n",
       "    <tr>\n",
       "      <th>...</th>\n",
       "      <td>...</td>\n",
       "      <td>...</td>\n",
       "      <td>...</td>\n",
       "      <td>...</td>\n",
       "      <td>...</td>\n",
       "      <td>...</td>\n",
       "      <td>...</td>\n",
       "      <td>...</td>\n",
       "      <td>...</td>\n",
       "      <td>...</td>\n",
       "      <td>...</td>\n",
       "      <td>...</td>\n",
       "      <td>...</td>\n",
       "      <td>...</td>\n",
       "      <td>...</td>\n",
       "      <td>...</td>\n",
       "      <td>...</td>\n",
       "      <td>...</td>\n",
       "    </tr>\n",
       "    <tr>\n",
       "      <th></th>\n",
       "      <td>...</td>\n",
       "      <td>...</td>\n",
       "      <td>...</td>\n",
       "      <td>...</td>\n",
       "      <td>...</td>\n",
       "      <td>...</td>\n",
       "      <td>...</td>\n",
       "      <td>...</td>\n",
       "      <td>...</td>\n",
       "      <td>...</td>\n",
       "      <td>...</td>\n",
       "      <td>...</td>\n",
       "      <td>...</td>\n",
       "      <td>...</td>\n",
       "      <td>...</td>\n",
       "      <td>...</td>\n",
       "      <td>...</td>\n",
       "      <td>...</td>\n",
       "    </tr>\n",
       "    <tr>\n",
       "      <th></th>\n",
       "      <td>...</td>\n",
       "      <td>...</td>\n",
       "      <td>...</td>\n",
       "      <td>...</td>\n",
       "      <td>...</td>\n",
       "      <td>...</td>\n",
       "      <td>...</td>\n",
       "      <td>...</td>\n",
       "      <td>...</td>\n",
       "      <td>...</td>\n",
       "      <td>...</td>\n",
       "      <td>...</td>\n",
       "      <td>...</td>\n",
       "      <td>...</td>\n",
       "      <td>...</td>\n",
       "      <td>...</td>\n",
       "      <td>...</td>\n",
       "      <td>...</td>\n",
       "    </tr>\n",
       "  </tbody>\n",
       "</table>\n",
       "</div>\n",
       "<div>Dask Name: read-csv, 176 tasks</div>"
      ],
      "text/plain": [
       "Dask DataFrame Structure:\n",
       "                        DATASOURCE DAYOFSERVICE TRIPID PROGRNUMBER STOPPOINTID PLANNEDTIME_ARR PLANNEDTIME_DEP ACTUALTIME_ARR ACTUALTIME_DEP          VEHICLEID PASSENGERS       PASSENGERSIN      PASSENGERSOUT           DISTANCE         SUPPRESSED JUSTIFICATIONID LASTUPDATE    NOTE\n",
       "npartitions=176                                                                                                                                                                                                                                                                          \n",
       "                 category[unknown]       object  int32        int8       int16           int32           int32          int32          int32  category[unknown]    float64  category[unknown]  category[unknown]  category[unknown]  category[unknown]          string     string  string\n",
       "                               ...          ...    ...         ...         ...             ...             ...            ...            ...                ...        ...                ...                ...                ...                ...             ...        ...     ...\n",
       "...                            ...          ...    ...         ...         ...             ...             ...            ...            ...                ...        ...                ...                ...                ...                ...             ...        ...     ...\n",
       "                               ...          ...    ...         ...         ...             ...             ...            ...            ...                ...        ...                ...                ...                ...                ...             ...        ...     ...\n",
       "                               ...          ...    ...         ...         ...             ...             ...            ...            ...                ...        ...                ...                ...                ...                ...             ...        ...     ...\n",
       "Dask Name: read-csv, 176 tasks"
      ]
     },
     "execution_count": 10,
     "metadata": {},
     "output_type": "execute_result"
    }
   ],
   "source": [
    "leaveTimes"
   ]
  },
  {
   "cell_type": "code",
   "execution_count": 11,
   "id": "76e2b16d",
   "metadata": {},
   "outputs": [],
   "source": [
    "leaveTimes = leaveTimes.drop({\"PLANNEDTIME_DEP\", \"ACTUALTIME_DEP\", \"DISTANCE\", \"VEHICLEID\", \"SUPPRESSED\", \"JUSTIFICATIONID\", \"DATASOURCE\", \"NOTE\", \"PASSENGERSOUT\", \"PASSENGERSIN\", \"PASSENGERS\", \"LASTUPDATE\" }, axis=1)"
   ]
  },
  {
   "cell_type": "code",
   "execution_count": 12,
   "id": "fcd6aecc",
   "metadata": {},
   "outputs": [
    {
     "data": {
      "text/html": [
       "<div>\n",
       "<style scoped>\n",
       "    .dataframe tbody tr th:only-of-type {\n",
       "        vertical-align: middle;\n",
       "    }\n",
       "\n",
       "    .dataframe tbody tr th {\n",
       "        vertical-align: top;\n",
       "    }\n",
       "\n",
       "    .dataframe thead th {\n",
       "        text-align: right;\n",
       "    }\n",
       "</style>\n",
       "<table border=\"1\" class=\"dataframe\">\n",
       "  <thead>\n",
       "    <tr style=\"text-align: right;\">\n",
       "      <th></th>\n",
       "      <th>DAYOFSERVICE</th>\n",
       "      <th>TRIPID</th>\n",
       "      <th>PROGRNUMBER</th>\n",
       "      <th>STOPPOINTID</th>\n",
       "      <th>PLANNEDTIME_ARR</th>\n",
       "      <th>ACTUALTIME_ARR</th>\n",
       "    </tr>\n",
       "  </thead>\n",
       "  <tbody>\n",
       "    <tr>\n",
       "      <th>0</th>\n",
       "      <td>01-JAN-18 00:00:00</td>\n",
       "      <td>5972116</td>\n",
       "      <td>12</td>\n",
       "      <td>119</td>\n",
       "      <td>48030</td>\n",
       "      <td>48012</td>\n",
       "    </tr>\n",
       "    <tr>\n",
       "      <th>1</th>\n",
       "      <td>01-JAN-18 00:00:00</td>\n",
       "      <td>5966674</td>\n",
       "      <td>12</td>\n",
       "      <td>119</td>\n",
       "      <td>54001</td>\n",
       "      <td>54023</td>\n",
       "    </tr>\n",
       "    <tr>\n",
       "      <th>2</th>\n",
       "      <td>01-JAN-18 00:00:00</td>\n",
       "      <td>5959105</td>\n",
       "      <td>12</td>\n",
       "      <td>119</td>\n",
       "      <td>60001</td>\n",
       "      <td>59955</td>\n",
       "    </tr>\n",
       "  </tbody>\n",
       "</table>\n",
       "</div>"
      ],
      "text/plain": [
       "         DAYOFSERVICE   TRIPID  PROGRNUMBER  STOPPOINTID  PLANNEDTIME_ARR  \\\n",
       "0  01-JAN-18 00:00:00  5972116           12          119            48030   \n",
       "1  01-JAN-18 00:00:00  5966674           12          119            54001   \n",
       "2  01-JAN-18 00:00:00  5959105           12          119            60001   \n",
       "\n",
       "   ACTUALTIME_ARR  \n",
       "0           48012  \n",
       "1           54023  \n",
       "2           59955  "
      ]
     },
     "execution_count": 12,
     "metadata": {},
     "output_type": "execute_result"
    }
   ],
   "source": [
    "leaveTimes.head(3)"
   ]
  },
  {
   "cell_type": "code",
   "execution_count": 13,
   "id": "13f678d0",
   "metadata": {},
   "outputs": [
    {
     "data": {
      "text/html": [
       "<div><strong>Dask DataFrame Structure:</strong></div>\n",
       "<div>\n",
       "<style scoped>\n",
       "    .dataframe tbody tr th:only-of-type {\n",
       "        vertical-align: middle;\n",
       "    }\n",
       "\n",
       "    .dataframe tbody tr th {\n",
       "        vertical-align: top;\n",
       "    }\n",
       "\n",
       "    .dataframe thead th {\n",
       "        text-align: right;\n",
       "    }\n",
       "</style>\n",
       "<table border=\"1\" class=\"dataframe\">\n",
       "  <thead>\n",
       "    <tr style=\"text-align: right;\">\n",
       "      <th></th>\n",
       "      <th>DAYOFSERVICE</th>\n",
       "      <th>TRIPID</th>\n",
       "      <th>PROGRNUMBER</th>\n",
       "      <th>STOPPOINTID</th>\n",
       "      <th>PLANNEDTIME_ARR</th>\n",
       "      <th>ACTUALTIME_ARR</th>\n",
       "    </tr>\n",
       "    <tr>\n",
       "      <th>npartitions=176</th>\n",
       "      <th></th>\n",
       "      <th></th>\n",
       "      <th></th>\n",
       "      <th></th>\n",
       "      <th></th>\n",
       "      <th></th>\n",
       "    </tr>\n",
       "  </thead>\n",
       "  <tbody>\n",
       "    <tr>\n",
       "      <th></th>\n",
       "      <td>object</td>\n",
       "      <td>int32</td>\n",
       "      <td>int8</td>\n",
       "      <td>int16</td>\n",
       "      <td>int32</td>\n",
       "      <td>int32</td>\n",
       "    </tr>\n",
       "    <tr>\n",
       "      <th></th>\n",
       "      <td>...</td>\n",
       "      <td>...</td>\n",
       "      <td>...</td>\n",
       "      <td>...</td>\n",
       "      <td>...</td>\n",
       "      <td>...</td>\n",
       "    </tr>\n",
       "    <tr>\n",
       "      <th>...</th>\n",
       "      <td>...</td>\n",
       "      <td>...</td>\n",
       "      <td>...</td>\n",
       "      <td>...</td>\n",
       "      <td>...</td>\n",
       "      <td>...</td>\n",
       "    </tr>\n",
       "    <tr>\n",
       "      <th></th>\n",
       "      <td>...</td>\n",
       "      <td>...</td>\n",
       "      <td>...</td>\n",
       "      <td>...</td>\n",
       "      <td>...</td>\n",
       "      <td>...</td>\n",
       "    </tr>\n",
       "    <tr>\n",
       "      <th></th>\n",
       "      <td>...</td>\n",
       "      <td>...</td>\n",
       "      <td>...</td>\n",
       "      <td>...</td>\n",
       "      <td>...</td>\n",
       "      <td>...</td>\n",
       "    </tr>\n",
       "  </tbody>\n",
       "</table>\n",
       "</div>\n",
       "<div>Dask Name: drop_by_shallow_copy, 352 tasks</div>"
      ],
      "text/plain": [
       "Dask DataFrame Structure:\n",
       "                DAYOFSERVICE TRIPID PROGRNUMBER STOPPOINTID PLANNEDTIME_ARR ACTUALTIME_ARR\n",
       "npartitions=176                                                                           \n",
       "                      object  int32        int8       int16           int32          int32\n",
       "                         ...    ...         ...         ...             ...            ...\n",
       "...                      ...    ...         ...         ...             ...            ...\n",
       "                         ...    ...         ...         ...             ...            ...\n",
       "                         ...    ...         ...         ...             ...            ...\n",
       "Dask Name: drop_by_shallow_copy, 352 tasks"
      ]
     },
     "execution_count": 13,
     "metadata": {},
     "output_type": "execute_result"
    }
   ],
   "source": [
    "leaveTimes"
   ]
  },
  {
   "cell_type": "code",
   "execution_count": 14,
   "id": "9c8079d1",
   "metadata": {},
   "outputs": [],
   "source": [
    "leaveTimes[\"DAYOFSERVICE\"] = leaveTimes[\"DAYOFSERVICE\"].astype(\"datetime64\")\n"
   ]
  },
  {
   "cell_type": "code",
   "execution_count": 15,
   "id": "56019254",
   "metadata": {},
   "outputs": [],
   "source": [
    "leaveTimes[\"DOY\"] = leaveTimes[\"DAYOFSERVICE\"].dt.dayofyear\n"
   ]
  },
  {
   "cell_type": "code",
   "execution_count": 16,
   "id": "26e77d4c",
   "metadata": {},
   "outputs": [
    {
     "data": {
      "text/html": [
       "<div>\n",
       "<style scoped>\n",
       "    .dataframe tbody tr th:only-of-type {\n",
       "        vertical-align: middle;\n",
       "    }\n",
       "\n",
       "    .dataframe tbody tr th {\n",
       "        vertical-align: top;\n",
       "    }\n",
       "\n",
       "    .dataframe thead th {\n",
       "        text-align: right;\n",
       "    }\n",
       "</style>\n",
       "<table border=\"1\" class=\"dataframe\">\n",
       "  <thead>\n",
       "    <tr style=\"text-align: right;\">\n",
       "      <th></th>\n",
       "      <th>DAYOFSERVICE</th>\n",
       "      <th>TRIPID</th>\n",
       "      <th>PROGRNUMBER</th>\n",
       "      <th>STOPPOINTID</th>\n",
       "      <th>PLANNEDTIME_ARR</th>\n",
       "      <th>ACTUALTIME_ARR</th>\n",
       "      <th>DOY</th>\n",
       "    </tr>\n",
       "  </thead>\n",
       "  <tbody>\n",
       "    <tr>\n",
       "      <th>0</th>\n",
       "      <td>2018-01-01</td>\n",
       "      <td>5972116</td>\n",
       "      <td>12</td>\n",
       "      <td>119</td>\n",
       "      <td>48030</td>\n",
       "      <td>48012</td>\n",
       "      <td>1</td>\n",
       "    </tr>\n",
       "    <tr>\n",
       "      <th>1</th>\n",
       "      <td>2018-01-01</td>\n",
       "      <td>5966674</td>\n",
       "      <td>12</td>\n",
       "      <td>119</td>\n",
       "      <td>54001</td>\n",
       "      <td>54023</td>\n",
       "      <td>1</td>\n",
       "    </tr>\n",
       "    <tr>\n",
       "      <th>2</th>\n",
       "      <td>2018-01-01</td>\n",
       "      <td>5959105</td>\n",
       "      <td>12</td>\n",
       "      <td>119</td>\n",
       "      <td>60001</td>\n",
       "      <td>59955</td>\n",
       "      <td>1</td>\n",
       "    </tr>\n",
       "  </tbody>\n",
       "</table>\n",
       "</div>"
      ],
      "text/plain": [
       "  DAYOFSERVICE   TRIPID  PROGRNUMBER  STOPPOINTID  PLANNEDTIME_ARR  \\\n",
       "0   2018-01-01  5972116           12          119            48030   \n",
       "1   2018-01-01  5966674           12          119            54001   \n",
       "2   2018-01-01  5959105           12          119            60001   \n",
       "\n",
       "   ACTUALTIME_ARR  DOY  \n",
       "0           48012    1  \n",
       "1           54023    1  \n",
       "2           59955    1  "
      ]
     },
     "execution_count": 16,
     "metadata": {},
     "output_type": "execute_result"
    }
   ],
   "source": [
    "leaveTimes.head(3)"
   ]
  },
  {
   "cell_type": "code",
   "execution_count": 17,
   "id": "1a9e185a",
   "metadata": {},
   "outputs": [],
   "source": [
    "# puts back into smaller memory size\n",
    "leaveTimes[\"DAYOFSERVICE\"] = leaveTimes[\"DAYOFSERVICE\"].astype(\"category\")\n",
    "leaveTimes[\"DOY\"] = leaveTimes[\"DOY\"].astype(\"int16\")"
   ]
  },
  {
   "cell_type": "code",
   "execution_count": 18,
   "id": "c52abb28",
   "metadata": {},
   "outputs": [
    {
     "data": {
      "text/plain": [
       "DAYOFSERVICE       category\n",
       "TRIPID                int32\n",
       "PROGRNUMBER            int8\n",
       "STOPPOINTID           int16\n",
       "PLANNEDTIME_ARR       int32\n",
       "ACTUALTIME_ARR        int32\n",
       "DOY                   int16\n",
       "dtype: object"
      ]
     },
     "execution_count": 18,
     "metadata": {},
     "output_type": "execute_result"
    }
   ],
   "source": [
    "leaveTimes.dtypes"
   ]
  },
  {
   "cell_type": "code",
   "execution_count": 19,
   "id": "5a5c5957",
   "metadata": {},
   "outputs": [
    {
     "data": {
      "text/plain": [
       "svmem(total=67481169920, available=26559164416, percent=60.6, used=32167976960, free=17510879232, active=29879955456, inactive=18249281536, buffers=1880399872, cached=15921913856, shared=8072052736, slab=1142366208)"
      ]
     },
     "execution_count": 19,
     "metadata": {},
     "output_type": "execute_result"
    }
   ],
   "source": [
    "psutil.virtual_memory()"
   ]
  },
  {
   "cell_type": "code",
   "execution_count": 20,
   "id": "634f5253",
   "metadata": {},
   "outputs": [
    {
     "name": "stdout",
     "output_type": "stream",
     "text": [
      "CPU times: user 6min 35s, sys: 1min 8s, total: 7min 44s\n",
      "Wall time: 3min 45s\n"
     ]
    }
   ],
   "source": [
    "%%time\n",
    "# drops DAYOFSERVICE and switches to pandas\n",
    "# better to do early before tasks count gets too big it can make the computation take longer\n",
    "leaveTimes = leaveTimes.drop(\"DAYOFSERVICE\", axis=1).compute()"
   ]
  },
  {
   "cell_type": "code",
   "execution_count": 21,
   "id": "ad60a773",
   "metadata": {},
   "outputs": [
    {
     "name": "stdout",
     "output_type": "stream",
     "text": [
      "Once deleted, variables cannot be recovered. Proceed (y/[n])? y\n",
      "Flushing output cache (10 entries)\n"
     ]
    }
   ],
   "source": [
    "# clears bad cache from ram\n",
    "%reset Out"
   ]
  },
  {
   "cell_type": "code",
   "execution_count": 22,
   "id": "f79a8661",
   "metadata": {},
   "outputs": [
    {
     "data": {
      "text/plain": [
       "svmem(total=67481169920, available=19450544128, percent=71.2, used=39272349696, free=7935504384, active=35673001984, inactive=22296117248, buffers=1215574016, cached=19057741824, shared=8072048640, slab=866537472)"
      ]
     },
     "execution_count": 22,
     "metadata": {},
     "output_type": "execute_result"
    }
   ],
   "source": [
    "psutil.virtual_memory()"
   ]
  },
  {
   "cell_type": "code",
   "execution_count": 23,
   "id": "eb3d105d",
   "metadata": {},
   "outputs": [
    {
     "data": {
      "text/html": [
       "<div>\n",
       "<style scoped>\n",
       "    .dataframe tbody tr th:only-of-type {\n",
       "        vertical-align: middle;\n",
       "    }\n",
       "\n",
       "    .dataframe tbody tr th {\n",
       "        vertical-align: top;\n",
       "    }\n",
       "\n",
       "    .dataframe thead th {\n",
       "        text-align: right;\n",
       "    }\n",
       "</style>\n",
       "<table border=\"1\" class=\"dataframe\">\n",
       "  <thead>\n",
       "    <tr style=\"text-align: right;\">\n",
       "      <th></th>\n",
       "      <th>TRIPID</th>\n",
       "      <th>PROGRNUMBER</th>\n",
       "      <th>STOPPOINTID</th>\n",
       "      <th>PLANNEDTIME_ARR</th>\n",
       "      <th>ACTUALTIME_ARR</th>\n",
       "      <th>DOY</th>\n",
       "    </tr>\n",
       "  </thead>\n",
       "  <tbody>\n",
       "    <tr>\n",
       "      <th>0</th>\n",
       "      <td>5972116</td>\n",
       "      <td>12</td>\n",
       "      <td>119</td>\n",
       "      <td>48030</td>\n",
       "      <td>48012</td>\n",
       "      <td>1</td>\n",
       "    </tr>\n",
       "    <tr>\n",
       "      <th>1</th>\n",
       "      <td>5966674</td>\n",
       "      <td>12</td>\n",
       "      <td>119</td>\n",
       "      <td>54001</td>\n",
       "      <td>54023</td>\n",
       "      <td>1</td>\n",
       "    </tr>\n",
       "    <tr>\n",
       "      <th>2</th>\n",
       "      <td>5959105</td>\n",
       "      <td>12</td>\n",
       "      <td>119</td>\n",
       "      <td>60001</td>\n",
       "      <td>59955</td>\n",
       "      <td>1</td>\n",
       "    </tr>\n",
       "    <tr>\n",
       "      <th>3</th>\n",
       "      <td>5966888</td>\n",
       "      <td>12</td>\n",
       "      <td>119</td>\n",
       "      <td>58801</td>\n",
       "      <td>58771</td>\n",
       "      <td>1</td>\n",
       "    </tr>\n",
       "    <tr>\n",
       "      <th>4</th>\n",
       "      <td>5965960</td>\n",
       "      <td>12</td>\n",
       "      <td>119</td>\n",
       "      <td>56401</td>\n",
       "      <td>56309</td>\n",
       "      <td>1</td>\n",
       "    </tr>\n",
       "    <tr>\n",
       "      <th>...</th>\n",
       "      <td>...</td>\n",
       "      <td>...</td>\n",
       "      <td>...</td>\n",
       "      <td>...</td>\n",
       "      <td>...</td>\n",
       "      <td>...</td>\n",
       "    </tr>\n",
       "    <tr>\n",
       "      <th>664446</th>\n",
       "      <td>8588153</td>\n",
       "      <td>78</td>\n",
       "      <td>4383</td>\n",
       "      <td>28605</td>\n",
       "      <td>28998</td>\n",
       "      <td>365</td>\n",
       "    </tr>\n",
       "    <tr>\n",
       "      <th>664447</th>\n",
       "      <td>8587459</td>\n",
       "      <td>78</td>\n",
       "      <td>4383</td>\n",
       "      <td>22695</td>\n",
       "      <td>23247</td>\n",
       "      <td>365</td>\n",
       "    </tr>\n",
       "    <tr>\n",
       "      <th>664448</th>\n",
       "      <td>8586183</td>\n",
       "      <td>78</td>\n",
       "      <td>4383</td>\n",
       "      <td>51481</td>\n",
       "      <td>52237</td>\n",
       "      <td>365</td>\n",
       "    </tr>\n",
       "    <tr>\n",
       "      <th>664449</th>\n",
       "      <td>8589374</td>\n",
       "      <td>23</td>\n",
       "      <td>7053</td>\n",
       "      <td>53659</td>\n",
       "      <td>53525</td>\n",
       "      <td>365</td>\n",
       "    </tr>\n",
       "    <tr>\n",
       "      <th>664450</th>\n",
       "      <td>8589372</td>\n",
       "      <td>24</td>\n",
       "      <td>2088</td>\n",
       "      <td>46383</td>\n",
       "      <td>46315</td>\n",
       "      <td>365</td>\n",
       "    </tr>\n",
       "  </tbody>\n",
       "</table>\n",
       "<p>116949113 rows × 6 columns</p>\n",
       "</div>"
      ],
      "text/plain": [
       "         TRIPID  PROGRNUMBER  STOPPOINTID  PLANNEDTIME_ARR  ACTUALTIME_ARR  \\\n",
       "0       5972116           12          119            48030           48012   \n",
       "1       5966674           12          119            54001           54023   \n",
       "2       5959105           12          119            60001           59955   \n",
       "3       5966888           12          119            58801           58771   \n",
       "4       5965960           12          119            56401           56309   \n",
       "...         ...          ...          ...              ...             ...   \n",
       "664446  8588153           78         4383            28605           28998   \n",
       "664447  8587459           78         4383            22695           23247   \n",
       "664448  8586183           78         4383            51481           52237   \n",
       "664449  8589374           23         7053            53659           53525   \n",
       "664450  8589372           24         2088            46383           46315   \n",
       "\n",
       "        DOY  \n",
       "0         1  \n",
       "1         1  \n",
       "2         1  \n",
       "3         1  \n",
       "4         1  \n",
       "...     ...  \n",
       "664446  365  \n",
       "664447  365  \n",
       "664448  365  \n",
       "664449  365  \n",
       "664450  365  \n",
       "\n",
       "[116949113 rows x 6 columns]"
      ]
     },
     "execution_count": 23,
     "metadata": {},
     "output_type": "execute_result"
    }
   ],
   "source": [
    "leaveTimes"
   ]
  },
  {
   "cell_type": "code",
   "execution_count": 62,
   "id": "410be323",
   "metadata": {},
   "outputs": [
    {
     "data": {
      "text/plain": [
       "116949113"
      ]
     },
     "execution_count": 62,
     "metadata": {},
     "output_type": "execute_result"
    }
   ],
   "source": [
    "len(leaveTimes)"
   ]
  },
  {
   "cell_type": "code",
   "execution_count": 63,
   "id": "542b8bde",
   "metadata": {},
   "outputs": [
    {
     "data": {
      "text/html": [
       "<div>\n",
       "<style scoped>\n",
       "    .dataframe tbody tr th:only-of-type {\n",
       "        vertical-align: middle;\n",
       "    }\n",
       "\n",
       "    .dataframe tbody tr th {\n",
       "        vertical-align: top;\n",
       "    }\n",
       "\n",
       "    .dataframe thead th {\n",
       "        text-align: right;\n",
       "    }\n",
       "</style>\n",
       "<table border=\"1\" class=\"dataframe\">\n",
       "  <thead>\n",
       "    <tr style=\"text-align: right;\">\n",
       "      <th></th>\n",
       "      <th>TRIPID</th>\n",
       "      <th>PROGRNUMBER</th>\n",
       "      <th>STOPPOINTID</th>\n",
       "      <th>PLANNEDTIME_ARR</th>\n",
       "      <th>ACTUALTIME_ARR</th>\n",
       "      <th>DOY</th>\n",
       "    </tr>\n",
       "  </thead>\n",
       "  <tbody>\n",
       "    <tr>\n",
       "      <th>664446</th>\n",
       "      <td>8588153</td>\n",
       "      <td>78</td>\n",
       "      <td>4383</td>\n",
       "      <td>28605</td>\n",
       "      <td>28998</td>\n",
       "      <td>365</td>\n",
       "    </tr>\n",
       "    <tr>\n",
       "      <th>664447</th>\n",
       "      <td>8587459</td>\n",
       "      <td>78</td>\n",
       "      <td>4383</td>\n",
       "      <td>22695</td>\n",
       "      <td>23247</td>\n",
       "      <td>365</td>\n",
       "    </tr>\n",
       "    <tr>\n",
       "      <th>664448</th>\n",
       "      <td>8586183</td>\n",
       "      <td>78</td>\n",
       "      <td>4383</td>\n",
       "      <td>51481</td>\n",
       "      <td>52237</td>\n",
       "      <td>365</td>\n",
       "    </tr>\n",
       "    <tr>\n",
       "      <th>664449</th>\n",
       "      <td>8589374</td>\n",
       "      <td>23</td>\n",
       "      <td>7053</td>\n",
       "      <td>53659</td>\n",
       "      <td>53525</td>\n",
       "      <td>365</td>\n",
       "    </tr>\n",
       "    <tr>\n",
       "      <th>664450</th>\n",
       "      <td>8589372</td>\n",
       "      <td>24</td>\n",
       "      <td>2088</td>\n",
       "      <td>46383</td>\n",
       "      <td>46315</td>\n",
       "      <td>365</td>\n",
       "    </tr>\n",
       "  </tbody>\n",
       "</table>\n",
       "</div>"
      ],
      "text/plain": [
       "         TRIPID  PROGRNUMBER  STOPPOINTID  PLANNEDTIME_ARR  ACTUALTIME_ARR  \\\n",
       "664446  8588153           78         4383            28605           28998   \n",
       "664447  8587459           78         4383            22695           23247   \n",
       "664448  8586183           78         4383            51481           52237   \n",
       "664449  8589374           23         7053            53659           53525   \n",
       "664450  8589372           24         2088            46383           46315   \n",
       "\n",
       "        DOY  \n",
       "664446  365  \n",
       "664447  365  \n",
       "664448  365  \n",
       "664449  365  \n",
       "664450  365  "
      ]
     },
     "execution_count": 63,
     "metadata": {},
     "output_type": "execute_result"
    }
   ],
   "source": [
    "leaveTimes.tail()"
   ]
  },
  {
   "cell_type": "code",
   "execution_count": 24,
   "id": "4f322b55",
   "metadata": {},
   "outputs": [
    {
     "name": "stdout",
     "output_type": "stream",
     "text": [
      "            TRIPID  PROGRNUMBER  STOPPOINTID  PLANNEDTIME_ARR  ACTUALTIME_ARR  \\\n",
      "116949108  8588153           78         4383            28605           28998   \n",
      "116949109  8587459           78         4383            22695           23247   \n",
      "116949110  8586183           78         4383            51481           52237   \n",
      "116949111  8589374           23         7053            53659           53525   \n",
      "116949112  8589372           24         2088            46383           46315   \n",
      "\n",
      "           DOY  \n",
      "116949108  365  \n",
      "116949109  365  \n",
      "116949110  365  \n",
      "116949111  365  \n",
      "116949112  365  \n",
      "CPU times: user 2.13 s, sys: 33.5 s, total: 35.6 s\n",
      "Wall time: 35.8 s\n"
     ]
    }
   ],
   "source": [
    "%%time\n",
    "print(leaveTimes.reset_index(drop=True).tail())"
   ]
  },
  {
   "cell_type": "code",
   "execution_count": 25,
   "id": "f405138f",
   "metadata": {},
   "outputs": [
    {
     "name": "stdout",
     "output_type": "stream",
     "text": [
      "CPU times: user 2.22 s, sys: 14.5 s, total: 16.7 s\n",
      "Wall time: 16.8 s\n"
     ]
    }
   ],
   "source": [
    "%%time\n",
    "leaveTimes = leaveTimes.reset_index(drop=True)"
   ]
  },
  {
   "cell_type": "code",
   "execution_count": 65,
   "id": "2de87c12",
   "metadata": {},
   "outputs": [
    {
     "data": {
      "text/html": [
       "<div>\n",
       "<style scoped>\n",
       "    .dataframe tbody tr th:only-of-type {\n",
       "        vertical-align: middle;\n",
       "    }\n",
       "\n",
       "    .dataframe tbody tr th {\n",
       "        vertical-align: top;\n",
       "    }\n",
       "\n",
       "    .dataframe thead th {\n",
       "        text-align: right;\n",
       "    }\n",
       "</style>\n",
       "<table border=\"1\" class=\"dataframe\">\n",
       "  <thead>\n",
       "    <tr style=\"text-align: right;\">\n",
       "      <th></th>\n",
       "      <th>TRIPID</th>\n",
       "      <th>PROGRNUMBER</th>\n",
       "      <th>STOPPOINTID</th>\n",
       "      <th>PLANNEDTIME_ARR</th>\n",
       "      <th>ACTUALTIME_ARR</th>\n",
       "      <th>DOY</th>\n",
       "    </tr>\n",
       "  </thead>\n",
       "  <tbody>\n",
       "    <tr>\n",
       "      <th>0</th>\n",
       "      <td>5972116</td>\n",
       "      <td>12</td>\n",
       "      <td>119</td>\n",
       "      <td>48030</td>\n",
       "      <td>48012</td>\n",
       "      <td>1</td>\n",
       "    </tr>\n",
       "    <tr>\n",
       "      <th>1</th>\n",
       "      <td>5966674</td>\n",
       "      <td>12</td>\n",
       "      <td>119</td>\n",
       "      <td>54001</td>\n",
       "      <td>54023</td>\n",
       "      <td>1</td>\n",
       "    </tr>\n",
       "    <tr>\n",
       "      <th>2</th>\n",
       "      <td>5959105</td>\n",
       "      <td>12</td>\n",
       "      <td>119</td>\n",
       "      <td>60001</td>\n",
       "      <td>59955</td>\n",
       "      <td>1</td>\n",
       "    </tr>\n",
       "    <tr>\n",
       "      <th>3</th>\n",
       "      <td>5966888</td>\n",
       "      <td>12</td>\n",
       "      <td>119</td>\n",
       "      <td>58801</td>\n",
       "      <td>58771</td>\n",
       "      <td>1</td>\n",
       "    </tr>\n",
       "    <tr>\n",
       "      <th>4</th>\n",
       "      <td>5965960</td>\n",
       "      <td>12</td>\n",
       "      <td>119</td>\n",
       "      <td>56401</td>\n",
       "      <td>56309</td>\n",
       "      <td>1</td>\n",
       "    </tr>\n",
       "    <tr>\n",
       "      <th>...</th>\n",
       "      <td>...</td>\n",
       "      <td>...</td>\n",
       "      <td>...</td>\n",
       "      <td>...</td>\n",
       "      <td>...</td>\n",
       "      <td>...</td>\n",
       "    </tr>\n",
       "    <tr>\n",
       "      <th>116949108</th>\n",
       "      <td>8588153</td>\n",
       "      <td>78</td>\n",
       "      <td>4383</td>\n",
       "      <td>28605</td>\n",
       "      <td>28998</td>\n",
       "      <td>365</td>\n",
       "    </tr>\n",
       "    <tr>\n",
       "      <th>116949109</th>\n",
       "      <td>8587459</td>\n",
       "      <td>78</td>\n",
       "      <td>4383</td>\n",
       "      <td>22695</td>\n",
       "      <td>23247</td>\n",
       "      <td>365</td>\n",
       "    </tr>\n",
       "    <tr>\n",
       "      <th>116949110</th>\n",
       "      <td>8586183</td>\n",
       "      <td>78</td>\n",
       "      <td>4383</td>\n",
       "      <td>51481</td>\n",
       "      <td>52237</td>\n",
       "      <td>365</td>\n",
       "    </tr>\n",
       "    <tr>\n",
       "      <th>116949111</th>\n",
       "      <td>8589374</td>\n",
       "      <td>23</td>\n",
       "      <td>7053</td>\n",
       "      <td>53659</td>\n",
       "      <td>53525</td>\n",
       "      <td>365</td>\n",
       "    </tr>\n",
       "    <tr>\n",
       "      <th>116949112</th>\n",
       "      <td>8589372</td>\n",
       "      <td>24</td>\n",
       "      <td>2088</td>\n",
       "      <td>46383</td>\n",
       "      <td>46315</td>\n",
       "      <td>365</td>\n",
       "    </tr>\n",
       "  </tbody>\n",
       "</table>\n",
       "<p>116949113 rows × 6 columns</p>\n",
       "</div>"
      ],
      "text/plain": [
       "            TRIPID  PROGRNUMBER  STOPPOINTID  PLANNEDTIME_ARR  ACTUALTIME_ARR  \\\n",
       "0          5972116           12          119            48030           48012   \n",
       "1          5966674           12          119            54001           54023   \n",
       "2          5959105           12          119            60001           59955   \n",
       "3          5966888           12          119            58801           58771   \n",
       "4          5965960           12          119            56401           56309   \n",
       "...            ...          ...          ...              ...             ...   \n",
       "116949108  8588153           78         4383            28605           28998   \n",
       "116949109  8587459           78         4383            22695           23247   \n",
       "116949110  8586183           78         4383            51481           52237   \n",
       "116949111  8589374           23         7053            53659           53525   \n",
       "116949112  8589372           24         2088            46383           46315   \n",
       "\n",
       "           DOY  \n",
       "0            1  \n",
       "1            1  \n",
       "2            1  \n",
       "3            1  \n",
       "4            1  \n",
       "...        ...  \n",
       "116949108  365  \n",
       "116949109  365  \n",
       "116949110  365  \n",
       "116949111  365  \n",
       "116949112  365  \n",
       "\n",
       "[116949113 rows x 6 columns]"
      ]
     },
     "execution_count": 65,
     "metadata": {},
     "output_type": "execute_result"
    }
   ],
   "source": [
    "leaveTimes"
   ]
  },
  {
   "cell_type": "markdown",
   "id": "17068bb8",
   "metadata": {},
   "source": [
    "- data is intact"
   ]
  },
  {
   "cell_type": "code",
   "execution_count": 26,
   "id": "56f5cd2a",
   "metadata": {},
   "outputs": [
    {
     "name": "stdout",
     "output_type": "stream",
     "text": [
      "<class 'pandas.core.frame.DataFrame'>\n",
      "RangeIndex: 116949113 entries, 0 to 116949112\n",
      "Data columns (total 6 columns):\n",
      " #   Column           Dtype\n",
      "---  ------           -----\n",
      " 0   TRIPID           int32\n",
      " 1   PROGRNUMBER      int8 \n",
      " 2   STOPPOINTID      int16\n",
      " 3   PLANNEDTIME_ARR  int32\n",
      " 4   ACTUALTIME_ARR   int32\n",
      " 5   DOY              int16\n",
      "dtypes: int16(2), int32(3), int8(1)\n",
      "memory usage: 1.9 GB\n"
     ]
    }
   ],
   "source": [
    "leaveTimes.info()"
   ]
  },
  {
   "cell_type": "code",
   "execution_count": 29,
   "id": "c246019a",
   "metadata": {},
   "outputs": [
    {
     "name": "stdout",
     "output_type": "stream",
     "text": [
      "CPU times: user 1min 49s, sys: 36.7 s, total: 2min 26s\n",
      "Wall time: 2min 26s\n"
     ]
    },
    {
     "data": {
      "text/plain": [
       "0"
      ]
     },
     "execution_count": 29,
     "metadata": {},
     "output_type": "execute_result"
    }
   ],
   "source": [
    "%%time\n",
    "leaveTimes.duplicated().sum()"
   ]
  },
  {
   "cell_type": "code",
   "execution_count": 51,
   "id": "62277b9d",
   "metadata": {},
   "outputs": [
    {
     "data": {
      "text/plain": [
       "TRIPID             658961\n",
       "PROGRNUMBER           109\n",
       "STOPPOINTID          4774\n",
       "PLANNEDTIME_ARR     72712\n",
       "ACTUALTIME_ARR      74361\n",
       "DOY                   360\n",
       "dtype: int64"
      ]
     },
     "execution_count": 51,
     "metadata": {},
     "output_type": "execute_result"
    }
   ],
   "source": [
    "leaveTimes.nunique()"
   ]
  },
  {
   "cell_type": "code",
   "execution_count": 52,
   "id": "682639f4",
   "metadata": {},
   "outputs": [
    {
     "data": {
      "text/plain": [
       "TRIPID             658964\n",
       "LINEID                130\n",
       "ROUTEID               588\n",
       "DIRECTION               2\n",
       "PLANNEDTIME_ARR     64461\n",
       "PLANNEDTIME_DEP       791\n",
       "ACTUALTIME_ARR      68122\n",
       "ACTUALTIME_DEP      66771\n",
       "DOY                   360\n",
       "dtype: int64"
      ]
     },
     "execution_count": 52,
     "metadata": {},
     "output_type": "execute_result"
    }
   ],
   "source": [
    "trips.nunique()"
   ]
  },
  {
   "cell_type": "markdown",
   "id": "ecb8effc",
   "metadata": {},
   "source": [
    "## Merging"
   ]
  },
  {
   "cell_type": "code",
   "execution_count": 18,
   "id": "dc954da4",
   "metadata": {},
   "outputs": [
    {
     "name": "stdout",
     "output_type": "stream",
     "text": [
      "<class 'pandas.core.frame.DataFrame'>\n",
      "Int64Index: 2182637 entries, 0 to 727498\n",
      "Data columns (total 9 columns):\n",
      " #   Column           Dtype   \n",
      "---  ------           -----   \n",
      " 0   TRIPID           int32   \n",
      " 1   LINEID           category\n",
      " 2   ROUTEID          category\n",
      " 3   DIRECTION        category\n",
      " 4   PLANNEDTIME_ARR  float64 \n",
      " 5   PLANNEDTIME_DEP  float64 \n",
      " 6   ACTUALTIME_ARR   float64 \n",
      " 7   ACTUALTIME_DEP   float64 \n",
      " 8   DOY              int16   \n",
      "dtypes: category(3), float64(4), int16(1), int32(1)\n",
      "memory usage: 106.2 MB\n"
     ]
    }
   ],
   "source": [
    "trips.info()"
   ]
  },
  {
   "cell_type": "code",
   "execution_count": 19,
   "id": "6d7c7942",
   "metadata": {},
   "outputs": [],
   "source": [
    "trips.rename(columns = {'ACTUALTIME_ARR':'ACTUALTIME_ARR_T','PLANNEDTIME_ARR':'PLANNEDTIME_ARR_T', 'ACTUALTIME_DEP':'START_TIME', 'PLANNEDTIME_DEP':'PLANNED_START_TIME'}, inplace = True)\n"
   ]
  },
  {
   "cell_type": "code",
   "execution_count": 20,
   "id": "94944fb8",
   "metadata": {},
   "outputs": [],
   "source": [
    "trips['LINEID'] = trips['LINEID'].astype(str)\n",
    "trips['LINEID_DIRECTION'] = trips['LINEID'] + '_' + trips['DIRECTION'].astype(str)\n",
    "trips = trips.drop([\"DIRECTION\", 'LINEID', \"ROUTEID\"], axis=1)\n",
    "trips['LINEID_DIRECTION'] = trips['LINEID_DIRECTION'].astype(str)\n",
    "trips.LINEID_DIRECTION = trips.LINEID_DIRECTION.str.replace(' ', '')"
   ]
  },
  {
   "cell_type": "code",
   "execution_count": 60,
   "id": "eecfabb8",
   "metadata": {},
   "outputs": [],
   "source": [
    "trips.LINEID_DIRECTION = trips.LINEID_DIRECTION.str.replace(' ', '')"
   ]
  },
  {
   "cell_type": "code",
   "execution_count": 21,
   "id": "66628f89",
   "metadata": {},
   "outputs": [],
   "source": [
    "trips['LINEID_DIRECTION'] = trips['LINEID_DIRECTION'].astype(\"category\")\n"
   ]
  },
  {
   "cell_type": "code",
   "execution_count": 22,
   "id": "78b8f513",
   "metadata": {},
   "outputs": [
    {
     "name": "stdout",
     "output_type": "stream",
     "text": [
      "<class 'pandas.core.frame.DataFrame'>\n",
      "Int64Index: 2182637 entries, 0 to 727498\n",
      "Data columns (total 7 columns):\n",
      " #   Column              Dtype   \n",
      "---  ------              -----   \n",
      " 0   TRIPID              int32   \n",
      " 1   PLANNEDTIME_ARR_T   float64 \n",
      " 2   PLANNED_START_TIME  float64 \n",
      " 3   ACTUALTIME_ARR_T    float64 \n",
      " 4   START_TIME          float64 \n",
      " 5   DOY                 int16   \n",
      " 6   LINEID_DIRECTION    category\n",
      "dtypes: category(1), float64(4), int16(1), int32(1)\n",
      "memory usage: 99.9 MB\n"
     ]
    }
   ],
   "source": [
    "trips.info()"
   ]
  },
  {
   "cell_type": "code",
   "execution_count": 23,
   "id": "1e08fc46",
   "metadata": {},
   "outputs": [],
   "source": [
    "trips[\"PLANNED_START_TIME\"] = trips[\"PLANNED_START_TIME\"].astype(\"int32\")"
   ]
  },
  {
   "cell_type": "code",
   "execution_count": 24,
   "id": "3278bcd4",
   "metadata": {},
   "outputs": [],
   "source": [
    "trips[\"START_TIME\"] = trips[\"START_TIME\"].fillna(-1)"
   ]
  },
  {
   "cell_type": "code",
   "execution_count": 25,
   "id": "67a41780",
   "metadata": {},
   "outputs": [],
   "source": [
    "trips[\"START_TIME\"] = trips[\"START_TIME\"].astype(\"int32\")"
   ]
  },
  {
   "cell_type": "code",
   "execution_count": 26,
   "id": "3a3cbb28",
   "metadata": {},
   "outputs": [],
   "source": [
    "trips = trips.drop([\"PLANNEDTIME_ARR_T\", \"ACTUALTIME_ARR_T\"], axis=1)"
   ]
  },
  {
   "cell_type": "code",
   "execution_count": 27,
   "id": "1c77e937",
   "metadata": {},
   "outputs": [
    {
     "name": "stdout",
     "output_type": "stream",
     "text": [
      "<class 'pandas.core.frame.DataFrame'>\n",
      "Int64Index: 2182637 entries, 0 to 727498\n",
      "Data columns (total 5 columns):\n",
      " #   Column              Dtype   \n",
      "---  ------              -----   \n",
      " 0   TRIPID              int32   \n",
      " 1   PLANNED_START_TIME  int32   \n",
      " 2   START_TIME          int32   \n",
      " 3   DOY                 int16   \n",
      " 4   LINEID_DIRECTION    category\n",
      "dtypes: category(1), int16(1), int32(3)\n",
      "memory usage: 50.0 MB\n"
     ]
    }
   ],
   "source": [
    "trips.info()"
   ]
  },
  {
   "cell_type": "markdown",
   "id": "efb615a5",
   "metadata": {},
   "source": [
    "##### Saved ready trips file so there was no need to restart the entire process every time the kernel/server died."
   ]
  },
  {
   "cell_type": "code",
   "execution_count": 28,
   "id": "21f16e27",
   "metadata": {},
   "outputs": [],
   "source": [
    "# save to csv\n",
    "trips.to_csv(\"./trips_lines_ready.csv\", index=None)"
   ]
  },
  {
   "cell_type": "code",
   "execution_count": 30,
   "id": "9c3bda6d",
   "metadata": {},
   "outputs": [],
   "source": [
    "#load csv\n",
    "trips = pd.read_csv(\"trips_lines_ready.csv\")"
   ]
  },
  {
   "cell_type": "code",
   "execution_count": 31,
   "id": "15076844",
   "metadata": {},
   "outputs": [
    {
     "data": {
      "text/html": [
       "<div>\n",
       "<style scoped>\n",
       "    .dataframe tbody tr th:only-of-type {\n",
       "        vertical-align: middle;\n",
       "    }\n",
       "\n",
       "    .dataframe tbody tr th {\n",
       "        vertical-align: top;\n",
       "    }\n",
       "\n",
       "    .dataframe thead th {\n",
       "        text-align: right;\n",
       "    }\n",
       "</style>\n",
       "<table border=\"1\" class=\"dataframe\">\n",
       "  <thead>\n",
       "    <tr style=\"text-align: right;\">\n",
       "      <th></th>\n",
       "      <th>TRIPID</th>\n",
       "      <th>PLANNED_START_TIME</th>\n",
       "      <th>START_TIME</th>\n",
       "      <th>DOY</th>\n",
       "      <th>LINEID_DIRECTION</th>\n",
       "    </tr>\n",
       "  </thead>\n",
       "  <tbody>\n",
       "    <tr>\n",
       "      <th>0</th>\n",
       "      <td>6253783</td>\n",
       "      <td>84600</td>\n",
       "      <td>84600</td>\n",
       "      <td>38</td>\n",
       "      <td>68_1</td>\n",
       "    </tr>\n",
       "    <tr>\n",
       "      <th>1</th>\n",
       "      <td>6262138</td>\n",
       "      <td>26460</td>\n",
       "      <td>-1</td>\n",
       "      <td>38</td>\n",
       "      <td>25B_2</td>\n",
       "    </tr>\n",
       "    <tr>\n",
       "      <th>2</th>\n",
       "      <td>6254942</td>\n",
       "      <td>32100</td>\n",
       "      <td>32082</td>\n",
       "      <td>38</td>\n",
       "      <td>45A_2</td>\n",
       "    </tr>\n",
       "    <tr>\n",
       "      <th>3</th>\n",
       "      <td>6259460</td>\n",
       "      <td>54420</td>\n",
       "      <td>54443</td>\n",
       "      <td>38</td>\n",
       "      <td>25A_1</td>\n",
       "    </tr>\n",
       "    <tr>\n",
       "      <th>4</th>\n",
       "      <td>6253175</td>\n",
       "      <td>81600</td>\n",
       "      <td>81608</td>\n",
       "      <td>38</td>\n",
       "      <td>14_1</td>\n",
       "    </tr>\n",
       "    <tr>\n",
       "      <th>...</th>\n",
       "      <td>...</td>\n",
       "      <td>...</td>\n",
       "      <td>...</td>\n",
       "      <td>...</td>\n",
       "      <td>...</td>\n",
       "    </tr>\n",
       "    <tr>\n",
       "      <th>2182632</th>\n",
       "      <td>6765849</td>\n",
       "      <td>57840</td>\n",
       "      <td>57859</td>\n",
       "      <td>134</td>\n",
       "      <td>123_2</td>\n",
       "    </tr>\n",
       "    <tr>\n",
       "      <th>2182633</th>\n",
       "      <td>6765469</td>\n",
       "      <td>48600</td>\n",
       "      <td>48823</td>\n",
       "      <td>134</td>\n",
       "      <td>75_1</td>\n",
       "    </tr>\n",
       "    <tr>\n",
       "      <th>2182634</th>\n",
       "      <td>6765486</td>\n",
       "      <td>26400</td>\n",
       "      <td>-1</td>\n",
       "      <td>134</td>\n",
       "      <td>33D_2</td>\n",
       "    </tr>\n",
       "    <tr>\n",
       "      <th>2182635</th>\n",
       "      <td>6764987</td>\n",
       "      <td>60600</td>\n",
       "      <td>-1</td>\n",
       "      <td>134</td>\n",
       "      <td>70_1</td>\n",
       "    </tr>\n",
       "    <tr>\n",
       "      <th>2182636</th>\n",
       "      <td>6765012</td>\n",
       "      <td>41700</td>\n",
       "      <td>41642</td>\n",
       "      <td>134</td>\n",
       "      <td>27_1</td>\n",
       "    </tr>\n",
       "  </tbody>\n",
       "</table>\n",
       "<p>2182637 rows × 5 columns</p>\n",
       "</div>"
      ],
      "text/plain": [
       "          TRIPID  PLANNED_START_TIME  START_TIME  DOY LINEID_DIRECTION\n",
       "0        6253783               84600       84600   38             68_1\n",
       "1        6262138               26460          -1   38            25B_2\n",
       "2        6254942               32100       32082   38            45A_2\n",
       "3        6259460               54420       54443   38            25A_1\n",
       "4        6253175               81600       81608   38             14_1\n",
       "...          ...                 ...         ...  ...              ...\n",
       "2182632  6765849               57840       57859  134            123_2\n",
       "2182633  6765469               48600       48823  134             75_1\n",
       "2182634  6765486               26400          -1  134            33D_2\n",
       "2182635  6764987               60600          -1  134             70_1\n",
       "2182636  6765012               41700       41642  134             27_1\n",
       "\n",
       "[2182637 rows x 5 columns]"
      ]
     },
     "execution_count": 31,
     "metadata": {},
     "output_type": "execute_result"
    }
   ],
   "source": [
    "trips"
   ]
  },
  {
   "cell_type": "code",
   "execution_count": 32,
   "id": "27dd89ac",
   "metadata": {},
   "outputs": [],
   "source": [
    "trips[\"TRIPID\"] = trips[\"TRIPID\"].astype(\"int32\")\n",
    "#trips[\"LINEID\"] = trips[\"LINEID\"].astype(\"category\")\n",
    "trips[\"DOY\"] = trips[\"DOY\"].astype(\"int16\")\n",
    "trips[\"LINEID_DIRECTION\"] = trips[\"LINEID_DIRECTION\"].astype(\"category\")"
   ]
  },
  {
   "cell_type": "code",
   "execution_count": 33,
   "id": "047e048d",
   "metadata": {},
   "outputs": [],
   "source": [
    "trips[\"START_TIME\"] = trips[\"START_TIME\"].astype(\"int32\")\n",
    "trips[\"PLANNED_START_TIME\"] = trips[\"PLANNED_START_TIME\"].astype(\"int32\")"
   ]
  },
  {
   "cell_type": "code",
   "execution_count": 34,
   "id": "24205fde",
   "metadata": {},
   "outputs": [
    {
     "name": "stdout",
     "output_type": "stream",
     "text": [
      "<class 'pandas.core.frame.DataFrame'>\n",
      "RangeIndex: 2182637 entries, 0 to 2182636\n",
      "Data columns (total 5 columns):\n",
      " #   Column              Dtype   \n",
      "---  ------              -----   \n",
      " 0   TRIPID              int32   \n",
      " 1   PLANNED_START_TIME  int32   \n",
      " 2   START_TIME          int32   \n",
      " 3   DOY                 int16   \n",
      " 4   LINEID_DIRECTION    category\n",
      "dtypes: category(1), int16(1), int32(3)\n",
      "memory usage: 33.3 MB\n"
     ]
    }
   ],
   "source": [
    "trips.info()"
   ]
  },
  {
   "cell_type": "markdown",
   "id": "d86c8bb8",
   "metadata": {},
   "source": [
    "- merge needed to add the direction, route id and line id"
   ]
  },
  {
   "cell_type": "code",
   "execution_count": 35,
   "id": "3395cf67",
   "metadata": {},
   "outputs": [
    {
     "data": {
      "text/plain": [
       "svmem(total=67481169920, available=17413992448, percent=74.2, used=41308098560, free=14256926720, active=36945543168, inactive=14771671040, buffers=748568576, cached=11167576064, shared=8072048640, slab=793923584)"
      ]
     },
     "execution_count": 35,
     "metadata": {},
     "output_type": "execute_result"
    }
   ],
   "source": [
    "psutil.virtual_memory()"
   ]
  },
  {
   "cell_type": "code",
   "execution_count": 36,
   "id": "02d82d3d",
   "metadata": {},
   "outputs": [
    {
     "name": "stdout",
     "output_type": "stream",
     "text": [
      "Once deleted, variables cannot be recovered. Proceed (y/[n])? y\n",
      "Flushing output cache (6 entries)\n"
     ]
    }
   ],
   "source": [
    "%reset Out"
   ]
  },
  {
   "cell_type": "code",
   "execution_count": 37,
   "id": "45285f60",
   "metadata": {},
   "outputs": [
    {
     "data": {
      "text/plain": [
       "svmem(total=67481169920, available=17419952128, percent=74.2, used=41302147072, free=14262812672, active=36937396224, inactive=14771695616, buffers=748576768, cached=11167633408, shared=8072048640, slab=793935872)"
      ]
     },
     "execution_count": 37,
     "metadata": {},
     "output_type": "execute_result"
    }
   ],
   "source": [
    "psutil.virtual_memory()"
   ]
  },
  {
   "cell_type": "code",
   "execution_count": 38,
   "id": "5488813f",
   "metadata": {},
   "outputs": [
    {
     "name": "stdout",
     "output_type": "stream",
     "text": [
      "<class 'pandas.core.frame.DataFrame'>\n",
      "RangeIndex: 116949113 entries, 0 to 116949112\n",
      "Data columns (total 6 columns):\n",
      " #   Column           Dtype\n",
      "---  ------           -----\n",
      " 0   TRIPID           int32\n",
      " 1   PROGRNUMBER      int8 \n",
      " 2   STOPPOINTID      int16\n",
      " 3   PLANNEDTIME_ARR  int32\n",
      " 4   ACTUALTIME_ARR   int32\n",
      " 5   DOY              int16\n",
      "dtypes: int16(2), int32(3), int8(1)\n",
      "memory usage: 1.9 GB\n"
     ]
    }
   ],
   "source": [
    "leaveTimes.info()"
   ]
  },
  {
   "cell_type": "code",
   "execution_count": 39,
   "id": "2330035c",
   "metadata": {},
   "outputs": [
    {
     "name": "stdout",
     "output_type": "stream",
     "text": [
      "CPU times: user 19.2 s, sys: 29.3 s, total: 48.5 s\n",
      "Wall time: 48.6 s\n"
     ]
    }
   ],
   "source": [
    "%%time\n",
    "# Upon merging it converts back to DASK sometimes(don't know why)\n",
    "merged_dd = leaveTimes.merge(trips, how=\"left\", on=[\"TRIPID\", \"DOY\"])\n",
    "#merged_dd.head(50)"
   ]
  },
  {
   "cell_type": "code",
   "execution_count": 42,
   "id": "fcea0f35",
   "metadata": {},
   "outputs": [
    {
     "data": {
      "text/plain": [
       "(116949113, 9)"
      ]
     },
     "execution_count": 42,
     "metadata": {},
     "output_type": "execute_result"
    }
   ],
   "source": [
    "merged_dd.shape"
   ]
  },
  {
   "cell_type": "code",
   "execution_count": 40,
   "id": "4be1af3a",
   "metadata": {},
   "outputs": [
    {
     "data": {
      "text/plain": [
       "svmem(total=67481169920, available=13338288128, percent=80.2, used=45383827456, free=10234019840, active=41019326464, inactive=14717861888, buffers=747622400, cached=11115700224, shared=8072048640, slab=793800704)"
      ]
     },
     "execution_count": 40,
     "metadata": {},
     "output_type": "execute_result"
    }
   ],
   "source": [
    "\n",
    "psutil.virtual_memory()"
   ]
  },
  {
   "cell_type": "code",
   "execution_count": 41,
   "id": "f7a3da2f",
   "metadata": {},
   "outputs": [],
   "source": [
    "del leaveTimes\n",
    "del trips"
   ]
  },
  {
   "cell_type": "code",
   "execution_count": 42,
   "id": "4106f65e",
   "metadata": {},
   "outputs": [
    {
     "data": {
      "text/plain": [
       "0"
      ]
     },
     "execution_count": 42,
     "metadata": {},
     "output_type": "execute_result"
    }
   ],
   "source": [
    "gc.collect()"
   ]
  },
  {
   "cell_type": "code",
   "execution_count": 43,
   "id": "d16d1153",
   "metadata": {},
   "outputs": [
    {
     "name": "stdout",
     "output_type": "stream",
     "text": [
      "Once deleted, variables cannot be recovered. Proceed (y/[n])? y\n",
      "Flushing output cache (3 entries)\n"
     ]
    }
   ],
   "source": [
    "%reset Out"
   ]
  },
  {
   "cell_type": "code",
   "execution_count": 44,
   "id": "9096d095",
   "metadata": {},
   "outputs": [
    {
     "data": {
      "text/plain": [
       "svmem(total=67481169920, available=13258915840, percent=80.4, used=45463248896, free=10053029888, active=41100636160, inactive=14801383424, buffers=754524160, cached=11210366976, shared=8072056832, slab=799956992)"
      ]
     },
     "execution_count": 44,
     "metadata": {},
     "output_type": "execute_result"
    }
   ],
   "source": [
    "psutil.virtual_memory()"
   ]
  },
  {
   "cell_type": "code",
   "execution_count": 45,
   "id": "ae962010",
   "metadata": {},
   "outputs": [
    {
     "data": {
      "text/html": [
       "<div>\n",
       "<style scoped>\n",
       "    .dataframe tbody tr th:only-of-type {\n",
       "        vertical-align: middle;\n",
       "    }\n",
       "\n",
       "    .dataframe tbody tr th {\n",
       "        vertical-align: top;\n",
       "    }\n",
       "\n",
       "    .dataframe thead th {\n",
       "        text-align: right;\n",
       "    }\n",
       "</style>\n",
       "<table border=\"1\" class=\"dataframe\">\n",
       "  <thead>\n",
       "    <tr style=\"text-align: right;\">\n",
       "      <th></th>\n",
       "      <th>TRIPID</th>\n",
       "      <th>PROGRNUMBER</th>\n",
       "      <th>STOPPOINTID</th>\n",
       "      <th>PLANNEDTIME_ARR</th>\n",
       "      <th>ACTUALTIME_ARR</th>\n",
       "      <th>DOY</th>\n",
       "      <th>PLANNED_START_TIME</th>\n",
       "      <th>START_TIME</th>\n",
       "      <th>LINEID_DIRECTION</th>\n",
       "    </tr>\n",
       "  </thead>\n",
       "  <tbody>\n",
       "    <tr>\n",
       "      <th>0</th>\n",
       "      <td>5972116</td>\n",
       "      <td>12</td>\n",
       "      <td>119</td>\n",
       "      <td>48030</td>\n",
       "      <td>48012</td>\n",
       "      <td>1</td>\n",
       "      <td>47400</td>\n",
       "      <td>47427</td>\n",
       "      <td>1_1</td>\n",
       "    </tr>\n",
       "    <tr>\n",
       "      <th>1</th>\n",
       "      <td>5966674</td>\n",
       "      <td>12</td>\n",
       "      <td>119</td>\n",
       "      <td>54001</td>\n",
       "      <td>54023</td>\n",
       "      <td>1</td>\n",
       "      <td>53400</td>\n",
       "      <td>53410</td>\n",
       "      <td>1_1</td>\n",
       "    </tr>\n",
       "    <tr>\n",
       "      <th>2</th>\n",
       "      <td>5959105</td>\n",
       "      <td>12</td>\n",
       "      <td>119</td>\n",
       "      <td>60001</td>\n",
       "      <td>59955</td>\n",
       "      <td>1</td>\n",
       "      <td>59400</td>\n",
       "      <td>59426</td>\n",
       "      <td>1_1</td>\n",
       "    </tr>\n",
       "    <tr>\n",
       "      <th>3</th>\n",
       "      <td>5966888</td>\n",
       "      <td>12</td>\n",
       "      <td>119</td>\n",
       "      <td>58801</td>\n",
       "      <td>58771</td>\n",
       "      <td>1</td>\n",
       "      <td>58200</td>\n",
       "      <td>58220</td>\n",
       "      <td>1_1</td>\n",
       "    </tr>\n",
       "    <tr>\n",
       "      <th>4</th>\n",
       "      <td>5965960</td>\n",
       "      <td>12</td>\n",
       "      <td>119</td>\n",
       "      <td>56401</td>\n",
       "      <td>56309</td>\n",
       "      <td>1</td>\n",
       "      <td>55800</td>\n",
       "      <td>55807</td>\n",
       "      <td>1_1</td>\n",
       "    </tr>\n",
       "    <tr>\n",
       "      <th>...</th>\n",
       "      <td>...</td>\n",
       "      <td>...</td>\n",
       "      <td>...</td>\n",
       "      <td>...</td>\n",
       "      <td>...</td>\n",
       "      <td>...</td>\n",
       "      <td>...</td>\n",
       "      <td>...</td>\n",
       "      <td>...</td>\n",
       "    </tr>\n",
       "    <tr>\n",
       "      <th>116949108</th>\n",
       "      <td>8588153</td>\n",
       "      <td>78</td>\n",
       "      <td>4383</td>\n",
       "      <td>28605</td>\n",
       "      <td>28998</td>\n",
       "      <td>365</td>\n",
       "      <td>25200</td>\n",
       "      <td>25257</td>\n",
       "      <td>27_2</td>\n",
       "    </tr>\n",
       "    <tr>\n",
       "      <th>116949109</th>\n",
       "      <td>8587459</td>\n",
       "      <td>78</td>\n",
       "      <td>4383</td>\n",
       "      <td>22695</td>\n",
       "      <td>23247</td>\n",
       "      <td>365</td>\n",
       "      <td>19800</td>\n",
       "      <td>19797</td>\n",
       "      <td>27_2</td>\n",
       "    </tr>\n",
       "    <tr>\n",
       "      <th>116949110</th>\n",
       "      <td>8586183</td>\n",
       "      <td>78</td>\n",
       "      <td>4383</td>\n",
       "      <td>51481</td>\n",
       "      <td>52237</td>\n",
       "      <td>365</td>\n",
       "      <td>46800</td>\n",
       "      <td>46810</td>\n",
       "      <td>27_2</td>\n",
       "    </tr>\n",
       "    <tr>\n",
       "      <th>116949111</th>\n",
       "      <td>8589374</td>\n",
       "      <td>23</td>\n",
       "      <td>7053</td>\n",
       "      <td>53659</td>\n",
       "      <td>53525</td>\n",
       "      <td>365</td>\n",
       "      <td>52200</td>\n",
       "      <td>-1</td>\n",
       "      <td>47_1</td>\n",
       "    </tr>\n",
       "    <tr>\n",
       "      <th>116949112</th>\n",
       "      <td>8589372</td>\n",
       "      <td>24</td>\n",
       "      <td>2088</td>\n",
       "      <td>46383</td>\n",
       "      <td>46315</td>\n",
       "      <td>365</td>\n",
       "      <td>45000</td>\n",
       "      <td>44563</td>\n",
       "      <td>47_1</td>\n",
       "    </tr>\n",
       "  </tbody>\n",
       "</table>\n",
       "<p>116949113 rows × 9 columns</p>\n",
       "</div>"
      ],
      "text/plain": [
       "            TRIPID  PROGRNUMBER  STOPPOINTID  PLANNEDTIME_ARR  ACTUALTIME_ARR  \\\n",
       "0          5972116           12          119            48030           48012   \n",
       "1          5966674           12          119            54001           54023   \n",
       "2          5959105           12          119            60001           59955   \n",
       "3          5966888           12          119            58801           58771   \n",
       "4          5965960           12          119            56401           56309   \n",
       "...            ...          ...          ...              ...             ...   \n",
       "116949108  8588153           78         4383            28605           28998   \n",
       "116949109  8587459           78         4383            22695           23247   \n",
       "116949110  8586183           78         4383            51481           52237   \n",
       "116949111  8589374           23         7053            53659           53525   \n",
       "116949112  8589372           24         2088            46383           46315   \n",
       "\n",
       "           DOY  PLANNED_START_TIME  START_TIME LINEID_DIRECTION  \n",
       "0            1               47400       47427              1_1  \n",
       "1            1               53400       53410              1_1  \n",
       "2            1               59400       59426              1_1  \n",
       "3            1               58200       58220              1_1  \n",
       "4            1               55800       55807              1_1  \n",
       "...        ...                 ...         ...              ...  \n",
       "116949108  365               25200       25257             27_2  \n",
       "116949109  365               19800       19797             27_2  \n",
       "116949110  365               46800       46810             27_2  \n",
       "116949111  365               52200          -1             47_1  \n",
       "116949112  365               45000       44563             47_1  \n",
       "\n",
       "[116949113 rows x 9 columns]"
      ]
     },
     "execution_count": 45,
     "metadata": {},
     "output_type": "execute_result"
    }
   ],
   "source": [
    "merged_dd"
   ]
  },
  {
   "cell_type": "code",
   "execution_count": 46,
   "id": "15333f8b",
   "metadata": {},
   "outputs": [],
   "source": [
    "check =  merged_dd.loc[merged_dd.START_TIME == -1]"
   ]
  },
  {
   "cell_type": "code",
   "execution_count": 80,
   "id": "f3258979",
   "metadata": {},
   "outputs": [
    {
     "data": {
      "text/plain": [
       "(7869559, 10)"
      ]
     },
     "execution_count": 80,
     "metadata": {},
     "output_type": "execute_result"
    }
   ],
   "source": [
    "check.shape"
   ]
  },
  {
   "cell_type": "markdown",
   "id": "58255445",
   "metadata": {},
   "source": [
    "- no null values for start time"
   ]
  },
  {
   "cell_type": "code",
   "execution_count": 81,
   "id": "bb4bddb6",
   "metadata": {},
   "outputs": [
    {
     "data": {
      "text/html": [
       "<div>\n",
       "<style scoped>\n",
       "    .dataframe tbody tr th:only-of-type {\n",
       "        vertical-align: middle;\n",
       "    }\n",
       "\n",
       "    .dataframe tbody tr th {\n",
       "        vertical-align: top;\n",
       "    }\n",
       "\n",
       "    .dataframe thead th {\n",
       "        text-align: right;\n",
       "    }\n",
       "</style>\n",
       "<table border=\"1\" class=\"dataframe\">\n",
       "  <thead>\n",
       "    <tr style=\"text-align: right;\">\n",
       "      <th></th>\n",
       "      <th>TRIPID</th>\n",
       "      <th>PROGRNUMBER</th>\n",
       "      <th>STOPPOINTID</th>\n",
       "      <th>PLANNEDTIME_ARR</th>\n",
       "      <th>ACTUALTIME_ARR</th>\n",
       "      <th>DOY</th>\n",
       "      <th>LINEID</th>\n",
       "      <th>PLANNED_START_TIME</th>\n",
       "      <th>START_TIME</th>\n",
       "      <th>ROUTEID_DIRECTION</th>\n",
       "    </tr>\n",
       "  </thead>\n",
       "  <tbody>\n",
       "  </tbody>\n",
       "</table>\n",
       "</div>"
      ],
      "text/plain": [
       "Empty DataFrame\n",
       "Columns: [TRIPID, PROGRNUMBER, STOPPOINTID, PLANNEDTIME_ARR, ACTUALTIME_ARR, DOY, LINEID, PLANNED_START_TIME, START_TIME, ROUTEID_DIRECTION]\n",
       "Index: []"
      ]
     },
     "execution_count": 81,
     "metadata": {},
     "output_type": "execute_result"
    }
   ],
   "source": [
    "check.loc[check.PROGRNUMBER == 1]"
   ]
  },
  {
   "cell_type": "code",
   "execution_count": 47,
   "id": "cd9c10bd",
   "metadata": {},
   "outputs": [
    {
     "data": {
      "text/plain": [
       "0"
      ]
     },
     "execution_count": 47,
     "metadata": {},
     "output_type": "execute_result"
    }
   ],
   "source": [
    "del check\n",
    "gc.collect()"
   ]
  },
  {
   "cell_type": "code",
   "execution_count": 48,
   "id": "30dc3fb6",
   "metadata": {},
   "outputs": [],
   "source": [
    "merged_dd[\"start_error\"] = merged_dd[\"START_TIME\"] - merged_dd[\"PLANNED_START_TIME\"]"
   ]
  },
  {
   "cell_type": "code",
   "execution_count": 49,
   "id": "1b0d7608",
   "metadata": {},
   "outputs": [
    {
     "data": {
      "text/plain": [
       "35.993271067096586"
      ]
     },
     "execution_count": 49,
     "metadata": {},
     "output_type": "execute_result"
    }
   ],
   "source": [
    "merged_dd.loc[merged_dd.START_TIME != -1].start_error.mean()"
   ]
  },
  {
   "cell_type": "code",
   "execution_count": 84,
   "id": "df71fbcc",
   "metadata": {},
   "outputs": [
    {
     "data": {
      "text/plain": [
       "-11722"
      ]
     },
     "execution_count": 84,
     "metadata": {},
     "output_type": "execute_result"
    }
   ],
   "source": [
    "merged_dd.loc[merged_dd.START_TIME != -1].start_error.min()"
   ]
  },
  {
   "cell_type": "code",
   "execution_count": 85,
   "id": "c3568cfc",
   "metadata": {},
   "outputs": [
    {
     "data": {
      "text/plain": [
       "17977"
      ]
     },
     "execution_count": 85,
     "metadata": {},
     "output_type": "execute_result"
    }
   ],
   "source": [
    "merged_dd.loc[merged_dd.START_TIME != -1].start_error.max()"
   ]
  },
  {
   "cell_type": "code",
   "execution_count": 54,
   "id": "5b9776d3",
   "metadata": {},
   "outputs": [],
   "source": [
    "merged_dd = merged_dd.drop(\"start_error\", axis=1)"
   ]
  },
  {
   "cell_type": "code",
   "execution_count": 50,
   "id": "f2251cfa",
   "metadata": {},
   "outputs": [
    {
     "data": {
      "text/plain": [
       "(116949113, 10)"
      ]
     },
     "execution_count": 50,
     "metadata": {},
     "output_type": "execute_result"
    }
   ],
   "source": [
    "merged_dd.shape"
   ]
  },
  {
   "cell_type": "code",
   "execution_count": 50,
   "id": "700f24f6",
   "metadata": {},
   "outputs": [
    {
     "name": "stdout",
     "output_type": "stream",
     "text": [
      "<class 'pandas.core.frame.DataFrame'>\n",
      "Int64Index: 116949113 entries, 0 to 116949112\n",
      "Data columns (total 9 columns):\n",
      " #   Column              Dtype   \n",
      "---  ------              -----   \n",
      " 0   TRIPID              int32   \n",
      " 1   PROGRNUMBER         int8    \n",
      " 2   STOPPOINTID         int16   \n",
      " 3   PLANNEDTIME_ARR     int32   \n",
      " 4   ACTUALTIME_ARR      int32   \n",
      " 5   DOY                 int16   \n",
      " 6   PLANNED_START_TIME  int32   \n",
      " 7   START_TIME          int32   \n",
      " 8   LINEID_DIRECTION    category\n",
      "dtypes: category(1), int16(2), int32(5), int8(1)\n",
      "memory usage: 3.8 GB\n"
     ]
    }
   ],
   "source": [
    "merged_dd.info()"
   ]
  },
  {
   "cell_type": "code",
   "execution_count": 51,
   "id": "35d04a28",
   "metadata": {},
   "outputs": [],
   "source": [
    "%%time\n",
    "merged_dd = merged_dd[merged_dd.START_TIME != -1]"
   ]
  },
  {
   "cell_type": "code",
   "execution_count": 52,
   "id": "9f3e8bd4",
   "metadata": {},
   "outputs": [
    {
     "name": "stdout",
     "output_type": "stream",
     "text": [
      "<class 'pandas.core.frame.DataFrame'>\n",
      "Int64Index: 109079554 entries, 0 to 116949112\n",
      "Data columns (total 9 columns):\n",
      " #   Column              Dtype   \n",
      "---  ------              -----   \n",
      " 0   TRIPID              int32   \n",
      " 1   PROGRNUMBER         int8    \n",
      " 2   STOPPOINTID         int16   \n",
      " 3   PLANNEDTIME_ARR     int32   \n",
      " 4   ACTUALTIME_ARR      int32   \n",
      " 5   DOY                 int16   \n",
      " 6   PLANNED_START_TIME  int32   \n",
      " 7   START_TIME          int32   \n",
      " 8   LINEID_DIRECTION    category\n",
      "dtypes: category(1), int16(2), int32(5), int8(1)\n",
      "memory usage: 3.6 GB\n"
     ]
    }
   ],
   "source": [
    "merged_dd.info()"
   ]
  },
  {
   "cell_type": "code",
   "execution_count": 67,
   "id": "e66c3d5c",
   "metadata": {},
   "outputs": [],
   "source": [
    "merged_dd = merged_dd.drop(\"PLANNED_START_TIME\", axis=1)"
   ]
  },
  {
   "cell_type": "code",
   "execution_count": 53,
   "id": "e8face00",
   "metadata": {},
   "outputs": [
    {
     "name": "stderr",
     "output_type": "stream",
     "text": [
      "/tmp/ipykernel_8262/2160551051.py:1: SettingWithCopyWarning: \n",
      "A value is trying to be set on a copy of a slice from a DataFrame.\n",
      "Try using .loc[row_indexer,col_indexer] = value instead\n",
      "\n",
      "See the caveats in the documentation: https://pandas.pydata.org/pandas-docs/stable/user_guide/indexing.html#returning-a-view-versus-a-copy\n",
      "  merged_dd[\"JOURNEY_TIME\"] = 0\n"
     ]
    }
   ],
   "source": [
    "merged_dd[\"JOURNEY_TIME\"] = 0"
   ]
  },
  {
   "cell_type": "code",
   "execution_count": 54,
   "id": "27162ec9",
   "metadata": {},
   "outputs": [
    {
     "name": "stderr",
     "output_type": "stream",
     "text": [
      "/tmp/ipykernel_8262/863201917.py:1: SettingWithCopyWarning: \n",
      "A value is trying to be set on a copy of a slice from a DataFrame.\n",
      "Try using .loc[row_indexer,col_indexer] = value instead\n",
      "\n",
      "See the caveats in the documentation: https://pandas.pydata.org/pandas-docs/stable/user_guide/indexing.html#returning-a-view-versus-a-copy\n",
      "  merged_dd[\"JOURNEY_TIME\"] = merged_dd[\"JOURNEY_TIME\"].astype(\"int32\")\n"
     ]
    }
   ],
   "source": [
    "merged_dd[\"JOURNEY_TIME\"] = merged_dd[\"JOURNEY_TIME\"].astype(\"int32\")"
   ]
  },
  {
   "cell_type": "code",
   "execution_count": 55,
   "id": "75c42144",
   "metadata": {},
   "outputs": [
    {
     "name": "stderr",
     "output_type": "stream",
     "text": [
      "/tmp/ipykernel_8262/3531426695.py:1: SettingWithCopyWarning: \n",
      "A value is trying to be set on a copy of a slice from a DataFrame.\n",
      "Try using .loc[row_indexer,col_indexer] = value instead\n",
      "\n",
      "See the caveats in the documentation: https://pandas.pydata.org/pandas-docs/stable/user_guide/indexing.html#returning-a-view-versus-a-copy\n",
      "  merged_dd[\"JOURNEY_TIME\"] = merged_dd[\"ACTUALTIME_ARR\"] - merged_dd[\"START_TIME\"]\n"
     ]
    }
   ],
   "source": [
    "merged_dd[\"JOURNEY_TIME\"] = merged_dd[\"ACTUALTIME_ARR\"] - merged_dd[\"START_TIME\"]"
   ]
  },
  {
   "cell_type": "code",
   "execution_count": 57,
   "id": "6085bc45",
   "metadata": {},
   "outputs": [
    {
     "data": {
      "text/plain": [
       "23458"
      ]
     },
     "execution_count": 57,
     "metadata": {},
     "output_type": "execute_result"
    }
   ],
   "source": [
    "merged_dd[\"JOURNEY_TIME\"].max()"
   ]
  },
  {
   "cell_type": "code",
   "execution_count": 58,
   "id": "c93f0f01",
   "metadata": {},
   "outputs": [
    {
     "data": {
      "text/html": [
       "<div>\n",
       "<style scoped>\n",
       "    .dataframe tbody tr th:only-of-type {\n",
       "        vertical-align: middle;\n",
       "    }\n",
       "\n",
       "    .dataframe tbody tr th {\n",
       "        vertical-align: top;\n",
       "    }\n",
       "\n",
       "    .dataframe thead th {\n",
       "        text-align: right;\n",
       "    }\n",
       "</style>\n",
       "<table border=\"1\" class=\"dataframe\">\n",
       "  <thead>\n",
       "    <tr style=\"text-align: right;\">\n",
       "      <th></th>\n",
       "      <th>TRIPID</th>\n",
       "      <th>PROGRNUMBER</th>\n",
       "      <th>STOPPOINTID</th>\n",
       "      <th>PLANNEDTIME_ARR</th>\n",
       "      <th>ACTUALTIME_ARR</th>\n",
       "      <th>DOY</th>\n",
       "      <th>PLANNED_START_TIME</th>\n",
       "      <th>START_TIME</th>\n",
       "      <th>LINEID_DIRECTION</th>\n",
       "      <th>JOURNEY_TIME</th>\n",
       "    </tr>\n",
       "  </thead>\n",
       "  <tbody>\n",
       "    <tr>\n",
       "      <th>63311828</th>\n",
       "      <td>7169852</td>\n",
       "      <td>21</td>\n",
       "      <td>278</td>\n",
       "      <td>55947</td>\n",
       "      <td>76884</td>\n",
       "      <td>196</td>\n",
       "      <td>54600</td>\n",
       "      <td>54751</td>\n",
       "      <td>1_2</td>\n",
       "      <td>22133</td>\n",
       "    </tr>\n",
       "    <tr>\n",
       "      <th>63312938</th>\n",
       "      <td>7169852</td>\n",
       "      <td>22</td>\n",
       "      <td>7615</td>\n",
       "      <td>56085</td>\n",
       "      <td>77118</td>\n",
       "      <td>196</td>\n",
       "      <td>54600</td>\n",
       "      <td>54751</td>\n",
       "      <td>1_2</td>\n",
       "      <td>22367</td>\n",
       "    </tr>\n",
       "    <tr>\n",
       "      <th>63312963</th>\n",
       "      <td>7169852</td>\n",
       "      <td>23</td>\n",
       "      <td>10</td>\n",
       "      <td>56103</td>\n",
       "      <td>77123</td>\n",
       "      <td>196</td>\n",
       "      <td>54600</td>\n",
       "      <td>54751</td>\n",
       "      <td>1_2</td>\n",
       "      <td>22372</td>\n",
       "    </tr>\n",
       "    <tr>\n",
       "      <th>63314072</th>\n",
       "      <td>7169852</td>\n",
       "      <td>24</td>\n",
       "      <td>12</td>\n",
       "      <td>56227</td>\n",
       "      <td>77195</td>\n",
       "      <td>196</td>\n",
       "      <td>54600</td>\n",
       "      <td>54751</td>\n",
       "      <td>1_2</td>\n",
       "      <td>22444</td>\n",
       "    </tr>\n",
       "    <tr>\n",
       "      <th>63314096</th>\n",
       "      <td>7169852</td>\n",
       "      <td>25</td>\n",
       "      <td>14</td>\n",
       "      <td>56282</td>\n",
       "      <td>77216</td>\n",
       "      <td>196</td>\n",
       "      <td>54600</td>\n",
       "      <td>54751</td>\n",
       "      <td>1_2</td>\n",
       "      <td>22465</td>\n",
       "    </tr>\n",
       "    <tr>\n",
       "      <th>63314118</th>\n",
       "      <td>7169852</td>\n",
       "      <td>26</td>\n",
       "      <td>15</td>\n",
       "      <td>56336</td>\n",
       "      <td>77294</td>\n",
       "      <td>196</td>\n",
       "      <td>54600</td>\n",
       "      <td>54751</td>\n",
       "      <td>1_2</td>\n",
       "      <td>22543</td>\n",
       "    </tr>\n",
       "    <tr>\n",
       "      <th>63315247</th>\n",
       "      <td>7169852</td>\n",
       "      <td>27</td>\n",
       "      <td>17</td>\n",
       "      <td>56415</td>\n",
       "      <td>77354</td>\n",
       "      <td>196</td>\n",
       "      <td>54600</td>\n",
       "      <td>54751</td>\n",
       "      <td>1_2</td>\n",
       "      <td>22603</td>\n",
       "    </tr>\n",
       "    <tr>\n",
       "      <th>63315272</th>\n",
       "      <td>7169852</td>\n",
       "      <td>28</td>\n",
       "      <td>18</td>\n",
       "      <td>56475</td>\n",
       "      <td>77421</td>\n",
       "      <td>196</td>\n",
       "      <td>54600</td>\n",
       "      <td>54751</td>\n",
       "      <td>1_2</td>\n",
       "      <td>22670</td>\n",
       "    </tr>\n",
       "    <tr>\n",
       "      <th>63316449</th>\n",
       "      <td>7169852</td>\n",
       "      <td>30</td>\n",
       "      <td>21</td>\n",
       "      <td>56558</td>\n",
       "      <td>77536</td>\n",
       "      <td>196</td>\n",
       "      <td>54600</td>\n",
       "      <td>54751</td>\n",
       "      <td>1_2</td>\n",
       "      <td>22785</td>\n",
       "    </tr>\n",
       "    <tr>\n",
       "      <th>63316499</th>\n",
       "      <td>7169852</td>\n",
       "      <td>32</td>\n",
       "      <td>85</td>\n",
       "      <td>56634</td>\n",
       "      <td>77651</td>\n",
       "      <td>196</td>\n",
       "      <td>54600</td>\n",
       "      <td>54751</td>\n",
       "      <td>1_2</td>\n",
       "      <td>22900</td>\n",
       "    </tr>\n",
       "    <tr>\n",
       "      <th>63317642</th>\n",
       "      <td>7169852</td>\n",
       "      <td>33</td>\n",
       "      <td>203</td>\n",
       "      <td>56684</td>\n",
       "      <td>77707</td>\n",
       "      <td>196</td>\n",
       "      <td>54600</td>\n",
       "      <td>54751</td>\n",
       "      <td>1_2</td>\n",
       "      <td>22956</td>\n",
       "    </tr>\n",
       "    <tr>\n",
       "      <th>63317665</th>\n",
       "      <td>7169852</td>\n",
       "      <td>34</td>\n",
       "      <td>204</td>\n",
       "      <td>56753</td>\n",
       "      <td>77756</td>\n",
       "      <td>196</td>\n",
       "      <td>54600</td>\n",
       "      <td>54751</td>\n",
       "      <td>1_2</td>\n",
       "      <td>23005</td>\n",
       "    </tr>\n",
       "    <tr>\n",
       "      <th>63317689</th>\n",
       "      <td>7169852</td>\n",
       "      <td>35</td>\n",
       "      <td>205</td>\n",
       "      <td>56789</td>\n",
       "      <td>77778</td>\n",
       "      <td>196</td>\n",
       "      <td>54600</td>\n",
       "      <td>54751</td>\n",
       "      <td>1_2</td>\n",
       "      <td>23027</td>\n",
       "    </tr>\n",
       "    <tr>\n",
       "      <th>63318845</th>\n",
       "      <td>7169852</td>\n",
       "      <td>36</td>\n",
       "      <td>1620</td>\n",
       "      <td>56826</td>\n",
       "      <td>77867</td>\n",
       "      <td>196</td>\n",
       "      <td>54600</td>\n",
       "      <td>54751</td>\n",
       "      <td>1_2</td>\n",
       "      <td>23116</td>\n",
       "    </tr>\n",
       "    <tr>\n",
       "      <th>63318868</th>\n",
       "      <td>7169852</td>\n",
       "      <td>37</td>\n",
       "      <td>220</td>\n",
       "      <td>56925</td>\n",
       "      <td>77931</td>\n",
       "      <td>196</td>\n",
       "      <td>54600</td>\n",
       "      <td>54751</td>\n",
       "      <td>1_2</td>\n",
       "      <td>23180</td>\n",
       "    </tr>\n",
       "    <tr>\n",
       "      <th>63318889</th>\n",
       "      <td>7169852</td>\n",
       "      <td>38</td>\n",
       "      <td>221</td>\n",
       "      <td>56966</td>\n",
       "      <td>77986</td>\n",
       "      <td>196</td>\n",
       "      <td>54600</td>\n",
       "      <td>54751</td>\n",
       "      <td>1_2</td>\n",
       "      <td>23235</td>\n",
       "    </tr>\n",
       "    <tr>\n",
       "      <th>63320039</th>\n",
       "      <td>7169852</td>\n",
       "      <td>39</td>\n",
       "      <td>222</td>\n",
       "      <td>56995</td>\n",
       "      <td>78027</td>\n",
       "      <td>196</td>\n",
       "      <td>54600</td>\n",
       "      <td>54751</td>\n",
       "      <td>1_2</td>\n",
       "      <td>23276</td>\n",
       "    </tr>\n",
       "    <tr>\n",
       "      <th>63320061</th>\n",
       "      <td>7169852</td>\n",
       "      <td>40</td>\n",
       "      <td>223</td>\n",
       "      <td>57033</td>\n",
       "      <td>78081</td>\n",
       "      <td>196</td>\n",
       "      <td>54600</td>\n",
       "      <td>54751</td>\n",
       "      <td>1_2</td>\n",
       "      <td>23330</td>\n",
       "    </tr>\n",
       "    <tr>\n",
       "      <th>63321228</th>\n",
       "      <td>7169852</td>\n",
       "      <td>41</td>\n",
       "      <td>224</td>\n",
       "      <td>57063</td>\n",
       "      <td>78128</td>\n",
       "      <td>196</td>\n",
       "      <td>54600</td>\n",
       "      <td>54751</td>\n",
       "      <td>1_2</td>\n",
       "      <td>23377</td>\n",
       "    </tr>\n",
       "    <tr>\n",
       "      <th>63321251</th>\n",
       "      <td>7169852</td>\n",
       "      <td>42</td>\n",
       "      <td>225</td>\n",
       "      <td>57101</td>\n",
       "      <td>78154</td>\n",
       "      <td>196</td>\n",
       "      <td>54600</td>\n",
       "      <td>54751</td>\n",
       "      <td>1_2</td>\n",
       "      <td>23403</td>\n",
       "    </tr>\n",
       "    <tr>\n",
       "      <th>63321274</th>\n",
       "      <td>7169852</td>\n",
       "      <td>43</td>\n",
       "      <td>226</td>\n",
       "      <td>57151</td>\n",
       "      <td>78209</td>\n",
       "      <td>196</td>\n",
       "      <td>54600</td>\n",
       "      <td>54751</td>\n",
       "      <td>1_2</td>\n",
       "      <td>23458</td>\n",
       "    </tr>\n",
       "    <tr>\n",
       "      <th>63515255</th>\n",
       "      <td>7169852</td>\n",
       "      <td>31</td>\n",
       "      <td>7602</td>\n",
       "      <td>56591</td>\n",
       "      <td>77586</td>\n",
       "      <td>196</td>\n",
       "      <td>54600</td>\n",
       "      <td>54751</td>\n",
       "      <td>1_2</td>\n",
       "      <td>22835</td>\n",
       "    </tr>\n",
       "    <tr>\n",
       "      <th>68613351</th>\n",
       "      <td>7169852</td>\n",
       "      <td>20</td>\n",
       "      <td>319</td>\n",
       "      <td>55705</td>\n",
       "      <td>76687</td>\n",
       "      <td>196</td>\n",
       "      <td>54600</td>\n",
       "      <td>54751</td>\n",
       "      <td>1_2</td>\n",
       "      <td>21936</td>\n",
       "    </tr>\n",
       "    <tr>\n",
       "      <th>68619722</th>\n",
       "      <td>7169852</td>\n",
       "      <td>29</td>\n",
       "      <td>19</td>\n",
       "      <td>56500</td>\n",
       "      <td>77451</td>\n",
       "      <td>196</td>\n",
       "      <td>54600</td>\n",
       "      <td>54751</td>\n",
       "      <td>1_2</td>\n",
       "      <td>22700</td>\n",
       "    </tr>\n",
       "  </tbody>\n",
       "</table>\n",
       "</div>"
      ],
      "text/plain": [
       "           TRIPID  PROGRNUMBER  STOPPOINTID  PLANNEDTIME_ARR  ACTUALTIME_ARR  \\\n",
       "63311828  7169852           21          278            55947           76884   \n",
       "63312938  7169852           22         7615            56085           77118   \n",
       "63312963  7169852           23           10            56103           77123   \n",
       "63314072  7169852           24           12            56227           77195   \n",
       "63314096  7169852           25           14            56282           77216   \n",
       "63314118  7169852           26           15            56336           77294   \n",
       "63315247  7169852           27           17            56415           77354   \n",
       "63315272  7169852           28           18            56475           77421   \n",
       "63316449  7169852           30           21            56558           77536   \n",
       "63316499  7169852           32           85            56634           77651   \n",
       "63317642  7169852           33          203            56684           77707   \n",
       "63317665  7169852           34          204            56753           77756   \n",
       "63317689  7169852           35          205            56789           77778   \n",
       "63318845  7169852           36         1620            56826           77867   \n",
       "63318868  7169852           37          220            56925           77931   \n",
       "63318889  7169852           38          221            56966           77986   \n",
       "63320039  7169852           39          222            56995           78027   \n",
       "63320061  7169852           40          223            57033           78081   \n",
       "63321228  7169852           41          224            57063           78128   \n",
       "63321251  7169852           42          225            57101           78154   \n",
       "63321274  7169852           43          226            57151           78209   \n",
       "63515255  7169852           31         7602            56591           77586   \n",
       "68613351  7169852           20          319            55705           76687   \n",
       "68619722  7169852           29           19            56500           77451   \n",
       "\n",
       "          DOY  PLANNED_START_TIME  START_TIME LINEID_DIRECTION  JOURNEY_TIME  \n",
       "63311828  196               54600       54751              1_2         22133  \n",
       "63312938  196               54600       54751              1_2         22367  \n",
       "63312963  196               54600       54751              1_2         22372  \n",
       "63314072  196               54600       54751              1_2         22444  \n",
       "63314096  196               54600       54751              1_2         22465  \n",
       "63314118  196               54600       54751              1_2         22543  \n",
       "63315247  196               54600       54751              1_2         22603  \n",
       "63315272  196               54600       54751              1_2         22670  \n",
       "63316449  196               54600       54751              1_2         22785  \n",
       "63316499  196               54600       54751              1_2         22900  \n",
       "63317642  196               54600       54751              1_2         22956  \n",
       "63317665  196               54600       54751              1_2         23005  \n",
       "63317689  196               54600       54751              1_2         23027  \n",
       "63318845  196               54600       54751              1_2         23116  \n",
       "63318868  196               54600       54751              1_2         23180  \n",
       "63318889  196               54600       54751              1_2         23235  \n",
       "63320039  196               54600       54751              1_2         23276  \n",
       "63320061  196               54600       54751              1_2         23330  \n",
       "63321228  196               54600       54751              1_2         23377  \n",
       "63321251  196               54600       54751              1_2         23403  \n",
       "63321274  196               54600       54751              1_2         23458  \n",
       "63515255  196               54600       54751              1_2         22835  \n",
       "68613351  196               54600       54751              1_2         21936  \n",
       "68619722  196               54600       54751              1_2         22700  "
      ]
     },
     "execution_count": 58,
     "metadata": {},
     "output_type": "execute_result"
    }
   ],
   "source": [
    "merged_dd.loc[merged_dd[\"JOURNEY_TIME\"] > 20800]\n",
    "# this is the day of pride parade"
   ]
  },
  {
   "cell_type": "code",
   "execution_count": 59,
   "id": "e1baa723",
   "metadata": {},
   "outputs": [
    {
     "data": {
      "text/html": [
       "<div>\n",
       "<style scoped>\n",
       "    .dataframe tbody tr th:only-of-type {\n",
       "        vertical-align: middle;\n",
       "    }\n",
       "\n",
       "    .dataframe tbody tr th {\n",
       "        vertical-align: top;\n",
       "    }\n",
       "\n",
       "    .dataframe thead th {\n",
       "        text-align: right;\n",
       "    }\n",
       "</style>\n",
       "<table border=\"1\" class=\"dataframe\">\n",
       "  <thead>\n",
       "    <tr style=\"text-align: right;\">\n",
       "      <th></th>\n",
       "      <th>TRIPID</th>\n",
       "      <th>PROGRNUMBER</th>\n",
       "      <th>STOPPOINTID</th>\n",
       "      <th>PLANNEDTIME_ARR</th>\n",
       "      <th>ACTUALTIME_ARR</th>\n",
       "      <th>DOY</th>\n",
       "      <th>PLANNED_START_TIME</th>\n",
       "      <th>START_TIME</th>\n",
       "      <th>LINEID_DIRECTION</th>\n",
       "      <th>JOURNEY_TIME</th>\n",
       "    </tr>\n",
       "  </thead>\n",
       "  <tbody>\n",
       "    <tr>\n",
       "      <th>0</th>\n",
       "      <td>5972116</td>\n",
       "      <td>12</td>\n",
       "      <td>119</td>\n",
       "      <td>48030</td>\n",
       "      <td>48012</td>\n",
       "      <td>1</td>\n",
       "      <td>47400</td>\n",
       "      <td>47427</td>\n",
       "      <td>1_1</td>\n",
       "      <td>585</td>\n",
       "    </tr>\n",
       "    <tr>\n",
       "      <th>1</th>\n",
       "      <td>5966674</td>\n",
       "      <td>12</td>\n",
       "      <td>119</td>\n",
       "      <td>54001</td>\n",
       "      <td>54023</td>\n",
       "      <td>1</td>\n",
       "      <td>53400</td>\n",
       "      <td>53410</td>\n",
       "      <td>1_1</td>\n",
       "      <td>613</td>\n",
       "    </tr>\n",
       "    <tr>\n",
       "      <th>2</th>\n",
       "      <td>5959105</td>\n",
       "      <td>12</td>\n",
       "      <td>119</td>\n",
       "      <td>60001</td>\n",
       "      <td>59955</td>\n",
       "      <td>1</td>\n",
       "      <td>59400</td>\n",
       "      <td>59426</td>\n",
       "      <td>1_1</td>\n",
       "      <td>529</td>\n",
       "    </tr>\n",
       "    <tr>\n",
       "      <th>3</th>\n",
       "      <td>5966888</td>\n",
       "      <td>12</td>\n",
       "      <td>119</td>\n",
       "      <td>58801</td>\n",
       "      <td>58771</td>\n",
       "      <td>1</td>\n",
       "      <td>58200</td>\n",
       "      <td>58220</td>\n",
       "      <td>1_1</td>\n",
       "      <td>551</td>\n",
       "    </tr>\n",
       "    <tr>\n",
       "      <th>4</th>\n",
       "      <td>5965960</td>\n",
       "      <td>12</td>\n",
       "      <td>119</td>\n",
       "      <td>56401</td>\n",
       "      <td>56309</td>\n",
       "      <td>1</td>\n",
       "      <td>55800</td>\n",
       "      <td>55807</td>\n",
       "      <td>1_1</td>\n",
       "      <td>502</td>\n",
       "    </tr>\n",
       "    <tr>\n",
       "      <th>...</th>\n",
       "      <td>...</td>\n",
       "      <td>...</td>\n",
       "      <td>...</td>\n",
       "      <td>...</td>\n",
       "      <td>...</td>\n",
       "      <td>...</td>\n",
       "      <td>...</td>\n",
       "      <td>...</td>\n",
       "      <td>...</td>\n",
       "      <td>...</td>\n",
       "    </tr>\n",
       "    <tr>\n",
       "      <th>116949107</th>\n",
       "      <td>8587465</td>\n",
       "      <td>78</td>\n",
       "      <td>4383</td>\n",
       "      <td>65040</td>\n",
       "      <td>65656</td>\n",
       "      <td>365</td>\n",
       "      <td>60600</td>\n",
       "      <td>60621</td>\n",
       "      <td>27_2</td>\n",
       "      <td>5035</td>\n",
       "    </tr>\n",
       "    <tr>\n",
       "      <th>116949108</th>\n",
       "      <td>8588153</td>\n",
       "      <td>78</td>\n",
       "      <td>4383</td>\n",
       "      <td>28605</td>\n",
       "      <td>28998</td>\n",
       "      <td>365</td>\n",
       "      <td>25200</td>\n",
       "      <td>25257</td>\n",
       "      <td>27_2</td>\n",
       "      <td>3741</td>\n",
       "    </tr>\n",
       "    <tr>\n",
       "      <th>116949109</th>\n",
       "      <td>8587459</td>\n",
       "      <td>78</td>\n",
       "      <td>4383</td>\n",
       "      <td>22695</td>\n",
       "      <td>23247</td>\n",
       "      <td>365</td>\n",
       "      <td>19800</td>\n",
       "      <td>19797</td>\n",
       "      <td>27_2</td>\n",
       "      <td>3450</td>\n",
       "    </tr>\n",
       "    <tr>\n",
       "      <th>116949110</th>\n",
       "      <td>8586183</td>\n",
       "      <td>78</td>\n",
       "      <td>4383</td>\n",
       "      <td>51481</td>\n",
       "      <td>52237</td>\n",
       "      <td>365</td>\n",
       "      <td>46800</td>\n",
       "      <td>46810</td>\n",
       "      <td>27_2</td>\n",
       "      <td>5427</td>\n",
       "    </tr>\n",
       "    <tr>\n",
       "      <th>116949112</th>\n",
       "      <td>8589372</td>\n",
       "      <td>24</td>\n",
       "      <td>2088</td>\n",
       "      <td>46383</td>\n",
       "      <td>46315</td>\n",
       "      <td>365</td>\n",
       "      <td>45000</td>\n",
       "      <td>44563</td>\n",
       "      <td>47_1</td>\n",
       "      <td>1752</td>\n",
       "    </tr>\n",
       "  </tbody>\n",
       "</table>\n",
       "<p>109079554 rows × 10 columns</p>\n",
       "</div>"
      ],
      "text/plain": [
       "            TRIPID  PROGRNUMBER  STOPPOINTID  PLANNEDTIME_ARR  ACTUALTIME_ARR  \\\n",
       "0          5972116           12          119            48030           48012   \n",
       "1          5966674           12          119            54001           54023   \n",
       "2          5959105           12          119            60001           59955   \n",
       "3          5966888           12          119            58801           58771   \n",
       "4          5965960           12          119            56401           56309   \n",
       "...            ...          ...          ...              ...             ...   \n",
       "116949107  8587465           78         4383            65040           65656   \n",
       "116949108  8588153           78         4383            28605           28998   \n",
       "116949109  8587459           78         4383            22695           23247   \n",
       "116949110  8586183           78         4383            51481           52237   \n",
       "116949112  8589372           24         2088            46383           46315   \n",
       "\n",
       "           DOY  PLANNED_START_TIME  START_TIME LINEID_DIRECTION  JOURNEY_TIME  \n",
       "0            1               47400       47427              1_1           585  \n",
       "1            1               53400       53410              1_1           613  \n",
       "2            1               59400       59426              1_1           529  \n",
       "3            1               58200       58220              1_1           551  \n",
       "4            1               55800       55807              1_1           502  \n",
       "...        ...                 ...         ...              ...           ...  \n",
       "116949107  365               60600       60621             27_2          5035  \n",
       "116949108  365               25200       25257             27_2          3741  \n",
       "116949109  365               19800       19797             27_2          3450  \n",
       "116949110  365               46800       46810             27_2          5427  \n",
       "116949112  365               45000       44563             47_1          1752  \n",
       "\n",
       "[109079554 rows x 10 columns]"
      ]
     },
     "execution_count": 59,
     "metadata": {},
     "output_type": "execute_result"
    }
   ],
   "source": [
    "merged_dd"
   ]
  },
  {
   "cell_type": "code",
   "execution_count": 61,
   "id": "a7ca82ec",
   "metadata": {},
   "outputs": [],
   "source": [
    "merged_dd = merged_dd.drop([\"START_TIME\"], axis=1)"
   ]
  },
  {
   "cell_type": "code",
   "execution_count": 60,
   "id": "b29041e9",
   "metadata": {},
   "outputs": [
    {
     "name": "stderr",
     "output_type": "stream",
     "text": [
      "/tmp/ipykernel_8262/563391581.py:1: SettingWithCopyWarning: \n",
      "A value is trying to be set on a copy of a slice from a DataFrame.\n",
      "Try using .loc[row_indexer,col_indexer] = value instead\n",
      "\n",
      "See the caveats in the documentation: https://pandas.pydata.org/pandas-docs/stable/user_guide/indexing.html#returning-a-view-versus-a-copy\n",
      "  merged_dd[\"JOURNEY_TIME\"] = merged_dd[\"JOURNEY_TIME\"].astype(\"int16\")\n"
     ]
    }
   ],
   "source": [
    "merged_dd[\"JOURNEY_TIME\"] = merged_dd[\"JOURNEY_TIME\"].astype(\"int16\")"
   ]
  },
  {
   "cell_type": "code",
   "execution_count": 64,
   "id": "2677fac2",
   "metadata": {},
   "outputs": [
    {
     "data": {
      "text/plain": [
       "91680"
      ]
     },
     "execution_count": 64,
     "metadata": {},
     "output_type": "execute_result"
    }
   ],
   "source": [
    "merged_dd[\"PLANNEDTIME_ARR\"].max()"
   ]
  },
  {
   "cell_type": "code",
   "execution_count": 68,
   "id": "ff97c1d5",
   "metadata": {},
   "outputs": [
    {
     "name": "stdout",
     "output_type": "stream",
     "text": [
      "<class 'pandas.core.frame.DataFrame'>\n",
      "Int64Index: 109079554 entries, 0 to 116949112\n",
      "Data columns (total 8 columns):\n",
      " #   Column            Dtype   \n",
      "---  ------            -----   \n",
      " 0   TRIPID            int32   \n",
      " 1   PROGRNUMBER       int8    \n",
      " 2   STOPPOINTID       int16   \n",
      " 3   PLANNEDTIME_ARR   int32   \n",
      " 4   ACTUALTIME_ARR    int32   \n",
      " 5   DOY               int16   \n",
      " 6   LINEID_DIRECTION  category\n",
      " 7   JOURNEY_TIME      int16   \n",
      "dtypes: category(1), int16(3), int32(3), int8(1)\n",
      "memory usage: 2.9 GB\n"
     ]
    }
   ],
   "source": [
    "merged_dd.info()"
   ]
  },
  {
   "cell_type": "code",
   "execution_count": 171,
   "id": "7003dbdb",
   "metadata": {},
   "outputs": [],
   "source": [
    "# were all set to -1 at a later stage so this code won't run as it originally did\n",
    "nulls_lt_a = merged_dd[merged_dd[\"ACTUALTIME_ARR\"].isnull() == True]"
   ]
  },
  {
   "cell_type": "code",
   "execution_count": 172,
   "id": "2587299a",
   "metadata": {},
   "outputs": [
    {
     "data": {
      "text/html": [
       "<div>\n",
       "<style scoped>\n",
       "    .dataframe tbody tr th:only-of-type {\n",
       "        vertical-align: middle;\n",
       "    }\n",
       "\n",
       "    .dataframe tbody tr th {\n",
       "        vertical-align: top;\n",
       "    }\n",
       "\n",
       "    .dataframe thead th {\n",
       "        text-align: right;\n",
       "    }\n",
       "</style>\n",
       "<table border=\"1\" class=\"dataframe\">\n",
       "  <thead>\n",
       "    <tr style=\"text-align: right;\">\n",
       "      <th></th>\n",
       "      <th>TRIPID</th>\n",
       "      <th>PROGRNUMBER</th>\n",
       "      <th>STOPPOINTID</th>\n",
       "      <th>PLANNEDTIME_ARR</th>\n",
       "      <th>ACTUALTIME_ARR</th>\n",
       "      <th>DOY</th>\n",
       "      <th>LINEID</th>\n",
       "      <th>ROUTEID_DIRECTION</th>\n",
       "      <th>HOUR</th>\n",
       "      <th>temp</th>\n",
       "      <th>wind_speed</th>\n",
       "      <th>weather_main</th>\n",
       "      <th>DAYOFWEEK</th>\n",
       "      <th>MONTH</th>\n",
       "    </tr>\n",
       "  </thead>\n",
       "  <tbody>\n",
       "    <tr>\n",
       "      <th>3385959</th>\n",
       "      <td>NaN</td>\n",
       "      <td>NaN</td>\n",
       "      <td>NaN</td>\n",
       "      <td>NaN</td>\n",
       "      <td>NaN</td>\n",
       "      <td>NaN</td>\n",
       "      <td>NaN</td>\n",
       "      <td>NaN</td>\n",
       "      <td>NaN</td>\n",
       "      <td>NaN</td>\n",
       "      <td>NaN</td>\n",
       "      <td>NaN</td>\n",
       "      <td>NaN</td>\n",
       "      <td>NaN</td>\n",
       "    </tr>\n",
       "    <tr>\n",
       "      <th>3385966</th>\n",
       "      <td>NaN</td>\n",
       "      <td>NaN</td>\n",
       "      <td>NaN</td>\n",
       "      <td>NaN</td>\n",
       "      <td>NaN</td>\n",
       "      <td>NaN</td>\n",
       "      <td>NaN</td>\n",
       "      <td>NaN</td>\n",
       "      <td>NaN</td>\n",
       "      <td>NaN</td>\n",
       "      <td>NaN</td>\n",
       "      <td>NaN</td>\n",
       "      <td>NaN</td>\n",
       "      <td>NaN</td>\n",
       "    </tr>\n",
       "    <tr>\n",
       "      <th>3385967</th>\n",
       "      <td>NaN</td>\n",
       "      <td>NaN</td>\n",
       "      <td>NaN</td>\n",
       "      <td>NaN</td>\n",
       "      <td>NaN</td>\n",
       "      <td>NaN</td>\n",
       "      <td>NaN</td>\n",
       "      <td>NaN</td>\n",
       "      <td>NaN</td>\n",
       "      <td>NaN</td>\n",
       "      <td>NaN</td>\n",
       "      <td>NaN</td>\n",
       "      <td>NaN</td>\n",
       "      <td>NaN</td>\n",
       "    </tr>\n",
       "    <tr>\n",
       "      <th>18651442</th>\n",
       "      <td>NaN</td>\n",
       "      <td>NaN</td>\n",
       "      <td>NaN</td>\n",
       "      <td>NaN</td>\n",
       "      <td>NaN</td>\n",
       "      <td>NaN</td>\n",
       "      <td>NaN</td>\n",
       "      <td>NaN</td>\n",
       "      <td>NaN</td>\n",
       "      <td>NaN</td>\n",
       "      <td>NaN</td>\n",
       "      <td>NaN</td>\n",
       "      <td>NaN</td>\n",
       "      <td>NaN</td>\n",
       "    </tr>\n",
       "    <tr>\n",
       "      <th>18651441</th>\n",
       "      <td>NaN</td>\n",
       "      <td>NaN</td>\n",
       "      <td>NaN</td>\n",
       "      <td>NaN</td>\n",
       "      <td>NaN</td>\n",
       "      <td>NaN</td>\n",
       "      <td>NaN</td>\n",
       "      <td>NaN</td>\n",
       "      <td>NaN</td>\n",
       "      <td>NaN</td>\n",
       "      <td>NaN</td>\n",
       "      <td>NaN</td>\n",
       "      <td>NaN</td>\n",
       "      <td>NaN</td>\n",
       "    </tr>\n",
       "    <tr>\n",
       "      <th>...</th>\n",
       "      <td>...</td>\n",
       "      <td>...</td>\n",
       "      <td>...</td>\n",
       "      <td>...</td>\n",
       "      <td>...</td>\n",
       "      <td>...</td>\n",
       "      <td>...</td>\n",
       "      <td>...</td>\n",
       "      <td>...</td>\n",
       "      <td>...</td>\n",
       "      <td>...</td>\n",
       "      <td>...</td>\n",
       "      <td>...</td>\n",
       "      <td>...</td>\n",
       "    </tr>\n",
       "    <tr>\n",
       "      <th>81995537</th>\n",
       "      <td>NaN</td>\n",
       "      <td>NaN</td>\n",
       "      <td>NaN</td>\n",
       "      <td>NaN</td>\n",
       "      <td>NaN</td>\n",
       "      <td>NaN</td>\n",
       "      <td>NaN</td>\n",
       "      <td>NaN</td>\n",
       "      <td>NaN</td>\n",
       "      <td>NaN</td>\n",
       "      <td>NaN</td>\n",
       "      <td>NaN</td>\n",
       "      <td>NaN</td>\n",
       "      <td>NaN</td>\n",
       "    </tr>\n",
       "    <tr>\n",
       "      <th>58313705</th>\n",
       "      <td>NaN</td>\n",
       "      <td>NaN</td>\n",
       "      <td>NaN</td>\n",
       "      <td>NaN</td>\n",
       "      <td>NaN</td>\n",
       "      <td>NaN</td>\n",
       "      <td>NaN</td>\n",
       "      <td>NaN</td>\n",
       "      <td>NaN</td>\n",
       "      <td>NaN</td>\n",
       "      <td>NaN</td>\n",
       "      <td>NaN</td>\n",
       "      <td>NaN</td>\n",
       "      <td>NaN</td>\n",
       "    </tr>\n",
       "    <tr>\n",
       "      <th>81995530</th>\n",
       "      <td>NaN</td>\n",
       "      <td>NaN</td>\n",
       "      <td>NaN</td>\n",
       "      <td>NaN</td>\n",
       "      <td>NaN</td>\n",
       "      <td>NaN</td>\n",
       "      <td>NaN</td>\n",
       "      <td>NaN</td>\n",
       "      <td>NaN</td>\n",
       "      <td>NaN</td>\n",
       "      <td>NaN</td>\n",
       "      <td>NaN</td>\n",
       "      <td>NaN</td>\n",
       "      <td>NaN</td>\n",
       "    </tr>\n",
       "    <tr>\n",
       "      <th>58313706</th>\n",
       "      <td>NaN</td>\n",
       "      <td>NaN</td>\n",
       "      <td>NaN</td>\n",
       "      <td>NaN</td>\n",
       "      <td>NaN</td>\n",
       "      <td>NaN</td>\n",
       "      <td>NaN</td>\n",
       "      <td>NaN</td>\n",
       "      <td>NaN</td>\n",
       "      <td>NaN</td>\n",
       "      <td>NaN</td>\n",
       "      <td>NaN</td>\n",
       "      <td>NaN</td>\n",
       "      <td>NaN</td>\n",
       "    </tr>\n",
       "    <tr>\n",
       "      <th>58313707</th>\n",
       "      <td>NaN</td>\n",
       "      <td>NaN</td>\n",
       "      <td>NaN</td>\n",
       "      <td>NaN</td>\n",
       "      <td>NaN</td>\n",
       "      <td>NaN</td>\n",
       "      <td>NaN</td>\n",
       "      <td>NaN</td>\n",
       "      <td>NaN</td>\n",
       "      <td>NaN</td>\n",
       "      <td>NaN</td>\n",
       "      <td>NaN</td>\n",
       "      <td>NaN</td>\n",
       "      <td>NaN</td>\n",
       "    </tr>\n",
       "  </tbody>\n",
       "</table>\n",
       "<p>5891757 rows × 14 columns</p>\n",
       "</div>"
      ],
      "text/plain": [
       "          TRIPID  PROGRNUMBER  STOPPOINTID  PLANNEDTIME_ARR  ACTUALTIME_ARR  \\\n",
       "3385959      NaN          NaN          NaN              NaN             NaN   \n",
       "3385966      NaN          NaN          NaN              NaN             NaN   \n",
       "3385967      NaN          NaN          NaN              NaN             NaN   \n",
       "18651442     NaN          NaN          NaN              NaN             NaN   \n",
       "18651441     NaN          NaN          NaN              NaN             NaN   \n",
       "...          ...          ...          ...              ...             ...   \n",
       "81995537     NaN          NaN          NaN              NaN             NaN   \n",
       "58313705     NaN          NaN          NaN              NaN             NaN   \n",
       "81995530     NaN          NaN          NaN              NaN             NaN   \n",
       "58313706     NaN          NaN          NaN              NaN             NaN   \n",
       "58313707     NaN          NaN          NaN              NaN             NaN   \n",
       "\n",
       "          DOY LINEID ROUTEID_DIRECTION  HOUR  temp  wind_speed  weather_main  \\\n",
       "3385959   NaN    NaN               NaN   NaN   NaN         NaN           NaN   \n",
       "3385966   NaN    NaN               NaN   NaN   NaN         NaN           NaN   \n",
       "3385967   NaN    NaN               NaN   NaN   NaN         NaN           NaN   \n",
       "18651442  NaN    NaN               NaN   NaN   NaN         NaN           NaN   \n",
       "18651441  NaN    NaN               NaN   NaN   NaN         NaN           NaN   \n",
       "...       ...    ...               ...   ...   ...         ...           ...   \n",
       "81995537  NaN    NaN               NaN   NaN   NaN         NaN           NaN   \n",
       "58313705  NaN    NaN               NaN   NaN   NaN         NaN           NaN   \n",
       "81995530  NaN    NaN               NaN   NaN   NaN         NaN           NaN   \n",
       "58313706  NaN    NaN               NaN   NaN   NaN         NaN           NaN   \n",
       "58313707  NaN    NaN               NaN   NaN   NaN         NaN           NaN   \n",
       "\n",
       "          DAYOFWEEK  MONTH  \n",
       "3385959         NaN    NaN  \n",
       "3385966         NaN    NaN  \n",
       "3385967         NaN    NaN  \n",
       "18651442        NaN    NaN  \n",
       "18651441        NaN    NaN  \n",
       "...             ...    ...  \n",
       "81995537        NaN    NaN  \n",
       "58313705        NaN    NaN  \n",
       "81995530        NaN    NaN  \n",
       "58313706        NaN    NaN  \n",
       "58313707        NaN    NaN  \n",
       "\n",
       "[5891757 rows x 14 columns]"
      ]
     },
     "execution_count": 172,
     "metadata": {},
     "output_type": "execute_result"
    }
   ],
   "source": [
    "nulls_lt_a"
   ]
  },
  {
   "cell_type": "code",
   "execution_count": 173,
   "id": "c8f921f8",
   "metadata": {},
   "outputs": [
    {
     "data": {
      "text/plain": [
       "(5891757, 14)"
      ]
     },
     "execution_count": 173,
     "metadata": {},
     "output_type": "execute_result"
    }
   ],
   "source": [
    "nulls_lt_a.shape"
   ]
  },
  {
   "cell_type": "code",
   "execution_count": null,
   "id": "4fc8ab59",
   "metadata": {},
   "outputs": [],
   "source": [
    "#nulls_lt_a = nulls_lt_a[[\"ACTUALTIME_ARR_T\", \"PLANNEDTIME_ARR_T\", \"PROGRNUMBER\", \"DOY\", \"TRIPID\", \"ROUTEID_DIRECTION\"]]\n",
    "#nulls_lt_d = nulls_lt_d[[\"ACTUALTIME_DEP_T\", \"PLANNEDTIME_DEP_T\", \"PROGRNUMBER\", \"DOY\", \"TRIPID\", \"ROUTEID_DIRECTION\"]]"
   ]
  },
  {
   "cell_type": "code",
   "execution_count": null,
   "id": "8bcf87c1",
   "metadata": {},
   "outputs": [],
   "source": [
    "#nulls_lt_a"
   ]
  },
  {
   "cell_type": "code",
   "execution_count": null,
   "id": "32f2dbf7",
   "metadata": {},
   "outputs": [],
   "source": [
    "#nulls_lt_a.info()"
   ]
  },
  {
   "cell_type": "code",
   "execution_count": null,
   "id": "cc429148",
   "metadata": {},
   "outputs": [],
   "source": [
    "#nulls_lt_d"
   ]
  },
  {
   "cell_type": "code",
   "execution_count": null,
   "id": "5b3ac816",
   "metadata": {},
   "outputs": [],
   "source": [
    "#null_routes = nulls_lt_a['ROUTEID_DIRECTION'].tolist()"
   ]
  },
  {
   "cell_type": "code",
   "execution_count": null,
   "id": "48b4872f",
   "metadata": {},
   "outputs": [],
   "source": [
    "#null_routes[0:5]"
   ]
  },
  {
   "cell_type": "code",
   "execution_count": null,
   "id": "ce6e8c95",
   "metadata": {},
   "outputs": [],
   "source": [
    "#nulls_lt_a.loc[nulls_lt_a[\"ROUTEID_DIRECTION\"] == \"1_37_1\"]"
   ]
  },
  {
   "cell_type": "code",
   "execution_count": null,
   "id": "56b1dcf2",
   "metadata": {},
   "outputs": [],
   "source": [
    "#nulls_lt_d.loc[nulls_lt_d[\"ROUTEID_DIRECTION\"]== \"33_71_2\"]"
   ]
  },
  {
   "cell_type": "code",
   "execution_count": null,
   "id": "0ff2f312",
   "metadata": {},
   "outputs": [],
   "source": [
    "#route_check = nulls_lt_d.loc[nulls_lt_d[\"ROUTEID_DIRECTION\"]== \"33_71_2\"]"
   ]
  },
  {
   "cell_type": "code",
   "execution_count": null,
   "id": "5193175f",
   "metadata": {},
   "outputs": [],
   "source": [
    "#del nulls_lt_a \n",
    "#del nulls_lt_d \n",
    "\n",
    "#gc.collect(nulls_lt_a)\n",
    "#gc.collect(nulls_lt_d)"
   ]
  },
  {
   "cell_type": "code",
   "execution_count": null,
   "id": "fa21fdc6",
   "metadata": {},
   "outputs": [],
   "source": [
    "#route_check.nunique()"
   ]
  },
  {
   "cell_type": "markdown",
   "id": "f63c271d",
   "metadata": {},
   "source": [
    "- same 2 times but on 30 different days"
   ]
  },
  {
   "cell_type": "code",
   "execution_count": null,
   "id": "34268860",
   "metadata": {},
   "outputs": [],
   "source": [
    "#route_33 = merged_dd.loc[merged_dd[\"ROUTEID_DIRECTION\"]== \"33_71_2\"]\n",
    "#route_33_1 = merged_dd.loc[merged_dd[\"ROUTEID_DIRECTION\"]== \"33_71_1\"]"
   ]
  },
  {
   "cell_type": "code",
   "execution_count": null,
   "id": "541d9e01",
   "metadata": {},
   "outputs": [],
   "source": [
    "#route_33"
   ]
  },
  {
   "cell_type": "code",
   "execution_count": null,
   "id": "886ffb57",
   "metadata": {},
   "outputs": [],
   "source": [
    "#route_33_1"
   ]
  },
  {
   "cell_type": "code",
   "execution_count": null,
   "id": "75ea13b5",
   "metadata": {},
   "outputs": [],
   "source": [
    "#del route_33_1 \n",
    "#del route_33 \n",
    "\n",
    "#gc.collect(route_33)\n",
    "#gc.collect(route_33_1)"
   ]
  },
  {
   "cell_type": "markdown",
   "id": "120b6bf9",
   "metadata": {},
   "source": [
    "- not every route goes both directions"
   ]
  },
  {
   "cell_type": "code",
   "execution_count": null,
   "id": "b323247a",
   "metadata": {},
   "outputs": [],
   "source": [
    "#check_1pn = merged_dd.loc[merged_dd[\"PROGRNUMBER\"] == 1]"
   ]
  },
  {
   "cell_type": "code",
   "execution_count": null,
   "id": "56886c8c",
   "metadata": {},
   "outputs": [],
   "source": [
    "#check_1pn"
   ]
  },
  {
   "cell_type": "code",
   "execution_count": null,
   "id": "7adbc778",
   "metadata": {},
   "outputs": [],
   "source": [
    "#del check_1pn \n"
   ]
  },
  {
   "cell_type": "code",
   "execution_count": null,
   "id": "f016eec8",
   "metadata": {},
   "outputs": [],
   "source": [
    "#del null_routes"
   ]
  },
  {
   "cell_type": "markdown",
   "id": "60a48dc6",
   "metadata": {},
   "source": [
    "- trips data is same as progrnumber 1 data so columns can be dropped\n",
    "- after considerations for the models we concluded there was no value in keeping the departure columns"
   ]
  },
  {
   "cell_type": "code",
   "execution_count": 65,
   "id": "b384ce0f",
   "metadata": {},
   "outputs": [
    {
     "name": "stdout",
     "output_type": "stream",
     "text": [
      "Once deleted, variables cannot be recovered. Proceed (y/[n])? y\n",
      "Flushing output cache (8 entries)\n"
     ]
    }
   ],
   "source": [
    "%reset Out"
   ]
  },
  {
   "cell_type": "code",
   "execution_count": 55,
   "id": "bd1da670",
   "metadata": {},
   "outputs": [
    {
     "data": {
      "text/html": [
       "<div>\n",
       "<style scoped>\n",
       "    .dataframe tbody tr th:only-of-type {\n",
       "        vertical-align: middle;\n",
       "    }\n",
       "\n",
       "    .dataframe tbody tr th {\n",
       "        vertical-align: top;\n",
       "    }\n",
       "\n",
       "    .dataframe thead th {\n",
       "        text-align: right;\n",
       "    }\n",
       "</style>\n",
       "<table border=\"1\" class=\"dataframe\">\n",
       "  <thead>\n",
       "    <tr style=\"text-align: right;\">\n",
       "      <th></th>\n",
       "      <th>TRIPID</th>\n",
       "      <th>PROGRNUMBER</th>\n",
       "      <th>STOPPOINTID</th>\n",
       "      <th>PLANNEDTIME_ARR</th>\n",
       "      <th>ACTUALTIME_ARR</th>\n",
       "      <th>DOY</th>\n",
       "      <th>PLANNED_START_TIME</th>\n",
       "      <th>START_TIME</th>\n",
       "      <th>LINEID_DIRECTION</th>\n",
       "    </tr>\n",
       "  </thead>\n",
       "  <tbody>\n",
       "    <tr>\n",
       "      <th>0</th>\n",
       "      <td>5972116</td>\n",
       "      <td>12</td>\n",
       "      <td>119</td>\n",
       "      <td>48030</td>\n",
       "      <td>48012</td>\n",
       "      <td>1</td>\n",
       "      <td>47400</td>\n",
       "      <td>47427</td>\n",
       "      <td>1_1</td>\n",
       "    </tr>\n",
       "    <tr>\n",
       "      <th>1</th>\n",
       "      <td>5966674</td>\n",
       "      <td>12</td>\n",
       "      <td>119</td>\n",
       "      <td>54001</td>\n",
       "      <td>54023</td>\n",
       "      <td>1</td>\n",
       "      <td>53400</td>\n",
       "      <td>53410</td>\n",
       "      <td>1_1</td>\n",
       "    </tr>\n",
       "    <tr>\n",
       "      <th>2</th>\n",
       "      <td>5959105</td>\n",
       "      <td>12</td>\n",
       "      <td>119</td>\n",
       "      <td>60001</td>\n",
       "      <td>59955</td>\n",
       "      <td>1</td>\n",
       "      <td>59400</td>\n",
       "      <td>59426</td>\n",
       "      <td>1_1</td>\n",
       "    </tr>\n",
       "    <tr>\n",
       "      <th>3</th>\n",
       "      <td>5966888</td>\n",
       "      <td>12</td>\n",
       "      <td>119</td>\n",
       "      <td>58801</td>\n",
       "      <td>58771</td>\n",
       "      <td>1</td>\n",
       "      <td>58200</td>\n",
       "      <td>58220</td>\n",
       "      <td>1_1</td>\n",
       "    </tr>\n",
       "    <tr>\n",
       "      <th>4</th>\n",
       "      <td>5965960</td>\n",
       "      <td>12</td>\n",
       "      <td>119</td>\n",
       "      <td>56401</td>\n",
       "      <td>56309</td>\n",
       "      <td>1</td>\n",
       "      <td>55800</td>\n",
       "      <td>55807</td>\n",
       "      <td>1_1</td>\n",
       "    </tr>\n",
       "    <tr>\n",
       "      <th>...</th>\n",
       "      <td>...</td>\n",
       "      <td>...</td>\n",
       "      <td>...</td>\n",
       "      <td>...</td>\n",
       "      <td>...</td>\n",
       "      <td>...</td>\n",
       "      <td>...</td>\n",
       "      <td>...</td>\n",
       "      <td>...</td>\n",
       "    </tr>\n",
       "    <tr>\n",
       "      <th>116949108</th>\n",
       "      <td>8588153</td>\n",
       "      <td>78</td>\n",
       "      <td>4383</td>\n",
       "      <td>28605</td>\n",
       "      <td>28998</td>\n",
       "      <td>365</td>\n",
       "      <td>25200</td>\n",
       "      <td>25257</td>\n",
       "      <td>27_2</td>\n",
       "    </tr>\n",
       "    <tr>\n",
       "      <th>116949109</th>\n",
       "      <td>8587459</td>\n",
       "      <td>78</td>\n",
       "      <td>4383</td>\n",
       "      <td>22695</td>\n",
       "      <td>23247</td>\n",
       "      <td>365</td>\n",
       "      <td>19800</td>\n",
       "      <td>19797</td>\n",
       "      <td>27_2</td>\n",
       "    </tr>\n",
       "    <tr>\n",
       "      <th>116949110</th>\n",
       "      <td>8586183</td>\n",
       "      <td>78</td>\n",
       "      <td>4383</td>\n",
       "      <td>51481</td>\n",
       "      <td>52237</td>\n",
       "      <td>365</td>\n",
       "      <td>46800</td>\n",
       "      <td>46810</td>\n",
       "      <td>27_2</td>\n",
       "    </tr>\n",
       "    <tr>\n",
       "      <th>116949111</th>\n",
       "      <td>8589374</td>\n",
       "      <td>23</td>\n",
       "      <td>7053</td>\n",
       "      <td>53659</td>\n",
       "      <td>53525</td>\n",
       "      <td>365</td>\n",
       "      <td>52200</td>\n",
       "      <td>-1</td>\n",
       "      <td>47_1</td>\n",
       "    </tr>\n",
       "    <tr>\n",
       "      <th>116949112</th>\n",
       "      <td>8589372</td>\n",
       "      <td>24</td>\n",
       "      <td>2088</td>\n",
       "      <td>46383</td>\n",
       "      <td>46315</td>\n",
       "      <td>365</td>\n",
       "      <td>45000</td>\n",
       "      <td>44563</td>\n",
       "      <td>47_1</td>\n",
       "    </tr>\n",
       "  </tbody>\n",
       "</table>\n",
       "<p>116949113 rows × 9 columns</p>\n",
       "</div>"
      ],
      "text/plain": [
       "            TRIPID  PROGRNUMBER  STOPPOINTID  PLANNEDTIME_ARR  ACTUALTIME_ARR  \\\n",
       "0          5972116           12          119            48030           48012   \n",
       "1          5966674           12          119            54001           54023   \n",
       "2          5959105           12          119            60001           59955   \n",
       "3          5966888           12          119            58801           58771   \n",
       "4          5965960           12          119            56401           56309   \n",
       "...            ...          ...          ...              ...             ...   \n",
       "116949108  8588153           78         4383            28605           28998   \n",
       "116949109  8587459           78         4383            22695           23247   \n",
       "116949110  8586183           78         4383            51481           52237   \n",
       "116949111  8589374           23         7053            53659           53525   \n",
       "116949112  8589372           24         2088            46383           46315   \n",
       "\n",
       "           DOY  PLANNED_START_TIME  START_TIME LINEID_DIRECTION  \n",
       "0            1               47400       47427              1_1  \n",
       "1            1               53400       53410              1_1  \n",
       "2            1               59400       59426              1_1  \n",
       "3            1               58200       58220              1_1  \n",
       "4            1               55800       55807              1_1  \n",
       "...        ...                 ...         ...              ...  \n",
       "116949108  365               25200       25257             27_2  \n",
       "116949109  365               19800       19797             27_2  \n",
       "116949110  365               46800       46810             27_2  \n",
       "116949111  365               52200          -1             47_1  \n",
       "116949112  365               45000       44563             47_1  \n",
       "\n",
       "[116949113 rows x 9 columns]"
      ]
     },
     "execution_count": 55,
     "metadata": {},
     "output_type": "execute_result"
    }
   ],
   "source": [
    "merged_dd"
   ]
  },
  {
   "cell_type": "code",
   "execution_count": 58,
   "id": "0f8581af",
   "metadata": {},
   "outputs": [
    {
     "data": {
      "text/plain": [
       "pandas.core.frame.DataFrame"
      ]
     },
     "execution_count": 58,
     "metadata": {},
     "output_type": "execute_result"
    }
   ],
   "source": [
    "type(merged_dd)"
   ]
  },
  {
   "cell_type": "code",
   "execution_count": 60,
   "id": "9adb4d29",
   "metadata": {},
   "outputs": [
    {
     "data": {
      "text/plain": [
       "(109079554, 9)"
      ]
     },
     "execution_count": 60,
     "metadata": {},
     "output_type": "execute_result"
    }
   ],
   "source": [
    "merged_dd.shape"
   ]
  },
  {
   "cell_type": "code",
   "execution_count": 56,
   "id": "d8b9118b",
   "metadata": {},
   "outputs": [
    {
     "name": "stdout",
     "output_type": "stream",
     "text": [
      "<class 'pandas.core.frame.DataFrame'>\n",
      "Int64Index: 116949113 entries, 0 to 116949112\n",
      "Data columns (total 9 columns):\n",
      " #   Column              Dtype   \n",
      "---  ------              -----   \n",
      " 0   TRIPID              int32   \n",
      " 1   PROGRNUMBER         int8    \n",
      " 2   STOPPOINTID         int16   \n",
      " 3   PLANNEDTIME_ARR     int32   \n",
      " 4   ACTUALTIME_ARR      int32   \n",
      " 5   DOY                 int16   \n",
      " 6   PLANNED_START_TIME  int32   \n",
      " 7   START_TIME          int32   \n",
      " 8   LINEID_DIRECTION    category\n",
      "dtypes: category(1), int16(2), int32(5), int8(1)\n",
      "memory usage: 3.8 GB\n"
     ]
    }
   ],
   "source": [
    "merged_dd.info()"
   ]
  },
  {
   "cell_type": "code",
   "execution_count": 64,
   "id": "e4883b1a",
   "metadata": {},
   "outputs": [
    {
     "name": "stdout",
     "output_type": "stream",
     "text": [
      "<class 'pandas.core.frame.DataFrame'>\n",
      "RangeIndex: 8759 entries, 0 to 8758\n",
      "Data columns (total 6 columns):\n",
      " #   Column        Non-Null Count  Dtype         \n",
      "---  ------        --------------  -----         \n",
      " 0   dt            8759 non-null   int64         \n",
      " 1   temp          8759 non-null   int64         \n",
      " 2   wind_speed    8759 non-null   int64         \n",
      " 3   weather_main  8759 non-null   int64         \n",
      " 4   date          8759 non-null   datetime64[ns]\n",
      " 5   DAYOFWEEK     8759 non-null   int64         \n",
      "dtypes: datetime64[ns](1), int64(5)\n",
      "memory usage: 410.7 KB\n"
     ]
    }
   ],
   "source": [
    "weather.info()"
   ]
  },
  {
   "cell_type": "code",
   "execution_count": 65,
   "id": "7a90495e",
   "metadata": {},
   "outputs": [
    {
     "data": {
      "text/html": [
       "<div>\n",
       "<style scoped>\n",
       "    .dataframe tbody tr th:only-of-type {\n",
       "        vertical-align: middle;\n",
       "    }\n",
       "\n",
       "    .dataframe tbody tr th {\n",
       "        vertical-align: top;\n",
       "    }\n",
       "\n",
       "    .dataframe thead th {\n",
       "        text-align: right;\n",
       "    }\n",
       "</style>\n",
       "<table border=\"1\" class=\"dataframe\">\n",
       "  <thead>\n",
       "    <tr style=\"text-align: right;\">\n",
       "      <th></th>\n",
       "      <th>dt</th>\n",
       "      <th>temp</th>\n",
       "      <th>wind_speed</th>\n",
       "      <th>weather_main</th>\n",
       "      <th>date</th>\n",
       "      <th>DAYOFWEEK</th>\n",
       "    </tr>\n",
       "  </thead>\n",
       "  <tbody>\n",
       "    <tr>\n",
       "      <th>0</th>\n",
       "      <td>1514768400</td>\n",
       "      <td>4</td>\n",
       "      <td>12</td>\n",
       "      <td>1</td>\n",
       "      <td>2018-01-01 01:00:00</td>\n",
       "      <td>0</td>\n",
       "    </tr>\n",
       "    <tr>\n",
       "      <th>1</th>\n",
       "      <td>1514772000</td>\n",
       "      <td>5</td>\n",
       "      <td>12</td>\n",
       "      <td>0</td>\n",
       "      <td>2018-01-01 02:00:00</td>\n",
       "      <td>0</td>\n",
       "    </tr>\n",
       "    <tr>\n",
       "      <th>2</th>\n",
       "      <td>1514775600</td>\n",
       "      <td>5</td>\n",
       "      <td>12</td>\n",
       "      <td>0</td>\n",
       "      <td>2018-01-01 03:00:00</td>\n",
       "      <td>0</td>\n",
       "    </tr>\n",
       "    <tr>\n",
       "      <th>3</th>\n",
       "      <td>1514779200</td>\n",
       "      <td>5</td>\n",
       "      <td>12</td>\n",
       "      <td>0</td>\n",
       "      <td>2018-01-01 04:00:00</td>\n",
       "      <td>0</td>\n",
       "    </tr>\n",
       "    <tr>\n",
       "      <th>4</th>\n",
       "      <td>1514782800</td>\n",
       "      <td>5</td>\n",
       "      <td>10</td>\n",
       "      <td>0</td>\n",
       "      <td>2018-01-01 05:00:00</td>\n",
       "      <td>0</td>\n",
       "    </tr>\n",
       "  </tbody>\n",
       "</table>\n",
       "</div>"
      ],
      "text/plain": [
       "           dt  temp  wind_speed  weather_main                date  DAYOFWEEK\n",
       "0  1514768400     4          12             1 2018-01-01 01:00:00          0\n",
       "1  1514772000     5          12             0 2018-01-01 02:00:00          0\n",
       "2  1514775600     5          12             0 2018-01-01 03:00:00          0\n",
       "3  1514779200     5          12             0 2018-01-01 04:00:00          0\n",
       "4  1514782800     5          10             0 2018-01-01 05:00:00          0"
      ]
     },
     "execution_count": 65,
     "metadata": {},
     "output_type": "execute_result"
    }
   ],
   "source": [
    "weather.head(5)"
   ]
  },
  {
   "cell_type": "code",
   "execution_count": 66,
   "id": "2699b98f",
   "metadata": {},
   "outputs": [],
   "source": [
    "weather['temp'] = weather['temp'].astype('int8')\n",
    "weather['wind_speed'] = weather['wind_speed'].astype('int8')\n",
    "weather['weather_main'] = weather['weather_main'].astype('int8')\n",
    "weather['DAYOFWEEK'] = weather['DAYOFWEEK'].astype('int8')\n"
   ]
  },
  {
   "cell_type": "code",
   "execution_count": 67,
   "id": "4d864b87",
   "metadata": {},
   "outputs": [
    {
     "name": "stdout",
     "output_type": "stream",
     "text": [
      "<class 'pandas.core.frame.DataFrame'>\n",
      "RangeIndex: 8759 entries, 0 to 8758\n",
      "Data columns (total 6 columns):\n",
      " #   Column        Non-Null Count  Dtype         \n",
      "---  ------        --------------  -----         \n",
      " 0   dt            8759 non-null   int64         \n",
      " 1   temp          8759 non-null   int8          \n",
      " 2   wind_speed    8759 non-null   int8          \n",
      " 3   weather_main  8759 non-null   int8          \n",
      " 4   date          8759 non-null   datetime64[ns]\n",
      " 5   DAYOFWEEK     8759 non-null   int8          \n",
      "dtypes: datetime64[ns](1), int64(1), int8(4)\n",
      "memory usage: 171.2 KB\n"
     ]
    }
   ],
   "source": [
    "weather.info()"
   ]
  },
  {
   "cell_type": "markdown",
   "id": "566c816c",
   "metadata": {},
   "source": [
    "###### remove nan values from buses that never left\n",
    "- cant change the NaN values in dask so must do it in pandas when in individual files"
   ]
  },
  {
   "cell_type": "code",
   "execution_count": 68,
   "id": "cd67bf97",
   "metadata": {},
   "outputs": [],
   "source": [
    "def date_from_epoch(x):\n",
    "    y = dt.datetime.fromtimestamp (x).strftime('%d-%m-%Y')\n",
    "    return y   \n",
    "\n",
    "weather['DAYOFSERVICE'] = weather['dt'].apply(lambda x: date_from_epoch(x))\n",
    "\n",
    "def round_epoch_hour(x):\n",
    "    day = x // 86400\n",
    "    day = day * 86400\n",
    "    time = x - day\n",
    "    round_time = time // 3600\n",
    "        \n",
    "    return round_time\n",
    "\n",
    "# weather['HOUR'] = weather['dt'].apply(lambda x: round_epoch_hour(x))"
   ]
  },
  {
   "cell_type": "code",
   "execution_count": 69,
   "id": "285ea70e",
   "metadata": {},
   "outputs": [],
   "source": [
    "weather['dt'] = weather['dt'].astype(\"datetime64[s]\")\n",
    "weather['HOUR'] = weather['dt'].dt.hour\n"
   ]
  },
  {
   "cell_type": "code",
   "execution_count": 70,
   "id": "1362e0ed",
   "metadata": {},
   "outputs": [],
   "source": [
    "weather[\"HOUR\"] = weather[\"HOUR\"].astype(\"int8\")"
   ]
  },
  {
   "cell_type": "code",
   "execution_count": 71,
   "id": "50e074c7",
   "metadata": {},
   "outputs": [
    {
     "data": {
      "text/html": [
       "<div>\n",
       "<style scoped>\n",
       "    .dataframe tbody tr th:only-of-type {\n",
       "        vertical-align: middle;\n",
       "    }\n",
       "\n",
       "    .dataframe tbody tr th {\n",
       "        vertical-align: top;\n",
       "    }\n",
       "\n",
       "    .dataframe thead th {\n",
       "        text-align: right;\n",
       "    }\n",
       "</style>\n",
       "<table border=\"1\" class=\"dataframe\">\n",
       "  <thead>\n",
       "    <tr style=\"text-align: right;\">\n",
       "      <th></th>\n",
       "      <th>dt</th>\n",
       "      <th>temp</th>\n",
       "      <th>wind_speed</th>\n",
       "      <th>weather_main</th>\n",
       "      <th>date</th>\n",
       "      <th>DAYOFWEEK</th>\n",
       "      <th>DAYOFSERVICE</th>\n",
       "      <th>HOUR</th>\n",
       "    </tr>\n",
       "  </thead>\n",
       "  <tbody>\n",
       "    <tr>\n",
       "      <th>0</th>\n",
       "      <td>2018-01-01 01:00:00</td>\n",
       "      <td>4</td>\n",
       "      <td>12</td>\n",
       "      <td>1</td>\n",
       "      <td>2018-01-01 01:00:00</td>\n",
       "      <td>0</td>\n",
       "      <td>01-01-2018</td>\n",
       "      <td>1</td>\n",
       "    </tr>\n",
       "    <tr>\n",
       "      <th>1</th>\n",
       "      <td>2018-01-01 02:00:00</td>\n",
       "      <td>5</td>\n",
       "      <td>12</td>\n",
       "      <td>0</td>\n",
       "      <td>2018-01-01 02:00:00</td>\n",
       "      <td>0</td>\n",
       "      <td>01-01-2018</td>\n",
       "      <td>2</td>\n",
       "    </tr>\n",
       "    <tr>\n",
       "      <th>2</th>\n",
       "      <td>2018-01-01 03:00:00</td>\n",
       "      <td>5</td>\n",
       "      <td>12</td>\n",
       "      <td>0</td>\n",
       "      <td>2018-01-01 03:00:00</td>\n",
       "      <td>0</td>\n",
       "      <td>01-01-2018</td>\n",
       "      <td>3</td>\n",
       "    </tr>\n",
       "    <tr>\n",
       "      <th>3</th>\n",
       "      <td>2018-01-01 04:00:00</td>\n",
       "      <td>5</td>\n",
       "      <td>12</td>\n",
       "      <td>0</td>\n",
       "      <td>2018-01-01 04:00:00</td>\n",
       "      <td>0</td>\n",
       "      <td>01-01-2018</td>\n",
       "      <td>4</td>\n",
       "    </tr>\n",
       "    <tr>\n",
       "      <th>4</th>\n",
       "      <td>2018-01-01 05:00:00</td>\n",
       "      <td>5</td>\n",
       "      <td>10</td>\n",
       "      <td>0</td>\n",
       "      <td>2018-01-01 05:00:00</td>\n",
       "      <td>0</td>\n",
       "      <td>01-01-2018</td>\n",
       "      <td>5</td>\n",
       "    </tr>\n",
       "  </tbody>\n",
       "</table>\n",
       "</div>"
      ],
      "text/plain": [
       "                   dt  temp  wind_speed  weather_main                date  \\\n",
       "0 2018-01-01 01:00:00     4          12             1 2018-01-01 01:00:00   \n",
       "1 2018-01-01 02:00:00     5          12             0 2018-01-01 02:00:00   \n",
       "2 2018-01-01 03:00:00     5          12             0 2018-01-01 03:00:00   \n",
       "3 2018-01-01 04:00:00     5          12             0 2018-01-01 04:00:00   \n",
       "4 2018-01-01 05:00:00     5          10             0 2018-01-01 05:00:00   \n",
       "\n",
       "   DAYOFWEEK DAYOFSERVICE  HOUR  \n",
       "0          0   01-01-2018     1  \n",
       "1          0   01-01-2018     2  \n",
       "2          0   01-01-2018     3  \n",
       "3          0   01-01-2018     4  \n",
       "4          0   01-01-2018     5  "
      ]
     },
     "execution_count": 71,
     "metadata": {},
     "output_type": "execute_result"
    }
   ],
   "source": [
    "weather.head(5)"
   ]
  },
  {
   "cell_type": "code",
   "execution_count": 72,
   "id": "8aa35b75",
   "metadata": {},
   "outputs": [
    {
     "name": "stderr",
     "output_type": "stream",
     "text": [
      "/home/team9/miniconda3/envs/comp47360py39/lib/python3.9/site-packages/pandas/core/tools/datetimes.py:1063: UserWarning: Parsing '13-01-2018' in DD/MM/YYYY format. Provide format or specify infer_datetime_format=True for consistent parsing.\n",
      "  cache_array = _maybe_cache(arg, format, cache, convert_listlike)\n",
      "/home/team9/miniconda3/envs/comp47360py39/lib/python3.9/site-packages/pandas/core/tools/datetimes.py:1063: UserWarning: Parsing '14-01-2018' in DD/MM/YYYY format. Provide format or specify infer_datetime_format=True for consistent parsing.\n",
      "  cache_array = _maybe_cache(arg, format, cache, convert_listlike)\n",
      "/home/team9/miniconda3/envs/comp47360py39/lib/python3.9/site-packages/pandas/core/tools/datetimes.py:1063: UserWarning: Parsing '15-01-2018' in DD/MM/YYYY format. Provide format or specify infer_datetime_format=True for consistent parsing.\n",
      "  cache_array = _maybe_cache(arg, format, cache, convert_listlike)\n",
      "/home/team9/miniconda3/envs/comp47360py39/lib/python3.9/site-packages/pandas/core/tools/datetimes.py:1063: UserWarning: Parsing '16-01-2018' in DD/MM/YYYY format. Provide format or specify infer_datetime_format=True for consistent parsing.\n",
      "  cache_array = _maybe_cache(arg, format, cache, convert_listlike)\n",
      "/home/team9/miniconda3/envs/comp47360py39/lib/python3.9/site-packages/pandas/core/tools/datetimes.py:1063: UserWarning: Parsing '17-01-2018' in DD/MM/YYYY format. Provide format or specify infer_datetime_format=True for consistent parsing.\n",
      "  cache_array = _maybe_cache(arg, format, cache, convert_listlike)\n",
      "/home/team9/miniconda3/envs/comp47360py39/lib/python3.9/site-packages/pandas/core/tools/datetimes.py:1063: UserWarning: Parsing '18-01-2018' in DD/MM/YYYY format. Provide format or specify infer_datetime_format=True for consistent parsing.\n",
      "  cache_array = _maybe_cache(arg, format, cache, convert_listlike)\n",
      "/home/team9/miniconda3/envs/comp47360py39/lib/python3.9/site-packages/pandas/core/tools/datetimes.py:1063: UserWarning: Parsing '19-01-2018' in DD/MM/YYYY format. Provide format or specify infer_datetime_format=True for consistent parsing.\n",
      "  cache_array = _maybe_cache(arg, format, cache, convert_listlike)\n",
      "/home/team9/miniconda3/envs/comp47360py39/lib/python3.9/site-packages/pandas/core/tools/datetimes.py:1063: UserWarning: Parsing '20-01-2018' in DD/MM/YYYY format. Provide format or specify infer_datetime_format=True for consistent parsing.\n",
      "  cache_array = _maybe_cache(arg, format, cache, convert_listlike)\n",
      "/home/team9/miniconda3/envs/comp47360py39/lib/python3.9/site-packages/pandas/core/tools/datetimes.py:1063: UserWarning: Parsing '21-01-2018' in DD/MM/YYYY format. Provide format or specify infer_datetime_format=True for consistent parsing.\n",
      "  cache_array = _maybe_cache(arg, format, cache, convert_listlike)\n",
      "/home/team9/miniconda3/envs/comp47360py39/lib/python3.9/site-packages/pandas/core/tools/datetimes.py:1063: UserWarning: Parsing '22-01-2018' in DD/MM/YYYY format. Provide format or specify infer_datetime_format=True for consistent parsing.\n",
      "  cache_array = _maybe_cache(arg, format, cache, convert_listlike)\n",
      "/home/team9/miniconda3/envs/comp47360py39/lib/python3.9/site-packages/pandas/core/tools/datetimes.py:1063: UserWarning: Parsing '23-01-2018' in DD/MM/YYYY format. Provide format or specify infer_datetime_format=True for consistent parsing.\n",
      "  cache_array = _maybe_cache(arg, format, cache, convert_listlike)\n",
      "/home/team9/miniconda3/envs/comp47360py39/lib/python3.9/site-packages/pandas/core/tools/datetimes.py:1063: UserWarning: Parsing '24-01-2018' in DD/MM/YYYY format. Provide format or specify infer_datetime_format=True for consistent parsing.\n",
      "  cache_array = _maybe_cache(arg, format, cache, convert_listlike)\n",
      "/home/team9/miniconda3/envs/comp47360py39/lib/python3.9/site-packages/pandas/core/tools/datetimes.py:1063: UserWarning: Parsing '25-01-2018' in DD/MM/YYYY format. Provide format or specify infer_datetime_format=True for consistent parsing.\n",
      "  cache_array = _maybe_cache(arg, format, cache, convert_listlike)\n",
      "/home/team9/miniconda3/envs/comp47360py39/lib/python3.9/site-packages/pandas/core/tools/datetimes.py:1063: UserWarning: Parsing '26-01-2018' in DD/MM/YYYY format. Provide format or specify infer_datetime_format=True for consistent parsing.\n",
      "  cache_array = _maybe_cache(arg, format, cache, convert_listlike)\n",
      "/home/team9/miniconda3/envs/comp47360py39/lib/python3.9/site-packages/pandas/core/tools/datetimes.py:1063: UserWarning: Parsing '27-01-2018' in DD/MM/YYYY format. Provide format or specify infer_datetime_format=True for consistent parsing.\n",
      "  cache_array = _maybe_cache(arg, format, cache, convert_listlike)\n",
      "/home/team9/miniconda3/envs/comp47360py39/lib/python3.9/site-packages/pandas/core/tools/datetimes.py:1063: UserWarning: Parsing '28-01-2018' in DD/MM/YYYY format. Provide format or specify infer_datetime_format=True for consistent parsing.\n",
      "  cache_array = _maybe_cache(arg, format, cache, convert_listlike)\n",
      "/home/team9/miniconda3/envs/comp47360py39/lib/python3.9/site-packages/pandas/core/tools/datetimes.py:1063: UserWarning: Parsing '29-01-2018' in DD/MM/YYYY format. Provide format or specify infer_datetime_format=True for consistent parsing.\n",
      "  cache_array = _maybe_cache(arg, format, cache, convert_listlike)\n",
      "/home/team9/miniconda3/envs/comp47360py39/lib/python3.9/site-packages/pandas/core/tools/datetimes.py:1063: UserWarning: Parsing '30-01-2018' in DD/MM/YYYY format. Provide format or specify infer_datetime_format=True for consistent parsing.\n",
      "  cache_array = _maybe_cache(arg, format, cache, convert_listlike)\n",
      "/home/team9/miniconda3/envs/comp47360py39/lib/python3.9/site-packages/pandas/core/tools/datetimes.py:1063: UserWarning: Parsing '31-01-2018' in DD/MM/YYYY format. Provide format or specify infer_datetime_format=True for consistent parsing.\n",
      "  cache_array = _maybe_cache(arg, format, cache, convert_listlike)\n",
      "/home/team9/miniconda3/envs/comp47360py39/lib/python3.9/site-packages/pandas/core/tools/datetimes.py:1063: UserWarning: Parsing '13-02-2018' in DD/MM/YYYY format. Provide format or specify infer_datetime_format=True for consistent parsing.\n",
      "  cache_array = _maybe_cache(arg, format, cache, convert_listlike)\n",
      "/home/team9/miniconda3/envs/comp47360py39/lib/python3.9/site-packages/pandas/core/tools/datetimes.py:1063: UserWarning: Parsing '14-02-2018' in DD/MM/YYYY format. Provide format or specify infer_datetime_format=True for consistent parsing.\n",
      "  cache_array = _maybe_cache(arg, format, cache, convert_listlike)\n",
      "/home/team9/miniconda3/envs/comp47360py39/lib/python3.9/site-packages/pandas/core/tools/datetimes.py:1063: UserWarning: Parsing '15-02-2018' in DD/MM/YYYY format. Provide format or specify infer_datetime_format=True for consistent parsing.\n",
      "  cache_array = _maybe_cache(arg, format, cache, convert_listlike)\n",
      "/home/team9/miniconda3/envs/comp47360py39/lib/python3.9/site-packages/pandas/core/tools/datetimes.py:1063: UserWarning: Parsing '16-02-2018' in DD/MM/YYYY format. Provide format or specify infer_datetime_format=True for consistent parsing.\n",
      "  cache_array = _maybe_cache(arg, format, cache, convert_listlike)\n",
      "/home/team9/miniconda3/envs/comp47360py39/lib/python3.9/site-packages/pandas/core/tools/datetimes.py:1063: UserWarning: Parsing '17-02-2018' in DD/MM/YYYY format. Provide format or specify infer_datetime_format=True for consistent parsing.\n",
      "  cache_array = _maybe_cache(arg, format, cache, convert_listlike)\n",
      "/home/team9/miniconda3/envs/comp47360py39/lib/python3.9/site-packages/pandas/core/tools/datetimes.py:1063: UserWarning: Parsing '18-02-2018' in DD/MM/YYYY format. Provide format or specify infer_datetime_format=True for consistent parsing.\n",
      "  cache_array = _maybe_cache(arg, format, cache, convert_listlike)\n",
      "/home/team9/miniconda3/envs/comp47360py39/lib/python3.9/site-packages/pandas/core/tools/datetimes.py:1063: UserWarning: Parsing '19-02-2018' in DD/MM/YYYY format. Provide format or specify infer_datetime_format=True for consistent parsing.\n",
      "  cache_array = _maybe_cache(arg, format, cache, convert_listlike)\n",
      "/home/team9/miniconda3/envs/comp47360py39/lib/python3.9/site-packages/pandas/core/tools/datetimes.py:1063: UserWarning: Parsing '20-02-2018' in DD/MM/YYYY format. Provide format or specify infer_datetime_format=True for consistent parsing.\n",
      "  cache_array = _maybe_cache(arg, format, cache, convert_listlike)\n",
      "/home/team9/miniconda3/envs/comp47360py39/lib/python3.9/site-packages/pandas/core/tools/datetimes.py:1063: UserWarning: Parsing '21-02-2018' in DD/MM/YYYY format. Provide format or specify infer_datetime_format=True for consistent parsing.\n",
      "  cache_array = _maybe_cache(arg, format, cache, convert_listlike)\n",
      "/home/team9/miniconda3/envs/comp47360py39/lib/python3.9/site-packages/pandas/core/tools/datetimes.py:1063: UserWarning: Parsing '22-02-2018' in DD/MM/YYYY format. Provide format or specify infer_datetime_format=True for consistent parsing.\n",
      "  cache_array = _maybe_cache(arg, format, cache, convert_listlike)\n",
      "/home/team9/miniconda3/envs/comp47360py39/lib/python3.9/site-packages/pandas/core/tools/datetimes.py:1063: UserWarning: Parsing '23-02-2018' in DD/MM/YYYY format. Provide format or specify infer_datetime_format=True for consistent parsing.\n",
      "  cache_array = _maybe_cache(arg, format, cache, convert_listlike)\n",
      "/home/team9/miniconda3/envs/comp47360py39/lib/python3.9/site-packages/pandas/core/tools/datetimes.py:1063: UserWarning: Parsing '24-02-2018' in DD/MM/YYYY format. Provide format or specify infer_datetime_format=True for consistent parsing.\n",
      "  cache_array = _maybe_cache(arg, format, cache, convert_listlike)\n",
      "/home/team9/miniconda3/envs/comp47360py39/lib/python3.9/site-packages/pandas/core/tools/datetimes.py:1063: UserWarning: Parsing '25-02-2018' in DD/MM/YYYY format. Provide format or specify infer_datetime_format=True for consistent parsing.\n",
      "  cache_array = _maybe_cache(arg, format, cache, convert_listlike)\n",
      "/home/team9/miniconda3/envs/comp47360py39/lib/python3.9/site-packages/pandas/core/tools/datetimes.py:1063: UserWarning: Parsing '26-02-2018' in DD/MM/YYYY format. Provide format or specify infer_datetime_format=True for consistent parsing.\n",
      "  cache_array = _maybe_cache(arg, format, cache, convert_listlike)\n",
      "/home/team9/miniconda3/envs/comp47360py39/lib/python3.9/site-packages/pandas/core/tools/datetimes.py:1063: UserWarning: Parsing '27-02-2018' in DD/MM/YYYY format. Provide format or specify infer_datetime_format=True for consistent parsing.\n",
      "  cache_array = _maybe_cache(arg, format, cache, convert_listlike)\n",
      "/home/team9/miniconda3/envs/comp47360py39/lib/python3.9/site-packages/pandas/core/tools/datetimes.py:1063: UserWarning: Parsing '28-02-2018' in DD/MM/YYYY format. Provide format or specify infer_datetime_format=True for consistent parsing.\n",
      "  cache_array = _maybe_cache(arg, format, cache, convert_listlike)\n",
      "/home/team9/miniconda3/envs/comp47360py39/lib/python3.9/site-packages/pandas/core/tools/datetimes.py:1063: UserWarning: Parsing '13-03-2018' in DD/MM/YYYY format. Provide format or specify infer_datetime_format=True for consistent parsing.\n",
      "  cache_array = _maybe_cache(arg, format, cache, convert_listlike)\n",
      "/home/team9/miniconda3/envs/comp47360py39/lib/python3.9/site-packages/pandas/core/tools/datetimes.py:1063: UserWarning: Parsing '14-03-2018' in DD/MM/YYYY format. Provide format or specify infer_datetime_format=True for consistent parsing.\n",
      "  cache_array = _maybe_cache(arg, format, cache, convert_listlike)\n",
      "/home/team9/miniconda3/envs/comp47360py39/lib/python3.9/site-packages/pandas/core/tools/datetimes.py:1063: UserWarning: Parsing '15-03-2018' in DD/MM/YYYY format. Provide format or specify infer_datetime_format=True for consistent parsing.\n",
      "  cache_array = _maybe_cache(arg, format, cache, convert_listlike)\n",
      "/home/team9/miniconda3/envs/comp47360py39/lib/python3.9/site-packages/pandas/core/tools/datetimes.py:1063: UserWarning: Parsing '16-03-2018' in DD/MM/YYYY format. Provide format or specify infer_datetime_format=True for consistent parsing.\n",
      "  cache_array = _maybe_cache(arg, format, cache, convert_listlike)\n",
      "/home/team9/miniconda3/envs/comp47360py39/lib/python3.9/site-packages/pandas/core/tools/datetimes.py:1063: UserWarning: Parsing '17-03-2018' in DD/MM/YYYY format. Provide format or specify infer_datetime_format=True for consistent parsing.\n",
      "  cache_array = _maybe_cache(arg, format, cache, convert_listlike)\n",
      "/home/team9/miniconda3/envs/comp47360py39/lib/python3.9/site-packages/pandas/core/tools/datetimes.py:1063: UserWarning: Parsing '18-03-2018' in DD/MM/YYYY format. Provide format or specify infer_datetime_format=True for consistent parsing.\n",
      "  cache_array = _maybe_cache(arg, format, cache, convert_listlike)\n",
      "/home/team9/miniconda3/envs/comp47360py39/lib/python3.9/site-packages/pandas/core/tools/datetimes.py:1063: UserWarning: Parsing '19-03-2018' in DD/MM/YYYY format. Provide format or specify infer_datetime_format=True for consistent parsing.\n",
      "  cache_array = _maybe_cache(arg, format, cache, convert_listlike)\n",
      "/home/team9/miniconda3/envs/comp47360py39/lib/python3.9/site-packages/pandas/core/tools/datetimes.py:1063: UserWarning: Parsing '20-03-2018' in DD/MM/YYYY format. Provide format or specify infer_datetime_format=True for consistent parsing.\n",
      "  cache_array = _maybe_cache(arg, format, cache, convert_listlike)\n",
      "/home/team9/miniconda3/envs/comp47360py39/lib/python3.9/site-packages/pandas/core/tools/datetimes.py:1063: UserWarning: Parsing '21-03-2018' in DD/MM/YYYY format. Provide format or specify infer_datetime_format=True for consistent parsing.\n",
      "  cache_array = _maybe_cache(arg, format, cache, convert_listlike)\n",
      "/home/team9/miniconda3/envs/comp47360py39/lib/python3.9/site-packages/pandas/core/tools/datetimes.py:1063: UserWarning: Parsing '22-03-2018' in DD/MM/YYYY format. Provide format or specify infer_datetime_format=True for consistent parsing.\n",
      "  cache_array = _maybe_cache(arg, format, cache, convert_listlike)\n",
      "/home/team9/miniconda3/envs/comp47360py39/lib/python3.9/site-packages/pandas/core/tools/datetimes.py:1063: UserWarning: Parsing '23-03-2018' in DD/MM/YYYY format. Provide format or specify infer_datetime_format=True for consistent parsing.\n",
      "  cache_array = _maybe_cache(arg, format, cache, convert_listlike)\n",
      "/home/team9/miniconda3/envs/comp47360py39/lib/python3.9/site-packages/pandas/core/tools/datetimes.py:1063: UserWarning: Parsing '24-03-2018' in DD/MM/YYYY format. Provide format or specify infer_datetime_format=True for consistent parsing.\n",
      "  cache_array = _maybe_cache(arg, format, cache, convert_listlike)\n",
      "/home/team9/miniconda3/envs/comp47360py39/lib/python3.9/site-packages/pandas/core/tools/datetimes.py:1063: UserWarning: Parsing '25-03-2018' in DD/MM/YYYY format. Provide format or specify infer_datetime_format=True for consistent parsing.\n",
      "  cache_array = _maybe_cache(arg, format, cache, convert_listlike)\n",
      "/home/team9/miniconda3/envs/comp47360py39/lib/python3.9/site-packages/pandas/core/tools/datetimes.py:1063: UserWarning: Parsing '26-03-2018' in DD/MM/YYYY format. Provide format or specify infer_datetime_format=True for consistent parsing.\n",
      "  cache_array = _maybe_cache(arg, format, cache, convert_listlike)\n",
      "/home/team9/miniconda3/envs/comp47360py39/lib/python3.9/site-packages/pandas/core/tools/datetimes.py:1063: UserWarning: Parsing '27-03-2018' in DD/MM/YYYY format. Provide format or specify infer_datetime_format=True for consistent parsing.\n",
      "  cache_array = _maybe_cache(arg, format, cache, convert_listlike)\n",
      "/home/team9/miniconda3/envs/comp47360py39/lib/python3.9/site-packages/pandas/core/tools/datetimes.py:1063: UserWarning: Parsing '28-03-2018' in DD/MM/YYYY format. Provide format or specify infer_datetime_format=True for consistent parsing.\n",
      "  cache_array = _maybe_cache(arg, format, cache, convert_listlike)\n",
      "/home/team9/miniconda3/envs/comp47360py39/lib/python3.9/site-packages/pandas/core/tools/datetimes.py:1063: UserWarning: Parsing '29-03-2018' in DD/MM/YYYY format. Provide format or specify infer_datetime_format=True for consistent parsing.\n",
      "  cache_array = _maybe_cache(arg, format, cache, convert_listlike)\n",
      "/home/team9/miniconda3/envs/comp47360py39/lib/python3.9/site-packages/pandas/core/tools/datetimes.py:1063: UserWarning: Parsing '30-03-2018' in DD/MM/YYYY format. Provide format or specify infer_datetime_format=True for consistent parsing.\n",
      "  cache_array = _maybe_cache(arg, format, cache, convert_listlike)\n",
      "/home/team9/miniconda3/envs/comp47360py39/lib/python3.9/site-packages/pandas/core/tools/datetimes.py:1063: UserWarning: Parsing '31-03-2018' in DD/MM/YYYY format. Provide format or specify infer_datetime_format=True for consistent parsing.\n",
      "  cache_array = _maybe_cache(arg, format, cache, convert_listlike)\n",
      "/home/team9/miniconda3/envs/comp47360py39/lib/python3.9/site-packages/pandas/core/tools/datetimes.py:1063: UserWarning: Parsing '13-04-2018' in DD/MM/YYYY format. Provide format or specify infer_datetime_format=True for consistent parsing.\n",
      "  cache_array = _maybe_cache(arg, format, cache, convert_listlike)\n",
      "/home/team9/miniconda3/envs/comp47360py39/lib/python3.9/site-packages/pandas/core/tools/datetimes.py:1063: UserWarning: Parsing '14-04-2018' in DD/MM/YYYY format. Provide format or specify infer_datetime_format=True for consistent parsing.\n",
      "  cache_array = _maybe_cache(arg, format, cache, convert_listlike)\n",
      "/home/team9/miniconda3/envs/comp47360py39/lib/python3.9/site-packages/pandas/core/tools/datetimes.py:1063: UserWarning: Parsing '15-04-2018' in DD/MM/YYYY format. Provide format or specify infer_datetime_format=True for consistent parsing.\n",
      "  cache_array = _maybe_cache(arg, format, cache, convert_listlike)\n",
      "/home/team9/miniconda3/envs/comp47360py39/lib/python3.9/site-packages/pandas/core/tools/datetimes.py:1063: UserWarning: Parsing '16-04-2018' in DD/MM/YYYY format. Provide format or specify infer_datetime_format=True for consistent parsing.\n",
      "  cache_array = _maybe_cache(arg, format, cache, convert_listlike)\n",
      "/home/team9/miniconda3/envs/comp47360py39/lib/python3.9/site-packages/pandas/core/tools/datetimes.py:1063: UserWarning: Parsing '17-04-2018' in DD/MM/YYYY format. Provide format or specify infer_datetime_format=True for consistent parsing.\n",
      "  cache_array = _maybe_cache(arg, format, cache, convert_listlike)\n",
      "/home/team9/miniconda3/envs/comp47360py39/lib/python3.9/site-packages/pandas/core/tools/datetimes.py:1063: UserWarning: Parsing '18-04-2018' in DD/MM/YYYY format. Provide format or specify infer_datetime_format=True for consistent parsing.\n",
      "  cache_array = _maybe_cache(arg, format, cache, convert_listlike)\n",
      "/home/team9/miniconda3/envs/comp47360py39/lib/python3.9/site-packages/pandas/core/tools/datetimes.py:1063: UserWarning: Parsing '19-04-2018' in DD/MM/YYYY format. Provide format or specify infer_datetime_format=True for consistent parsing.\n",
      "  cache_array = _maybe_cache(arg, format, cache, convert_listlike)\n",
      "/home/team9/miniconda3/envs/comp47360py39/lib/python3.9/site-packages/pandas/core/tools/datetimes.py:1063: UserWarning: Parsing '20-04-2018' in DD/MM/YYYY format. Provide format or specify infer_datetime_format=True for consistent parsing.\n",
      "  cache_array = _maybe_cache(arg, format, cache, convert_listlike)\n",
      "/home/team9/miniconda3/envs/comp47360py39/lib/python3.9/site-packages/pandas/core/tools/datetimes.py:1063: UserWarning: Parsing '21-04-2018' in DD/MM/YYYY format. Provide format or specify infer_datetime_format=True for consistent parsing.\n",
      "  cache_array = _maybe_cache(arg, format, cache, convert_listlike)\n",
      "/home/team9/miniconda3/envs/comp47360py39/lib/python3.9/site-packages/pandas/core/tools/datetimes.py:1063: UserWarning: Parsing '22-04-2018' in DD/MM/YYYY format. Provide format or specify infer_datetime_format=True for consistent parsing.\n",
      "  cache_array = _maybe_cache(arg, format, cache, convert_listlike)\n",
      "/home/team9/miniconda3/envs/comp47360py39/lib/python3.9/site-packages/pandas/core/tools/datetimes.py:1063: UserWarning: Parsing '23-04-2018' in DD/MM/YYYY format. Provide format or specify infer_datetime_format=True for consistent parsing.\n",
      "  cache_array = _maybe_cache(arg, format, cache, convert_listlike)\n",
      "/home/team9/miniconda3/envs/comp47360py39/lib/python3.9/site-packages/pandas/core/tools/datetimes.py:1063: UserWarning: Parsing '24-04-2018' in DD/MM/YYYY format. Provide format or specify infer_datetime_format=True for consistent parsing.\n",
      "  cache_array = _maybe_cache(arg, format, cache, convert_listlike)\n",
      "/home/team9/miniconda3/envs/comp47360py39/lib/python3.9/site-packages/pandas/core/tools/datetimes.py:1063: UserWarning: Parsing '25-04-2018' in DD/MM/YYYY format. Provide format or specify infer_datetime_format=True for consistent parsing.\n",
      "  cache_array = _maybe_cache(arg, format, cache, convert_listlike)\n",
      "/home/team9/miniconda3/envs/comp47360py39/lib/python3.9/site-packages/pandas/core/tools/datetimes.py:1063: UserWarning: Parsing '26-04-2018' in DD/MM/YYYY format. Provide format or specify infer_datetime_format=True for consistent parsing.\n",
      "  cache_array = _maybe_cache(arg, format, cache, convert_listlike)\n",
      "/home/team9/miniconda3/envs/comp47360py39/lib/python3.9/site-packages/pandas/core/tools/datetimes.py:1063: UserWarning: Parsing '27-04-2018' in DD/MM/YYYY format. Provide format or specify infer_datetime_format=True for consistent parsing.\n",
      "  cache_array = _maybe_cache(arg, format, cache, convert_listlike)\n",
      "/home/team9/miniconda3/envs/comp47360py39/lib/python3.9/site-packages/pandas/core/tools/datetimes.py:1063: UserWarning: Parsing '28-04-2018' in DD/MM/YYYY format. Provide format or specify infer_datetime_format=True for consistent parsing.\n",
      "  cache_array = _maybe_cache(arg, format, cache, convert_listlike)\n",
      "/home/team9/miniconda3/envs/comp47360py39/lib/python3.9/site-packages/pandas/core/tools/datetimes.py:1063: UserWarning: Parsing '29-04-2018' in DD/MM/YYYY format. Provide format or specify infer_datetime_format=True for consistent parsing.\n",
      "  cache_array = _maybe_cache(arg, format, cache, convert_listlike)\n",
      "/home/team9/miniconda3/envs/comp47360py39/lib/python3.9/site-packages/pandas/core/tools/datetimes.py:1063: UserWarning: Parsing '30-04-2018' in DD/MM/YYYY format. Provide format or specify infer_datetime_format=True for consistent parsing.\n",
      "  cache_array = _maybe_cache(arg, format, cache, convert_listlike)\n",
      "/home/team9/miniconda3/envs/comp47360py39/lib/python3.9/site-packages/pandas/core/tools/datetimes.py:1063: UserWarning: Parsing '13-05-2018' in DD/MM/YYYY format. Provide format or specify infer_datetime_format=True for consistent parsing.\n",
      "  cache_array = _maybe_cache(arg, format, cache, convert_listlike)\n",
      "/home/team9/miniconda3/envs/comp47360py39/lib/python3.9/site-packages/pandas/core/tools/datetimes.py:1063: UserWarning: Parsing '14-05-2018' in DD/MM/YYYY format. Provide format or specify infer_datetime_format=True for consistent parsing.\n",
      "  cache_array = _maybe_cache(arg, format, cache, convert_listlike)\n",
      "/home/team9/miniconda3/envs/comp47360py39/lib/python3.9/site-packages/pandas/core/tools/datetimes.py:1063: UserWarning: Parsing '15-05-2018' in DD/MM/YYYY format. Provide format or specify infer_datetime_format=True for consistent parsing.\n",
      "  cache_array = _maybe_cache(arg, format, cache, convert_listlike)\n",
      "/home/team9/miniconda3/envs/comp47360py39/lib/python3.9/site-packages/pandas/core/tools/datetimes.py:1063: UserWarning: Parsing '16-05-2018' in DD/MM/YYYY format. Provide format or specify infer_datetime_format=True for consistent parsing.\n",
      "  cache_array = _maybe_cache(arg, format, cache, convert_listlike)\n",
      "/home/team9/miniconda3/envs/comp47360py39/lib/python3.9/site-packages/pandas/core/tools/datetimes.py:1063: UserWarning: Parsing '17-05-2018' in DD/MM/YYYY format. Provide format or specify infer_datetime_format=True for consistent parsing.\n",
      "  cache_array = _maybe_cache(arg, format, cache, convert_listlike)\n",
      "/home/team9/miniconda3/envs/comp47360py39/lib/python3.9/site-packages/pandas/core/tools/datetimes.py:1063: UserWarning: Parsing '18-05-2018' in DD/MM/YYYY format. Provide format or specify infer_datetime_format=True for consistent parsing.\n",
      "  cache_array = _maybe_cache(arg, format, cache, convert_listlike)\n",
      "/home/team9/miniconda3/envs/comp47360py39/lib/python3.9/site-packages/pandas/core/tools/datetimes.py:1063: UserWarning: Parsing '19-05-2018' in DD/MM/YYYY format. Provide format or specify infer_datetime_format=True for consistent parsing.\n",
      "  cache_array = _maybe_cache(arg, format, cache, convert_listlike)\n",
      "/home/team9/miniconda3/envs/comp47360py39/lib/python3.9/site-packages/pandas/core/tools/datetimes.py:1063: UserWarning: Parsing '20-05-2018' in DD/MM/YYYY format. Provide format or specify infer_datetime_format=True for consistent parsing.\n",
      "  cache_array = _maybe_cache(arg, format, cache, convert_listlike)\n",
      "/home/team9/miniconda3/envs/comp47360py39/lib/python3.9/site-packages/pandas/core/tools/datetimes.py:1063: UserWarning: Parsing '21-05-2018' in DD/MM/YYYY format. Provide format or specify infer_datetime_format=True for consistent parsing.\n",
      "  cache_array = _maybe_cache(arg, format, cache, convert_listlike)\n",
      "/home/team9/miniconda3/envs/comp47360py39/lib/python3.9/site-packages/pandas/core/tools/datetimes.py:1063: UserWarning: Parsing '22-05-2018' in DD/MM/YYYY format. Provide format or specify infer_datetime_format=True for consistent parsing.\n",
      "  cache_array = _maybe_cache(arg, format, cache, convert_listlike)\n",
      "/home/team9/miniconda3/envs/comp47360py39/lib/python3.9/site-packages/pandas/core/tools/datetimes.py:1063: UserWarning: Parsing '23-05-2018' in DD/MM/YYYY format. Provide format or specify infer_datetime_format=True for consistent parsing.\n",
      "  cache_array = _maybe_cache(arg, format, cache, convert_listlike)\n",
      "/home/team9/miniconda3/envs/comp47360py39/lib/python3.9/site-packages/pandas/core/tools/datetimes.py:1063: UserWarning: Parsing '24-05-2018' in DD/MM/YYYY format. Provide format or specify infer_datetime_format=True for consistent parsing.\n",
      "  cache_array = _maybe_cache(arg, format, cache, convert_listlike)\n",
      "/home/team9/miniconda3/envs/comp47360py39/lib/python3.9/site-packages/pandas/core/tools/datetimes.py:1063: UserWarning: Parsing '25-05-2018' in DD/MM/YYYY format. Provide format or specify infer_datetime_format=True for consistent parsing.\n",
      "  cache_array = _maybe_cache(arg, format, cache, convert_listlike)\n",
      "/home/team9/miniconda3/envs/comp47360py39/lib/python3.9/site-packages/pandas/core/tools/datetimes.py:1063: UserWarning: Parsing '26-05-2018' in DD/MM/YYYY format. Provide format or specify infer_datetime_format=True for consistent parsing.\n",
      "  cache_array = _maybe_cache(arg, format, cache, convert_listlike)\n",
      "/home/team9/miniconda3/envs/comp47360py39/lib/python3.9/site-packages/pandas/core/tools/datetimes.py:1063: UserWarning: Parsing '27-05-2018' in DD/MM/YYYY format. Provide format or specify infer_datetime_format=True for consistent parsing.\n",
      "  cache_array = _maybe_cache(arg, format, cache, convert_listlike)\n",
      "/home/team9/miniconda3/envs/comp47360py39/lib/python3.9/site-packages/pandas/core/tools/datetimes.py:1063: UserWarning: Parsing '28-05-2018' in DD/MM/YYYY format. Provide format or specify infer_datetime_format=True for consistent parsing.\n",
      "  cache_array = _maybe_cache(arg, format, cache, convert_listlike)\n",
      "/home/team9/miniconda3/envs/comp47360py39/lib/python3.9/site-packages/pandas/core/tools/datetimes.py:1063: UserWarning: Parsing '29-05-2018' in DD/MM/YYYY format. Provide format or specify infer_datetime_format=True for consistent parsing.\n",
      "  cache_array = _maybe_cache(arg, format, cache, convert_listlike)\n",
      "/home/team9/miniconda3/envs/comp47360py39/lib/python3.9/site-packages/pandas/core/tools/datetimes.py:1063: UserWarning: Parsing '30-05-2018' in DD/MM/YYYY format. Provide format or specify infer_datetime_format=True for consistent parsing.\n",
      "  cache_array = _maybe_cache(arg, format, cache, convert_listlike)\n",
      "/home/team9/miniconda3/envs/comp47360py39/lib/python3.9/site-packages/pandas/core/tools/datetimes.py:1063: UserWarning: Parsing '31-05-2018' in DD/MM/YYYY format. Provide format or specify infer_datetime_format=True for consistent parsing.\n",
      "  cache_array = _maybe_cache(arg, format, cache, convert_listlike)\n",
      "/home/team9/miniconda3/envs/comp47360py39/lib/python3.9/site-packages/pandas/core/tools/datetimes.py:1063: UserWarning: Parsing '13-06-2018' in DD/MM/YYYY format. Provide format or specify infer_datetime_format=True for consistent parsing.\n",
      "  cache_array = _maybe_cache(arg, format, cache, convert_listlike)\n",
      "/home/team9/miniconda3/envs/comp47360py39/lib/python3.9/site-packages/pandas/core/tools/datetimes.py:1063: UserWarning: Parsing '14-06-2018' in DD/MM/YYYY format. Provide format or specify infer_datetime_format=True for consistent parsing.\n",
      "  cache_array = _maybe_cache(arg, format, cache, convert_listlike)\n",
      "/home/team9/miniconda3/envs/comp47360py39/lib/python3.9/site-packages/pandas/core/tools/datetimes.py:1063: UserWarning: Parsing '15-06-2018' in DD/MM/YYYY format. Provide format or specify infer_datetime_format=True for consistent parsing.\n",
      "  cache_array = _maybe_cache(arg, format, cache, convert_listlike)\n",
      "/home/team9/miniconda3/envs/comp47360py39/lib/python3.9/site-packages/pandas/core/tools/datetimes.py:1063: UserWarning: Parsing '16-06-2018' in DD/MM/YYYY format. Provide format or specify infer_datetime_format=True for consistent parsing.\n",
      "  cache_array = _maybe_cache(arg, format, cache, convert_listlike)\n",
      "/home/team9/miniconda3/envs/comp47360py39/lib/python3.9/site-packages/pandas/core/tools/datetimes.py:1063: UserWarning: Parsing '17-06-2018' in DD/MM/YYYY format. Provide format or specify infer_datetime_format=True for consistent parsing.\n",
      "  cache_array = _maybe_cache(arg, format, cache, convert_listlike)\n",
      "/home/team9/miniconda3/envs/comp47360py39/lib/python3.9/site-packages/pandas/core/tools/datetimes.py:1063: UserWarning: Parsing '18-06-2018' in DD/MM/YYYY format. Provide format or specify infer_datetime_format=True for consistent parsing.\n",
      "  cache_array = _maybe_cache(arg, format, cache, convert_listlike)\n",
      "/home/team9/miniconda3/envs/comp47360py39/lib/python3.9/site-packages/pandas/core/tools/datetimes.py:1063: UserWarning: Parsing '19-06-2018' in DD/MM/YYYY format. Provide format or specify infer_datetime_format=True for consistent parsing.\n",
      "  cache_array = _maybe_cache(arg, format, cache, convert_listlike)\n",
      "/home/team9/miniconda3/envs/comp47360py39/lib/python3.9/site-packages/pandas/core/tools/datetimes.py:1063: UserWarning: Parsing '20-06-2018' in DD/MM/YYYY format. Provide format or specify infer_datetime_format=True for consistent parsing.\n",
      "  cache_array = _maybe_cache(arg, format, cache, convert_listlike)\n",
      "/home/team9/miniconda3/envs/comp47360py39/lib/python3.9/site-packages/pandas/core/tools/datetimes.py:1063: UserWarning: Parsing '21-06-2018' in DD/MM/YYYY format. Provide format or specify infer_datetime_format=True for consistent parsing.\n",
      "  cache_array = _maybe_cache(arg, format, cache, convert_listlike)\n",
      "/home/team9/miniconda3/envs/comp47360py39/lib/python3.9/site-packages/pandas/core/tools/datetimes.py:1063: UserWarning: Parsing '22-06-2018' in DD/MM/YYYY format. Provide format or specify infer_datetime_format=True for consistent parsing.\n",
      "  cache_array = _maybe_cache(arg, format, cache, convert_listlike)\n",
      "/home/team9/miniconda3/envs/comp47360py39/lib/python3.9/site-packages/pandas/core/tools/datetimes.py:1063: UserWarning: Parsing '23-06-2018' in DD/MM/YYYY format. Provide format or specify infer_datetime_format=True for consistent parsing.\n",
      "  cache_array = _maybe_cache(arg, format, cache, convert_listlike)\n",
      "/home/team9/miniconda3/envs/comp47360py39/lib/python3.9/site-packages/pandas/core/tools/datetimes.py:1063: UserWarning: Parsing '24-06-2018' in DD/MM/YYYY format. Provide format or specify infer_datetime_format=True for consistent parsing.\n",
      "  cache_array = _maybe_cache(arg, format, cache, convert_listlike)\n",
      "/home/team9/miniconda3/envs/comp47360py39/lib/python3.9/site-packages/pandas/core/tools/datetimes.py:1063: UserWarning: Parsing '25-06-2018' in DD/MM/YYYY format. Provide format or specify infer_datetime_format=True for consistent parsing.\n",
      "  cache_array = _maybe_cache(arg, format, cache, convert_listlike)\n",
      "/home/team9/miniconda3/envs/comp47360py39/lib/python3.9/site-packages/pandas/core/tools/datetimes.py:1063: UserWarning: Parsing '26-06-2018' in DD/MM/YYYY format. Provide format or specify infer_datetime_format=True for consistent parsing.\n",
      "  cache_array = _maybe_cache(arg, format, cache, convert_listlike)\n",
      "/home/team9/miniconda3/envs/comp47360py39/lib/python3.9/site-packages/pandas/core/tools/datetimes.py:1063: UserWarning: Parsing '27-06-2018' in DD/MM/YYYY format. Provide format or specify infer_datetime_format=True for consistent parsing.\n",
      "  cache_array = _maybe_cache(arg, format, cache, convert_listlike)\n",
      "/home/team9/miniconda3/envs/comp47360py39/lib/python3.9/site-packages/pandas/core/tools/datetimes.py:1063: UserWarning: Parsing '28-06-2018' in DD/MM/YYYY format. Provide format or specify infer_datetime_format=True for consistent parsing.\n",
      "  cache_array = _maybe_cache(arg, format, cache, convert_listlike)\n",
      "/home/team9/miniconda3/envs/comp47360py39/lib/python3.9/site-packages/pandas/core/tools/datetimes.py:1063: UserWarning: Parsing '29-06-2018' in DD/MM/YYYY format. Provide format or specify infer_datetime_format=True for consistent parsing.\n",
      "  cache_array = _maybe_cache(arg, format, cache, convert_listlike)\n",
      "/home/team9/miniconda3/envs/comp47360py39/lib/python3.9/site-packages/pandas/core/tools/datetimes.py:1063: UserWarning: Parsing '30-06-2018' in DD/MM/YYYY format. Provide format or specify infer_datetime_format=True for consistent parsing.\n",
      "  cache_array = _maybe_cache(arg, format, cache, convert_listlike)\n",
      "/home/team9/miniconda3/envs/comp47360py39/lib/python3.9/site-packages/pandas/core/tools/datetimes.py:1063: UserWarning: Parsing '13-07-2018' in DD/MM/YYYY format. Provide format or specify infer_datetime_format=True for consistent parsing.\n",
      "  cache_array = _maybe_cache(arg, format, cache, convert_listlike)\n",
      "/home/team9/miniconda3/envs/comp47360py39/lib/python3.9/site-packages/pandas/core/tools/datetimes.py:1063: UserWarning: Parsing '14-07-2018' in DD/MM/YYYY format. Provide format or specify infer_datetime_format=True for consistent parsing.\n",
      "  cache_array = _maybe_cache(arg, format, cache, convert_listlike)\n",
      "/home/team9/miniconda3/envs/comp47360py39/lib/python3.9/site-packages/pandas/core/tools/datetimes.py:1063: UserWarning: Parsing '15-07-2018' in DD/MM/YYYY format. Provide format or specify infer_datetime_format=True for consistent parsing.\n",
      "  cache_array = _maybe_cache(arg, format, cache, convert_listlike)\n",
      "/home/team9/miniconda3/envs/comp47360py39/lib/python3.9/site-packages/pandas/core/tools/datetimes.py:1063: UserWarning: Parsing '16-07-2018' in DD/MM/YYYY format. Provide format or specify infer_datetime_format=True for consistent parsing.\n",
      "  cache_array = _maybe_cache(arg, format, cache, convert_listlike)\n",
      "/home/team9/miniconda3/envs/comp47360py39/lib/python3.9/site-packages/pandas/core/tools/datetimes.py:1063: UserWarning: Parsing '17-07-2018' in DD/MM/YYYY format. Provide format or specify infer_datetime_format=True for consistent parsing.\n",
      "  cache_array = _maybe_cache(arg, format, cache, convert_listlike)\n",
      "/home/team9/miniconda3/envs/comp47360py39/lib/python3.9/site-packages/pandas/core/tools/datetimes.py:1063: UserWarning: Parsing '18-07-2018' in DD/MM/YYYY format. Provide format or specify infer_datetime_format=True for consistent parsing.\n",
      "  cache_array = _maybe_cache(arg, format, cache, convert_listlike)\n",
      "/home/team9/miniconda3/envs/comp47360py39/lib/python3.9/site-packages/pandas/core/tools/datetimes.py:1063: UserWarning: Parsing '19-07-2018' in DD/MM/YYYY format. Provide format or specify infer_datetime_format=True for consistent parsing.\n",
      "  cache_array = _maybe_cache(arg, format, cache, convert_listlike)\n",
      "/home/team9/miniconda3/envs/comp47360py39/lib/python3.9/site-packages/pandas/core/tools/datetimes.py:1063: UserWarning: Parsing '20-07-2018' in DD/MM/YYYY format. Provide format or specify infer_datetime_format=True for consistent parsing.\n",
      "  cache_array = _maybe_cache(arg, format, cache, convert_listlike)\n",
      "/home/team9/miniconda3/envs/comp47360py39/lib/python3.9/site-packages/pandas/core/tools/datetimes.py:1063: UserWarning: Parsing '21-07-2018' in DD/MM/YYYY format. Provide format or specify infer_datetime_format=True for consistent parsing.\n",
      "  cache_array = _maybe_cache(arg, format, cache, convert_listlike)\n",
      "/home/team9/miniconda3/envs/comp47360py39/lib/python3.9/site-packages/pandas/core/tools/datetimes.py:1063: UserWarning: Parsing '22-07-2018' in DD/MM/YYYY format. Provide format or specify infer_datetime_format=True for consistent parsing.\n",
      "  cache_array = _maybe_cache(arg, format, cache, convert_listlike)\n",
      "/home/team9/miniconda3/envs/comp47360py39/lib/python3.9/site-packages/pandas/core/tools/datetimes.py:1063: UserWarning: Parsing '23-07-2018' in DD/MM/YYYY format. Provide format or specify infer_datetime_format=True for consistent parsing.\n",
      "  cache_array = _maybe_cache(arg, format, cache, convert_listlike)\n",
      "/home/team9/miniconda3/envs/comp47360py39/lib/python3.9/site-packages/pandas/core/tools/datetimes.py:1063: UserWarning: Parsing '24-07-2018' in DD/MM/YYYY format. Provide format or specify infer_datetime_format=True for consistent parsing.\n",
      "  cache_array = _maybe_cache(arg, format, cache, convert_listlike)\n",
      "/home/team9/miniconda3/envs/comp47360py39/lib/python3.9/site-packages/pandas/core/tools/datetimes.py:1063: UserWarning: Parsing '25-07-2018' in DD/MM/YYYY format. Provide format or specify infer_datetime_format=True for consistent parsing.\n",
      "  cache_array = _maybe_cache(arg, format, cache, convert_listlike)\n",
      "/home/team9/miniconda3/envs/comp47360py39/lib/python3.9/site-packages/pandas/core/tools/datetimes.py:1063: UserWarning: Parsing '26-07-2018' in DD/MM/YYYY format. Provide format or specify infer_datetime_format=True for consistent parsing.\n",
      "  cache_array = _maybe_cache(arg, format, cache, convert_listlike)\n",
      "/home/team9/miniconda3/envs/comp47360py39/lib/python3.9/site-packages/pandas/core/tools/datetimes.py:1063: UserWarning: Parsing '27-07-2018' in DD/MM/YYYY format. Provide format or specify infer_datetime_format=True for consistent parsing.\n",
      "  cache_array = _maybe_cache(arg, format, cache, convert_listlike)\n",
      "/home/team9/miniconda3/envs/comp47360py39/lib/python3.9/site-packages/pandas/core/tools/datetimes.py:1063: UserWarning: Parsing '28-07-2018' in DD/MM/YYYY format. Provide format or specify infer_datetime_format=True for consistent parsing.\n",
      "  cache_array = _maybe_cache(arg, format, cache, convert_listlike)\n",
      "/home/team9/miniconda3/envs/comp47360py39/lib/python3.9/site-packages/pandas/core/tools/datetimes.py:1063: UserWarning: Parsing '29-07-2018' in DD/MM/YYYY format. Provide format or specify infer_datetime_format=True for consistent parsing.\n",
      "  cache_array = _maybe_cache(arg, format, cache, convert_listlike)\n",
      "/home/team9/miniconda3/envs/comp47360py39/lib/python3.9/site-packages/pandas/core/tools/datetimes.py:1063: UserWarning: Parsing '30-07-2018' in DD/MM/YYYY format. Provide format or specify infer_datetime_format=True for consistent parsing.\n",
      "  cache_array = _maybe_cache(arg, format, cache, convert_listlike)\n",
      "/home/team9/miniconda3/envs/comp47360py39/lib/python3.9/site-packages/pandas/core/tools/datetimes.py:1063: UserWarning: Parsing '31-07-2018' in DD/MM/YYYY format. Provide format or specify infer_datetime_format=True for consistent parsing.\n",
      "  cache_array = _maybe_cache(arg, format, cache, convert_listlike)\n",
      "/home/team9/miniconda3/envs/comp47360py39/lib/python3.9/site-packages/pandas/core/tools/datetimes.py:1063: UserWarning: Parsing '13-08-2018' in DD/MM/YYYY format. Provide format or specify infer_datetime_format=True for consistent parsing.\n",
      "  cache_array = _maybe_cache(arg, format, cache, convert_listlike)\n",
      "/home/team9/miniconda3/envs/comp47360py39/lib/python3.9/site-packages/pandas/core/tools/datetimes.py:1063: UserWarning: Parsing '14-08-2018' in DD/MM/YYYY format. Provide format or specify infer_datetime_format=True for consistent parsing.\n",
      "  cache_array = _maybe_cache(arg, format, cache, convert_listlike)\n",
      "/home/team9/miniconda3/envs/comp47360py39/lib/python3.9/site-packages/pandas/core/tools/datetimes.py:1063: UserWarning: Parsing '15-08-2018' in DD/MM/YYYY format. Provide format or specify infer_datetime_format=True for consistent parsing.\n",
      "  cache_array = _maybe_cache(arg, format, cache, convert_listlike)\n",
      "/home/team9/miniconda3/envs/comp47360py39/lib/python3.9/site-packages/pandas/core/tools/datetimes.py:1063: UserWarning: Parsing '16-08-2018' in DD/MM/YYYY format. Provide format or specify infer_datetime_format=True for consistent parsing.\n",
      "  cache_array = _maybe_cache(arg, format, cache, convert_listlike)\n",
      "/home/team9/miniconda3/envs/comp47360py39/lib/python3.9/site-packages/pandas/core/tools/datetimes.py:1063: UserWarning: Parsing '17-08-2018' in DD/MM/YYYY format. Provide format or specify infer_datetime_format=True for consistent parsing.\n",
      "  cache_array = _maybe_cache(arg, format, cache, convert_listlike)\n",
      "/home/team9/miniconda3/envs/comp47360py39/lib/python3.9/site-packages/pandas/core/tools/datetimes.py:1063: UserWarning: Parsing '18-08-2018' in DD/MM/YYYY format. Provide format or specify infer_datetime_format=True for consistent parsing.\n",
      "  cache_array = _maybe_cache(arg, format, cache, convert_listlike)\n",
      "/home/team9/miniconda3/envs/comp47360py39/lib/python3.9/site-packages/pandas/core/tools/datetimes.py:1063: UserWarning: Parsing '19-08-2018' in DD/MM/YYYY format. Provide format or specify infer_datetime_format=True for consistent parsing.\n",
      "  cache_array = _maybe_cache(arg, format, cache, convert_listlike)\n",
      "/home/team9/miniconda3/envs/comp47360py39/lib/python3.9/site-packages/pandas/core/tools/datetimes.py:1063: UserWarning: Parsing '20-08-2018' in DD/MM/YYYY format. Provide format or specify infer_datetime_format=True for consistent parsing.\n",
      "  cache_array = _maybe_cache(arg, format, cache, convert_listlike)\n",
      "/home/team9/miniconda3/envs/comp47360py39/lib/python3.9/site-packages/pandas/core/tools/datetimes.py:1063: UserWarning: Parsing '21-08-2018' in DD/MM/YYYY format. Provide format or specify infer_datetime_format=True for consistent parsing.\n",
      "  cache_array = _maybe_cache(arg, format, cache, convert_listlike)\n",
      "/home/team9/miniconda3/envs/comp47360py39/lib/python3.9/site-packages/pandas/core/tools/datetimes.py:1063: UserWarning: Parsing '22-08-2018' in DD/MM/YYYY format. Provide format or specify infer_datetime_format=True for consistent parsing.\n",
      "  cache_array = _maybe_cache(arg, format, cache, convert_listlike)\n",
      "/home/team9/miniconda3/envs/comp47360py39/lib/python3.9/site-packages/pandas/core/tools/datetimes.py:1063: UserWarning: Parsing '23-08-2018' in DD/MM/YYYY format. Provide format or specify infer_datetime_format=True for consistent parsing.\n",
      "  cache_array = _maybe_cache(arg, format, cache, convert_listlike)\n",
      "/home/team9/miniconda3/envs/comp47360py39/lib/python3.9/site-packages/pandas/core/tools/datetimes.py:1063: UserWarning: Parsing '24-08-2018' in DD/MM/YYYY format. Provide format or specify infer_datetime_format=True for consistent parsing.\n",
      "  cache_array = _maybe_cache(arg, format, cache, convert_listlike)\n",
      "/home/team9/miniconda3/envs/comp47360py39/lib/python3.9/site-packages/pandas/core/tools/datetimes.py:1063: UserWarning: Parsing '25-08-2018' in DD/MM/YYYY format. Provide format or specify infer_datetime_format=True for consistent parsing.\n",
      "  cache_array = _maybe_cache(arg, format, cache, convert_listlike)\n",
      "/home/team9/miniconda3/envs/comp47360py39/lib/python3.9/site-packages/pandas/core/tools/datetimes.py:1063: UserWarning: Parsing '26-08-2018' in DD/MM/YYYY format. Provide format or specify infer_datetime_format=True for consistent parsing.\n",
      "  cache_array = _maybe_cache(arg, format, cache, convert_listlike)\n",
      "/home/team9/miniconda3/envs/comp47360py39/lib/python3.9/site-packages/pandas/core/tools/datetimes.py:1063: UserWarning: Parsing '27-08-2018' in DD/MM/YYYY format. Provide format or specify infer_datetime_format=True for consistent parsing.\n",
      "  cache_array = _maybe_cache(arg, format, cache, convert_listlike)\n",
      "/home/team9/miniconda3/envs/comp47360py39/lib/python3.9/site-packages/pandas/core/tools/datetimes.py:1063: UserWarning: Parsing '28-08-2018' in DD/MM/YYYY format. Provide format or specify infer_datetime_format=True for consistent parsing.\n",
      "  cache_array = _maybe_cache(arg, format, cache, convert_listlike)\n",
      "/home/team9/miniconda3/envs/comp47360py39/lib/python3.9/site-packages/pandas/core/tools/datetimes.py:1063: UserWarning: Parsing '29-08-2018' in DD/MM/YYYY format. Provide format or specify infer_datetime_format=True for consistent parsing.\n",
      "  cache_array = _maybe_cache(arg, format, cache, convert_listlike)\n",
      "/home/team9/miniconda3/envs/comp47360py39/lib/python3.9/site-packages/pandas/core/tools/datetimes.py:1063: UserWarning: Parsing '30-08-2018' in DD/MM/YYYY format. Provide format or specify infer_datetime_format=True for consistent parsing.\n",
      "  cache_array = _maybe_cache(arg, format, cache, convert_listlike)\n",
      "/home/team9/miniconda3/envs/comp47360py39/lib/python3.9/site-packages/pandas/core/tools/datetimes.py:1063: UserWarning: Parsing '31-08-2018' in DD/MM/YYYY format. Provide format or specify infer_datetime_format=True for consistent parsing.\n",
      "  cache_array = _maybe_cache(arg, format, cache, convert_listlike)\n",
      "/home/team9/miniconda3/envs/comp47360py39/lib/python3.9/site-packages/pandas/core/tools/datetimes.py:1063: UserWarning: Parsing '13-09-2018' in DD/MM/YYYY format. Provide format or specify infer_datetime_format=True for consistent parsing.\n",
      "  cache_array = _maybe_cache(arg, format, cache, convert_listlike)\n",
      "/home/team9/miniconda3/envs/comp47360py39/lib/python3.9/site-packages/pandas/core/tools/datetimes.py:1063: UserWarning: Parsing '14-09-2018' in DD/MM/YYYY format. Provide format or specify infer_datetime_format=True for consistent parsing.\n",
      "  cache_array = _maybe_cache(arg, format, cache, convert_listlike)\n",
      "/home/team9/miniconda3/envs/comp47360py39/lib/python3.9/site-packages/pandas/core/tools/datetimes.py:1063: UserWarning: Parsing '15-09-2018' in DD/MM/YYYY format. Provide format or specify infer_datetime_format=True for consistent parsing.\n",
      "  cache_array = _maybe_cache(arg, format, cache, convert_listlike)\n",
      "/home/team9/miniconda3/envs/comp47360py39/lib/python3.9/site-packages/pandas/core/tools/datetimes.py:1063: UserWarning: Parsing '16-09-2018' in DD/MM/YYYY format. Provide format or specify infer_datetime_format=True for consistent parsing.\n",
      "  cache_array = _maybe_cache(arg, format, cache, convert_listlike)\n",
      "/home/team9/miniconda3/envs/comp47360py39/lib/python3.9/site-packages/pandas/core/tools/datetimes.py:1063: UserWarning: Parsing '17-09-2018' in DD/MM/YYYY format. Provide format or specify infer_datetime_format=True for consistent parsing.\n",
      "  cache_array = _maybe_cache(arg, format, cache, convert_listlike)\n",
      "/home/team9/miniconda3/envs/comp47360py39/lib/python3.9/site-packages/pandas/core/tools/datetimes.py:1063: UserWarning: Parsing '18-09-2018' in DD/MM/YYYY format. Provide format or specify infer_datetime_format=True for consistent parsing.\n",
      "  cache_array = _maybe_cache(arg, format, cache, convert_listlike)\n",
      "/home/team9/miniconda3/envs/comp47360py39/lib/python3.9/site-packages/pandas/core/tools/datetimes.py:1063: UserWarning: Parsing '19-09-2018' in DD/MM/YYYY format. Provide format or specify infer_datetime_format=True for consistent parsing.\n",
      "  cache_array = _maybe_cache(arg, format, cache, convert_listlike)\n",
      "/home/team9/miniconda3/envs/comp47360py39/lib/python3.9/site-packages/pandas/core/tools/datetimes.py:1063: UserWarning: Parsing '20-09-2018' in DD/MM/YYYY format. Provide format or specify infer_datetime_format=True for consistent parsing.\n",
      "  cache_array = _maybe_cache(arg, format, cache, convert_listlike)\n",
      "/home/team9/miniconda3/envs/comp47360py39/lib/python3.9/site-packages/pandas/core/tools/datetimes.py:1063: UserWarning: Parsing '21-09-2018' in DD/MM/YYYY format. Provide format or specify infer_datetime_format=True for consistent parsing.\n",
      "  cache_array = _maybe_cache(arg, format, cache, convert_listlike)\n",
      "/home/team9/miniconda3/envs/comp47360py39/lib/python3.9/site-packages/pandas/core/tools/datetimes.py:1063: UserWarning: Parsing '22-09-2018' in DD/MM/YYYY format. Provide format or specify infer_datetime_format=True for consistent parsing.\n",
      "  cache_array = _maybe_cache(arg, format, cache, convert_listlike)\n",
      "/home/team9/miniconda3/envs/comp47360py39/lib/python3.9/site-packages/pandas/core/tools/datetimes.py:1063: UserWarning: Parsing '23-09-2018' in DD/MM/YYYY format. Provide format or specify infer_datetime_format=True for consistent parsing.\n",
      "  cache_array = _maybe_cache(arg, format, cache, convert_listlike)\n",
      "/home/team9/miniconda3/envs/comp47360py39/lib/python3.9/site-packages/pandas/core/tools/datetimes.py:1063: UserWarning: Parsing '24-09-2018' in DD/MM/YYYY format. Provide format or specify infer_datetime_format=True for consistent parsing.\n",
      "  cache_array = _maybe_cache(arg, format, cache, convert_listlike)\n",
      "/home/team9/miniconda3/envs/comp47360py39/lib/python3.9/site-packages/pandas/core/tools/datetimes.py:1063: UserWarning: Parsing '25-09-2018' in DD/MM/YYYY format. Provide format or specify infer_datetime_format=True for consistent parsing.\n",
      "  cache_array = _maybe_cache(arg, format, cache, convert_listlike)\n",
      "/home/team9/miniconda3/envs/comp47360py39/lib/python3.9/site-packages/pandas/core/tools/datetimes.py:1063: UserWarning: Parsing '26-09-2018' in DD/MM/YYYY format. Provide format or specify infer_datetime_format=True for consistent parsing.\n",
      "  cache_array = _maybe_cache(arg, format, cache, convert_listlike)\n",
      "/home/team9/miniconda3/envs/comp47360py39/lib/python3.9/site-packages/pandas/core/tools/datetimes.py:1063: UserWarning: Parsing '27-09-2018' in DD/MM/YYYY format. Provide format or specify infer_datetime_format=True for consistent parsing.\n",
      "  cache_array = _maybe_cache(arg, format, cache, convert_listlike)\n",
      "/home/team9/miniconda3/envs/comp47360py39/lib/python3.9/site-packages/pandas/core/tools/datetimes.py:1063: UserWarning: Parsing '28-09-2018' in DD/MM/YYYY format. Provide format or specify infer_datetime_format=True for consistent parsing.\n",
      "  cache_array = _maybe_cache(arg, format, cache, convert_listlike)\n",
      "/home/team9/miniconda3/envs/comp47360py39/lib/python3.9/site-packages/pandas/core/tools/datetimes.py:1063: UserWarning: Parsing '29-09-2018' in DD/MM/YYYY format. Provide format or specify infer_datetime_format=True for consistent parsing.\n",
      "  cache_array = _maybe_cache(arg, format, cache, convert_listlike)\n",
      "/home/team9/miniconda3/envs/comp47360py39/lib/python3.9/site-packages/pandas/core/tools/datetimes.py:1063: UserWarning: Parsing '30-09-2018' in DD/MM/YYYY format. Provide format or specify infer_datetime_format=True for consistent parsing.\n",
      "  cache_array = _maybe_cache(arg, format, cache, convert_listlike)\n",
      "/home/team9/miniconda3/envs/comp47360py39/lib/python3.9/site-packages/pandas/core/tools/datetimes.py:1063: UserWarning: Parsing '13-10-2018' in DD/MM/YYYY format. Provide format or specify infer_datetime_format=True for consistent parsing.\n",
      "  cache_array = _maybe_cache(arg, format, cache, convert_listlike)\n",
      "/home/team9/miniconda3/envs/comp47360py39/lib/python3.9/site-packages/pandas/core/tools/datetimes.py:1063: UserWarning: Parsing '14-10-2018' in DD/MM/YYYY format. Provide format or specify infer_datetime_format=True for consistent parsing.\n",
      "  cache_array = _maybe_cache(arg, format, cache, convert_listlike)\n",
      "/home/team9/miniconda3/envs/comp47360py39/lib/python3.9/site-packages/pandas/core/tools/datetimes.py:1063: UserWarning: Parsing '15-10-2018' in DD/MM/YYYY format. Provide format or specify infer_datetime_format=True for consistent parsing.\n",
      "  cache_array = _maybe_cache(arg, format, cache, convert_listlike)\n",
      "/home/team9/miniconda3/envs/comp47360py39/lib/python3.9/site-packages/pandas/core/tools/datetimes.py:1063: UserWarning: Parsing '16-10-2018' in DD/MM/YYYY format. Provide format or specify infer_datetime_format=True for consistent parsing.\n",
      "  cache_array = _maybe_cache(arg, format, cache, convert_listlike)\n",
      "/home/team9/miniconda3/envs/comp47360py39/lib/python3.9/site-packages/pandas/core/tools/datetimes.py:1063: UserWarning: Parsing '17-10-2018' in DD/MM/YYYY format. Provide format or specify infer_datetime_format=True for consistent parsing.\n",
      "  cache_array = _maybe_cache(arg, format, cache, convert_listlike)\n",
      "/home/team9/miniconda3/envs/comp47360py39/lib/python3.9/site-packages/pandas/core/tools/datetimes.py:1063: UserWarning: Parsing '18-10-2018' in DD/MM/YYYY format. Provide format or specify infer_datetime_format=True for consistent parsing.\n",
      "  cache_array = _maybe_cache(arg, format, cache, convert_listlike)\n",
      "/home/team9/miniconda3/envs/comp47360py39/lib/python3.9/site-packages/pandas/core/tools/datetimes.py:1063: UserWarning: Parsing '19-10-2018' in DD/MM/YYYY format. Provide format or specify infer_datetime_format=True for consistent parsing.\n",
      "  cache_array = _maybe_cache(arg, format, cache, convert_listlike)\n",
      "/home/team9/miniconda3/envs/comp47360py39/lib/python3.9/site-packages/pandas/core/tools/datetimes.py:1063: UserWarning: Parsing '20-10-2018' in DD/MM/YYYY format. Provide format or specify infer_datetime_format=True for consistent parsing.\n",
      "  cache_array = _maybe_cache(arg, format, cache, convert_listlike)\n",
      "/home/team9/miniconda3/envs/comp47360py39/lib/python3.9/site-packages/pandas/core/tools/datetimes.py:1063: UserWarning: Parsing '21-10-2018' in DD/MM/YYYY format. Provide format or specify infer_datetime_format=True for consistent parsing.\n",
      "  cache_array = _maybe_cache(arg, format, cache, convert_listlike)\n",
      "/home/team9/miniconda3/envs/comp47360py39/lib/python3.9/site-packages/pandas/core/tools/datetimes.py:1063: UserWarning: Parsing '22-10-2018' in DD/MM/YYYY format. Provide format or specify infer_datetime_format=True for consistent parsing.\n",
      "  cache_array = _maybe_cache(arg, format, cache, convert_listlike)\n",
      "/home/team9/miniconda3/envs/comp47360py39/lib/python3.9/site-packages/pandas/core/tools/datetimes.py:1063: UserWarning: Parsing '23-10-2018' in DD/MM/YYYY format. Provide format or specify infer_datetime_format=True for consistent parsing.\n",
      "  cache_array = _maybe_cache(arg, format, cache, convert_listlike)\n",
      "/home/team9/miniconda3/envs/comp47360py39/lib/python3.9/site-packages/pandas/core/tools/datetimes.py:1063: UserWarning: Parsing '24-10-2018' in DD/MM/YYYY format. Provide format or specify infer_datetime_format=True for consistent parsing.\n",
      "  cache_array = _maybe_cache(arg, format, cache, convert_listlike)\n",
      "/home/team9/miniconda3/envs/comp47360py39/lib/python3.9/site-packages/pandas/core/tools/datetimes.py:1063: UserWarning: Parsing '25-10-2018' in DD/MM/YYYY format. Provide format or specify infer_datetime_format=True for consistent parsing.\n",
      "  cache_array = _maybe_cache(arg, format, cache, convert_listlike)\n",
      "/home/team9/miniconda3/envs/comp47360py39/lib/python3.9/site-packages/pandas/core/tools/datetimes.py:1063: UserWarning: Parsing '26-10-2018' in DD/MM/YYYY format. Provide format or specify infer_datetime_format=True for consistent parsing.\n",
      "  cache_array = _maybe_cache(arg, format, cache, convert_listlike)\n",
      "/home/team9/miniconda3/envs/comp47360py39/lib/python3.9/site-packages/pandas/core/tools/datetimes.py:1063: UserWarning: Parsing '27-10-2018' in DD/MM/YYYY format. Provide format or specify infer_datetime_format=True for consistent parsing.\n",
      "  cache_array = _maybe_cache(arg, format, cache, convert_listlike)\n",
      "/home/team9/miniconda3/envs/comp47360py39/lib/python3.9/site-packages/pandas/core/tools/datetimes.py:1063: UserWarning: Parsing '28-10-2018' in DD/MM/YYYY format. Provide format or specify infer_datetime_format=True for consistent parsing.\n",
      "  cache_array = _maybe_cache(arg, format, cache, convert_listlike)\n",
      "/home/team9/miniconda3/envs/comp47360py39/lib/python3.9/site-packages/pandas/core/tools/datetimes.py:1063: UserWarning: Parsing '29-10-2018' in DD/MM/YYYY format. Provide format or specify infer_datetime_format=True for consistent parsing.\n",
      "  cache_array = _maybe_cache(arg, format, cache, convert_listlike)\n",
      "/home/team9/miniconda3/envs/comp47360py39/lib/python3.9/site-packages/pandas/core/tools/datetimes.py:1063: UserWarning: Parsing '30-10-2018' in DD/MM/YYYY format. Provide format or specify infer_datetime_format=True for consistent parsing.\n",
      "  cache_array = _maybe_cache(arg, format, cache, convert_listlike)\n",
      "/home/team9/miniconda3/envs/comp47360py39/lib/python3.9/site-packages/pandas/core/tools/datetimes.py:1063: UserWarning: Parsing '31-10-2018' in DD/MM/YYYY format. Provide format or specify infer_datetime_format=True for consistent parsing.\n",
      "  cache_array = _maybe_cache(arg, format, cache, convert_listlike)\n",
      "/home/team9/miniconda3/envs/comp47360py39/lib/python3.9/site-packages/pandas/core/tools/datetimes.py:1063: UserWarning: Parsing '13-11-2018' in DD/MM/YYYY format. Provide format or specify infer_datetime_format=True for consistent parsing.\n",
      "  cache_array = _maybe_cache(arg, format, cache, convert_listlike)\n",
      "/home/team9/miniconda3/envs/comp47360py39/lib/python3.9/site-packages/pandas/core/tools/datetimes.py:1063: UserWarning: Parsing '14-11-2018' in DD/MM/YYYY format. Provide format or specify infer_datetime_format=True for consistent parsing.\n",
      "  cache_array = _maybe_cache(arg, format, cache, convert_listlike)\n",
      "/home/team9/miniconda3/envs/comp47360py39/lib/python3.9/site-packages/pandas/core/tools/datetimes.py:1063: UserWarning: Parsing '15-11-2018' in DD/MM/YYYY format. Provide format or specify infer_datetime_format=True for consistent parsing.\n",
      "  cache_array = _maybe_cache(arg, format, cache, convert_listlike)\n",
      "/home/team9/miniconda3/envs/comp47360py39/lib/python3.9/site-packages/pandas/core/tools/datetimes.py:1063: UserWarning: Parsing '16-11-2018' in DD/MM/YYYY format. Provide format or specify infer_datetime_format=True for consistent parsing.\n",
      "  cache_array = _maybe_cache(arg, format, cache, convert_listlike)\n",
      "/home/team9/miniconda3/envs/comp47360py39/lib/python3.9/site-packages/pandas/core/tools/datetimes.py:1063: UserWarning: Parsing '17-11-2018' in DD/MM/YYYY format. Provide format or specify infer_datetime_format=True for consistent parsing.\n",
      "  cache_array = _maybe_cache(arg, format, cache, convert_listlike)\n",
      "/home/team9/miniconda3/envs/comp47360py39/lib/python3.9/site-packages/pandas/core/tools/datetimes.py:1063: UserWarning: Parsing '18-11-2018' in DD/MM/YYYY format. Provide format or specify infer_datetime_format=True for consistent parsing.\n",
      "  cache_array = _maybe_cache(arg, format, cache, convert_listlike)\n",
      "/home/team9/miniconda3/envs/comp47360py39/lib/python3.9/site-packages/pandas/core/tools/datetimes.py:1063: UserWarning: Parsing '19-11-2018' in DD/MM/YYYY format. Provide format or specify infer_datetime_format=True for consistent parsing.\n",
      "  cache_array = _maybe_cache(arg, format, cache, convert_listlike)\n",
      "/home/team9/miniconda3/envs/comp47360py39/lib/python3.9/site-packages/pandas/core/tools/datetimes.py:1063: UserWarning: Parsing '20-11-2018' in DD/MM/YYYY format. Provide format or specify infer_datetime_format=True for consistent parsing.\n",
      "  cache_array = _maybe_cache(arg, format, cache, convert_listlike)\n",
      "/home/team9/miniconda3/envs/comp47360py39/lib/python3.9/site-packages/pandas/core/tools/datetimes.py:1063: UserWarning: Parsing '21-11-2018' in DD/MM/YYYY format. Provide format or specify infer_datetime_format=True for consistent parsing.\n",
      "  cache_array = _maybe_cache(arg, format, cache, convert_listlike)\n",
      "/home/team9/miniconda3/envs/comp47360py39/lib/python3.9/site-packages/pandas/core/tools/datetimes.py:1063: UserWarning: Parsing '22-11-2018' in DD/MM/YYYY format. Provide format or specify infer_datetime_format=True for consistent parsing.\n",
      "  cache_array = _maybe_cache(arg, format, cache, convert_listlike)\n",
      "/home/team9/miniconda3/envs/comp47360py39/lib/python3.9/site-packages/pandas/core/tools/datetimes.py:1063: UserWarning: Parsing '23-11-2018' in DD/MM/YYYY format. Provide format or specify infer_datetime_format=True for consistent parsing.\n",
      "  cache_array = _maybe_cache(arg, format, cache, convert_listlike)\n",
      "/home/team9/miniconda3/envs/comp47360py39/lib/python3.9/site-packages/pandas/core/tools/datetimes.py:1063: UserWarning: Parsing '24-11-2018' in DD/MM/YYYY format. Provide format or specify infer_datetime_format=True for consistent parsing.\n",
      "  cache_array = _maybe_cache(arg, format, cache, convert_listlike)\n",
      "/home/team9/miniconda3/envs/comp47360py39/lib/python3.9/site-packages/pandas/core/tools/datetimes.py:1063: UserWarning: Parsing '25-11-2018' in DD/MM/YYYY format. Provide format or specify infer_datetime_format=True for consistent parsing.\n",
      "  cache_array = _maybe_cache(arg, format, cache, convert_listlike)\n",
      "/home/team9/miniconda3/envs/comp47360py39/lib/python3.9/site-packages/pandas/core/tools/datetimes.py:1063: UserWarning: Parsing '26-11-2018' in DD/MM/YYYY format. Provide format or specify infer_datetime_format=True for consistent parsing.\n",
      "  cache_array = _maybe_cache(arg, format, cache, convert_listlike)\n",
      "/home/team9/miniconda3/envs/comp47360py39/lib/python3.9/site-packages/pandas/core/tools/datetimes.py:1063: UserWarning: Parsing '27-11-2018' in DD/MM/YYYY format. Provide format or specify infer_datetime_format=True for consistent parsing.\n",
      "  cache_array = _maybe_cache(arg, format, cache, convert_listlike)\n",
      "/home/team9/miniconda3/envs/comp47360py39/lib/python3.9/site-packages/pandas/core/tools/datetimes.py:1063: UserWarning: Parsing '28-11-2018' in DD/MM/YYYY format. Provide format or specify infer_datetime_format=True for consistent parsing.\n",
      "  cache_array = _maybe_cache(arg, format, cache, convert_listlike)\n",
      "/home/team9/miniconda3/envs/comp47360py39/lib/python3.9/site-packages/pandas/core/tools/datetimes.py:1063: UserWarning: Parsing '29-11-2018' in DD/MM/YYYY format. Provide format or specify infer_datetime_format=True for consistent parsing.\n",
      "  cache_array = _maybe_cache(arg, format, cache, convert_listlike)\n",
      "/home/team9/miniconda3/envs/comp47360py39/lib/python3.9/site-packages/pandas/core/tools/datetimes.py:1063: UserWarning: Parsing '30-11-2018' in DD/MM/YYYY format. Provide format or specify infer_datetime_format=True for consistent parsing.\n",
      "  cache_array = _maybe_cache(arg, format, cache, convert_listlike)\n",
      "/home/team9/miniconda3/envs/comp47360py39/lib/python3.9/site-packages/pandas/core/tools/datetimes.py:1063: UserWarning: Parsing '13-12-2018' in DD/MM/YYYY format. Provide format or specify infer_datetime_format=True for consistent parsing.\n",
      "  cache_array = _maybe_cache(arg, format, cache, convert_listlike)\n",
      "/home/team9/miniconda3/envs/comp47360py39/lib/python3.9/site-packages/pandas/core/tools/datetimes.py:1063: UserWarning: Parsing '14-12-2018' in DD/MM/YYYY format. Provide format or specify infer_datetime_format=True for consistent parsing.\n",
      "  cache_array = _maybe_cache(arg, format, cache, convert_listlike)\n",
      "/home/team9/miniconda3/envs/comp47360py39/lib/python3.9/site-packages/pandas/core/tools/datetimes.py:1063: UserWarning: Parsing '15-12-2018' in DD/MM/YYYY format. Provide format or specify infer_datetime_format=True for consistent parsing.\n",
      "  cache_array = _maybe_cache(arg, format, cache, convert_listlike)\n",
      "/home/team9/miniconda3/envs/comp47360py39/lib/python3.9/site-packages/pandas/core/tools/datetimes.py:1063: UserWarning: Parsing '16-12-2018' in DD/MM/YYYY format. Provide format or specify infer_datetime_format=True for consistent parsing.\n",
      "  cache_array = _maybe_cache(arg, format, cache, convert_listlike)\n",
      "/home/team9/miniconda3/envs/comp47360py39/lib/python3.9/site-packages/pandas/core/tools/datetimes.py:1063: UserWarning: Parsing '17-12-2018' in DD/MM/YYYY format. Provide format or specify infer_datetime_format=True for consistent parsing.\n",
      "  cache_array = _maybe_cache(arg, format, cache, convert_listlike)\n",
      "/home/team9/miniconda3/envs/comp47360py39/lib/python3.9/site-packages/pandas/core/tools/datetimes.py:1063: UserWarning: Parsing '18-12-2018' in DD/MM/YYYY format. Provide format or specify infer_datetime_format=True for consistent parsing.\n",
      "  cache_array = _maybe_cache(arg, format, cache, convert_listlike)\n",
      "/home/team9/miniconda3/envs/comp47360py39/lib/python3.9/site-packages/pandas/core/tools/datetimes.py:1063: UserWarning: Parsing '19-12-2018' in DD/MM/YYYY format. Provide format or specify infer_datetime_format=True for consistent parsing.\n",
      "  cache_array = _maybe_cache(arg, format, cache, convert_listlike)\n",
      "/home/team9/miniconda3/envs/comp47360py39/lib/python3.9/site-packages/pandas/core/tools/datetimes.py:1063: UserWarning: Parsing '20-12-2018' in DD/MM/YYYY format. Provide format or specify infer_datetime_format=True for consistent parsing.\n",
      "  cache_array = _maybe_cache(arg, format, cache, convert_listlike)\n",
      "/home/team9/miniconda3/envs/comp47360py39/lib/python3.9/site-packages/pandas/core/tools/datetimes.py:1063: UserWarning: Parsing '21-12-2018' in DD/MM/YYYY format. Provide format or specify infer_datetime_format=True for consistent parsing.\n",
      "  cache_array = _maybe_cache(arg, format, cache, convert_listlike)\n",
      "/home/team9/miniconda3/envs/comp47360py39/lib/python3.9/site-packages/pandas/core/tools/datetimes.py:1063: UserWarning: Parsing '22-12-2018' in DD/MM/YYYY format. Provide format or specify infer_datetime_format=True for consistent parsing.\n",
      "  cache_array = _maybe_cache(arg, format, cache, convert_listlike)\n",
      "/home/team9/miniconda3/envs/comp47360py39/lib/python3.9/site-packages/pandas/core/tools/datetimes.py:1063: UserWarning: Parsing '23-12-2018' in DD/MM/YYYY format. Provide format or specify infer_datetime_format=True for consistent parsing.\n",
      "  cache_array = _maybe_cache(arg, format, cache, convert_listlike)\n",
      "/home/team9/miniconda3/envs/comp47360py39/lib/python3.9/site-packages/pandas/core/tools/datetimes.py:1063: UserWarning: Parsing '24-12-2018' in DD/MM/YYYY format. Provide format or specify infer_datetime_format=True for consistent parsing.\n",
      "  cache_array = _maybe_cache(arg, format, cache, convert_listlike)\n",
      "/home/team9/miniconda3/envs/comp47360py39/lib/python3.9/site-packages/pandas/core/tools/datetimes.py:1063: UserWarning: Parsing '25-12-2018' in DD/MM/YYYY format. Provide format or specify infer_datetime_format=True for consistent parsing.\n",
      "  cache_array = _maybe_cache(arg, format, cache, convert_listlike)\n",
      "/home/team9/miniconda3/envs/comp47360py39/lib/python3.9/site-packages/pandas/core/tools/datetimes.py:1063: UserWarning: Parsing '26-12-2018' in DD/MM/YYYY format. Provide format or specify infer_datetime_format=True for consistent parsing.\n",
      "  cache_array = _maybe_cache(arg, format, cache, convert_listlike)\n",
      "/home/team9/miniconda3/envs/comp47360py39/lib/python3.9/site-packages/pandas/core/tools/datetimes.py:1063: UserWarning: Parsing '27-12-2018' in DD/MM/YYYY format. Provide format or specify infer_datetime_format=True for consistent parsing.\n",
      "  cache_array = _maybe_cache(arg, format, cache, convert_listlike)\n",
      "/home/team9/miniconda3/envs/comp47360py39/lib/python3.9/site-packages/pandas/core/tools/datetimes.py:1063: UserWarning: Parsing '28-12-2018' in DD/MM/YYYY format. Provide format or specify infer_datetime_format=True for consistent parsing.\n",
      "  cache_array = _maybe_cache(arg, format, cache, convert_listlike)\n",
      "/home/team9/miniconda3/envs/comp47360py39/lib/python3.9/site-packages/pandas/core/tools/datetimes.py:1063: UserWarning: Parsing '29-12-2018' in DD/MM/YYYY format. Provide format or specify infer_datetime_format=True for consistent parsing.\n",
      "  cache_array = _maybe_cache(arg, format, cache, convert_listlike)\n",
      "/home/team9/miniconda3/envs/comp47360py39/lib/python3.9/site-packages/pandas/core/tools/datetimes.py:1063: UserWarning: Parsing '30-12-2018' in DD/MM/YYYY format. Provide format or specify infer_datetime_format=True for consistent parsing.\n",
      "  cache_array = _maybe_cache(arg, format, cache, convert_listlike)\n",
      "/home/team9/miniconda3/envs/comp47360py39/lib/python3.9/site-packages/pandas/core/tools/datetimes.py:1063: UserWarning: Parsing '31-12-2018' in DD/MM/YYYY format. Provide format or specify infer_datetime_format=True for consistent parsing.\n",
      "  cache_array = _maybe_cache(arg, format, cache, convert_listlike)\n"
     ]
    }
   ],
   "source": [
    "weather[\"DAYOFSERVICE\"] = weather[\"DAYOFSERVICE\"].astype(\"datetime64\")\n",
    "weather[\"DOY\"] = weather[\"DAYOFSERVICE\"].dt.dayofyear\n",
    "\n",
    "weather[\"DOY\"] = weather[\"DOY\"].astype(\"int16\")\n"
   ]
  },
  {
   "cell_type": "code",
   "execution_count": 73,
   "id": "56cc1dc8",
   "metadata": {},
   "outputs": [],
   "source": [
    "weather = weather.drop({\"dt\", \"date\", \"DAYOFSERVICE\"}, axis=1)"
   ]
  },
  {
   "cell_type": "code",
   "execution_count": 6,
   "id": "0da2fc3d",
   "metadata": {},
   "outputs": [
    {
     "data": {
      "text/plain": [
       "svmem(total=67481169920, available=26719842304, percent=60.4, used=32007307264, free=18037485568, active=29638180864, inactive=17966735360, buffers=1880379392, cached=15555997696, shared=8072052736, slab=1141760000)"
      ]
     },
     "execution_count": 6,
     "metadata": {},
     "output_type": "execute_result"
    }
   ],
   "source": [
    "psutil.virtual_memory()"
   ]
  },
  {
   "cell_type": "code",
   "execution_count": 62,
   "id": "bd9bf35b",
   "metadata": {},
   "outputs": [
    {
     "name": "stdout",
     "output_type": "stream",
     "text": [
      "Once deleted, variables cannot be recovered. Proceed (y/[n])? y\n",
      "Flushing output cache (4 entries)\n"
     ]
    }
   ],
   "source": [
    "%reset Out"
   ]
  },
  {
   "cell_type": "code",
   "execution_count": 61,
   "id": "f44f48b8",
   "metadata": {},
   "outputs": [
    {
     "data": {
      "text/plain": [
       "svmem(total=67481169920, available=22079606784, percent=67.3, used=44709974016, free=919740416, active=39221297152, inactive=25165090816, buffers=240136192, cached=21611319296, shared=7254016, slab=1501339648)"
      ]
     },
     "execution_count": 61,
     "metadata": {},
     "output_type": "execute_result"
    }
   ],
   "source": [
    "psutil.virtual_memory()"
   ]
  },
  {
   "cell_type": "code",
   "execution_count": 77,
   "id": "95bb45ff",
   "metadata": {},
   "outputs": [
    {
     "data": {
      "text/plain": [
       "temp             int8\n",
       "wind_speed       int8\n",
       "weather_main     int8\n",
       "DAYOFWEEK        int8\n",
       "HOUR             int8\n",
       "DOY             int16\n",
       "dtype: object"
      ]
     },
     "execution_count": 77,
     "metadata": {},
     "output_type": "execute_result"
    }
   ],
   "source": [
    "weather.dtypes"
   ]
  },
  {
   "cell_type": "code",
   "execution_count": null,
   "id": "bae26085",
   "metadata": {},
   "outputs": [],
   "source": [
    "merged_dd.dtypes"
   ]
  },
  {
   "cell_type": "code",
   "execution_count": 10,
   "id": "084d45b6",
   "metadata": {},
   "outputs": [],
   "source": [
    "#weather.to_csv(r'./weather_ready.csv', index=None)\n",
    "weather = pd.read_csv(r'./weather_ready.csv')"
   ]
  },
  {
   "cell_type": "code",
   "execution_count": 11,
   "id": "d397ccd5",
   "metadata": {},
   "outputs": [],
   "source": [
    "weather[\"DOY\"] = weather[\"DOY\"].astype(\"int16\")\n",
    "weather['temp'] = weather['temp'].astype('int8')\n",
    "weather['wind_speed'] = weather['wind_speed'].astype('int8')\n",
    "#weather['weather_description'] = weather['weather_description'].astype('int8')\n",
    "weather['weather_main'] = weather['weather_main'].astype('int8')\n",
    "weather['DAYOFWEEK'] = weather['DAYOFWEEK'].astype('int8')\n",
    "weather['HOUR'] = weather['HOUR'].astype('int8')"
   ]
  },
  {
   "cell_type": "code",
   "execution_count": 12,
   "id": "0ffc7170",
   "metadata": {},
   "outputs": [
    {
     "name": "stdout",
     "output_type": "stream",
     "text": [
      "<class 'pandas.core.frame.DataFrame'>\n",
      "RangeIndex: 8759 entries, 0 to 8758\n",
      "Data columns (total 6 columns):\n",
      " #   Column        Non-Null Count  Dtype\n",
      "---  ------        --------------  -----\n",
      " 0   temp          8759 non-null   int8 \n",
      " 1   wind_speed    8759 non-null   int8 \n",
      " 2   weather_main  8759 non-null   int8 \n",
      " 3   DAYOFWEEK     8759 non-null   int8 \n",
      " 4   HOUR          8759 non-null   int8 \n",
      " 5   DOY           8759 non-null   int16\n",
      "dtypes: int16(1), int8(5)\n",
      "memory usage: 60.0 KB\n"
     ]
    }
   ],
   "source": [
    "weather.info()"
   ]
  },
  {
   "cell_type": "code",
   "execution_count": 17,
   "id": "f332f19c",
   "metadata": {},
   "outputs": [
    {
     "name": "stdout",
     "output_type": "stream",
     "text": [
      "   temp  wind_speed  weather_main  DAYOFWEEK  HOUR  DOY\n",
      "0     4          12             1          0     1    1\n",
      "     temp  wind_speed  weather_main  DAYOFWEEK  HOUR  DOY\n",
      "743     3           6             0          3     0    2\n",
      "      temp  wind_speed  weather_main  DAYOFWEEK  HOUR  DOY\n",
      "1415    -5          12             0          3     0    3\n",
      "      temp  wind_speed  weather_main  DAYOFWEEK  HOUR  DOY\n",
      "2158     2           2             0          5    23    4\n",
      "      temp  wind_speed  weather_main  DAYOFWEEK  HOUR  DOY\n",
      "2878     7           4             0          0    23    5\n",
      "      temp  wind_speed  weather_main  DAYOFWEEK  HOUR  DOY\n",
      "3622    13           4             0          3    23    6\n",
      "      temp  wind_speed  weather_main  DAYOFWEEK  HOUR  DOY\n",
      "4342    11           2             0          5    23    7\n"
     ]
    }
   ],
   "source": [
    "for i in range(1,8):\n",
    "    ttt = weather.loc[weather.DOY==i].head(1)\n",
    "    print(ttt)"
   ]
  },
  {
   "cell_type": "code",
   "execution_count": 73,
   "id": "b9ea43e0",
   "metadata": {},
   "outputs": [
    {
     "data": {
      "text/plain": [
       "TRIPID                 int32\n",
       "PROGRNUMBER             int8\n",
       "STOPPOINTID            int16\n",
       "PLANNEDTIME_ARR        int32\n",
       "ACTUALTIME_ARR         int32\n",
       "DOY                    int16\n",
       "LINEID_DIRECTION    category\n",
       "JOURNEY_TIME           int16\n",
       "dtype: object"
      ]
     },
     "execution_count": 73,
     "metadata": {},
     "output_type": "execute_result"
    }
   ],
   "source": [
    "merged_dd.dtypes"
   ]
  },
  {
   "cell_type": "code",
   "execution_count": 74,
   "id": "14d0946c",
   "metadata": {},
   "outputs": [
    {
     "data": {
      "text/plain": [
       "svmem(total=67481169920, available=20515930112, percent=69.6, used=46273032192, free=5603491840, active=43969380352, inactive=15640268800, buffers=140562432, cached=15464083456, shared=7294976, slab=1588686848)"
      ]
     },
     "execution_count": 74,
     "metadata": {},
     "output_type": "execute_result"
    }
   ],
   "source": [
    "psutil.virtual_memory()"
   ]
  },
  {
   "cell_type": "code",
   "execution_count": 75,
   "id": "a3456ae9",
   "metadata": {},
   "outputs": [
    {
     "data": {
      "text/plain": [
       "0"
      ]
     },
     "execution_count": 75,
     "metadata": {},
     "output_type": "execute_result"
    }
   ],
   "source": [
    "gc.collect()"
   ]
  },
  {
   "cell_type": "code",
   "execution_count": 77,
   "id": "a6dca37b",
   "metadata": {},
   "outputs": [
    {
     "name": "stdout",
     "output_type": "stream",
     "text": [
      "Once deleted, variables cannot be recovered. Proceed (y/[n])? y\n",
      "Flushing output cache (6 entries)\n"
     ]
    }
   ],
   "source": [
    "%reset Out"
   ]
  },
  {
   "cell_type": "code",
   "execution_count": null,
   "id": "50c8c791",
   "metadata": {},
   "outputs": [],
   "source": [
    "%%time\n",
    "\n",
    "# used this way because it enabled noting when a time ran into the next calendar day\n",
    "merged_dd['HOUR'] = merged_dd['ACTUALTIME_ARR'].apply(lambda row: round(row/3600))\n",
    "\n",
    "#merged_dd['ACTUALTIME_ARR'] = merged_dd['ACTUALTIME_ARR'].astype(\"datetime64[s]\")\n",
    "#merged_dd['HOUR'] = merged_dd['ACTUALTIME_ARR'].dt.hour\n",
    "#merged_dd['ACTUALTIME_ARR'] = merged_dd['ACTUALTIME_ARR'].values.astype(\"int32\")\n",
    "\n",
    "# standardised the method used to assign value for hour column and confirmed that there just happened to be no data at 3am\n",
    "# this method suits best for making changes to dates "
   ]
  },
  {
   "cell_type": "code",
   "execution_count": 79,
   "id": "1b75c952",
   "metadata": {},
   "outputs": [],
   "source": [
    "merged_dd[\"HOUR\"] = merged_dd[\"HOUR\"].astype(\"int8\")"
   ]
  },
  {
   "cell_type": "code",
   "execution_count": null,
   "id": "2bd08fe6",
   "metadata": {},
   "outputs": [],
   "source": [
    "#W_HOUR = weather[\"HOUR\"].unique()\n",
    "#W_HOUR = W_HOUR.tolist()\n",
    "#W_HOUR"
   ]
  },
  {
   "cell_type": "code",
   "execution_count": null,
   "id": "ae9c5a1d",
   "metadata": {},
   "outputs": [],
   "source": [
    "#m_hours = merged_dd[\"HOUR\"].unique()\n",
    "#m_hours = m_hours.tolist()\n",
    "#m_hours"
   ]
  },
  {
   "cell_type": "code",
   "execution_count": null,
   "id": "b3c62b8b",
   "metadata": {},
   "outputs": [],
   "source": [
    "#min_seconds = merged_dd.PLANNEDTIME_ARR.min()\n",
    "#min_seconds // 3600"
   ]
  },
  {
   "cell_type": "code",
   "execution_count": null,
   "id": "b851448c",
   "metadata": {},
   "outputs": [],
   "source": [
    "#print(len(m_hours))\n",
    "#print(len(W_HOUR))\n",
    "\n",
    "# no 3am values "
   ]
  },
  {
   "cell_type": "code",
   "execution_count": 80,
   "id": "9ce16e02",
   "metadata": {},
   "outputs": [],
   "source": [
    "merged_dd.loc[(merged_dd[\"HOUR\"] == 24), \"HOUR\"] = 0\n",
    "merged_dd.loc[(merged_dd[\"HOUR\"] == 25), \"HOUR\"] = 1\n",
    "merged_dd.loc[(merged_dd[\"HOUR\"] == 26), \"HOUR\"] = 2"
   ]
  },
  {
   "cell_type": "code",
   "execution_count": 81,
   "id": "4b875f79",
   "metadata": {},
   "outputs": [],
   "source": [
    "merged_dd.loc[(merged_dd[\"HOUR\"] == 27), \"HOUR\"] = 3"
   ]
  },
  {
   "cell_type": "code",
   "execution_count": 82,
   "id": "1ff0f8b0",
   "metadata": {},
   "outputs": [],
   "source": [
    "# merged_dd.loc[(merged_dd[\"DAYOFWEEK\"] == 7), \"DAYOFWEEK\"] = 0"
   ]
  },
  {
   "cell_type": "code",
   "execution_count": 83,
   "id": "1c732cf4",
   "metadata": {},
   "outputs": [],
   "source": [
    "merged_dd.loc[(merged_dd[\"HOUR\"] == 0), \"DOY\"] += 1\n",
    "merged_dd.loc[(merged_dd[\"HOUR\"] == 1), \"DOY\"] += 1\n",
    "merged_dd.loc[(merged_dd[\"HOUR\"] == 2), \"DOY\"] += 1"
   ]
  },
  {
   "cell_type": "code",
   "execution_count": 84,
   "id": "31284dbc",
   "metadata": {},
   "outputs": [],
   "source": [
    "merged_dd.loc[(merged_dd[\"HOUR\"] == 3), \"DOY\"] += 1"
   ]
  },
  {
   "cell_type": "code",
   "execution_count": 85,
   "id": "54ca3dff",
   "metadata": {},
   "outputs": [],
   "source": [
    "merged_dd = merged_dd[merged_dd.DOY != 366]"
   ]
  },
  {
   "cell_type": "code",
   "execution_count": 86,
   "id": "02e55a20",
   "metadata": {},
   "outputs": [
    {
     "data": {
      "text/plain": [
       "[13,\n",
       " 15,\n",
       " 17,\n",
       " 16,\n",
       " 20,\n",
       " 21,\n",
       " 11,\n",
       " 12,\n",
       " 10,\n",
       " 18,\n",
       " 19,\n",
       " 23,\n",
       " 22,\n",
       " 14,\n",
       " 9,\n",
       " 0,\n",
       " 8,\n",
       " 1,\n",
       " 7,\n",
       " 6,\n",
       " 5,\n",
       " 2,\n",
       " 4,\n",
       " 3]"
      ]
     },
     "execution_count": 86,
     "metadata": {},
     "output_type": "execute_result"
    }
   ],
   "source": [
    "m_hours = merged_dd[\"HOUR\"].unique()\n",
    "m_hours = m_hours.tolist()\n",
    "m_hours"
   ]
  },
  {
   "cell_type": "code",
   "execution_count": 78,
   "id": "bd24ac75",
   "metadata": {},
   "outputs": [
    {
     "data": {
      "text/plain": [
       "[1,\n",
       " 2,\n",
       " 3,\n",
       " 4,\n",
       " 5,\n",
       " 6,\n",
       " 7,\n",
       " 8,\n",
       " 9,\n",
       " 10,\n",
       " 11,\n",
       " 12,\n",
       " 13,\n",
       " 14,\n",
       " 15,\n",
       " 16,\n",
       " 17,\n",
       " 18,\n",
       " 19,\n",
       " 20,\n",
       " 21,\n",
       " 22,\n",
       " 23,\n",
       " 0]"
      ]
     },
     "execution_count": 78,
     "metadata": {},
     "output_type": "execute_result"
    }
   ],
   "source": [
    "W_HOUR = weather[\"HOUR\"].unique()\n",
    "W_HOUR = W_HOUR.tolist()\n",
    "W_HOUR"
   ]
  },
  {
   "cell_type": "code",
   "execution_count": 87,
   "id": "3b68166e",
   "metadata": {},
   "outputs": [
    {
     "data": {
      "text/plain": [
       "18    7571572\n",
       "9     7121895\n",
       "17    7094343\n",
       "19    6976058\n",
       "10    6926982\n",
       "8     6769272\n",
       "16    6651178\n",
       "14    6643132\n",
       "13    6514657\n",
       "15    6501942\n",
       "12    6324024\n",
       "11    6263448\n",
       "20    5612158\n",
       "21    4870463\n",
       "22    4661750\n",
       "23    4612588\n",
       "7     4556130\n",
       "0     2405847\n",
       "6      907410\n",
       "1       52749\n",
       "5       41894\n",
       "2          51\n",
       "4           8\n",
       "3           2\n",
       "Name: HOUR, dtype: int64"
      ]
     },
     "execution_count": 87,
     "metadata": {},
     "output_type": "execute_result"
    }
   ],
   "source": [
    "merged_dd.HOUR.value_counts()"
   ]
  },
  {
   "cell_type": "code",
   "execution_count": 88,
   "id": "b215ab69",
   "metadata": {},
   "outputs": [
    {
     "data": {
      "text/html": [
       "<div>\n",
       "<style scoped>\n",
       "    .dataframe tbody tr th:only-of-type {\n",
       "        vertical-align: middle;\n",
       "    }\n",
       "\n",
       "    .dataframe tbody tr th {\n",
       "        vertical-align: top;\n",
       "    }\n",
       "\n",
       "    .dataframe thead th {\n",
       "        text-align: right;\n",
       "    }\n",
       "</style>\n",
       "<table border=\"1\" class=\"dataframe\">\n",
       "  <thead>\n",
       "    <tr style=\"text-align: right;\">\n",
       "      <th></th>\n",
       "      <th>TRIPID</th>\n",
       "      <th>PROGRNUMBER</th>\n",
       "      <th>STOPPOINTID</th>\n",
       "      <th>PLANNEDTIME_ARR</th>\n",
       "      <th>ACTUALTIME_ARR</th>\n",
       "      <th>DOY</th>\n",
       "      <th>LINEID_DIRECTION</th>\n",
       "      <th>JOURNEY_TIME</th>\n",
       "      <th>HOUR</th>\n",
       "    </tr>\n",
       "  </thead>\n",
       "  <tbody>\n",
       "    <tr>\n",
       "      <th>0</th>\n",
       "      <td>5972116</td>\n",
       "      <td>12</td>\n",
       "      <td>119</td>\n",
       "      <td>48030</td>\n",
       "      <td>48012</td>\n",
       "      <td>1</td>\n",
       "      <td>1_1</td>\n",
       "      <td>585</td>\n",
       "      <td>13</td>\n",
       "    </tr>\n",
       "    <tr>\n",
       "      <th>1</th>\n",
       "      <td>5966674</td>\n",
       "      <td>12</td>\n",
       "      <td>119</td>\n",
       "      <td>54001</td>\n",
       "      <td>54023</td>\n",
       "      <td>1</td>\n",
       "      <td>1_1</td>\n",
       "      <td>613</td>\n",
       "      <td>15</td>\n",
       "    </tr>\n",
       "    <tr>\n",
       "      <th>2</th>\n",
       "      <td>5959105</td>\n",
       "      <td>12</td>\n",
       "      <td>119</td>\n",
       "      <td>60001</td>\n",
       "      <td>59955</td>\n",
       "      <td>1</td>\n",
       "      <td>1_1</td>\n",
       "      <td>529</td>\n",
       "      <td>17</td>\n",
       "    </tr>\n",
       "    <tr>\n",
       "      <th>3</th>\n",
       "      <td>5966888</td>\n",
       "      <td>12</td>\n",
       "      <td>119</td>\n",
       "      <td>58801</td>\n",
       "      <td>58771</td>\n",
       "      <td>1</td>\n",
       "      <td>1_1</td>\n",
       "      <td>551</td>\n",
       "      <td>16</td>\n",
       "    </tr>\n",
       "    <tr>\n",
       "      <th>4</th>\n",
       "      <td>5965960</td>\n",
       "      <td>12</td>\n",
       "      <td>119</td>\n",
       "      <td>56401</td>\n",
       "      <td>56309</td>\n",
       "      <td>1</td>\n",
       "      <td>1_1</td>\n",
       "      <td>502</td>\n",
       "      <td>16</td>\n",
       "    </tr>\n",
       "  </tbody>\n",
       "</table>\n",
       "</div>"
      ],
      "text/plain": [
       "    TRIPID  PROGRNUMBER  STOPPOINTID  PLANNEDTIME_ARR  ACTUALTIME_ARR  DOY  \\\n",
       "0  5972116           12          119            48030           48012    1   \n",
       "1  5966674           12          119            54001           54023    1   \n",
       "2  5959105           12          119            60001           59955    1   \n",
       "3  5966888           12          119            58801           58771    1   \n",
       "4  5965960           12          119            56401           56309    1   \n",
       "\n",
       "  LINEID_DIRECTION  JOURNEY_TIME  HOUR  \n",
       "0              1_1           585    13  \n",
       "1              1_1           613    15  \n",
       "2              1_1           529    17  \n",
       "3              1_1           551    16  \n",
       "4              1_1           502    16  "
      ]
     },
     "execution_count": 88,
     "metadata": {},
     "output_type": "execute_result"
    }
   ],
   "source": [
    "merged_dd.head(5)"
   ]
  },
  {
   "cell_type": "code",
   "execution_count": 89,
   "id": "cb815713",
   "metadata": {},
   "outputs": [
    {
     "name": "stdout",
     "output_type": "stream",
     "text": [
      "<class 'pandas.core.frame.DataFrame'>\n",
      "Int64Index: 109079553 entries, 0 to 116949112\n",
      "Data columns (total 9 columns):\n",
      " #   Column            Dtype   \n",
      "---  ------            -----   \n",
      " 0   TRIPID            int32   \n",
      " 1   PROGRNUMBER       int8    \n",
      " 2   STOPPOINTID       int16   \n",
      " 3   PLANNEDTIME_ARR   int32   \n",
      " 4   ACTUALTIME_ARR    int32   \n",
      " 5   DOY               int16   \n",
      " 6   LINEID_DIRECTION  category\n",
      " 7   JOURNEY_TIME      int16   \n",
      " 8   HOUR              int8    \n",
      "dtypes: category(1), int16(3), int32(3), int8(2)\n",
      "memory usage: 3.0 GB\n"
     ]
    }
   ],
   "source": [
    "merged_dd.info()"
   ]
  },
  {
   "cell_type": "code",
   "execution_count": 81,
   "id": "764e64ff",
   "metadata": {},
   "outputs": [
    {
     "data": {
      "text/html": [
       "<div>\n",
       "<style scoped>\n",
       "    .dataframe tbody tr th:only-of-type {\n",
       "        vertical-align: middle;\n",
       "    }\n",
       "\n",
       "    .dataframe tbody tr th {\n",
       "        vertical-align: top;\n",
       "    }\n",
       "\n",
       "    .dataframe thead th {\n",
       "        text-align: right;\n",
       "    }\n",
       "</style>\n",
       "<table border=\"1\" class=\"dataframe\">\n",
       "  <thead>\n",
       "    <tr style=\"text-align: right;\">\n",
       "      <th></th>\n",
       "      <th>TRIPID</th>\n",
       "      <th>PROGRNUMBER</th>\n",
       "      <th>STOPPOINTID</th>\n",
       "      <th>PLANNEDTIME_ARR</th>\n",
       "      <th>ACTUALTIME_ARR</th>\n",
       "      <th>DOY</th>\n",
       "      <th>LINEID</th>\n",
       "      <th>ROUTEID_DIRECTION</th>\n",
       "      <th>JOURNEY_TIME</th>\n",
       "      <th>HOUR</th>\n",
       "    </tr>\n",
       "  </thead>\n",
       "  <tbody>\n",
       "    <tr>\n",
       "      <th>0</th>\n",
       "      <td>5972116</td>\n",
       "      <td>12</td>\n",
       "      <td>119</td>\n",
       "      <td>48030</td>\n",
       "      <td>48012</td>\n",
       "      <td>1</td>\n",
       "      <td>1</td>\n",
       "      <td>1_37_1</td>\n",
       "      <td>585</td>\n",
       "      <td>13</td>\n",
       "    </tr>\n",
       "    <tr>\n",
       "      <th>1</th>\n",
       "      <td>5966674</td>\n",
       "      <td>12</td>\n",
       "      <td>119</td>\n",
       "      <td>54001</td>\n",
       "      <td>54023</td>\n",
       "      <td>1</td>\n",
       "      <td>1</td>\n",
       "      <td>1_37_1</td>\n",
       "      <td>613</td>\n",
       "      <td>15</td>\n",
       "    </tr>\n",
       "    <tr>\n",
       "      <th>2</th>\n",
       "      <td>5959105</td>\n",
       "      <td>12</td>\n",
       "      <td>119</td>\n",
       "      <td>60001</td>\n",
       "      <td>59955</td>\n",
       "      <td>1</td>\n",
       "      <td>1</td>\n",
       "      <td>1_37_1</td>\n",
       "      <td>529</td>\n",
       "      <td>17</td>\n",
       "    </tr>\n",
       "    <tr>\n",
       "      <th>3</th>\n",
       "      <td>5966888</td>\n",
       "      <td>12</td>\n",
       "      <td>119</td>\n",
       "      <td>58801</td>\n",
       "      <td>58771</td>\n",
       "      <td>1</td>\n",
       "      <td>1</td>\n",
       "      <td>1_37_1</td>\n",
       "      <td>551</td>\n",
       "      <td>16</td>\n",
       "    </tr>\n",
       "    <tr>\n",
       "      <th>4</th>\n",
       "      <td>5965960</td>\n",
       "      <td>12</td>\n",
       "      <td>119</td>\n",
       "      <td>56401</td>\n",
       "      <td>56309</td>\n",
       "      <td>1</td>\n",
       "      <td>1</td>\n",
       "      <td>1_37_1</td>\n",
       "      <td>502</td>\n",
       "      <td>16</td>\n",
       "    </tr>\n",
       "    <tr>\n",
       "      <th>...</th>\n",
       "      <td>...</td>\n",
       "      <td>...</td>\n",
       "      <td>...</td>\n",
       "      <td>...</td>\n",
       "      <td>...</td>\n",
       "      <td>...</td>\n",
       "      <td>...</td>\n",
       "      <td>...</td>\n",
       "      <td>...</td>\n",
       "      <td>...</td>\n",
       "    </tr>\n",
       "    <tr>\n",
       "      <th>116949107</th>\n",
       "      <td>8587465</td>\n",
       "      <td>78</td>\n",
       "      <td>4383</td>\n",
       "      <td>65040</td>\n",
       "      <td>65656</td>\n",
       "      <td>365</td>\n",
       "      <td>27</td>\n",
       "      <td>27_17_2</td>\n",
       "      <td>5035</td>\n",
       "      <td>18</td>\n",
       "    </tr>\n",
       "    <tr>\n",
       "      <th>116949108</th>\n",
       "      <td>8588153</td>\n",
       "      <td>78</td>\n",
       "      <td>4383</td>\n",
       "      <td>28605</td>\n",
       "      <td>28998</td>\n",
       "      <td>365</td>\n",
       "      <td>27</td>\n",
       "      <td>27_17_2</td>\n",
       "      <td>3741</td>\n",
       "      <td>8</td>\n",
       "    </tr>\n",
       "    <tr>\n",
       "      <th>116949109</th>\n",
       "      <td>8587459</td>\n",
       "      <td>78</td>\n",
       "      <td>4383</td>\n",
       "      <td>22695</td>\n",
       "      <td>23247</td>\n",
       "      <td>365</td>\n",
       "      <td>27</td>\n",
       "      <td>27_17_2</td>\n",
       "      <td>3450</td>\n",
       "      <td>6</td>\n",
       "    </tr>\n",
       "    <tr>\n",
       "      <th>116949110</th>\n",
       "      <td>8586183</td>\n",
       "      <td>78</td>\n",
       "      <td>4383</td>\n",
       "      <td>51481</td>\n",
       "      <td>52237</td>\n",
       "      <td>365</td>\n",
       "      <td>27</td>\n",
       "      <td>27_17_2</td>\n",
       "      <td>5427</td>\n",
       "      <td>15</td>\n",
       "    </tr>\n",
       "    <tr>\n",
       "      <th>116949112</th>\n",
       "      <td>8589372</td>\n",
       "      <td>24</td>\n",
       "      <td>2088</td>\n",
       "      <td>46383</td>\n",
       "      <td>46315</td>\n",
       "      <td>365</td>\n",
       "      <td>47</td>\n",
       "      <td>47_139_1</td>\n",
       "      <td>1752</td>\n",
       "      <td>13</td>\n",
       "    </tr>\n",
       "  </tbody>\n",
       "</table>\n",
       "<p>109079554 rows × 10 columns</p>\n",
       "</div>"
      ],
      "text/plain": [
       "            TRIPID  PROGRNUMBER  STOPPOINTID  PLANNEDTIME_ARR  ACTUALTIME_ARR  \\\n",
       "0          5972116           12          119            48030           48012   \n",
       "1          5966674           12          119            54001           54023   \n",
       "2          5959105           12          119            60001           59955   \n",
       "3          5966888           12          119            58801           58771   \n",
       "4          5965960           12          119            56401           56309   \n",
       "...            ...          ...          ...              ...             ...   \n",
       "116949107  8587465           78         4383            65040           65656   \n",
       "116949108  8588153           78         4383            28605           28998   \n",
       "116949109  8587459           78         4383            22695           23247   \n",
       "116949110  8586183           78         4383            51481           52237   \n",
       "116949112  8589372           24         2088            46383           46315   \n",
       "\n",
       "           DOY LINEID ROUTEID_DIRECTION  JOURNEY_TIME  HOUR  \n",
       "0            1      1            1_37_1           585    13  \n",
       "1            1      1            1_37_1           613    15  \n",
       "2            1      1            1_37_1           529    17  \n",
       "3            1      1            1_37_1           551    16  \n",
       "4            1      1            1_37_1           502    16  \n",
       "...        ...    ...               ...           ...   ...  \n",
       "116949107  365     27           27_17_2          5035    18  \n",
       "116949108  365     27           27_17_2          3741     8  \n",
       "116949109  365     27           27_17_2          3450     6  \n",
       "116949110  365     27           27_17_2          5427    15  \n",
       "116949112  365     47          47_139_1          1752    13  \n",
       "\n",
       "[109079554 rows x 10 columns]"
      ]
     },
     "execution_count": 81,
     "metadata": {},
     "output_type": "execute_result"
    }
   ],
   "source": [
    "merged_dd"
   ]
  },
  {
   "cell_type": "code",
   "execution_count": 90,
   "id": "aad77387",
   "metadata": {},
   "outputs": [],
   "source": [
    "merged_dd['HOUR'] = merged_dd['HOUR'].astype('int8')"
   ]
  },
  {
   "cell_type": "code",
   "execution_count": 91,
   "id": "062fe84d",
   "metadata": {},
   "outputs": [
    {
     "name": "stdout",
     "output_type": "stream",
     "text": [
      "<class 'pandas.core.frame.DataFrame'>\n",
      "Int64Index: 109079553 entries, 0 to 116949112\n",
      "Data columns (total 9 columns):\n",
      " #   Column            Dtype   \n",
      "---  ------            -----   \n",
      " 0   TRIPID            int32   \n",
      " 1   PROGRNUMBER       int8    \n",
      " 2   STOPPOINTID       int16   \n",
      " 3   PLANNEDTIME_ARR   int32   \n",
      " 4   ACTUALTIME_ARR    int32   \n",
      " 5   DOY               int16   \n",
      " 6   LINEID_DIRECTION  category\n",
      " 7   JOURNEY_TIME      int16   \n",
      " 8   HOUR              int8    \n",
      "dtypes: category(1), int16(3), int32(3), int8(2)\n",
      "memory usage: 3.0 GB\n"
     ]
    }
   ],
   "source": [
    "merged_dd.info()"
   ]
  },
  {
   "cell_type": "code",
   "execution_count": null,
   "id": "181d2cb8",
   "metadata": {},
   "outputs": [],
   "source": [
    "merged_dd.dtypes"
   ]
  },
  {
   "cell_type": "code",
   "execution_count": null,
   "id": "edcdd038",
   "metadata": {},
   "outputs": [],
   "source": [
    "weather.dtypes"
   ]
  },
  {
   "cell_type": "code",
   "execution_count": null,
   "id": "1e539fc5",
   "metadata": {},
   "outputs": [],
   "source": [
    "merged_dd"
   ]
  },
  {
   "cell_type": "code",
   "execution_count": null,
   "id": "b43e5915",
   "metadata": {},
   "outputs": [],
   "source": [
    "merged_dd.head(5)"
   ]
  },
  {
   "cell_type": "code",
   "execution_count": null,
   "id": "4afecc80",
   "metadata": {},
   "outputs": [],
   "source": [
    "merged_dd.dtypes"
   ]
  },
  {
   "cell_type": "code",
   "execution_count": null,
   "id": "4de34b9a",
   "metadata": {},
   "outputs": [],
   "source": [
    "weather.dtypes"
   ]
  },
  {
   "cell_type": "code",
   "execution_count": null,
   "id": "b8a2088f",
   "metadata": {},
   "outputs": [],
   "source": [
    "merged_dd.head(3)"
   ]
  },
  {
   "cell_type": "code",
   "execution_count": 92,
   "id": "1727e016",
   "metadata": {},
   "outputs": [
    {
     "name": "stdout",
     "output_type": "stream",
     "text": [
      "CPU times: user 16.5 s, sys: 43.3 s, total: 59.8 s\n",
      "Wall time: 59.9 s\n"
     ]
    }
   ],
   "source": [
    "%%time\n",
    "merged_dd = dd.merge(merged_dd, weather, on=['DOY', 'HOUR'], how='left')\n"
   ]
  },
  {
   "cell_type": "code",
   "execution_count": 93,
   "id": "db5b921d",
   "metadata": {},
   "outputs": [
    {
     "data": {
      "text/plain": [
       "svmem(total=67481169920, available=12641931264, percent=81.3, used=54143295488, free=2722881536, active=51746951168, inactive=10867847168, buffers=108089344, cached=10506903552, shared=7294976, slab=1456840704)"
      ]
     },
     "execution_count": 93,
     "metadata": {},
     "output_type": "execute_result"
    }
   ],
   "source": [
    "psutil.virtual_memory()"
   ]
  },
  {
   "cell_type": "code",
   "execution_count": 94,
   "id": "445a4906",
   "metadata": {},
   "outputs": [],
   "source": [
    "del weather"
   ]
  },
  {
   "cell_type": "code",
   "execution_count": 95,
   "id": "565c35b4",
   "metadata": {},
   "outputs": [
    {
     "name": "stdout",
     "output_type": "stream",
     "text": [
      "Once deleted, variables cannot be recovered. Proceed (y/[n])? y\n",
      "Flushing output cache (4 entries)\n"
     ]
    }
   ],
   "source": [
    "%reset Out"
   ]
  },
  {
   "cell_type": "code",
   "execution_count": 96,
   "id": "cc831d2a",
   "metadata": {},
   "outputs": [
    {
     "data": {
      "text/plain": [
       "0"
      ]
     },
     "execution_count": 96,
     "metadata": {},
     "output_type": "execute_result"
    }
   ],
   "source": [
    "gc.collect()"
   ]
  },
  {
   "cell_type": "code",
   "execution_count": 97,
   "id": "d98bd590",
   "metadata": {},
   "outputs": [
    {
     "data": {
      "text/plain": [
       "svmem(total=67481169920, available=12727463936, percent=81.1, used=54057824256, free=2806325248, active=51660050432, inactive=10868441088, buffers=108113920, cached=10508906496, shared=7294976, slab=1456922624)"
      ]
     },
     "execution_count": 97,
     "metadata": {},
     "output_type": "execute_result"
    }
   ],
   "source": [
    "psutil.virtual_memory()"
   ]
  },
  {
   "cell_type": "code",
   "execution_count": 98,
   "id": "22b11385",
   "metadata": {},
   "outputs": [
    {
     "name": "stdout",
     "output_type": "stream",
     "text": [
      "CPU times: user 23.3 s, sys: 40.7 s, total: 1min 3s\n",
      "Wall time: 1min 4s\n"
     ]
    }
   ],
   "source": [
    "%%time\n",
    "merged_dd = merged_dd.sort_values('LINEID_DIRECTION')"
   ]
  },
  {
   "cell_type": "code",
   "execution_count": 99,
   "id": "d4243052",
   "metadata": {},
   "outputs": [
    {
     "data": {
      "text/html": [
       "<div>\n",
       "<style scoped>\n",
       "    .dataframe tbody tr th:only-of-type {\n",
       "        vertical-align: middle;\n",
       "    }\n",
       "\n",
       "    .dataframe tbody tr th {\n",
       "        vertical-align: top;\n",
       "    }\n",
       "\n",
       "    .dataframe thead th {\n",
       "        text-align: right;\n",
       "    }\n",
       "</style>\n",
       "<table border=\"1\" class=\"dataframe\">\n",
       "  <thead>\n",
       "    <tr style=\"text-align: right;\">\n",
       "      <th></th>\n",
       "      <th>TRIPID</th>\n",
       "      <th>PROGRNUMBER</th>\n",
       "      <th>STOPPOINTID</th>\n",
       "      <th>PLANNEDTIME_ARR</th>\n",
       "      <th>ACTUALTIME_ARR</th>\n",
       "      <th>DOY</th>\n",
       "      <th>LINEID_DIRECTION</th>\n",
       "      <th>JOURNEY_TIME</th>\n",
       "      <th>HOUR</th>\n",
       "      <th>temp</th>\n",
       "      <th>wind_speed</th>\n",
       "      <th>weather_main</th>\n",
       "      <th>DAYOFWEEK</th>\n",
       "    </tr>\n",
       "  </thead>\n",
       "  <tbody>\n",
       "    <tr>\n",
       "      <th>44885366</th>\n",
       "      <td>6755283</td>\n",
       "      <td>48</td>\n",
       "      <td>6015</td>\n",
       "      <td>36397</td>\n",
       "      <td>36143</td>\n",
       "      <td>138</td>\n",
       "      <td>102_1</td>\n",
       "      <td>2474</td>\n",
       "      <td>10</td>\n",
       "      <td>16.0</td>\n",
       "      <td>4.0</td>\n",
       "      <td>0.0</td>\n",
       "      <td>4.0</td>\n",
       "    </tr>\n",
       "    <tr>\n",
       "      <th>22744715</th>\n",
       "      <td>6393675</td>\n",
       "      <td>28</td>\n",
       "      <td>3636</td>\n",
       "      <td>32209</td>\n",
       "      <td>31724</td>\n",
       "      <td>78</td>\n",
       "      <td>102_1</td>\n",
       "      <td>971</td>\n",
       "      <td>9</td>\n",
       "      <td>2.0</td>\n",
       "      <td>8.0</td>\n",
       "      <td>0.0</td>\n",
       "      <td>0.0</td>\n",
       "    </tr>\n",
       "    <tr>\n",
       "      <th>22744714</th>\n",
       "      <td>6393675</td>\n",
       "      <td>27</td>\n",
       "      <td>3635</td>\n",
       "      <td>32193</td>\n",
       "      <td>31718</td>\n",
       "      <td>78</td>\n",
       "      <td>102_1</td>\n",
       "      <td>965</td>\n",
       "      <td>9</td>\n",
       "      <td>2.0</td>\n",
       "      <td>8.0</td>\n",
       "      <td>0.0</td>\n",
       "      <td>0.0</td>\n",
       "    </tr>\n",
       "    <tr>\n",
       "      <th>22744713</th>\n",
       "      <td>6393675</td>\n",
       "      <td>26</td>\n",
       "      <td>3634</td>\n",
       "      <td>32127</td>\n",
       "      <td>31674</td>\n",
       "      <td>78</td>\n",
       "      <td>102_1</td>\n",
       "      <td>921</td>\n",
       "      <td>9</td>\n",
       "      <td>2.0</td>\n",
       "      <td>8.0</td>\n",
       "      <td>0.0</td>\n",
       "      <td>0.0</td>\n",
       "    </tr>\n",
       "    <tr>\n",
       "      <th>22744712</th>\n",
       "      <td>6393675</td>\n",
       "      <td>25</td>\n",
       "      <td>4387</td>\n",
       "      <td>32096</td>\n",
       "      <td>31662</td>\n",
       "      <td>78</td>\n",
       "      <td>102_1</td>\n",
       "      <td>909</td>\n",
       "      <td>9</td>\n",
       "      <td>2.0</td>\n",
       "      <td>8.0</td>\n",
       "      <td>0.0</td>\n",
       "      <td>0.0</td>\n",
       "    </tr>\n",
       "  </tbody>\n",
       "</table>\n",
       "</div>"
      ],
      "text/plain": [
       "           TRIPID  PROGRNUMBER  STOPPOINTID  PLANNEDTIME_ARR  ACTUALTIME_ARR  \\\n",
       "44885366  6755283           48         6015            36397           36143   \n",
       "22744715  6393675           28         3636            32209           31724   \n",
       "22744714  6393675           27         3635            32193           31718   \n",
       "22744713  6393675           26         3634            32127           31674   \n",
       "22744712  6393675           25         4387            32096           31662   \n",
       "\n",
       "          DOY LINEID_DIRECTION  JOURNEY_TIME  HOUR  temp  wind_speed  \\\n",
       "44885366  138            102_1          2474    10  16.0         4.0   \n",
       "22744715   78            102_1           971     9   2.0         8.0   \n",
       "22744714   78            102_1           965     9   2.0         8.0   \n",
       "22744713   78            102_1           921     9   2.0         8.0   \n",
       "22744712   78            102_1           909     9   2.0         8.0   \n",
       "\n",
       "          weather_main  DAYOFWEEK  \n",
       "44885366           0.0        4.0  \n",
       "22744715           0.0        0.0  \n",
       "22744714           0.0        0.0  \n",
       "22744713           0.0        0.0  \n",
       "22744712           0.0        0.0  "
      ]
     },
     "execution_count": 99,
     "metadata": {},
     "output_type": "execute_result"
    }
   ],
   "source": [
    "merged_dd.head(5)"
   ]
  },
  {
   "cell_type": "code",
   "execution_count": 100,
   "id": "7664fb30",
   "metadata": {},
   "outputs": [
    {
     "name": "stdout",
     "output_type": "stream",
     "text": [
      "<class 'pandas.core.frame.DataFrame'>\n",
      "Int64Index: 109090240 entries, 44885366 to 47761184\n",
      "Data columns (total 13 columns):\n",
      " #   Column            Dtype   \n",
      "---  ------            -----   \n",
      " 0   TRIPID            int32   \n",
      " 1   PROGRNUMBER       int8    \n",
      " 2   STOPPOINTID       int16   \n",
      " 3   PLANNEDTIME_ARR   int32   \n",
      " 4   ACTUALTIME_ARR    int32   \n",
      " 5   DOY               int16   \n",
      " 6   LINEID_DIRECTION  category\n",
      " 7   JOURNEY_TIME      int16   \n",
      " 8   HOUR              int8    \n",
      " 9   temp              float64 \n",
      " 10  wind_speed        float64 \n",
      " 11  weather_main      float64 \n",
      " 12  DAYOFWEEK         float64 \n",
      "dtypes: category(1), float64(4), int16(3), int32(3), int8(2)\n",
      "memory usage: 6.3 GB\n"
     ]
    }
   ],
   "source": [
    "merged_dd.info()"
   ]
  },
  {
   "cell_type": "code",
   "execution_count": 101,
   "id": "a03abd65",
   "metadata": {},
   "outputs": [
    {
     "data": {
      "text/plain": [
       "TRIPID                  0\n",
       "PROGRNUMBER             0\n",
       "STOPPOINTID             0\n",
       "PLANNEDTIME_ARR         0\n",
       "ACTUALTIME_ARR          0\n",
       "DOY                     0\n",
       "LINEID_DIRECTION        0\n",
       "JOURNEY_TIME            0\n",
       "HOUR                    0\n",
       "temp                11310\n",
       "wind_speed          11310\n",
       "weather_main        11310\n",
       "DAYOFWEEK           11310\n",
       "dtype: int64"
      ]
     },
     "execution_count": 101,
     "metadata": {},
     "output_type": "execute_result"
    }
   ],
   "source": [
    "merged_dd.isnull().sum(axis = 0)"
   ]
  },
  {
   "cell_type": "code",
   "execution_count": 97,
   "id": "bd7515a8",
   "metadata": {},
   "outputs": [],
   "source": [
    "merged_dd['temp'] = merged_dd['temp'].fillna(-1)\n",
    "merged_dd['wind_speed'] = merged_dd['wind_speed'].fillna(-1)\n",
    "merged_dd['weather_main'] = merged_dd['weather_main'].fillna(-1)\n",
    "merged_dd['DAYOFWEEK'] = merged_dd['DAYOFWEEK'].fillna(-1)"
   ]
  },
  {
   "cell_type": "code",
   "execution_count": null,
   "id": "8177d0e6",
   "metadata": {},
   "outputs": [],
   "source": [
    "#nulls = merged_dd.loc[merged_dd['temp'].isnull()]"
   ]
  },
  {
   "cell_type": "code",
   "execution_count": null,
   "id": "6b83d35a",
   "metadata": {},
   "outputs": [],
   "source": [
    "#nulls.shape()"
   ]
  },
  {
   "cell_type": "code",
   "execution_count": null,
   "id": "e9500d93",
   "metadata": {},
   "outputs": [],
   "source": [
    "#nulls"
   ]
  },
  {
   "cell_type": "code",
   "execution_count": null,
   "id": "2e9e06b6",
   "metadata": {},
   "outputs": [],
   "source": [
    "weather.nunique()"
   ]
  },
  {
   "cell_type": "code",
   "execution_count": null,
   "id": "0d3591b3",
   "metadata": {},
   "outputs": [],
   "source": [
    "#nulls[\"DOY\"].nunique()"
   ]
  },
  {
   "cell_type": "code",
   "execution_count": null,
   "id": "9339ad67",
   "metadata": {},
   "outputs": [],
   "source": [
    "merged_dd[\"DOY\"].nunique()"
   ]
  },
  {
   "cell_type": "code",
   "execution_count": 103,
   "id": "6b300fb1",
   "metadata": {},
   "outputs": [
    {
     "data": {
      "text/plain": [
       "TRIPID              0\n",
       "PROGRNUMBER         0\n",
       "STOPPOINTID         0\n",
       "PLANNEDTIME_ARR     0\n",
       "ACTUALTIME_ARR      0\n",
       "DOY                 0\n",
       "LINEID_DIRECTION    0\n",
       "JOURNEY_TIME        0\n",
       "HOUR                0\n",
       "temp                0\n",
       "wind_speed          0\n",
       "weather_main        0\n",
       "DAYOFWEEK           0\n",
       "dtype: int64"
      ]
     },
     "execution_count": 103,
     "metadata": {},
     "output_type": "execute_result"
    }
   ],
   "source": [
    "merged_dd.isnull().sum(axis = 0)"
   ]
  },
  {
   "cell_type": "code",
   "execution_count": null,
   "id": "f695f58b",
   "metadata": {},
   "outputs": [],
   "source": [
    "#nulls[\"HOUR\"].nunique()"
   ]
  },
  {
   "cell_type": "code",
   "execution_count": 94,
   "id": "40aa7c4b",
   "metadata": {},
   "outputs": [
    {
     "data": {
      "text/plain": [
       "(109090241, 14)"
      ]
     },
     "execution_count": 94,
     "metadata": {},
     "output_type": "execute_result"
    }
   ],
   "source": [
    "merged_dd.shape"
   ]
  },
  {
   "cell_type": "code",
   "execution_count": 105,
   "id": "091da9fe",
   "metadata": {},
   "outputs": [
    {
     "data": {
      "text/plain": [
       "0.0    17436133\n",
       "3.0    16835539\n",
       "2.0    16423176\n",
       "1.0    16383440\n",
       "4.0    16338889\n",
       "5.0    13665015\n",
       "6.0    11819393\n",
       "Name: DAYOFWEEK, dtype: int64"
      ]
     },
     "execution_count": 105,
     "metadata": {},
     "output_type": "execute_result"
    }
   ],
   "source": [
    "merged_dd.DAYOFWEEK.value_counts()"
   ]
  },
  {
   "cell_type": "markdown",
   "id": "1a531be4",
   "metadata": {},
   "source": [
    "#### all of the empty rows were on day 84 "
   ]
  },
  {
   "cell_type": "code",
   "execution_count": 106,
   "id": "b04ddd73",
   "metadata": {},
   "outputs": [],
   "source": [
    "merged_dd[\"DAYOFWEEK\"] = merged_dd[\"DAYOFWEEK\"].astype(\"int8\")\n",
    "merged_dd[\"temp\"] = merged_dd[\"temp\"].astype(\"int8\")\n",
    "merged_dd[\"wind_speed\"] = merged_dd[\"wind_speed\"].astype(\"int8\")\n"
   ]
  },
  {
   "cell_type": "code",
   "execution_count": 107,
   "id": "62be0695",
   "metadata": {},
   "outputs": [],
   "source": [
    "merged_dd[\"weather_main\"] = merged_dd[\"weather_main\"].astype(\"int8\")"
   ]
  },
  {
   "cell_type": "code",
   "execution_count": 102,
   "id": "6f3aa898",
   "metadata": {},
   "outputs": [],
   "source": [
    "merged_dd = merged_dd[merged_dd.DOY != 84]"
   ]
  },
  {
   "cell_type": "code",
   "execution_count": 104,
   "id": "30c94c13",
   "metadata": {},
   "outputs": [
    {
     "data": {
      "text/html": [
       "<div>\n",
       "<style scoped>\n",
       "    .dataframe tbody tr th:only-of-type {\n",
       "        vertical-align: middle;\n",
       "    }\n",
       "\n",
       "    .dataframe tbody tr th {\n",
       "        vertical-align: top;\n",
       "    }\n",
       "\n",
       "    .dataframe thead th {\n",
       "        text-align: right;\n",
       "    }\n",
       "</style>\n",
       "<table border=\"1\" class=\"dataframe\">\n",
       "  <thead>\n",
       "    <tr style=\"text-align: right;\">\n",
       "      <th></th>\n",
       "      <th>TRIPID</th>\n",
       "      <th>PROGRNUMBER</th>\n",
       "      <th>STOPPOINTID</th>\n",
       "      <th>PLANNEDTIME_ARR</th>\n",
       "      <th>ACTUALTIME_ARR</th>\n",
       "      <th>DOY</th>\n",
       "      <th>LINEID_DIRECTION</th>\n",
       "      <th>JOURNEY_TIME</th>\n",
       "      <th>HOUR</th>\n",
       "      <th>temp</th>\n",
       "      <th>wind_speed</th>\n",
       "      <th>weather_main</th>\n",
       "      <th>DAYOFWEEK</th>\n",
       "    </tr>\n",
       "  </thead>\n",
       "  <tbody>\n",
       "  </tbody>\n",
       "</table>\n",
       "</div>"
      ],
      "text/plain": [
       "Empty DataFrame\n",
       "Columns: [TRIPID, PROGRNUMBER, STOPPOINTID, PLANNEDTIME_ARR, ACTUALTIME_ARR, DOY, LINEID_DIRECTION, JOURNEY_TIME, HOUR, temp, wind_speed, weather_main, DAYOFWEEK]\n",
       "Index: []"
      ]
     },
     "execution_count": 104,
     "metadata": {},
     "output_type": "execute_result"
    }
   ],
   "source": [
    "merged_dd.loc[merged_dd.weather_main == -1]"
   ]
  },
  {
   "cell_type": "code",
   "execution_count": 108,
   "id": "61ddae7c",
   "metadata": {},
   "outputs": [
    {
     "data": {
      "text/plain": [
       "0"
      ]
     },
     "execution_count": 108,
     "metadata": {},
     "output_type": "execute_result"
    }
   ],
   "source": [
    "gc.collect()"
   ]
  },
  {
   "cell_type": "code",
   "execution_count": 109,
   "id": "efd4fee8",
   "metadata": {},
   "outputs": [
    {
     "name": "stdout",
     "output_type": "stream",
     "text": [
      "Once deleted, variables cannot be recovered. Proceed (y/[n])? Y\n",
      "Flushing output cache (8 entries)\n"
     ]
    }
   ],
   "source": [
    "%reset Out"
   ]
  },
  {
   "cell_type": "code",
   "execution_count": 110,
   "id": "d585a913",
   "metadata": {},
   "outputs": [
    {
     "data": {
      "text/plain": [
       "svmem(total=67481169920, available=8841568256, percent=86.9, used=57943003136, free=6241439744, active=54207856640, inactive=5505941504, buffers=89333760, cached=3207393280, shared=7294976, slab=830312448)"
      ]
     },
     "execution_count": 110,
     "metadata": {},
     "output_type": "execute_result"
    }
   ],
   "source": [
    "psutil.virtual_memory()"
   ]
  },
  {
   "cell_type": "code",
   "execution_count": 111,
   "id": "08e45af1",
   "metadata": {},
   "outputs": [],
   "source": [
    "merged_dd[\"MONTH\"] = 0"
   ]
  },
  {
   "cell_type": "code",
   "execution_count": 112,
   "id": "e2bf8d70",
   "metadata": {},
   "outputs": [],
   "source": [
    "merged_dd[\"MONTH\"] = merged_dd[\"MONTH\"].astype(\"int8\")"
   ]
  },
  {
   "cell_type": "code",
   "execution_count": 113,
   "id": "9c7f362b",
   "metadata": {},
   "outputs": [
    {
     "name": "stdout",
     "output_type": "stream",
     "text": [
      "<class 'pandas.core.frame.DataFrame'>\n",
      "Int64Index: 108901585 entries, 44885366 to 47761184\n",
      "Data columns (total 14 columns):\n",
      " #   Column            Dtype   \n",
      "---  ------            -----   \n",
      " 0   TRIPID            int32   \n",
      " 1   PROGRNUMBER       int8    \n",
      " 2   STOPPOINTID       int16   \n",
      " 3   PLANNEDTIME_ARR   int32   \n",
      " 4   ACTUALTIME_ARR    int32   \n",
      " 5   DOY               int16   \n",
      " 6   LINEID_DIRECTION  category\n",
      " 7   JOURNEY_TIME      int16   \n",
      " 8   HOUR              int8    \n",
      " 9   temp              int8    \n",
      " 10  wind_speed        int8    \n",
      " 11  weather_main      int8    \n",
      " 12  DAYOFWEEK         int8    \n",
      " 13  MONTH             int8    \n",
      "dtypes: category(1), int16(3), int32(3), int8(7)\n",
      "memory usage: 3.5 GB\n"
     ]
    }
   ],
   "source": [
    "merged_dd.info()"
   ]
  },
  {
   "cell_type": "code",
   "execution_count": 114,
   "id": "b8d2990f",
   "metadata": {},
   "outputs": [
    {
     "data": {
      "text/plain": [
       "array([138,  78,  89,  88, 169, 170,  27,  28, 276, 275,  53, 243, 257,\n",
       "       258, 117, 118,  59,  48, 256,  54, 136, 181, 323, 322,  49,  91,\n",
       "       262, 248,  92,  10,  47,  11, 255, 182, 324, 128,  35,  36,  82,\n",
       "       209,  81, 102, 221, 222, 210, 103, 112, 285, 113, 135, 176, 134,\n",
       "       286, 274, 114, 184, 126, 277, 318, 180, 249, 110, 111,  73,  74,\n",
       "       162, 282, 283, 175,  17,  44,  39, 150, 178, 179, 163,  26, 151,\n",
       "        40, 316, 191,   2,  30,  41, 247, 250, 156, 314, 315, 312, 142,\n",
       "        34, 143,  42, 101, 211, 158,  80, 232,  31,   3, 313, 100, 246,\n",
       "       245, 196, 197, 130, 278, 185, 317,  29, 220, 132, 303, 251, 319,\n",
       "       157, 125, 304,  93, 320,  38, 244, 119, 263, 148, 120,  56,  57,\n",
       "       198,  45, 219, 152, 153, 107, 159,  97, 177, 195,  50, 131, 192,\n",
       "       193,  85,  86, 212, 217,   9, 236, 237, 164, 165, 213, 330,  90,\n",
       "       279, 329, 280, 265, 266, 291, 288, 287, 161,  16, 121, 331, 289,\n",
       "       115, 133, 290, 116, 168,  43, 109, 144, 327, 328, 281,  13,  83,\n",
       "       242, 218,   4,  67,  71,  70, 296, 233, 267,  68, 234, 297,  46,\n",
       "       284,  87, 252, 264,  32, 332, 186, 127, 124, 123,  12, 139, 334,\n",
       "        65,  51, 174,  52,  66, 335,  58,  18, 261, 105, 106, 149,  99,\n",
       "       141, 238, 208, 154, 321,  94, 171, 122, 302, 292, 223, 310, 293,\n",
       "       108,  95, 254, 311, 155, 241,  25, 239, 173, 207, 172, 240, 199,\n",
       "       183, 190, 305,  75, 140,  72, 253, 104, 306,  55,  14, 307, 129,\n",
       "       187, 146, 309, 147, 268, 308,  96, 202, 235, 201, 137, 203,  79,\n",
       "        62,  63, 259,   5,  37, 166, 200, 167, 204, 205, 215,  15, 216,\n",
       "        69, 214,   6, 260, 194, 188,  64,   1, 271, 272,  33, 273, 160,\n",
       "       206,   7,  23,  24, 145,  19,  20,  21,  22,   8, 269, 325, 326,\n",
       "       294, 298, 299, 295, 333, 189, 270, 336, 300,  76,  77, 301, 226,\n",
       "       225, 231,  98, 227, 229, 230, 224, 228, 360, 351, 350, 358, 353,\n",
       "       355, 364, 347, 345, 356, 352, 365, 357, 338, 349, 354, 348, 346,\n",
       "       361, 363, 339, 337, 342, 340, 341, 362, 343], dtype=int16)"
      ]
     },
     "execution_count": 114,
     "metadata": {},
     "output_type": "execute_result"
    }
   ],
   "source": [
    "doys = merged_dd.DOY.unique()\n",
    "doys"
   ]
  },
  {
   "cell_type": "code",
   "execution_count": 115,
   "id": "ab0eb5ae",
   "metadata": {},
   "outputs": [
    {
     "name": "stderr",
     "output_type": "stream",
     "text": [
      "<timed exec>:16: SettingWithCopyWarning: \n",
      "A value is trying to be set on a copy of a slice from a DataFrame\n",
      "\n",
      "See the caveats in the documentation: https://pandas.pydata.org/pandas-docs/stable/user_guide/indexing.html#returning-a-view-versus-a-copy\n",
      "<timed exec>:10: SettingWithCopyWarning: \n",
      "A value is trying to be set on a copy of a slice from a DataFrame\n",
      "\n",
      "See the caveats in the documentation: https://pandas.pydata.org/pandas-docs/stable/user_guide/indexing.html#returning-a-view-versus-a-copy\n",
      "<timed exec>:19: SettingWithCopyWarning: \n",
      "A value is trying to be set on a copy of a slice from a DataFrame\n",
      "\n",
      "See the caveats in the documentation: https://pandas.pydata.org/pandas-docs/stable/user_guide/indexing.html#returning-a-view-versus-a-copy\n",
      "<timed exec>:4: SettingWithCopyWarning: \n",
      "A value is trying to be set on a copy of a slice from a DataFrame\n",
      "\n",
      "See the caveats in the documentation: https://pandas.pydata.org/pandas-docs/stable/user_guide/indexing.html#returning-a-view-versus-a-copy\n",
      "<timed exec>:31: SettingWithCopyWarning: \n",
      "A value is trying to be set on a copy of a slice from a DataFrame\n",
      "\n",
      "See the caveats in the documentation: https://pandas.pydata.org/pandas-docs/stable/user_guide/indexing.html#returning-a-view-versus-a-copy\n",
      "<timed exec>:7: SettingWithCopyWarning: \n",
      "A value is trying to be set on a copy of a slice from a DataFrame\n",
      "\n",
      "See the caveats in the documentation: https://pandas.pydata.org/pandas-docs/stable/user_guide/indexing.html#returning-a-view-versus-a-copy\n",
      "<timed exec>:25: SettingWithCopyWarning: \n",
      "A value is trying to be set on a copy of a slice from a DataFrame\n",
      "\n",
      "See the caveats in the documentation: https://pandas.pydata.org/pandas-docs/stable/user_guide/indexing.html#returning-a-view-versus-a-copy\n",
      "<timed exec>:28: SettingWithCopyWarning: \n",
      "A value is trying to be set on a copy of a slice from a DataFrame\n",
      "\n",
      "See the caveats in the documentation: https://pandas.pydata.org/pandas-docs/stable/user_guide/indexing.html#returning-a-view-versus-a-copy\n",
      "<timed exec>:13: SettingWithCopyWarning: \n",
      "A value is trying to be set on a copy of a slice from a DataFrame\n",
      "\n",
      "See the caveats in the documentation: https://pandas.pydata.org/pandas-docs/stable/user_guide/indexing.html#returning-a-view-versus-a-copy\n",
      "<timed exec>:34: SettingWithCopyWarning: \n",
      "A value is trying to be set on a copy of a slice from a DataFrame\n",
      "\n",
      "See the caveats in the documentation: https://pandas.pydata.org/pandas-docs/stable/user_guide/indexing.html#returning-a-view-versus-a-copy\n",
      "<timed exec>:22: SettingWithCopyWarning: \n",
      "A value is trying to be set on a copy of a slice from a DataFrame\n",
      "\n",
      "See the caveats in the documentation: https://pandas.pydata.org/pandas-docs/stable/user_guide/indexing.html#returning-a-view-versus-a-copy\n",
      "<timed exec>:37: SettingWithCopyWarning: \n",
      "A value is trying to be set on a copy of a slice from a DataFrame\n",
      "\n",
      "See the caveats in the documentation: https://pandas.pydata.org/pandas-docs/stable/user_guide/indexing.html#returning-a-view-versus-a-copy\n"
     ]
    },
    {
     "name": "stdout",
     "output_type": "stream",
     "text": [
      "CPU times: user 36.6 s, sys: 1min 14s, total: 1min 50s\n",
      "Wall time: 1min 51s\n"
     ]
    }
   ],
   "source": [
    "%%time\n",
    "for day in doys:\n",
    "    #jan 31\n",
    "    if day >=1 and day <=31:\n",
    "        merged_dd[\"MONTH\"].loc[merged_dd[\"DOY\"] == day] = 1\n",
    "    #feb  28  \n",
    "    if day > 31 and day <= 59:\n",
    "        merged_dd[\"MONTH\"].loc[merged_dd[\"DOY\"] == day] = 2\n",
    "    #march  31  \n",
    "    if day > 59 and day <= 90:\n",
    "        merged_dd[\"MONTH\"].loc[merged_dd[\"DOY\"] == day] = 3\n",
    "    #april   30\n",
    "    if day > 90 and day <= 120:\n",
    "        merged_dd[\"MONTH\"].loc[merged_dd[\"DOY\"] == day] = 4\n",
    "    #may    31\n",
    "    if day > 120 and day <= 151:\n",
    "        merged_dd[\"MONTH\"].loc[merged_dd[\"DOY\"] == day] = 5\n",
    "    #june 30\n",
    "    if day > 151 and day <= 181:\n",
    "        merged_dd[\"MONTH\"].loc[merged_dd[\"DOY\"] == day] = 6    \n",
    "    #july    31\n",
    "    if day >181 and day <= 212:\n",
    "        merged_dd[\"MONTH\"].loc[merged_dd[\"DOY\"] == day] = 7\n",
    "    #august    31\n",
    "    if day >212 and day <= 243:\n",
    "        merged_dd[\"MONTH\"].loc[merged_dd[\"DOY\"] == day] = 8\n",
    "    #september  30 \n",
    "    if day >243 and day <= 273:\n",
    "        merged_dd[\"MONTH\"].loc[merged_dd[\"DOY\"] == day] = 9\n",
    "    #octo   31 \n",
    "    if day > 273 and day <= 304:\n",
    "        merged_dd[\"MONTH\"].loc[merged_dd[\"DOY\"] == day] = 10\n",
    "    #nov    30\n",
    "    if day >304 and day <= 334:\n",
    "        merged_dd[\"MONTH\"].loc[merged_dd[\"DOY\"] == day] = 11\n",
    "    #dec   31\n",
    "    if day >334 and day <= 365:\n",
    "        merged_dd[\"MONTH\"].loc[merged_dd[\"DOY\"] == day] = 12\n",
    "\n",
    "    "
   ]
  },
  {
   "cell_type": "code",
   "execution_count": 116,
   "id": "0dedb715",
   "metadata": {},
   "outputs": [
    {
     "data": {
      "text/html": [
       "<div>\n",
       "<style scoped>\n",
       "    .dataframe tbody tr th:only-of-type {\n",
       "        vertical-align: middle;\n",
       "    }\n",
       "\n",
       "    .dataframe tbody tr th {\n",
       "        vertical-align: top;\n",
       "    }\n",
       "\n",
       "    .dataframe thead th {\n",
       "        text-align: right;\n",
       "    }\n",
       "</style>\n",
       "<table border=\"1\" class=\"dataframe\">\n",
       "  <thead>\n",
       "    <tr style=\"text-align: right;\">\n",
       "      <th></th>\n",
       "      <th>TRIPID</th>\n",
       "      <th>PROGRNUMBER</th>\n",
       "      <th>STOPPOINTID</th>\n",
       "      <th>PLANNEDTIME_ARR</th>\n",
       "      <th>ACTUALTIME_ARR</th>\n",
       "      <th>DOY</th>\n",
       "      <th>LINEID_DIRECTION</th>\n",
       "      <th>JOURNEY_TIME</th>\n",
       "      <th>HOUR</th>\n",
       "      <th>temp</th>\n",
       "      <th>wind_speed</th>\n",
       "      <th>weather_main</th>\n",
       "      <th>DAYOFWEEK</th>\n",
       "      <th>MONTH</th>\n",
       "    </tr>\n",
       "  </thead>\n",
       "  <tbody>\n",
       "    <tr>\n",
       "      <th>64880218</th>\n",
       "      <td>7318116</td>\n",
       "      <td>22</td>\n",
       "      <td>1344</td>\n",
       "      <td>51550</td>\n",
       "      <td>51823</td>\n",
       "      <td>213</td>\n",
       "      <td>9_2</td>\n",
       "      <td>1367</td>\n",
       "      <td>14</td>\n",
       "      <td>5</td>\n",
       "      <td>6</td>\n",
       "      <td>0</td>\n",
       "      <td>0</td>\n",
       "      <td>8</td>\n",
       "    </tr>\n",
       "    <tr>\n",
       "      <th>64880219</th>\n",
       "      <td>7318120</td>\n",
       "      <td>44</td>\n",
       "      <td>201</td>\n",
       "      <td>76914</td>\n",
       "      <td>76867</td>\n",
       "      <td>213</td>\n",
       "      <td>9_2</td>\n",
       "      <td>2468</td>\n",
       "      <td>21</td>\n",
       "      <td>4</td>\n",
       "      <td>8</td>\n",
       "      <td>0</td>\n",
       "      <td>0</td>\n",
       "      <td>8</td>\n",
       "    </tr>\n",
       "    <tr>\n",
       "      <th>64880220</th>\n",
       "      <td>7316672</td>\n",
       "      <td>44</td>\n",
       "      <td>201</td>\n",
       "      <td>71514</td>\n",
       "      <td>72365</td>\n",
       "      <td>213</td>\n",
       "      <td>9_2</td>\n",
       "      <td>3365</td>\n",
       "      <td>20</td>\n",
       "      <td>4</td>\n",
       "      <td>8</td>\n",
       "      <td>0</td>\n",
       "      <td>0</td>\n",
       "      <td>8</td>\n",
       "    </tr>\n",
       "    <tr>\n",
       "      <th>64880203</th>\n",
       "      <td>7316045</td>\n",
       "      <td>22</td>\n",
       "      <td>1344</td>\n",
       "      <td>31848</td>\n",
       "      <td>32075</td>\n",
       "      <td>213</td>\n",
       "      <td>9_2</td>\n",
       "      <td>1436</td>\n",
       "      <td>9</td>\n",
       "      <td>-1</td>\n",
       "      <td>4</td>\n",
       "      <td>0</td>\n",
       "      <td>0</td>\n",
       "      <td>8</td>\n",
       "    </tr>\n",
       "    <tr>\n",
       "      <th>47761184</th>\n",
       "      <td>6856584</td>\n",
       "      <td>49</td>\n",
       "      <td>28</td>\n",
       "      <td>56578</td>\n",
       "      <td>56926</td>\n",
       "      <td>159</td>\n",
       "      <td>9_2</td>\n",
       "      <td>3055</td>\n",
       "      <td>16</td>\n",
       "      <td>22</td>\n",
       "      <td>4</td>\n",
       "      <td>0</td>\n",
       "      <td>0</td>\n",
       "      <td>6</td>\n",
       "    </tr>\n",
       "  </tbody>\n",
       "</table>\n",
       "</div>"
      ],
      "text/plain": [
       "           TRIPID  PROGRNUMBER  STOPPOINTID  PLANNEDTIME_ARR  ACTUALTIME_ARR  \\\n",
       "64880218  7318116           22         1344            51550           51823   \n",
       "64880219  7318120           44          201            76914           76867   \n",
       "64880220  7316672           44          201            71514           72365   \n",
       "64880203  7316045           22         1344            31848           32075   \n",
       "47761184  6856584           49           28            56578           56926   \n",
       "\n",
       "          DOY LINEID_DIRECTION  JOURNEY_TIME  HOUR  temp  wind_speed  \\\n",
       "64880218  213              9_2          1367    14     5           6   \n",
       "64880219  213              9_2          2468    21     4           8   \n",
       "64880220  213              9_2          3365    20     4           8   \n",
       "64880203  213              9_2          1436     9    -1           4   \n",
       "47761184  159              9_2          3055    16    22           4   \n",
       "\n",
       "          weather_main  DAYOFWEEK  MONTH  \n",
       "64880218             0          0      8  \n",
       "64880219             0          0      8  \n",
       "64880220             0          0      8  \n",
       "64880203             0          0      8  \n",
       "47761184             0          0      6  "
      ]
     },
     "execution_count": 116,
     "metadata": {},
     "output_type": "execute_result"
    }
   ],
   "source": [
    "merged_dd.tail()"
   ]
  },
  {
   "cell_type": "code",
   "execution_count": 117,
   "id": "0f856400",
   "metadata": {},
   "outputs": [
    {
     "name": "stdout",
     "output_type": "stream",
     "text": [
      "<class 'pandas.core.frame.DataFrame'>\n",
      "Int64Index: 108901585 entries, 44885366 to 47761184\n",
      "Data columns (total 14 columns):\n",
      " #   Column            Dtype   \n",
      "---  ------            -----   \n",
      " 0   TRIPID            int32   \n",
      " 1   PROGRNUMBER       int8    \n",
      " 2   STOPPOINTID       int16   \n",
      " 3   PLANNEDTIME_ARR   int32   \n",
      " 4   ACTUALTIME_ARR    int32   \n",
      " 5   DOY               int16   \n",
      " 6   LINEID_DIRECTION  category\n",
      " 7   JOURNEY_TIME      int16   \n",
      " 8   HOUR              int8    \n",
      " 9   temp              int8    \n",
      " 10  wind_speed        int8    \n",
      " 11  weather_main      int8    \n",
      " 12  DAYOFWEEK         int8    \n",
      " 13  MONTH             int8    \n",
      "dtypes: category(1), int16(3), int32(3), int8(7)\n",
      "memory usage: 3.5 GB\n"
     ]
    }
   ],
   "source": [
    "merged_dd.info()"
   ]
  },
  {
   "cell_type": "code",
   "execution_count": 111,
   "id": "aadbef0c",
   "metadata": {},
   "outputs": [],
   "source": [
    "fortySixA1 = merged_dd.loc[merged_dd['ROUTEID_DIRECTION']==\"46A_68_1\"]"
   ]
  },
  {
   "cell_type": "code",
   "execution_count": 112,
   "id": "2a34ea4b",
   "metadata": {},
   "outputs": [
    {
     "data": {
      "text/html": [
       "<div>\n",
       "<style scoped>\n",
       "    .dataframe tbody tr th:only-of-type {\n",
       "        vertical-align: middle;\n",
       "    }\n",
       "\n",
       "    .dataframe tbody tr th {\n",
       "        vertical-align: top;\n",
       "    }\n",
       "\n",
       "    .dataframe thead th {\n",
       "        text-align: right;\n",
       "    }\n",
       "</style>\n",
       "<table border=\"1\" class=\"dataframe\">\n",
       "  <thead>\n",
       "    <tr style=\"text-align: right;\">\n",
       "      <th></th>\n",
       "      <th>TRIPID</th>\n",
       "      <th>PROGRNUMBER</th>\n",
       "      <th>STOPPOINTID</th>\n",
       "      <th>PLANNEDTIME_ARR</th>\n",
       "      <th>ACTUALTIME_ARR</th>\n",
       "      <th>DOY</th>\n",
       "      <th>LINEID</th>\n",
       "      <th>ROUTEID_DIRECTION</th>\n",
       "      <th>JOURNEY_TIME</th>\n",
       "      <th>HOUR</th>\n",
       "      <th>temp</th>\n",
       "      <th>wind_speed</th>\n",
       "      <th>weather_main</th>\n",
       "      <th>DAYOFWEEK</th>\n",
       "      <th>MONTH</th>\n",
       "    </tr>\n",
       "  </thead>\n",
       "  <tbody>\n",
       "    <tr>\n",
       "      <th>44370956</th>\n",
       "      <td>6658312</td>\n",
       "      <td>20</td>\n",
       "      <td>2007</td>\n",
       "      <td>29222</td>\n",
       "      <td>29446</td>\n",
       "      <td>123</td>\n",
       "      <td>46A</td>\n",
       "      <td>46A_68_1</td>\n",
       "      <td>1765</td>\n",
       "      <td>8</td>\n",
       "      <td>4</td>\n",
       "      <td>2</td>\n",
       "      <td>0</td>\n",
       "      <td>0</td>\n",
       "      <td>5</td>\n",
       "    </tr>\n",
       "    <tr>\n",
       "      <th>77731480</th>\n",
       "      <td>7498790</td>\n",
       "      <td>22</td>\n",
       "      <td>2009</td>\n",
       "      <td>28006</td>\n",
       "      <td>27905</td>\n",
       "      <td>242</td>\n",
       "      <td>46A</td>\n",
       "      <td>46A_68_1</td>\n",
       "      <td>1561</td>\n",
       "      <td>8</td>\n",
       "      <td>12</td>\n",
       "      <td>2</td>\n",
       "      <td>0</td>\n",
       "      <td>3</td>\n",
       "      <td>8</td>\n",
       "    </tr>\n",
       "    <tr>\n",
       "      <th>16015899</th>\n",
       "      <td>6280265</td>\n",
       "      <td>22</td>\n",
       "      <td>2009</td>\n",
       "      <td>29278</td>\n",
       "      <td>29426</td>\n",
       "      <td>50</td>\n",
       "      <td>46A</td>\n",
       "      <td>46A_68_1</td>\n",
       "      <td>1801</td>\n",
       "      <td>8</td>\n",
       "      <td>9</td>\n",
       "      <td>4</td>\n",
       "      <td>0</td>\n",
       "      <td>0</td>\n",
       "      <td>2</td>\n",
       "    </tr>\n",
       "    <tr>\n",
       "      <th>16015900</th>\n",
       "      <td>6280265</td>\n",
       "      <td>27</td>\n",
       "      <td>2013</td>\n",
       "      <td>29679</td>\n",
       "      <td>29924</td>\n",
       "      <td>50</td>\n",
       "      <td>46A</td>\n",
       "      <td>46A_68_1</td>\n",
       "      <td>2299</td>\n",
       "      <td>8</td>\n",
       "      <td>9</td>\n",
       "      <td>4</td>\n",
       "      <td>0</td>\n",
       "      <td>0</td>\n",
       "      <td>2</td>\n",
       "    </tr>\n",
       "    <tr>\n",
       "      <th>50673628</th>\n",
       "      <td>6853274</td>\n",
       "      <td>44</td>\n",
       "      <td>2034</td>\n",
       "      <td>30806</td>\n",
       "      <td>30642</td>\n",
       "      <td>156</td>\n",
       "      <td>46A</td>\n",
       "      <td>46A_68_1</td>\n",
       "      <td>3061</td>\n",
       "      <td>9</td>\n",
       "      <td>15</td>\n",
       "      <td>4</td>\n",
       "      <td>0</td>\n",
       "      <td>6</td>\n",
       "      <td>6</td>\n",
       "    </tr>\n",
       "    <tr>\n",
       "      <th>...</th>\n",
       "      <td>...</td>\n",
       "      <td>...</td>\n",
       "      <td>...</td>\n",
       "      <td>...</td>\n",
       "      <td>...</td>\n",
       "      <td>...</td>\n",
       "      <td>...</td>\n",
       "      <td>...</td>\n",
       "      <td>...</td>\n",
       "      <td>...</td>\n",
       "      <td>...</td>\n",
       "      <td>...</td>\n",
       "      <td>...</td>\n",
       "      <td>...</td>\n",
       "      <td>...</td>\n",
       "    </tr>\n",
       "    <tr>\n",
       "      <th>7539811</th>\n",
       "      <td>6215245</td>\n",
       "      <td>43</td>\n",
       "      <td>2033</td>\n",
       "      <td>30520</td>\n",
       "      <td>30717</td>\n",
       "      <td>25</td>\n",
       "      <td>46A</td>\n",
       "      <td>46A_68_1</td>\n",
       "      <td>3081</td>\n",
       "      <td>9</td>\n",
       "      <td>5</td>\n",
       "      <td>6</td>\n",
       "      <td>1</td>\n",
       "      <td>3</td>\n",
       "      <td>1</td>\n",
       "    </tr>\n",
       "    <tr>\n",
       "      <th>44743805</th>\n",
       "      <td>6653011</td>\n",
       "      <td>1</td>\n",
       "      <td>264</td>\n",
       "      <td>26400</td>\n",
       "      <td>26455</td>\n",
       "      <td>124</td>\n",
       "      <td>46A</td>\n",
       "      <td>46A_68_1</td>\n",
       "      <td>0</td>\n",
       "      <td>7</td>\n",
       "      <td>0</td>\n",
       "      <td>2</td>\n",
       "      <td>0</td>\n",
       "      <td>3</td>\n",
       "      <td>5</td>\n",
       "    </tr>\n",
       "    <tr>\n",
       "      <th>44743806</th>\n",
       "      <td>6658312</td>\n",
       "      <td>2</td>\n",
       "      <td>6059</td>\n",
       "      <td>27718</td>\n",
       "      <td>27724</td>\n",
       "      <td>124</td>\n",
       "      <td>46A</td>\n",
       "      <td>46A_68_1</td>\n",
       "      <td>82</td>\n",
       "      <td>8</td>\n",
       "      <td>3</td>\n",
       "      <td>0</td>\n",
       "      <td>0</td>\n",
       "      <td>3</td>\n",
       "      <td>5</td>\n",
       "    </tr>\n",
       "    <tr>\n",
       "      <th>17779497</th>\n",
       "      <td>6286039</td>\n",
       "      <td>43</td>\n",
       "      <td>2033</td>\n",
       "      <td>30892</td>\n",
       "      <td>31253</td>\n",
       "      <td>58</td>\n",
       "      <td>46A</td>\n",
       "      <td>46A_68_1</td>\n",
       "      <td>3653</td>\n",
       "      <td>9</td>\n",
       "      <td>0</td>\n",
       "      <td>6</td>\n",
       "      <td>0</td>\n",
       "      <td>1</td>\n",
       "      <td>2</td>\n",
       "    </tr>\n",
       "    <tr>\n",
       "      <th>18863992</th>\n",
       "      <td>6253918</td>\n",
       "      <td>38</td>\n",
       "      <td>4565</td>\n",
       "      <td>28866</td>\n",
       "      <td>29097</td>\n",
       "      <td>45</td>\n",
       "      <td>46A</td>\n",
       "      <td>46A_68_1</td>\n",
       "      <td>2559</td>\n",
       "      <td>8</td>\n",
       "      <td>6</td>\n",
       "      <td>14</td>\n",
       "      <td>1</td>\n",
       "      <td>2</td>\n",
       "      <td>2</td>\n",
       "    </tr>\n",
       "  </tbody>\n",
       "</table>\n",
       "<p>14474 rows × 15 columns</p>\n",
       "</div>"
      ],
      "text/plain": [
       "           TRIPID  PROGRNUMBER  STOPPOINTID  PLANNEDTIME_ARR  ACTUALTIME_ARR  \\\n",
       "44370956  6658312           20         2007            29222           29446   \n",
       "77731480  7498790           22         2009            28006           27905   \n",
       "16015899  6280265           22         2009            29278           29426   \n",
       "16015900  6280265           27         2013            29679           29924   \n",
       "50673628  6853274           44         2034            30806           30642   \n",
       "...           ...          ...          ...              ...             ...   \n",
       "7539811   6215245           43         2033            30520           30717   \n",
       "44743805  6653011            1          264            26400           26455   \n",
       "44743806  6658312            2         6059            27718           27724   \n",
       "17779497  6286039           43         2033            30892           31253   \n",
       "18863992  6253918           38         4565            28866           29097   \n",
       "\n",
       "          DOY LINEID ROUTEID_DIRECTION  JOURNEY_TIME  HOUR  temp  wind_speed  \\\n",
       "44370956  123    46A          46A_68_1          1765     8     4           2   \n",
       "77731480  242    46A          46A_68_1          1561     8    12           2   \n",
       "16015899   50    46A          46A_68_1          1801     8     9           4   \n",
       "16015900   50    46A          46A_68_1          2299     8     9           4   \n",
       "50673628  156    46A          46A_68_1          3061     9    15           4   \n",
       "...       ...    ...               ...           ...   ...   ...         ...   \n",
       "7539811    25    46A          46A_68_1          3081     9     5           6   \n",
       "44743805  124    46A          46A_68_1             0     7     0           2   \n",
       "44743806  124    46A          46A_68_1            82     8     3           0   \n",
       "17779497   58    46A          46A_68_1          3653     9     0           6   \n",
       "18863992   45    46A          46A_68_1          2559     8     6          14   \n",
       "\n",
       "          weather_main  DAYOFWEEK  MONTH  \n",
       "44370956             0          0      5  \n",
       "77731480             0          3      8  \n",
       "16015899             0          0      2  \n",
       "16015900             0          0      2  \n",
       "50673628             0          6      6  \n",
       "...                ...        ...    ...  \n",
       "7539811              1          3      1  \n",
       "44743805             0          3      5  \n",
       "44743806             0          3      5  \n",
       "17779497             0          1      2  \n",
       "18863992             1          2      2  \n",
       "\n",
       "[14474 rows x 15 columns]"
      ]
     },
     "execution_count": 112,
     "metadata": {},
     "output_type": "execute_result"
    }
   ],
   "source": [
    "fortySixA1"
   ]
  },
  {
   "cell_type": "code",
   "execution_count": null,
   "id": "0553cbce",
   "metadata": {},
   "outputs": [],
   "source": [
    "#merged_dd"
   ]
  },
  {
   "cell_type": "markdown",
   "id": "a50de473",
   "metadata": {},
   "source": [
    "# make the task number smaller\n",
    "- starting on 9506 for fortysixa1 and 8978 for merged_dd "
   ]
  },
  {
   "cell_type": "code",
   "execution_count": null,
   "id": "92701c80",
   "metadata": {},
   "outputs": [],
   "source": [
    "print(type(fortySixA1))"
   ]
  },
  {
   "cell_type": "markdown",
   "id": "53f94578",
   "metadata": {},
   "source": [
    "- converts to pandas"
   ]
  },
  {
   "cell_type": "code",
   "execution_count": 113,
   "id": "fb40edbb",
   "metadata": {},
   "outputs": [],
   "source": [
    "fortySixA1.to_csv('./test_46a_dask_2.csv', index=False)  "
   ]
  },
  {
   "cell_type": "code",
   "execution_count": 114,
   "id": "a88d0a4d",
   "metadata": {},
   "outputs": [],
   "source": [
    "del fortySixA1"
   ]
  },
  {
   "cell_type": "code",
   "execution_count": null,
   "id": "a57a7bde",
   "metadata": {},
   "outputs": [],
   "source": [
    "# merged_dd = pd.merge_asof(merged_dd, weather, on=\"col_name\", direction='nearest')"
   ]
  },
  {
   "cell_type": "code",
   "execution_count": null,
   "id": "d684d0a5",
   "metadata": {},
   "outputs": [],
   "source": [
    "#merged_dd['epoch'] = merged_dd.DAYOFSERVICE.values.astype(np.int64).compute()"
   ]
  },
  {
   "cell_type": "code",
   "execution_count": null,
   "id": "39de97e1",
   "metadata": {},
   "outputs": [],
   "source": [
    "#merged_dd['DAYOFSERVICE'] = merged_dd.DAYOFSERVICE.dt.day_name()\n",
    "#merged_dd['DAYOFSERVICE'] = pd.factorize(merged_dd['DAYOFSERVICE'], sort=True)[0] # wasn't right\n",
    "\n",
    "\n",
    "# idea is to create an extra column that rounds to the most recent hour in epoch form and join weather on that "
   ]
  },
  {
   "cell_type": "code",
   "execution_count": null,
   "id": "fa2f1431",
   "metadata": {},
   "outputs": [],
   "source": [
    "# safety cell to make sure code below doens't run\n",
    "printsdfgdsdg"
   ]
  },
  {
   "cell_type": "markdown",
   "id": "83155684",
   "metadata": {},
   "source": [
    "### code for when ready to export file\n",
    "- must sort the weather join first"
   ]
  },
  {
   "cell_type": "code",
   "execution_count": 118,
   "id": "264ec293",
   "metadata": {},
   "outputs": [
    {
     "name": "stdout",
     "output_type": "stream",
     "text": [
      "252\n",
      "['102_1', '102_2', '104_1', '104_2', '111_1', '111_2', '114_1', '114_2', '116_1', '116_2', '118_2', '11_1', '11_2', '120_1', '120_2', '122_1', '122_2', '123_1', '123_2', '130_1', '130_2', '13_1', '13_2', '140_1', '140_2', '142_1', '142_2', '145_1', '145_2', '14C_1', '14C_2', '14_1', '14_2', '150_1', '150_2', '151_1', '151_2', '15A_1', '15A_2', '15B_1', '15B_2', '15D_1', '15D_2', '15_1', '15_2', '161_1', '161_2', '16C_1', '16C_2', '16D_1', '16_1', '16_2', '17A_1', '17A_2', '17_1', '17_2', '184_1', '184_2', '185_1', '185_2', '18_1', '18_2', '1_1', '1_2', '220_1', '220_2', '236_1', '236_2', '238_1', '238_2', '239_1', '239_2', '25A_1', '25A_2', '25B_1', '25B_2', '25D_1', '25D_2', '25X_1', '25X_2', '25_1', '25_2', '26_1', '26_2', '270_1', '270_2', '27A_1', '27A_2', '27B_1', '27B_2', '27X_1', '27X_2', '27_1', '27_2', '29A_1', '29A_2', '31A_1', '31A_2', '31B_1', '31B_2', '31D_1', '31D_2', '31_1', '31_2', '32X_1', '32X_2', '32_1', '32_2', '33A_1', '33A_2', '33B_1', '33B_2', '33D_1', '33D_2', '33E_1', '33X_1', '33X_2', '33_1', '33_2', '37_1', '37_2', '38A_1', '38A_2', '38B_1', '38B_2', '38D_1', '38D_2', '38_1', '38_2', '39A_1', '39A_2', '39X_1', '39X_2', '39_1', '39_2', '40B_1', '40B_2', '40D_1', '40D_2', '40E_1', '40E_2', '40_1', '40_2', '41A_2', '41B_1', '41B_2', '41C_1', '41C_2', '41D_1', '41D_2', '41X_1', '41X_2', '41_1', '41_2', '42D_1', '42D_2', '42_1', '42_2', '43_1', '43_2', '44B_1', '44B_2', '44_1', '44_2', '45A_1', '45A_2', '46A_1', '46A_2', '46E_2', '47_1', '47_2', '49_1', '49_2', '4_1', '4_2', '51D_1', '51D_2', '51X_2', '53_1', '53_2', '54A_1', '54A_2', '56A_1', '56A_2', '59_1', '59_2', '61_1', '61_2', '63_1', '63_2', '65B_1', '65B_2', '65_1', '65_2', '66A_1', '66A_2', '66B_1', '66B_2', '66X_1', '66X_2', '66_1', '66_2', '67X_1', '67X_2', '67_1', '67_2', '68A_1', '68A_2', '68X_2', '68_1', '68_2', '69X_1', '69X_2', '69_1', '69_2', '70D_1', '70D_2', '70_1', '70_2', '75_1', '75_2', '76A_1', '76A_2', '76_1', '76_2', '77A_1', '77A_2', '77X_2', '79A_1', '79A_2', '79_1', '79_2', '7A_1', '7A_2', '7B_1', '7B_2', '7D_1', '7D_2', '7_1', '7_2', '83A_1', '83A_2', '83_1', '83_2', '84A_1', '84A_2', '84X_1', '84X_2', '84_1', '84_2', '9_1', '9_2']\n"
     ]
    }
   ],
   "source": [
    "routes = merged_dd.LINEID_DIRECTION.unique()\n",
    "routes = sorted(routes)\n",
    "print(len(routes))\n",
    "print(routes)"
   ]
  },
  {
   "cell_type": "code",
   "execution_count": 124,
   "id": "d582dca5",
   "metadata": {},
   "outputs": [
    {
     "name": "stdout",
     "output_type": "stream",
     "text": [
      "CPU times: user 440 ms, sys: 1.55 s, total: 1.99 s\n",
      "Wall time: 1.99 s\n"
     ]
    }
   ],
   "source": [
    "%%time\n",
    "merged_dd[\"error\"] = merged_dd[\"ACTUALTIME_ARR\"] - merged_dd[\"PLANNEDTIME_ARR\"]"
   ]
  },
  {
   "cell_type": "code",
   "execution_count": 128,
   "id": "a4cb15be",
   "metadata": {},
   "outputs": [],
   "source": [
    "merged_dd[\"error\"] = merged_dd[\"error\"].astype(\"int16\")"
   ]
  },
  {
   "cell_type": "code",
   "execution_count": 129,
   "id": "09ac3b7c",
   "metadata": {},
   "outputs": [
    {
     "data": {
      "text/plain": [
       "-11722"
      ]
     },
     "execution_count": 129,
     "metadata": {},
     "output_type": "execute_result"
    }
   ],
   "source": [
    "merged_dd[\"error\"].min()"
   ]
  },
  {
   "cell_type": "code",
   "execution_count": 130,
   "id": "0b429c97",
   "metadata": {},
   "outputs": [
    {
     "name": "stdout",
     "output_type": "stream",
     "text": [
      "<class 'pandas.core.frame.DataFrame'>\n",
      "Int64Index: 108901585 entries, 44885366 to 47761184\n",
      "Data columns (total 15 columns):\n",
      " #   Column            Dtype   \n",
      "---  ------            -----   \n",
      " 0   TRIPID            int32   \n",
      " 1   PROGRNUMBER       int8    \n",
      " 2   STOPPOINTID       int16   \n",
      " 3   PLANNEDTIME_ARR   int32   \n",
      " 4   ACTUALTIME_ARR    int32   \n",
      " 5   DOY               int16   \n",
      " 6   LINEID_DIRECTION  category\n",
      " 7   JOURNEY_TIME      int16   \n",
      " 8   HOUR              int8    \n",
      " 9   temp              int8    \n",
      " 10  wind_speed        int8    \n",
      " 11  weather_main      int8    \n",
      " 12  DAYOFWEEK         int8    \n",
      " 13  MONTH             int8    \n",
      " 14  error             int16   \n",
      "dtypes: category(1), int16(4), int32(3), int8(7)\n",
      "memory usage: 3.8 GB\n"
     ]
    }
   ],
   "source": [
    "merged_dd.info()"
   ]
  },
  {
   "cell_type": "code",
   "execution_count": 92,
   "id": "3aeece8b",
   "metadata": {},
   "outputs": [
    {
     "data": {
      "text/html": [
       "<div>\n",
       "<style scoped>\n",
       "    .dataframe tbody tr th:only-of-type {\n",
       "        vertical-align: middle;\n",
       "    }\n",
       "\n",
       "    .dataframe tbody tr th {\n",
       "        vertical-align: top;\n",
       "    }\n",
       "\n",
       "    .dataframe thead th {\n",
       "        text-align: right;\n",
       "    }\n",
       "</style>\n",
       "<table border=\"1\" class=\"dataframe\">\n",
       "  <thead>\n",
       "    <tr style=\"text-align: right;\">\n",
       "      <th></th>\n",
       "      <th>TRIPID</th>\n",
       "      <th>PROGRNUMBER</th>\n",
       "      <th>STOPPOINTID</th>\n",
       "      <th>PLANNEDTIME_ARR</th>\n",
       "      <th>ACTUALTIME_ARR</th>\n",
       "      <th>DOY</th>\n",
       "      <th>LINEID</th>\n",
       "      <th>ROUTEID_DIRECTION</th>\n",
       "      <th>HOUR</th>\n",
       "      <th>temp</th>\n",
       "      <th>wind_speed</th>\n",
       "      <th>weather_main</th>\n",
       "      <th>DAYOFWEEK</th>\n",
       "      <th>MONTH</th>\n",
       "      <th>error</th>\n",
       "    </tr>\n",
       "  </thead>\n",
       "  <tbody>\n",
       "    <tr>\n",
       "      <th>18788532</th>\n",
       "      <td>6292706</td>\n",
       "      <td>23</td>\n",
       "      <td>945</td>\n",
       "      <td>26993</td>\n",
       "      <td>26768</td>\n",
       "      <td>57</td>\n",
       "      <td>102</td>\n",
       "      <td>102_10_2</td>\n",
       "      <td>7</td>\n",
       "      <td>1</td>\n",
       "      <td>4</td>\n",
       "      <td>0</td>\n",
       "      <td>0</td>\n",
       "      <td>2</td>\n",
       "      <td>-225</td>\n",
       "    </tr>\n",
       "    <tr>\n",
       "      <th>57284980</th>\n",
       "      <td>7100362</td>\n",
       "      <td>18</td>\n",
       "      <td>3608</td>\n",
       "      <td>27245</td>\n",
       "      <td>27131</td>\n",
       "      <td>179</td>\n",
       "      <td>102</td>\n",
       "      <td>102_10_2</td>\n",
       "      <td>8</td>\n",
       "      <td>21</td>\n",
       "      <td>4</td>\n",
       "      <td>0</td>\n",
       "      <td>3</td>\n",
       "      <td>6</td>\n",
       "      <td>-114</td>\n",
       "    </tr>\n",
       "    <tr>\n",
       "      <th>57284981</th>\n",
       "      <td>7102146</td>\n",
       "      <td>19</td>\n",
       "      <td>3609</td>\n",
       "      <td>25200</td>\n",
       "      <td>25133</td>\n",
       "      <td>179</td>\n",
       "      <td>102</td>\n",
       "      <td>102_10_2</td>\n",
       "      <td>7</td>\n",
       "      <td>19</td>\n",
       "      <td>4</td>\n",
       "      <td>0</td>\n",
       "      <td>3</td>\n",
       "      <td>6</td>\n",
       "      <td>-67</td>\n",
       "    </tr>\n",
       "    <tr>\n",
       "      <th>57284982</th>\n",
       "      <td>7101506</td>\n",
       "      <td>20</td>\n",
       "      <td>3598</td>\n",
       "      <td>26751</td>\n",
       "      <td>26826</td>\n",
       "      <td>179</td>\n",
       "      <td>102</td>\n",
       "      <td>102_10_2</td>\n",
       "      <td>7</td>\n",
       "      <td>19</td>\n",
       "      <td>4</td>\n",
       "      <td>0</td>\n",
       "      <td>3</td>\n",
       "      <td>6</td>\n",
       "      <td>75</td>\n",
       "    </tr>\n",
       "    <tr>\n",
       "      <th>57284983</th>\n",
       "      <td>7101506</td>\n",
       "      <td>21</td>\n",
       "      <td>4465</td>\n",
       "      <td>26778</td>\n",
       "      <td>26849</td>\n",
       "      <td>179</td>\n",
       "      <td>102</td>\n",
       "      <td>102_10_2</td>\n",
       "      <td>7</td>\n",
       "      <td>19</td>\n",
       "      <td>4</td>\n",
       "      <td>0</td>\n",
       "      <td>3</td>\n",
       "      <td>6</td>\n",
       "      <td>71</td>\n",
       "    </tr>\n",
       "    <tr>\n",
       "      <th>...</th>\n",
       "      <td>...</td>\n",
       "      <td>...</td>\n",
       "      <td>...</td>\n",
       "      <td>...</td>\n",
       "      <td>...</td>\n",
       "      <td>...</td>\n",
       "      <td>...</td>\n",
       "      <td>...</td>\n",
       "      <td>...</td>\n",
       "      <td>...</td>\n",
       "      <td>...</td>\n",
       "      <td>...</td>\n",
       "      <td>...</td>\n",
       "      <td>...</td>\n",
       "      <td>...</td>\n",
       "    </tr>\n",
       "    <tr>\n",
       "      <th>25677854</th>\n",
       "      <td>6392242</td>\n",
       "      <td>3</td>\n",
       "      <td>3642</td>\n",
       "      <td>25962</td>\n",
       "      <td>25835</td>\n",
       "      <td>82</td>\n",
       "      <td>102</td>\n",
       "      <td>102_10_2</td>\n",
       "      <td>7</td>\n",
       "      <td>6</td>\n",
       "      <td>12</td>\n",
       "      <td>0</td>\n",
       "      <td>4</td>\n",
       "      <td>3</td>\n",
       "      <td>-127</td>\n",
       "    </tr>\n",
       "    <tr>\n",
       "      <th>25677852</th>\n",
       "      <td>6388408</td>\n",
       "      <td>2</td>\n",
       "      <td>3641</td>\n",
       "      <td>30059</td>\n",
       "      <td>29988</td>\n",
       "      <td>82</td>\n",
       "      <td>102</td>\n",
       "      <td>102_10_2</td>\n",
       "      <td>8</td>\n",
       "      <td>6</td>\n",
       "      <td>10</td>\n",
       "      <td>0</td>\n",
       "      <td>4</td>\n",
       "      <td>3</td>\n",
       "      <td>-71</td>\n",
       "    </tr>\n",
       "    <tr>\n",
       "      <th>25677848</th>\n",
       "      <td>6388565</td>\n",
       "      <td>1</td>\n",
       "      <td>1073</td>\n",
       "      <td>24300</td>\n",
       "      <td>24289</td>\n",
       "      <td>82</td>\n",
       "      <td>102</td>\n",
       "      <td>102_10_2</td>\n",
       "      <td>7</td>\n",
       "      <td>6</td>\n",
       "      <td>12</td>\n",
       "      <td>0</td>\n",
       "      <td>4</td>\n",
       "      <td>3</td>\n",
       "      <td>-11</td>\n",
       "    </tr>\n",
       "    <tr>\n",
       "      <th>38021114</th>\n",
       "      <td>6646200</td>\n",
       "      <td>24</td>\n",
       "      <td>947</td>\n",
       "      <td>31500</td>\n",
       "      <td>31482</td>\n",
       "      <td>116</td>\n",
       "      <td>102</td>\n",
       "      <td>102_10_2</td>\n",
       "      <td>9</td>\n",
       "      <td>9</td>\n",
       "      <td>10</td>\n",
       "      <td>0</td>\n",
       "      <td>3</td>\n",
       "      <td>4</td>\n",
       "      <td>-18</td>\n",
       "    </tr>\n",
       "    <tr>\n",
       "      <th>38021115</th>\n",
       "      <td>6646200</td>\n",
       "      <td>26</td>\n",
       "      <td>949</td>\n",
       "      <td>31620</td>\n",
       "      <td>31521</td>\n",
       "      <td>116</td>\n",
       "      <td>102</td>\n",
       "      <td>102_10_2</td>\n",
       "      <td>9</td>\n",
       "      <td>9</td>\n",
       "      <td>10</td>\n",
       "      <td>0</td>\n",
       "      <td>3</td>\n",
       "      <td>4</td>\n",
       "      <td>-99</td>\n",
       "    </tr>\n",
       "  </tbody>\n",
       "</table>\n",
       "<p>100 rows × 15 columns</p>\n",
       "</div>"
      ],
      "text/plain": [
       "           TRIPID  PROGRNUMBER  STOPPOINTID  PLANNEDTIME_ARR  ACTUALTIME_ARR  \\\n",
       "18788532  6292706           23          945            26993           26768   \n",
       "57284980  7100362           18         3608            27245           27131   \n",
       "57284981  7102146           19         3609            25200           25133   \n",
       "57284982  7101506           20         3598            26751           26826   \n",
       "57284983  7101506           21         4465            26778           26849   \n",
       "...           ...          ...          ...              ...             ...   \n",
       "25677854  6392242            3         3642            25962           25835   \n",
       "25677852  6388408            2         3641            30059           29988   \n",
       "25677848  6388565            1         1073            24300           24289   \n",
       "38021114  6646200           24          947            31500           31482   \n",
       "38021115  6646200           26          949            31620           31521   \n",
       "\n",
       "          DOY LINEID ROUTEID_DIRECTION  HOUR  temp  wind_speed  weather_main  \\\n",
       "18788532   57    102          102_10_2     7     1           4             0   \n",
       "57284980  179    102          102_10_2     8    21           4             0   \n",
       "57284981  179    102          102_10_2     7    19           4             0   \n",
       "57284982  179    102          102_10_2     7    19           4             0   \n",
       "57284983  179    102          102_10_2     7    19           4             0   \n",
       "...       ...    ...               ...   ...   ...         ...           ...   \n",
       "25677854   82    102          102_10_2     7     6          12             0   \n",
       "25677852   82    102          102_10_2     8     6          10             0   \n",
       "25677848   82    102          102_10_2     7     6          12             0   \n",
       "38021114  116    102          102_10_2     9     9          10             0   \n",
       "38021115  116    102          102_10_2     9     9          10             0   \n",
       "\n",
       "          DAYOFWEEK  MONTH  error  \n",
       "18788532          0      2   -225  \n",
       "57284980          3      6   -114  \n",
       "57284981          3      6    -67  \n",
       "57284982          3      6     75  \n",
       "57284983          3      6     71  \n",
       "...             ...    ...    ...  \n",
       "25677854          4      3   -127  \n",
       "25677852          4      3    -71  \n",
       "25677848          4      3    -11  \n",
       "38021114          3      4    -18  \n",
       "38021115          3      4    -99  \n",
       "\n",
       "[100 rows x 15 columns]"
      ]
     },
     "execution_count": 92,
     "metadata": {},
     "output_type": "execute_result"
    }
   ],
   "source": [
    "merged_dd.head(100)"
   ]
  },
  {
   "cell_type": "code",
   "execution_count": 118,
   "id": "c4788890",
   "metadata": {},
   "outputs": [
    {
     "data": {
      "text/plain": [
       "svmem(total=67481169920, available=14447616000, percent=78.6, used=52342525952, free=11008217088, active=49274720256, inactive=5814358016, buffers=23523328, cached=4106903552, shared=7303168, slab=681295872)"
      ]
     },
     "execution_count": 118,
     "metadata": {},
     "output_type": "execute_result"
    }
   ],
   "source": [
    "psutil.virtual_memory()"
   ]
  },
  {
   "cell_type": "code",
   "execution_count": 116,
   "id": "0e519aa6",
   "metadata": {},
   "outputs": [
    {
     "data": {
      "text/plain": [
       "[suser(name='team9', terminal='pts/0', host='185.134.146.112', started=1659502080.0, pid=23617),\n",
       " suser(name='team9', terminal='pts/19', host='185.134.146.112', started=1659502336.0, pid=24224),\n",
       " suser(name='team10', terminal='pts/31', host='tmux(22475).%0', started=1657274368.0, pid=22475)]"
      ]
     },
     "execution_count": 116,
     "metadata": {},
     "output_type": "execute_result"
    }
   ],
   "source": [
    "psutil.users()"
   ]
  },
  {
   "cell_type": "code",
   "execution_count": 117,
   "id": "896c48e7",
   "metadata": {},
   "outputs": [
    {
     "name": "stdout",
     "output_type": "stream",
     "text": [
      "Once deleted, variables cannot be recovered. Proceed (y/[n])? y\n",
      "Flushing output cache (12 entries)\n"
     ]
    }
   ],
   "source": [
    "%reset Out"
   ]
  },
  {
   "cell_type": "code",
   "execution_count": 177,
   "id": "b21ec2d9",
   "metadata": {},
   "outputs": [
    {
     "name": "stdout",
     "output_type": "stream",
     "text": [
      "588\n",
      "588\n"
     ]
    }
   ],
   "source": [
    "print(len(tops))\n",
    "print(len(bottoms))"
   ]
  },
  {
   "cell_type": "code",
   "execution_count": 126,
   "id": "4d504d36",
   "metadata": {},
   "outputs": [
    {
     "data": {
      "text/plain": [
       "898"
      ]
     },
     "execution_count": 126,
     "metadata": {},
     "output_type": "execute_result"
    }
   ],
   "source": [
    "gc.collect()"
   ]
  },
  {
   "cell_type": "code",
   "execution_count": 150,
   "id": "93488aed",
   "metadata": {},
   "outputs": [
    {
     "name": "stdout",
     "output_type": "stream",
     "text": [
      "<class 'pandas.core.frame.DataFrame'>\n",
      "Int64Index: 116759068 entries, 18788532 to 102464628\n",
      "Data columns (total 16 columns):\n",
      " #   Column             Dtype   \n",
      "---  ------             -----   \n",
      " 0   TRIPID             int32   \n",
      " 1   PROGRNUMBER        int8    \n",
      " 2   STOPPOINTID        int16   \n",
      " 3   PLANNEDTIME_ARR    int32   \n",
      " 4   ACTUALTIME_ARR     int32   \n",
      " 5   DOY                int16   \n",
      " 6   LINEID             category\n",
      " 7   ROUTEID_DIRECTION  category\n",
      " 8   JOURNEY_TIME       int32   \n",
      " 9   HOUR               int8    \n",
      " 10  temp               int8    \n",
      " 11  wind_speed         int8    \n",
      " 12  weather_main       int8    \n",
      " 13  DAYOFWEEK          int8    \n",
      " 14  MONTH              int8    \n",
      " 15  error              int32   \n",
      "dtypes: category(2), int16(2), int32(5), int8(7)\n",
      "memory usage: 4.7 GB\n"
     ]
    }
   ],
   "source": [
    "merged_dd.info()"
   ]
  },
  {
   "cell_type": "code",
   "execution_count": 159,
   "id": "cce95f90",
   "metadata": {},
   "outputs": [
    {
     "data": {
      "text/plain": [
       "TRIPID               0\n",
       "PROGRNUMBER          0\n",
       "STOPPOINTID          0\n",
       "PLANNEDTIME_ARR      0\n",
       "ACTUALTIME_ARR       0\n",
       "DOY                  0\n",
       "LINEID               0\n",
       "ROUTEID_DIRECTION    0\n",
       "HOUR                 0\n",
       "temp                 0\n",
       "wind_speed           0\n",
       "weather_main         0\n",
       "DAYOFWEEK            0\n",
       "MONTH                0\n",
       "error                0\n",
       "dtype: int64"
      ]
     },
     "execution_count": 159,
     "metadata": {},
     "output_type": "execute_result"
    }
   ],
   "source": [
    "merged_dd.isna().sum()"
   ]
  },
  {
   "cell_type": "code",
   "execution_count": 158,
   "id": "9af18633",
   "metadata": {},
   "outputs": [
    {
     "data": {
      "text/html": [
       "<div>\n",
       "<style scoped>\n",
       "    .dataframe tbody tr th:only-of-type {\n",
       "        vertical-align: middle;\n",
       "    }\n",
       "\n",
       "    .dataframe tbody tr th {\n",
       "        vertical-align: top;\n",
       "    }\n",
       "\n",
       "    .dataframe thead th {\n",
       "        text-align: right;\n",
       "    }\n",
       "</style>\n",
       "<table border=\"1\" class=\"dataframe\">\n",
       "  <thead>\n",
       "    <tr style=\"text-align: right;\">\n",
       "      <th></th>\n",
       "      <th>TRIPID</th>\n",
       "      <th>PROGRNUMBER</th>\n",
       "      <th>STOPPOINTID</th>\n",
       "      <th>PLANNEDTIME_ARR</th>\n",
       "      <th>ACTUALTIME_ARR</th>\n",
       "      <th>DOY</th>\n",
       "      <th>LINEID</th>\n",
       "      <th>ROUTEID_DIRECTION</th>\n",
       "      <th>HOUR</th>\n",
       "      <th>temp</th>\n",
       "      <th>wind_speed</th>\n",
       "      <th>weather_main</th>\n",
       "      <th>DAYOFWEEK</th>\n",
       "      <th>MONTH</th>\n",
       "      <th>error</th>\n",
       "    </tr>\n",
       "  </thead>\n",
       "  <tbody>\n",
       "    <tr>\n",
       "      <th>18788532</th>\n",
       "      <td>6292706</td>\n",
       "      <td>23</td>\n",
       "      <td>945</td>\n",
       "      <td>26993</td>\n",
       "      <td>26768</td>\n",
       "      <td>57</td>\n",
       "      <td>102</td>\n",
       "      <td>102_10_2</td>\n",
       "      <td>7</td>\n",
       "      <td>1</td>\n",
       "      <td>4</td>\n",
       "      <td>0</td>\n",
       "      <td>0</td>\n",
       "      <td>2</td>\n",
       "      <td>-225</td>\n",
       "    </tr>\n",
       "    <tr>\n",
       "      <th>57284980</th>\n",
       "      <td>7100362</td>\n",
       "      <td>18</td>\n",
       "      <td>3608</td>\n",
       "      <td>27245</td>\n",
       "      <td>27131</td>\n",
       "      <td>179</td>\n",
       "      <td>102</td>\n",
       "      <td>102_10_2</td>\n",
       "      <td>8</td>\n",
       "      <td>21</td>\n",
       "      <td>4</td>\n",
       "      <td>0</td>\n",
       "      <td>3</td>\n",
       "      <td>6</td>\n",
       "      <td>-114</td>\n",
       "    </tr>\n",
       "    <tr>\n",
       "      <th>57284981</th>\n",
       "      <td>7102146</td>\n",
       "      <td>19</td>\n",
       "      <td>3609</td>\n",
       "      <td>25200</td>\n",
       "      <td>25133</td>\n",
       "      <td>179</td>\n",
       "      <td>102</td>\n",
       "      <td>102_10_2</td>\n",
       "      <td>7</td>\n",
       "      <td>19</td>\n",
       "      <td>4</td>\n",
       "      <td>0</td>\n",
       "      <td>3</td>\n",
       "      <td>6</td>\n",
       "      <td>-67</td>\n",
       "    </tr>\n",
       "    <tr>\n",
       "      <th>57284982</th>\n",
       "      <td>7101506</td>\n",
       "      <td>20</td>\n",
       "      <td>3598</td>\n",
       "      <td>26751</td>\n",
       "      <td>26826</td>\n",
       "      <td>179</td>\n",
       "      <td>102</td>\n",
       "      <td>102_10_2</td>\n",
       "      <td>7</td>\n",
       "      <td>19</td>\n",
       "      <td>4</td>\n",
       "      <td>0</td>\n",
       "      <td>3</td>\n",
       "      <td>6</td>\n",
       "      <td>75</td>\n",
       "    </tr>\n",
       "    <tr>\n",
       "      <th>57284983</th>\n",
       "      <td>7101506</td>\n",
       "      <td>21</td>\n",
       "      <td>4465</td>\n",
       "      <td>26778</td>\n",
       "      <td>26849</td>\n",
       "      <td>179</td>\n",
       "      <td>102</td>\n",
       "      <td>102_10_2</td>\n",
       "      <td>7</td>\n",
       "      <td>19</td>\n",
       "      <td>4</td>\n",
       "      <td>0</td>\n",
       "      <td>3</td>\n",
       "      <td>6</td>\n",
       "      <td>71</td>\n",
       "    </tr>\n",
       "    <tr>\n",
       "      <th>...</th>\n",
       "      <td>...</td>\n",
       "      <td>...</td>\n",
       "      <td>...</td>\n",
       "      <td>...</td>\n",
       "      <td>...</td>\n",
       "      <td>...</td>\n",
       "      <td>...</td>\n",
       "      <td>...</td>\n",
       "      <td>...</td>\n",
       "      <td>...</td>\n",
       "      <td>...</td>\n",
       "      <td>...</td>\n",
       "      <td>...</td>\n",
       "      <td>...</td>\n",
       "      <td>...</td>\n",
       "    </tr>\n",
       "    <tr>\n",
       "      <th>3654173</th>\n",
       "      <td>6099812</td>\n",
       "      <td>31</td>\n",
       "      <td>7589</td>\n",
       "      <td>84065</td>\n",
       "      <td>83931</td>\n",
       "      <td>12</td>\n",
       "      <td>9</td>\n",
       "      <td>9_8_2</td>\n",
       "      <td>23</td>\n",
       "      <td>9</td>\n",
       "      <td>0</td>\n",
       "      <td>0</td>\n",
       "      <td>5</td>\n",
       "      <td>1</td>\n",
       "      <td>-134</td>\n",
       "    </tr>\n",
       "    <tr>\n",
       "      <th>29651945</th>\n",
       "      <td>6596244</td>\n",
       "      <td>15</td>\n",
       "      <td>2437</td>\n",
       "      <td>84457</td>\n",
       "      <td>84473</td>\n",
       "      <td>93</td>\n",
       "      <td>9</td>\n",
       "      <td>9_8_2</td>\n",
       "      <td>23</td>\n",
       "      <td>4</td>\n",
       "      <td>2</td>\n",
       "      <td>0</td>\n",
       "      <td>6</td>\n",
       "      <td>4</td>\n",
       "      <td>16</td>\n",
       "    </tr>\n",
       "    <tr>\n",
       "      <th>3654172</th>\n",
       "      <td>6094861</td>\n",
       "      <td>31</td>\n",
       "      <td>7589</td>\n",
       "      <td>85265</td>\n",
       "      <td>85115</td>\n",
       "      <td>13</td>\n",
       "      <td>9</td>\n",
       "      <td>9_8_2</td>\n",
       "      <td>0</td>\n",
       "      <td>8</td>\n",
       "      <td>12</td>\n",
       "      <td>0</td>\n",
       "      <td>5</td>\n",
       "      <td>1</td>\n",
       "      <td>-150</td>\n",
       "    </tr>\n",
       "    <tr>\n",
       "      <th>3654147</th>\n",
       "      <td>6094861</td>\n",
       "      <td>17</td>\n",
       "      <td>2439</td>\n",
       "      <td>84547</td>\n",
       "      <td>84485</td>\n",
       "      <td>12</td>\n",
       "      <td>9</td>\n",
       "      <td>9_8_2</td>\n",
       "      <td>23</td>\n",
       "      <td>9</td>\n",
       "      <td>0</td>\n",
       "      <td>0</td>\n",
       "      <td>5</td>\n",
       "      <td>1</td>\n",
       "      <td>-62</td>\n",
       "    </tr>\n",
       "    <tr>\n",
       "      <th>102464628</th>\n",
       "      <td>8129706</td>\n",
       "      <td>35</td>\n",
       "      <td>319</td>\n",
       "      <td>85406</td>\n",
       "      <td>85185</td>\n",
       "      <td>319</td>\n",
       "      <td>9</td>\n",
       "      <td>9_8_2</td>\n",
       "      <td>0</td>\n",
       "      <td>13</td>\n",
       "      <td>4</td>\n",
       "      <td>0</td>\n",
       "      <td>3</td>\n",
       "      <td>11</td>\n",
       "      <td>-221</td>\n",
       "    </tr>\n",
       "  </tbody>\n",
       "</table>\n",
       "<p>111089682 rows × 15 columns</p>\n",
       "</div>"
      ],
      "text/plain": [
       "            TRIPID  PROGRNUMBER  STOPPOINTID  PLANNEDTIME_ARR  ACTUALTIME_ARR  \\\n",
       "18788532   6292706           23          945            26993           26768   \n",
       "57284980   7100362           18         3608            27245           27131   \n",
       "57284981   7102146           19         3609            25200           25133   \n",
       "57284982   7101506           20         3598            26751           26826   \n",
       "57284983   7101506           21         4465            26778           26849   \n",
       "...            ...          ...          ...              ...             ...   \n",
       "3654173    6099812           31         7589            84065           83931   \n",
       "29651945   6596244           15         2437            84457           84473   \n",
       "3654172    6094861           31         7589            85265           85115   \n",
       "3654147    6094861           17         2439            84547           84485   \n",
       "102464628  8129706           35          319            85406           85185   \n",
       "\n",
       "           DOY LINEID ROUTEID_DIRECTION  HOUR  temp  wind_speed  weather_main  \\\n",
       "18788532    57    102          102_10_2     7     1           4             0   \n",
       "57284980   179    102          102_10_2     8    21           4             0   \n",
       "57284981   179    102          102_10_2     7    19           4             0   \n",
       "57284982   179    102          102_10_2     7    19           4             0   \n",
       "57284983   179    102          102_10_2     7    19           4             0   \n",
       "...        ...    ...               ...   ...   ...         ...           ...   \n",
       "3654173     12      9             9_8_2    23     9           0             0   \n",
       "29651945    93      9             9_8_2    23     4           2             0   \n",
       "3654172     13      9             9_8_2     0     8          12             0   \n",
       "3654147     12      9             9_8_2    23     9           0             0   \n",
       "102464628  319      9             9_8_2     0    13           4             0   \n",
       "\n",
       "           DAYOFWEEK  MONTH  error  \n",
       "18788532           0      2   -225  \n",
       "57284980           3      6   -114  \n",
       "57284981           3      6    -67  \n",
       "57284982           3      6     75  \n",
       "57284983           3      6     71  \n",
       "...              ...    ...    ...  \n",
       "3654173            5      1   -134  \n",
       "29651945           6      4     16  \n",
       "3654172            5      1   -150  \n",
       "3654147            5      1    -62  \n",
       "102464628          3     11   -221  \n",
       "\n",
       "[111089682 rows x 15 columns]"
      ]
     },
     "execution_count": 158,
     "metadata": {},
     "output_type": "execute_result"
    }
   ],
   "source": [
    "merged_dd"
   ]
  },
  {
   "cell_type": "code",
   "execution_count": 127,
   "id": "80d31596",
   "metadata": {},
   "outputs": [
    {
     "name": "stdout",
     "output_type": "stream",
     "text": [
      "Once deleted, variables cannot be recovered. Proceed (y/[n])? y\n",
      "Flushing output cache (12 entries)\n"
     ]
    }
   ],
   "source": [
    "%reset Out"
   ]
  },
  {
   "cell_type": "code",
   "execution_count": 108,
   "id": "5d28be7d",
   "metadata": {},
   "outputs": [
    {
     "name": "stdout",
     "output_type": "stream",
     "text": [
      "-22.07353553164876\n",
      "3154.1208962362184\n"
     ]
    }
   ],
   "source": [
    "print(min(tops))\n",
    "print(max(tops))"
   ]
  },
  {
   "cell_type": "code",
   "execution_count": 109,
   "id": "0a0a02b8",
   "metadata": {},
   "outputs": [
    {
     "name": "stdout",
     "output_type": "stream",
     "text": [
      "-3498.383525496342\n",
      "76.15273094053907\n"
     ]
    }
   ],
   "source": [
    "print(min(bottoms))\n",
    "print(max(bottoms))"
   ]
  },
  {
   "cell_type": "code",
   "execution_count": 127,
   "id": "3f001573",
   "metadata": {},
   "outputs": [
    {
     "data": {
      "text/plain": [
       "svmem(total=67481169920, available=12972294144, percent=80.8, used=53817020416, free=1413099520, active=50867847168, inactive=13583167488, buffers=86888448, cached=12164161536, shared=7331840, slab=895062016)"
      ]
     },
     "execution_count": 127,
     "metadata": {},
     "output_type": "execute_result"
    }
   ],
   "source": [
    "psutil.virtual_memory()"
   ]
  },
  {
   "cell_type": "code",
   "execution_count": 128,
   "id": "14fcf09a",
   "metadata": {},
   "outputs": [],
   "source": [
    "merged_dd = merged_dd.drop([\"error\"], axis=1)"
   ]
  },
  {
   "cell_type": "code",
   "execution_count": 129,
   "id": "5111477b",
   "metadata": {},
   "outputs": [
    {
     "name": "stdout",
     "output_type": "stream",
     "text": [
      "<class 'pandas.core.frame.DataFrame'>\n",
      "Int64Index: 108901585 entries, 84054145 to 144058\n",
      "Data columns (total 15 columns):\n",
      " #   Column             Dtype   \n",
      "---  ------             -----   \n",
      " 0   TRIPID             int32   \n",
      " 1   PROGRNUMBER        int8    \n",
      " 2   STOPPOINTID        int16   \n",
      " 3   PLANNEDTIME_ARR    int32   \n",
      " 4   ACTUALTIME_ARR     int32   \n",
      " 5   DOY                int16   \n",
      " 6   LINEID             category\n",
      " 7   ROUTEID_DIRECTION  category\n",
      " 8   JOURNEY_TIME       int32   \n",
      " 9   HOUR               int8    \n",
      " 10  temp               int8    \n",
      " 11  wind_speed         int8    \n",
      " 12  weather_main       int8    \n",
      " 13  DAYOFWEEK          int8    \n",
      " 14  MONTH              int8    \n",
      "dtypes: category(2), int16(2), int32(4), int8(7)\n",
      "memory usage: 4.0 GB\n"
     ]
    }
   ],
   "source": [
    "# datatypes all reset for some reason\n",
    "merged_dd.info()"
   ]
  },
  {
   "cell_type": "code",
   "execution_count": 95,
   "id": "4ee531a4",
   "metadata": {},
   "outputs": [
    {
     "data": {
      "text/plain": [
       "TRIPID               0\n",
       "PROGRNUMBER          0\n",
       "STOPPOINTID          0\n",
       "PLANNEDTIME_ARR      0\n",
       "ACTUALTIME_ARR       0\n",
       "DOY                  0\n",
       "LINEID               0\n",
       "ROUTEID_DIRECTION    0\n",
       "HOUR                 0\n",
       "temp                 0\n",
       "wind_speed           0\n",
       "weather_main         0\n",
       "DAYOFWEEK            0\n",
       "MONTH                0\n",
       "error                0\n",
       "dtype: int64"
      ]
     },
     "execution_count": 95,
     "metadata": {},
     "output_type": "execute_result"
    }
   ],
   "source": [
    "merged_dd.isnull().sum()\n",
    "# i think it just ended uo making them nulls instead of dropping\n",
    "# should check tomorrow"
   ]
  },
  {
   "cell_type": "code",
   "execution_count": 176,
   "id": "6e875829",
   "metadata": {},
   "outputs": [],
   "source": [
    "merged_dd = merged_dd.dropna(how='any',axis=0) "
   ]
  },
  {
   "cell_type": "code",
   "execution_count": 134,
   "id": "804fe7e2",
   "metadata": {},
   "outputs": [
    {
     "data": {
      "text/html": [
       "<div>\n",
       "<style scoped>\n",
       "    .dataframe tbody tr th:only-of-type {\n",
       "        vertical-align: middle;\n",
       "    }\n",
       "\n",
       "    .dataframe tbody tr th {\n",
       "        vertical-align: top;\n",
       "    }\n",
       "\n",
       "    .dataframe thead th {\n",
       "        text-align: right;\n",
       "    }\n",
       "</style>\n",
       "<table border=\"1\" class=\"dataframe\">\n",
       "  <thead>\n",
       "    <tr style=\"text-align: right;\">\n",
       "      <th></th>\n",
       "      <th>TRIPID</th>\n",
       "      <th>PROGRNUMBER</th>\n",
       "      <th>STOPPOINTID</th>\n",
       "      <th>PLANNEDTIME_ARR</th>\n",
       "      <th>ACTUALTIME_ARR</th>\n",
       "      <th>DOY</th>\n",
       "      <th>LINEID_DIRECTION</th>\n",
       "      <th>JOURNEY_TIME</th>\n",
       "      <th>HOUR</th>\n",
       "      <th>temp</th>\n",
       "      <th>wind_speed</th>\n",
       "      <th>weather_main</th>\n",
       "      <th>DAYOFWEEK</th>\n",
       "      <th>MONTH</th>\n",
       "      <th>error</th>\n",
       "    </tr>\n",
       "  </thead>\n",
       "  <tbody>\n",
       "    <tr>\n",
       "      <th>44885366</th>\n",
       "      <td>6755283</td>\n",
       "      <td>48</td>\n",
       "      <td>6015</td>\n",
       "      <td>36397</td>\n",
       "      <td>36143</td>\n",
       "      <td>138</td>\n",
       "      <td>102_1</td>\n",
       "      <td>2474</td>\n",
       "      <td>10</td>\n",
       "      <td>16</td>\n",
       "      <td>4</td>\n",
       "      <td>0</td>\n",
       "      <td>4</td>\n",
       "      <td>5</td>\n",
       "      <td>-254</td>\n",
       "    </tr>\n",
       "    <tr>\n",
       "      <th>22744715</th>\n",
       "      <td>6393675</td>\n",
       "      <td>28</td>\n",
       "      <td>3636</td>\n",
       "      <td>32209</td>\n",
       "      <td>31724</td>\n",
       "      <td>78</td>\n",
       "      <td>102_1</td>\n",
       "      <td>971</td>\n",
       "      <td>9</td>\n",
       "      <td>2</td>\n",
       "      <td>8</td>\n",
       "      <td>0</td>\n",
       "      <td>0</td>\n",
       "      <td>3</td>\n",
       "      <td>-485</td>\n",
       "    </tr>\n",
       "    <tr>\n",
       "      <th>22744714</th>\n",
       "      <td>6393675</td>\n",
       "      <td>27</td>\n",
       "      <td>3635</td>\n",
       "      <td>32193</td>\n",
       "      <td>31718</td>\n",
       "      <td>78</td>\n",
       "      <td>102_1</td>\n",
       "      <td>965</td>\n",
       "      <td>9</td>\n",
       "      <td>2</td>\n",
       "      <td>8</td>\n",
       "      <td>0</td>\n",
       "      <td>0</td>\n",
       "      <td>3</td>\n",
       "      <td>-475</td>\n",
       "    </tr>\n",
       "    <tr>\n",
       "      <th>22744713</th>\n",
       "      <td>6393675</td>\n",
       "      <td>26</td>\n",
       "      <td>3634</td>\n",
       "      <td>32127</td>\n",
       "      <td>31674</td>\n",
       "      <td>78</td>\n",
       "      <td>102_1</td>\n",
       "      <td>921</td>\n",
       "      <td>9</td>\n",
       "      <td>2</td>\n",
       "      <td>8</td>\n",
       "      <td>0</td>\n",
       "      <td>0</td>\n",
       "      <td>3</td>\n",
       "      <td>-453</td>\n",
       "    </tr>\n",
       "    <tr>\n",
       "      <th>22744712</th>\n",
       "      <td>6393675</td>\n",
       "      <td>25</td>\n",
       "      <td>4387</td>\n",
       "      <td>32096</td>\n",
       "      <td>31662</td>\n",
       "      <td>78</td>\n",
       "      <td>102_1</td>\n",
       "      <td>909</td>\n",
       "      <td>9</td>\n",
       "      <td>2</td>\n",
       "      <td>8</td>\n",
       "      <td>0</td>\n",
       "      <td>0</td>\n",
       "      <td>3</td>\n",
       "      <td>-434</td>\n",
       "    </tr>\n",
       "    <tr>\n",
       "      <th>...</th>\n",
       "      <td>...</td>\n",
       "      <td>...</td>\n",
       "      <td>...</td>\n",
       "      <td>...</td>\n",
       "      <td>...</td>\n",
       "      <td>...</td>\n",
       "      <td>...</td>\n",
       "      <td>...</td>\n",
       "      <td>...</td>\n",
       "      <td>...</td>\n",
       "      <td>...</td>\n",
       "      <td>...</td>\n",
       "      <td>...</td>\n",
       "      <td>...</td>\n",
       "      <td>...</td>\n",
       "    </tr>\n",
       "    <tr>\n",
       "      <th>64880218</th>\n",
       "      <td>7318116</td>\n",
       "      <td>22</td>\n",
       "      <td>1344</td>\n",
       "      <td>51550</td>\n",
       "      <td>51823</td>\n",
       "      <td>213</td>\n",
       "      <td>9_2</td>\n",
       "      <td>1367</td>\n",
       "      <td>14</td>\n",
       "      <td>5</td>\n",
       "      <td>6</td>\n",
       "      <td>0</td>\n",
       "      <td>0</td>\n",
       "      <td>8</td>\n",
       "      <td>273</td>\n",
       "    </tr>\n",
       "    <tr>\n",
       "      <th>64880219</th>\n",
       "      <td>7318120</td>\n",
       "      <td>44</td>\n",
       "      <td>201</td>\n",
       "      <td>76914</td>\n",
       "      <td>76867</td>\n",
       "      <td>213</td>\n",
       "      <td>9_2</td>\n",
       "      <td>2468</td>\n",
       "      <td>21</td>\n",
       "      <td>4</td>\n",
       "      <td>8</td>\n",
       "      <td>0</td>\n",
       "      <td>0</td>\n",
       "      <td>8</td>\n",
       "      <td>-47</td>\n",
       "    </tr>\n",
       "    <tr>\n",
       "      <th>64880220</th>\n",
       "      <td>7316672</td>\n",
       "      <td>44</td>\n",
       "      <td>201</td>\n",
       "      <td>71514</td>\n",
       "      <td>72365</td>\n",
       "      <td>213</td>\n",
       "      <td>9_2</td>\n",
       "      <td>3365</td>\n",
       "      <td>20</td>\n",
       "      <td>4</td>\n",
       "      <td>8</td>\n",
       "      <td>0</td>\n",
       "      <td>0</td>\n",
       "      <td>8</td>\n",
       "      <td>851</td>\n",
       "    </tr>\n",
       "    <tr>\n",
       "      <th>64880203</th>\n",
       "      <td>7316045</td>\n",
       "      <td>22</td>\n",
       "      <td>1344</td>\n",
       "      <td>31848</td>\n",
       "      <td>32075</td>\n",
       "      <td>213</td>\n",
       "      <td>9_2</td>\n",
       "      <td>1436</td>\n",
       "      <td>9</td>\n",
       "      <td>-1</td>\n",
       "      <td>4</td>\n",
       "      <td>0</td>\n",
       "      <td>0</td>\n",
       "      <td>8</td>\n",
       "      <td>227</td>\n",
       "    </tr>\n",
       "    <tr>\n",
       "      <th>47761184</th>\n",
       "      <td>6856584</td>\n",
       "      <td>49</td>\n",
       "      <td>28</td>\n",
       "      <td>56578</td>\n",
       "      <td>56926</td>\n",
       "      <td>159</td>\n",
       "      <td>9_2</td>\n",
       "      <td>3055</td>\n",
       "      <td>16</td>\n",
       "      <td>22</td>\n",
       "      <td>4</td>\n",
       "      <td>0</td>\n",
       "      <td>0</td>\n",
       "      <td>6</td>\n",
       "      <td>348</td>\n",
       "    </tr>\n",
       "  </tbody>\n",
       "</table>\n",
       "<p>108901585 rows × 15 columns</p>\n",
       "</div>"
      ],
      "text/plain": [
       "           TRIPID  PROGRNUMBER  STOPPOINTID  PLANNEDTIME_ARR  ACTUALTIME_ARR  \\\n",
       "44885366  6755283           48         6015            36397           36143   \n",
       "22744715  6393675           28         3636            32209           31724   \n",
       "22744714  6393675           27         3635            32193           31718   \n",
       "22744713  6393675           26         3634            32127           31674   \n",
       "22744712  6393675           25         4387            32096           31662   \n",
       "...           ...          ...          ...              ...             ...   \n",
       "64880218  7318116           22         1344            51550           51823   \n",
       "64880219  7318120           44          201            76914           76867   \n",
       "64880220  7316672           44          201            71514           72365   \n",
       "64880203  7316045           22         1344            31848           32075   \n",
       "47761184  6856584           49           28            56578           56926   \n",
       "\n",
       "          DOY LINEID_DIRECTION  JOURNEY_TIME  HOUR  temp  wind_speed  \\\n",
       "44885366  138            102_1          2474    10    16           4   \n",
       "22744715   78            102_1           971     9     2           8   \n",
       "22744714   78            102_1           965     9     2           8   \n",
       "22744713   78            102_1           921     9     2           8   \n",
       "22744712   78            102_1           909     9     2           8   \n",
       "...       ...              ...           ...   ...   ...         ...   \n",
       "64880218  213              9_2          1367    14     5           6   \n",
       "64880219  213              9_2          2468    21     4           8   \n",
       "64880220  213              9_2          3365    20     4           8   \n",
       "64880203  213              9_2          1436     9    -1           4   \n",
       "47761184  159              9_2          3055    16    22           4   \n",
       "\n",
       "          weather_main  DAYOFWEEK  MONTH  error  \n",
       "44885366             0          4      5   -254  \n",
       "22744715             0          0      3   -485  \n",
       "22744714             0          0      3   -475  \n",
       "22744713             0          0      3   -453  \n",
       "22744712             0          0      3   -434  \n",
       "...                ...        ...    ...    ...  \n",
       "64880218             0          0      8    273  \n",
       "64880219             0          0      8    -47  \n",
       "64880220             0          0      8    851  \n",
       "64880203             0          0      8    227  \n",
       "47761184             0          0      6    348  \n",
       "\n",
       "[108901585 rows x 15 columns]"
      ]
     },
     "execution_count": 134,
     "metadata": {},
     "output_type": "execute_result"
    }
   ],
   "source": [
    "merged_dd"
   ]
  },
  {
   "cell_type": "code",
   "execution_count": 164,
   "id": "833f891b",
   "metadata": {},
   "outputs": [
    {
     "name": "stdout",
     "output_type": "stream",
     "text": [
      "/home/team9/tmp/data\n"
     ]
    }
   ],
   "source": [
    "cd .."
   ]
  },
  {
   "cell_type": "code",
   "execution_count": 119,
   "id": "a61ed3e7",
   "metadata": {},
   "outputs": [
    {
     "name": "stdout",
     "output_type": "stream",
     "text": [
      "Custom_location_53_345035_-6_267261_62b5c8e6c91d98000ba01ceb.csv\r\n",
      "\u001b[0m\u001b[01;34mleavetimes\u001b[0m/\r\n",
      "\u001b[01;34mroutes_no_outliers\u001b[0m/\r\n",
      "rt_leavetimes_DB_2018.txt\r\n",
      "rt_trips_DB_2018.txt\r\n",
      "rt_vehicles_DB_2018.txt\r\n",
      "test_46a_dask_2.csv\r\n",
      "test_46a_dask.csv\r\n",
      "trips_lines_ready.csv\r\n",
      "trips_modelling.csv\r\n",
      "trips_ready.csv\r\n",
      "weather_factorised.csv\r\n",
      "weather_ready.csv\r\n",
      "weather_trips.csv\r\n"
     ]
    }
   ],
   "source": [
    "ls"
   ]
  },
  {
   "cell_type": "code",
   "execution_count": 120,
   "id": "e7b7e4c7",
   "metadata": {},
   "outputs": [],
   "source": [
    "mkdir lines_no_outliers"
   ]
  },
  {
   "cell_type": "markdown",
   "id": "242fa1fa",
   "metadata": {},
   "source": [
    "- pretty sure lines is the correct one to use but could look into it further"
   ]
  },
  {
   "cell_type": "markdown",
   "id": "5c72a72c",
   "metadata": {},
   "source": [
    "#### breaks up database into differenct files, divided by the lineid_direction column and cleans outlier rows by dropping all rows with double the value of the standard deviation"
   ]
  },
  {
   "cell_type": "code",
   "execution_count": 3,
   "id": "5050f68d",
   "metadata": {},
   "outputs": [
    {
     "ename": "NameError",
     "evalue": "name 'routes' is not defined",
     "output_type": "error",
     "traceback": [
      "\u001b[0;31m---------------------------------------------------------------------------\u001b[0m",
      "\u001b[0;31mNameError\u001b[0m                                 Traceback (most recent call last)",
      "File \u001b[0;32m<timed exec>:11\u001b[0m, in \u001b[0;36m<module>\u001b[0;34m\u001b[0m\n",
      "\u001b[0;31mNameError\u001b[0m: name 'routes' is not defined"
     ]
    }
   ],
   "source": [
    "%%time\n",
    "\n",
    "        \n",
    "saved = []   \n",
    "count = 0\n",
    "\n",
    "for r in routes:\n",
    "    count +=1\n",
    "    temp_rows = merged_dd.loc[(merged_dd['LINEID_DIRECTION'] == r)]\n",
    "\n",
    "    topTwoSDs = temp_rows.error.mean() + (2 * temp_rows.error.std())\n",
    "    bottomTwoSDs = temp_rows.error.mean() - (2 * temp_rows.error.std())\n",
    "    \n",
    "    temp_rows = temp_rows.loc[(temp_rows.error < topTwoSDs)]\n",
    "    temp_rows = temp_rows.loc[(temp_rows.error > bottomTwoSDs)]\n",
    "    \n",
    "    #temp_rows = temp_rows.drop(\"error\", axis=1)\n",
    "\n",
    "   #line_folder = temp_rows[\"LINEID\"]\n",
    "\n",
    "    name = f\"line_{r}\"\n",
    "\n",
    "    temp_rows.to_csv(f'./lines_no_outliers/{name}.csv')\n",
    "    saved.append(r)\n",
    "    \n",
    "    if count == 35:\n",
    "        #del line_folder\n",
    "        del temp_rows\n",
    "        gc.collect()\n",
    "        %reset Out\n",
    "        count = 0\n",
    "        print(\"save: \", saved)\n",
    "        \n",
    "\n",
    "        \n",
    "    \n",
    "    "
   ]
  },
  {
   "cell_type": "code",
   "execution_count": 4,
   "id": "16e05eff",
   "metadata": {},
   "outputs": [
    {
     "name": "stdout",
     "output_type": "stream",
     "text": [
      "\n",
      "\n",
      "Once deleted, variables cannot be recovered. Proceed (y/[n])? y\n",
      "Flushing output cache (1 entries)\n"
     ]
    }
   ],
   "source": [
    "gc.collect()\n",
    "%reset Out"
   ]
  },
  {
   "cell_type": "code",
   "execution_count": 5,
   "id": "4e56b0b8",
   "metadata": {},
   "outputs": [
    {
     "data": {
      "text/plain": [
       "svmem(total=67481169920, available=44201095168, percent=34.5, used=22587236352, free=34363006976, active=18952704000, inactive=12595400704, buffers=109391872, cached=10421534720, shared=7294976, slab=929488896)"
      ]
     },
     "execution_count": 5,
     "metadata": {},
     "output_type": "execute_result"
    }
   ],
   "source": [
    "psutil.virtual_memory()"
   ]
  },
  {
   "cell_type": "code",
   "execution_count": 135,
   "id": "f617957d",
   "metadata": {},
   "outputs": [
    {
     "data": {
      "text/html": [
       "<div>\n",
       "<style scoped>\n",
       "    .dataframe tbody tr th:only-of-type {\n",
       "        vertical-align: middle;\n",
       "    }\n",
       "\n",
       "    .dataframe tbody tr th {\n",
       "        vertical-align: top;\n",
       "    }\n",
       "\n",
       "    .dataframe thead th {\n",
       "        text-align: right;\n",
       "    }\n",
       "</style>\n",
       "<table border=\"1\" class=\"dataframe\">\n",
       "  <thead>\n",
       "    <tr style=\"text-align: right;\">\n",
       "      <th></th>\n",
       "      <th>TRIPID</th>\n",
       "      <th>PROGRNUMBER</th>\n",
       "      <th>STOPPOINTID</th>\n",
       "      <th>PLANNEDTIME_ARR</th>\n",
       "      <th>ACTUALTIME_ARR</th>\n",
       "      <th>DOY</th>\n",
       "      <th>LINEID</th>\n",
       "      <th>ROUTEID_DIRECTION</th>\n",
       "      <th>JOURNEY_TIME</th>\n",
       "      <th>HOUR</th>\n",
       "      <th>temp</th>\n",
       "      <th>wind_speed</th>\n",
       "      <th>weather_main</th>\n",
       "      <th>DAYOFWEEK</th>\n",
       "      <th>MONTH</th>\n",
       "      <th>error</th>\n",
       "    </tr>\n",
       "  </thead>\n",
       "  <tbody>\n",
       "    <tr>\n",
       "      <th>13818033</th>\n",
       "      <td>6254321</td>\n",
       "      <td>26</td>\n",
       "      <td>1348</td>\n",
       "      <td>83685</td>\n",
       "      <td>83592</td>\n",
       "      <td>43</td>\n",
       "      <td>9</td>\n",
       "      <td>9_8_2</td>\n",
       "      <td>842</td>\n",
       "      <td>23</td>\n",
       "      <td>10</td>\n",
       "      <td>10</td>\n",
       "      <td>1</td>\n",
       "      <td>6</td>\n",
       "      <td>2</td>\n",
       "      <td>-93</td>\n",
       "    </tr>\n",
       "    <tr>\n",
       "      <th>36129535</th>\n",
       "      <td>6645077</td>\n",
       "      <td>10</td>\n",
       "      <td>2432</td>\n",
       "      <td>83092</td>\n",
       "      <td>83132</td>\n",
       "      <td>115</td>\n",
       "      <td>9</td>\n",
       "      <td>9_8_2</td>\n",
       "      <td>299</td>\n",
       "      <td>23</td>\n",
       "      <td>7</td>\n",
       "      <td>6</td>\n",
       "      <td>0</td>\n",
       "      <td>1</td>\n",
       "      <td>4</td>\n",
       "      <td>40</td>\n",
       "    </tr>\n",
       "    <tr>\n",
       "      <th>42769528</th>\n",
       "      <td>6744556</td>\n",
       "      <td>36</td>\n",
       "      <td>281</td>\n",
       "      <td>84475</td>\n",
       "      <td>84774</td>\n",
       "      <td>132</td>\n",
       "      <td>9</td>\n",
       "      <td>9_8_2</td>\n",
       "      <td>1953</td>\n",
       "      <td>0</td>\n",
       "      <td>6</td>\n",
       "      <td>6</td>\n",
       "      <td>1</td>\n",
       "      <td>2</td>\n",
       "      <td>5</td>\n",
       "      <td>299</td>\n",
       "    </tr>\n",
       "    <tr>\n",
       "      <th>56989546</th>\n",
       "      <td>7138311</td>\n",
       "      <td>23</td>\n",
       "      <td>1344</td>\n",
       "      <td>84442</td>\n",
       "      <td>84381</td>\n",
       "      <td>188</td>\n",
       "      <td>9</td>\n",
       "      <td>9_8_2</td>\n",
       "      <td>702</td>\n",
       "      <td>23</td>\n",
       "      <td>15</td>\n",
       "      <td>0</td>\n",
       "      <td>0</td>\n",
       "      <td>4</td>\n",
       "      <td>7</td>\n",
       "      <td>-61</td>\n",
       "    </tr>\n",
       "    <tr>\n",
       "      <th>66727254</th>\n",
       "      <td>7322643</td>\n",
       "      <td>19</td>\n",
       "      <td>2441</td>\n",
       "      <td>83343</td>\n",
       "      <td>83439</td>\n",
       "      <td>220</td>\n",
       "      <td>9</td>\n",
       "      <td>9_8_2</td>\n",
       "      <td>622</td>\n",
       "      <td>23</td>\n",
       "      <td>13</td>\n",
       "      <td>2</td>\n",
       "      <td>0</td>\n",
       "      <td>1</td>\n",
       "      <td>8</td>\n",
       "      <td>96</td>\n",
       "    </tr>\n",
       "    <tr>\n",
       "      <th>...</th>\n",
       "      <td>...</td>\n",
       "      <td>...</td>\n",
       "      <td>...</td>\n",
       "      <td>...</td>\n",
       "      <td>...</td>\n",
       "      <td>...</td>\n",
       "      <td>...</td>\n",
       "      <td>...</td>\n",
       "      <td>...</td>\n",
       "      <td>...</td>\n",
       "      <td>...</td>\n",
       "      <td>...</td>\n",
       "      <td>...</td>\n",
       "      <td>...</td>\n",
       "      <td>...</td>\n",
       "      <td>...</td>\n",
       "    </tr>\n",
       "    <tr>\n",
       "      <th>22881913</th>\n",
       "      <td>6391876</td>\n",
       "      <td>10</td>\n",
       "      <td>2432</td>\n",
       "      <td>83076</td>\n",
       "      <td>83079</td>\n",
       "      <td>79</td>\n",
       "      <td>9</td>\n",
       "      <td>9_8_2</td>\n",
       "      <td>288</td>\n",
       "      <td>23</td>\n",
       "      <td>3</td>\n",
       "      <td>4</td>\n",
       "      <td>0</td>\n",
       "      <td>1</td>\n",
       "      <td>3</td>\n",
       "      <td>3</td>\n",
       "    </tr>\n",
       "    <tr>\n",
       "      <th>22881914</th>\n",
       "      <td>6391876</td>\n",
       "      <td>11</td>\n",
       "      <td>2433</td>\n",
       "      <td>83111</td>\n",
       "      <td>83102</td>\n",
       "      <td>79</td>\n",
       "      <td>9</td>\n",
       "      <td>9_8_2</td>\n",
       "      <td>311</td>\n",
       "      <td>23</td>\n",
       "      <td>3</td>\n",
       "      <td>4</td>\n",
       "      <td>0</td>\n",
       "      <td>1</td>\n",
       "      <td>3</td>\n",
       "      <td>-9</td>\n",
       "    </tr>\n",
       "    <tr>\n",
       "      <th>58153439</th>\n",
       "      <td>7152067</td>\n",
       "      <td>20</td>\n",
       "      <td>2442</td>\n",
       "      <td>84637</td>\n",
       "      <td>84706</td>\n",
       "      <td>193</td>\n",
       "      <td>9</td>\n",
       "      <td>9_8_2</td>\n",
       "      <td>699</td>\n",
       "      <td>0</td>\n",
       "      <td>13</td>\n",
       "      <td>8</td>\n",
       "      <td>1</td>\n",
       "      <td>4</td>\n",
       "      <td>7</td>\n",
       "      <td>69</td>\n",
       "    </tr>\n",
       "    <tr>\n",
       "      <th>78491345</th>\n",
       "      <td>8084757</td>\n",
       "      <td>30</td>\n",
       "      <td>1353</td>\n",
       "      <td>85079</td>\n",
       "      <td>84784</td>\n",
       "      <td>263</td>\n",
       "      <td>9</td>\n",
       "      <td>9_8_2</td>\n",
       "      <td>788</td>\n",
       "      <td>0</td>\n",
       "      <td>11</td>\n",
       "      <td>4</td>\n",
       "      <td>0</td>\n",
       "      <td>3</td>\n",
       "      <td>9</td>\n",
       "      <td>-295</td>\n",
       "    </tr>\n",
       "    <tr>\n",
       "      <th>144058</th>\n",
       "      <td>5957804</td>\n",
       "      <td>37</td>\n",
       "      <td>4</td>\n",
       "      <td>86143</td>\n",
       "      <td>85867</td>\n",
       "      <td>2</td>\n",
       "      <td>9</td>\n",
       "      <td>9_8_2</td>\n",
       "      <td>1243</td>\n",
       "      <td>0</td>\n",
       "      <td>3</td>\n",
       "      <td>6</td>\n",
       "      <td>0</td>\n",
       "      <td>3</td>\n",
       "      <td>1</td>\n",
       "      <td>-276</td>\n",
       "    </tr>\n",
       "  </tbody>\n",
       "</table>\n",
       "<p>20110 rows × 16 columns</p>\n",
       "</div>"
      ],
      "text/plain": [
       "           TRIPID  PROGRNUMBER  STOPPOINTID  PLANNEDTIME_ARR  ACTUALTIME_ARR  \\\n",
       "13818033  6254321           26         1348            83685           83592   \n",
       "36129535  6645077           10         2432            83092           83132   \n",
       "42769528  6744556           36          281            84475           84774   \n",
       "56989546  7138311           23         1344            84442           84381   \n",
       "66727254  7322643           19         2441            83343           83439   \n",
       "...           ...          ...          ...              ...             ...   \n",
       "22881913  6391876           10         2432            83076           83079   \n",
       "22881914  6391876           11         2433            83111           83102   \n",
       "58153439  7152067           20         2442            84637           84706   \n",
       "78491345  8084757           30         1353            85079           84784   \n",
       "144058    5957804           37            4            86143           85867   \n",
       "\n",
       "          DOY LINEID ROUTEID_DIRECTION  JOURNEY_TIME  HOUR  temp  wind_speed  \\\n",
       "13818033   43      9             9_8_2           842    23    10          10   \n",
       "36129535  115      9             9_8_2           299    23     7           6   \n",
       "42769528  132      9             9_8_2          1953     0     6           6   \n",
       "56989546  188      9             9_8_2           702    23    15           0   \n",
       "66727254  220      9             9_8_2           622    23    13           2   \n",
       "...       ...    ...               ...           ...   ...   ...         ...   \n",
       "22881913   79      9             9_8_2           288    23     3           4   \n",
       "22881914   79      9             9_8_2           311    23     3           4   \n",
       "58153439  193      9             9_8_2           699     0    13           8   \n",
       "78491345  263      9             9_8_2           788     0    11           4   \n",
       "144058      2      9             9_8_2          1243     0     3           6   \n",
       "\n",
       "          weather_main  DAYOFWEEK  MONTH  error  \n",
       "13818033             1          6      2    -93  \n",
       "36129535             0          1      4     40  \n",
       "42769528             1          2      5    299  \n",
       "56989546             0          4      7    -61  \n",
       "66727254             0          1      8     96  \n",
       "...                ...        ...    ...    ...  \n",
       "22881913             0          1      3      3  \n",
       "22881914             0          1      3     -9  \n",
       "58153439             1          4      7     69  \n",
       "78491345             0          3      9   -295  \n",
       "144058               0          3      1   -276  \n",
       "\n",
       "[20110 rows x 16 columns]"
      ]
     },
     "execution_count": 135,
     "metadata": {},
     "output_type": "execute_result"
    }
   ],
   "source": [
    "temp_rows"
   ]
  },
  {
   "cell_type": "code",
   "execution_count": null,
   "id": "7b62f1af",
   "metadata": {},
   "outputs": [],
   "source": []
  }
 ],
 "metadata": {
  "kernelspec": {
   "display_name": "Python 3 (ipykernel)",
   "language": "python",
   "name": "python3"
  },
  "language_info": {
   "codemirror_mode": {
    "name": "ipython",
    "version": 3
   },
   "file_extension": ".py",
   "mimetype": "text/x-python",
   "name": "python",
   "nbconvert_exporter": "python",
   "pygments_lexer": "ipython3",
   "version": "3.9.12"
  }
 },
 "nbformat": 4,
 "nbformat_minor": 5
}
