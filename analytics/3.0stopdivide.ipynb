{
 "cells": [
  {
   "cell_type": "code",
   "execution_count": 1,
   "id": "8adb4f44",
   "metadata": {},
   "outputs": [],
   "source": [
    "import pandas as pd\n",
    "import matplotlib.pyplot as plt\n",
    "import numpy as np\n",
    "import datetime as dt\n",
    "from sklearn.model_selection import train_test_split\n",
    "from sklearn.linear_model import LinearRegression\n",
    "from sklearn.ensemble import RandomForestClassifier, RandomForestRegressor\n",
    "from sklearn.neighbors import KNeighborsRegressor\n",
    "import matplotlib.pyplot as plt\n",
    "from sklearn import metrics\n",
    "from sklearn.metrics import classification_report\n",
    "import seaborn as sns\n",
    "from scipy import stats\n",
    "from pathlib import Path\n",
    "import pickle\n",
    "import numpy as np"
   ]
  },
  {
   "cell_type": "code",
   "execution_count": 2,
   "id": "c997ac54",
   "metadata": {},
   "outputs": [],
   "source": [
    "# display all columns\n",
    "pd.set_option('display.max_columns', None)\n",
    "pd.set_option('display.max_rows', 70)"
   ]
  },
  {
   "cell_type": "code",
   "execution_count": 3,
   "id": "f78b3fa0",
   "metadata": {},
   "outputs": [
    {
     "name": "stdout",
     "output_type": "stream",
     "text": [
      "/home/team9/tmp\n"
     ]
    }
   ],
   "source": [
    "cd tmp"
   ]
  },
  {
   "cell_type": "code",
   "execution_count": 4,
   "id": "76b0243f",
   "metadata": {},
   "outputs": [
    {
     "name": "stdout",
     "output_type": "stream",
     "text": [
      "\u001b[0m\u001b[01;34mdata\u001b[0m/\r\n"
     ]
    }
   ],
   "source": [
    "ls"
   ]
  },
  {
   "cell_type": "code",
   "execution_count": 5,
   "id": "5eb35e49",
   "metadata": {},
   "outputs": [
    {
     "name": "stdout",
     "output_type": "stream",
     "text": [
      "/home/team9/tmp/data\n"
     ]
    }
   ],
   "source": [
    "cd data"
   ]
  },
  {
   "cell_type": "code",
   "execution_count": 6,
   "id": "8cff6a2f",
   "metadata": {},
   "outputs": [
    {
     "name": "stdout",
     "output_type": "stream",
     "text": [
      "Custom_location_53_345035_-6_267261_62b5c8e6c91d98000ba01ceb.csv\r\n",
      "\u001b[0m\u001b[01;34mleavetimes\u001b[0m/\r\n",
      "\u001b[01;34mroutes\u001b[0m/\r\n",
      "\u001b[01;34mroutes_no_outliers\u001b[0m/\r\n",
      "rt_leavetimes_DB_2018.txt\r\n",
      "rt_trips_DB_2018.txt\r\n",
      "rt_vehicles_DB_2018.txt\r\n",
      "\u001b[01;31mrt_vehicles_DB_2018.zip\u001b[0m\r\n",
      "\u001b[01;34mtest\u001b[0m/\r\n",
      "test_46a_dask.csv\r\n",
      "trips_modelling.csv\r\n",
      "trips_ready.csv\r\n",
      "weather_factorised.csv\r\n",
      "weather_ready.csv\r\n",
      "weather_trips.csv\r\n"
     ]
    }
   ],
   "source": [
    "ls"
   ]
  },
  {
   "cell_type": "markdown",
   "id": "af3a07cf",
   "metadata": {},
   "source": [
    "## get unique tripid with lineid with direction"
   ]
  },
  {
   "cell_type": "code",
   "execution_count": 7,
   "id": "13f6453f",
   "metadata": {},
   "outputs": [],
   "source": [
    "trips = pd.read_csv('rt_trips_DB_2018.txt', sep=\";\", parse_dates=[0],usecols=['DAYOFSERVICE', 'TRIPID', 'LINEID'])"
   ]
  },
  {
   "cell_type": "code",
   "execution_count": 8,
   "id": "c58ef1bc",
   "metadata": {
    "scrolled": true
   },
   "outputs": [
    {
     "data": {
      "text/html": [
       "<div>\n",
       "<style scoped>\n",
       "    .dataframe tbody tr th:only-of-type {\n",
       "        vertical-align: middle;\n",
       "    }\n",
       "\n",
       "    .dataframe tbody tr th {\n",
       "        vertical-align: top;\n",
       "    }\n",
       "\n",
       "    .dataframe thead th {\n",
       "        text-align: right;\n",
       "    }\n",
       "</style>\n",
       "<table border=\"1\" class=\"dataframe\">\n",
       "  <thead>\n",
       "    <tr style=\"text-align: right;\">\n",
       "      <th></th>\n",
       "      <th>DAYOFSERVICE</th>\n",
       "      <th>TRIPID</th>\n",
       "      <th>LINEID</th>\n",
       "    </tr>\n",
       "  </thead>\n",
       "  <tbody>\n",
       "    <tr>\n",
       "      <th>0</th>\n",
       "      <td>2018-02-07</td>\n",
       "      <td>6253783</td>\n",
       "      <td>68</td>\n",
       "    </tr>\n",
       "    <tr>\n",
       "      <th>1</th>\n",
       "      <td>2018-02-07</td>\n",
       "      <td>6262138</td>\n",
       "      <td>25B</td>\n",
       "    </tr>\n",
       "    <tr>\n",
       "      <th>2</th>\n",
       "      <td>2018-02-07</td>\n",
       "      <td>6254942</td>\n",
       "      <td>45A</td>\n",
       "    </tr>\n",
       "    <tr>\n",
       "      <th>3</th>\n",
       "      <td>2018-02-07</td>\n",
       "      <td>6259460</td>\n",
       "      <td>25A</td>\n",
       "    </tr>\n",
       "    <tr>\n",
       "      <th>4</th>\n",
       "      <td>2018-02-07</td>\n",
       "      <td>6253175</td>\n",
       "      <td>14</td>\n",
       "    </tr>\n",
       "    <tr>\n",
       "      <th>...</th>\n",
       "      <td>...</td>\n",
       "      <td>...</td>\n",
       "      <td>...</td>\n",
       "    </tr>\n",
       "    <tr>\n",
       "      <th>2182632</th>\n",
       "      <td>2018-05-14</td>\n",
       "      <td>6765849</td>\n",
       "      <td>123</td>\n",
       "    </tr>\n",
       "    <tr>\n",
       "      <th>2182633</th>\n",
       "      <td>2018-05-14</td>\n",
       "      <td>6765469</td>\n",
       "      <td>75</td>\n",
       "    </tr>\n",
       "    <tr>\n",
       "      <th>2182634</th>\n",
       "      <td>2018-05-14</td>\n",
       "      <td>6765486</td>\n",
       "      <td>33D</td>\n",
       "    </tr>\n",
       "    <tr>\n",
       "      <th>2182635</th>\n",
       "      <td>2018-05-14</td>\n",
       "      <td>6764987</td>\n",
       "      <td>70</td>\n",
       "    </tr>\n",
       "    <tr>\n",
       "      <th>2182636</th>\n",
       "      <td>2018-05-14</td>\n",
       "      <td>6765012</td>\n",
       "      <td>27</td>\n",
       "    </tr>\n",
       "  </tbody>\n",
       "</table>\n",
       "<p>2182637 rows × 3 columns</p>\n",
       "</div>"
      ],
      "text/plain": [
       "        DAYOFSERVICE   TRIPID LINEID\n",
       "0         2018-02-07  6253783     68\n",
       "1         2018-02-07  6262138    25B\n",
       "2         2018-02-07  6254942    45A\n",
       "3         2018-02-07  6259460    25A\n",
       "4         2018-02-07  6253175     14\n",
       "...              ...      ...    ...\n",
       "2182632   2018-05-14  6765849    123\n",
       "2182633   2018-05-14  6765469     75\n",
       "2182634   2018-05-14  6765486    33D\n",
       "2182635   2018-05-14  6764987     70\n",
       "2182636   2018-05-14  6765012     27\n",
       "\n",
       "[2182637 rows x 3 columns]"
      ]
     },
     "execution_count": 8,
     "metadata": {},
     "output_type": "execute_result"
    }
   ],
   "source": [
    "trips"
   ]
  },
  {
   "cell_type": "code",
   "execution_count": 9,
   "id": "96d826ec",
   "metadata": {},
   "outputs": [
    {
     "data": {
      "text/plain": [
       "DAYOFSERVICE       360\n",
       "TRIPID          658964\n",
       "LINEID             130\n",
       "dtype: int64"
      ]
     },
     "execution_count": 9,
     "metadata": {},
     "output_type": "execute_result"
    }
   ],
   "source": [
    "trips.nunique()"
   ]
  },
  {
   "cell_type": "code",
   "execution_count": 10,
   "id": "e962fdd1",
   "metadata": {},
   "outputs": [],
   "source": [
    "#trips = trips.drop_duplicates(subset=['TRIPID','LINEID','DIRECTION'],keep='first')\n",
    "trips = trips.drop_duplicates(subset=['TRIPID','LINEID'],keep='first')"
   ]
  },
  {
   "cell_type": "code",
   "execution_count": 11,
   "id": "6f69b0bc",
   "metadata": {},
   "outputs": [
    {
     "data": {
      "text/html": [
       "<div>\n",
       "<style scoped>\n",
       "    .dataframe tbody tr th:only-of-type {\n",
       "        vertical-align: middle;\n",
       "    }\n",
       "\n",
       "    .dataframe tbody tr th {\n",
       "        vertical-align: top;\n",
       "    }\n",
       "\n",
       "    .dataframe thead th {\n",
       "        text-align: right;\n",
       "    }\n",
       "</style>\n",
       "<table border=\"1\" class=\"dataframe\">\n",
       "  <thead>\n",
       "    <tr style=\"text-align: right;\">\n",
       "      <th></th>\n",
       "      <th>DAYOFSERVICE</th>\n",
       "      <th>TRIPID</th>\n",
       "      <th>LINEID</th>\n",
       "    </tr>\n",
       "  </thead>\n",
       "  <tbody>\n",
       "    <tr>\n",
       "      <th>0</th>\n",
       "      <td>2018-02-07</td>\n",
       "      <td>6253783</td>\n",
       "      <td>68</td>\n",
       "    </tr>\n",
       "    <tr>\n",
       "      <th>1</th>\n",
       "      <td>2018-02-07</td>\n",
       "      <td>6262138</td>\n",
       "      <td>25B</td>\n",
       "    </tr>\n",
       "    <tr>\n",
       "      <th>2</th>\n",
       "      <td>2018-02-07</td>\n",
       "      <td>6254942</td>\n",
       "      <td>45A</td>\n",
       "    </tr>\n",
       "    <tr>\n",
       "      <th>3</th>\n",
       "      <td>2018-02-07</td>\n",
       "      <td>6259460</td>\n",
       "      <td>25A</td>\n",
       "    </tr>\n",
       "    <tr>\n",
       "      <th>4</th>\n",
       "      <td>2018-02-07</td>\n",
       "      <td>6253175</td>\n",
       "      <td>14</td>\n",
       "    </tr>\n",
       "    <tr>\n",
       "      <th>...</th>\n",
       "      <td>...</td>\n",
       "      <td>...</td>\n",
       "      <td>...</td>\n",
       "    </tr>\n",
       "    <tr>\n",
       "      <th>2178053</th>\n",
       "      <td>2018-05-27</td>\n",
       "      <td>6841018</td>\n",
       "      <td>11</td>\n",
       "    </tr>\n",
       "    <tr>\n",
       "      <th>2178054</th>\n",
       "      <td>2018-05-27</td>\n",
       "      <td>6841376</td>\n",
       "      <td>76</td>\n",
       "    </tr>\n",
       "    <tr>\n",
       "      <th>2178055</th>\n",
       "      <td>2018-05-27</td>\n",
       "      <td>6846574</td>\n",
       "      <td>76</td>\n",
       "    </tr>\n",
       "    <tr>\n",
       "      <th>2179536</th>\n",
       "      <td>2018-05-15</td>\n",
       "      <td>6762495</td>\n",
       "      <td>25A</td>\n",
       "    </tr>\n",
       "    <tr>\n",
       "      <th>2180715</th>\n",
       "      <td>2018-05-14</td>\n",
       "      <td>6762008</td>\n",
       "      <td>13</td>\n",
       "    </tr>\n",
       "  </tbody>\n",
       "</table>\n",
       "<p>658964 rows × 3 columns</p>\n",
       "</div>"
      ],
      "text/plain": [
       "        DAYOFSERVICE   TRIPID LINEID\n",
       "0         2018-02-07  6253783     68\n",
       "1         2018-02-07  6262138    25B\n",
       "2         2018-02-07  6254942    45A\n",
       "3         2018-02-07  6259460    25A\n",
       "4         2018-02-07  6253175     14\n",
       "...              ...      ...    ...\n",
       "2178053   2018-05-27  6841018     11\n",
       "2178054   2018-05-27  6841376     76\n",
       "2178055   2018-05-27  6846574     76\n",
       "2179536   2018-05-15  6762495    25A\n",
       "2180715   2018-05-14  6762008     13\n",
       "\n",
       "[658964 rows x 3 columns]"
      ]
     },
     "execution_count": 11,
     "metadata": {},
     "output_type": "execute_result"
    }
   ],
   "source": [
    "trips"
   ]
  },
  {
   "cell_type": "code",
   "execution_count": 12,
   "id": "a3cb9159",
   "metadata": {},
   "outputs": [
    {
     "data": {
      "text/plain": [
       "DAYOFSERVICE       347\n",
       "TRIPID          658964\n",
       "LINEID             130\n",
       "dtype: int64"
      ]
     },
     "execution_count": 12,
     "metadata": {},
     "output_type": "execute_result"
    }
   ],
   "source": [
    "trips.nunique()"
   ]
  },
  {
   "cell_type": "code",
   "execution_count": 13,
   "id": "3a62b0c0",
   "metadata": {},
   "outputs": [],
   "source": [
    "#trips = trips[['TRIPID','LINEID','DIRECTION']]\n",
    "trips = trips[['TRIPID','LINEID']]"
   ]
  },
  {
   "cell_type": "code",
   "execution_count": 14,
   "id": "3354d969",
   "metadata": {
    "scrolled": true
   },
   "outputs": [
    {
     "data": {
      "text/html": [
       "<div>\n",
       "<style scoped>\n",
       "    .dataframe tbody tr th:only-of-type {\n",
       "        vertical-align: middle;\n",
       "    }\n",
       "\n",
       "    .dataframe tbody tr th {\n",
       "        vertical-align: top;\n",
       "    }\n",
       "\n",
       "    .dataframe thead th {\n",
       "        text-align: right;\n",
       "    }\n",
       "</style>\n",
       "<table border=\"1\" class=\"dataframe\">\n",
       "  <thead>\n",
       "    <tr style=\"text-align: right;\">\n",
       "      <th></th>\n",
       "      <th>TRIPID</th>\n",
       "      <th>LINEID</th>\n",
       "    </tr>\n",
       "  </thead>\n",
       "  <tbody>\n",
       "    <tr>\n",
       "      <th>681660</th>\n",
       "      <td>5955221</td>\n",
       "      <td>14</td>\n",
       "    </tr>\n",
       "    <tr>\n",
       "      <th>723197</th>\n",
       "      <td>5955222</td>\n",
       "      <td>14</td>\n",
       "    </tr>\n",
       "    <tr>\n",
       "      <th>684398</th>\n",
       "      <td>5955223</td>\n",
       "      <td>14</td>\n",
       "    </tr>\n",
       "    <tr>\n",
       "      <th>719581</th>\n",
       "      <td>5955224</td>\n",
       "      <td>14</td>\n",
       "    </tr>\n",
       "    <tr>\n",
       "      <th>674864</th>\n",
       "      <td>5955225</td>\n",
       "      <td>14</td>\n",
       "    </tr>\n",
       "    <tr>\n",
       "      <th>...</th>\n",
       "      <td>...</td>\n",
       "      <td>...</td>\n",
       "    </tr>\n",
       "    <tr>\n",
       "      <th>26165</th>\n",
       "      <td>8592203</td>\n",
       "      <td>67</td>\n",
       "    </tr>\n",
       "    <tr>\n",
       "      <th>32940</th>\n",
       "      <td>8592204</td>\n",
       "      <td>67</td>\n",
       "    </tr>\n",
       "    <tr>\n",
       "      <th>57440</th>\n",
       "      <td>8592205</td>\n",
       "      <td>67</td>\n",
       "    </tr>\n",
       "    <tr>\n",
       "      <th>28895</th>\n",
       "      <td>8592206</td>\n",
       "      <td>67</td>\n",
       "    </tr>\n",
       "    <tr>\n",
       "      <th>57439</th>\n",
       "      <td>8592207</td>\n",
       "      <td>67</td>\n",
       "    </tr>\n",
       "  </tbody>\n",
       "</table>\n",
       "<p>658964 rows × 2 columns</p>\n",
       "</div>"
      ],
      "text/plain": [
       "         TRIPID LINEID\n",
       "681660  5955221     14\n",
       "723197  5955222     14\n",
       "684398  5955223     14\n",
       "719581  5955224     14\n",
       "674864  5955225     14\n",
       "...         ...    ...\n",
       "26165   8592203     67\n",
       "32940   8592204     67\n",
       "57440   8592205     67\n",
       "28895   8592206     67\n",
       "57439   8592207     67\n",
       "\n",
       "[658964 rows x 2 columns]"
      ]
     },
     "execution_count": 14,
     "metadata": {},
     "output_type": "execute_result"
    }
   ],
   "source": [
    "trips.sort_values('TRIPID')"
   ]
  },
  {
   "cell_type": "code",
   "execution_count": null,
   "id": "c02256c7",
   "metadata": {},
   "outputs": [],
   "source": []
  },
  {
   "cell_type": "markdown",
   "id": "0c0bad54",
   "metadata": {},
   "source": [
    "## Read leavetimes"
   ]
  },
  {
   "cell_type": "markdown",
   "id": "238b95ec",
   "metadata": {},
   "source": [
    "#### notice: the whole file is too large and always cause memory error, I ll just test clean it use chunksize(check details in 3.1stopchunk), and just import the needed columns"
   ]
  },
  {
   "cell_type": "code",
   "execution_count": 15,
   "id": "3d133b07",
   "metadata": {},
   "outputs": [],
   "source": [
    "leavetimes = pd.read_csv('rt_leavetimes_DB_2018.txt', sep=\";\",parse_dates=[0], usecols=['DAYOFSERVICE',\n",
    " 'TRIPID',\n",
    " 'PROGRNUMBER',\n",
    " 'STOPPOINTID',\n",
    " 'PLANNEDTIME_ARR',\n",
    " 'PLANNEDTIME_DEP',\n",
    " 'ACTUALTIME_ARR',\n",
    " 'ACTUALTIME_DEP',\n",
    " 'VEHICLEID'])"
   ]
  },
  {
   "cell_type": "code",
   "execution_count": 16,
   "id": "9175b78c",
   "metadata": {},
   "outputs": [
    {
     "data": {
      "text/html": [
       "<div>\n",
       "<style scoped>\n",
       "    .dataframe tbody tr th:only-of-type {\n",
       "        vertical-align: middle;\n",
       "    }\n",
       "\n",
       "    .dataframe tbody tr th {\n",
       "        vertical-align: top;\n",
       "    }\n",
       "\n",
       "    .dataframe thead th {\n",
       "        text-align: right;\n",
       "    }\n",
       "</style>\n",
       "<table border=\"1\" class=\"dataframe\">\n",
       "  <thead>\n",
       "    <tr style=\"text-align: right;\">\n",
       "      <th></th>\n",
       "      <th>DAYOFSERVICE</th>\n",
       "      <th>TRIPID</th>\n",
       "      <th>PROGRNUMBER</th>\n",
       "      <th>STOPPOINTID</th>\n",
       "      <th>PLANNEDTIME_ARR</th>\n",
       "      <th>PLANNEDTIME_DEP</th>\n",
       "      <th>ACTUALTIME_ARR</th>\n",
       "      <th>ACTUALTIME_DEP</th>\n",
       "      <th>VEHICLEID</th>\n",
       "    </tr>\n",
       "  </thead>\n",
       "  <tbody>\n",
       "    <tr>\n",
       "      <th>0</th>\n",
       "      <td>2018-01-01</td>\n",
       "      <td>5972116</td>\n",
       "      <td>12</td>\n",
       "      <td>119</td>\n",
       "      <td>48030</td>\n",
       "      <td>48030</td>\n",
       "      <td>48012</td>\n",
       "      <td>48012</td>\n",
       "      <td>2693211</td>\n",
       "    </tr>\n",
       "    <tr>\n",
       "      <th>1</th>\n",
       "      <td>2018-01-01</td>\n",
       "      <td>5966674</td>\n",
       "      <td>12</td>\n",
       "      <td>119</td>\n",
       "      <td>54001</td>\n",
       "      <td>54001</td>\n",
       "      <td>54023</td>\n",
       "      <td>54023</td>\n",
       "      <td>2693267</td>\n",
       "    </tr>\n",
       "    <tr>\n",
       "      <th>2</th>\n",
       "      <td>2018-01-01</td>\n",
       "      <td>5959105</td>\n",
       "      <td>12</td>\n",
       "      <td>119</td>\n",
       "      <td>60001</td>\n",
       "      <td>60001</td>\n",
       "      <td>59955</td>\n",
       "      <td>59955</td>\n",
       "      <td>2693263</td>\n",
       "    </tr>\n",
       "    <tr>\n",
       "      <th>3</th>\n",
       "      <td>2018-01-01</td>\n",
       "      <td>5966888</td>\n",
       "      <td>12</td>\n",
       "      <td>119</td>\n",
       "      <td>58801</td>\n",
       "      <td>58801</td>\n",
       "      <td>58771</td>\n",
       "      <td>58771</td>\n",
       "      <td>2693284</td>\n",
       "    </tr>\n",
       "    <tr>\n",
       "      <th>4</th>\n",
       "      <td>2018-01-01</td>\n",
       "      <td>5965960</td>\n",
       "      <td>12</td>\n",
       "      <td>119</td>\n",
       "      <td>56401</td>\n",
       "      <td>56401</td>\n",
       "      <td>56309</td>\n",
       "      <td>56323</td>\n",
       "      <td>2693209</td>\n",
       "    </tr>\n",
       "  </tbody>\n",
       "</table>\n",
       "</div>"
      ],
      "text/plain": [
       "  DAYOFSERVICE   TRIPID  PROGRNUMBER  STOPPOINTID  PLANNEDTIME_ARR  \\\n",
       "0   2018-01-01  5972116           12          119            48030   \n",
       "1   2018-01-01  5966674           12          119            54001   \n",
       "2   2018-01-01  5959105           12          119            60001   \n",
       "3   2018-01-01  5966888           12          119            58801   \n",
       "4   2018-01-01  5965960           12          119            56401   \n",
       "\n",
       "   PLANNEDTIME_DEP  ACTUALTIME_ARR  ACTUALTIME_DEP  VEHICLEID  \n",
       "0            48030           48012           48012    2693211  \n",
       "1            54001           54023           54023    2693267  \n",
       "2            60001           59955           59955    2693263  \n",
       "3            58801           58771           58771    2693284  \n",
       "4            56401           56309           56323    2693209  "
      ]
     },
     "execution_count": 16,
     "metadata": {},
     "output_type": "execute_result"
    }
   ],
   "source": [
    "leavetimes.head(5)"
   ]
  },
  {
   "cell_type": "code",
   "execution_count": null,
   "id": "a365dfbc",
   "metadata": {},
   "outputs": [],
   "source": []
  },
  {
   "cell_type": "code",
   "execution_count": null,
   "id": "5f60961d",
   "metadata": {},
   "outputs": [],
   "source": []
  },
  {
   "cell_type": "markdown",
   "id": "a79969d5",
   "metadata": {},
   "source": [
    "## Merge the tripid"
   ]
  },
  {
   "cell_type": "code",
   "execution_count": 17,
   "id": "c949ed73",
   "metadata": {},
   "outputs": [],
   "source": [
    "leavetimes = pd.merge(leavetimes,trips,how='left')"
   ]
  },
  {
   "cell_type": "code",
   "execution_count": 18,
   "id": "5f76a7c8",
   "metadata": {},
   "outputs": [],
   "source": [
    "#leavetimes['LINE_DIRECTION'] = leavetimes['LINEID'] + '_' + leavetimes['DIRECTION'].astype(str)"
   ]
  },
  {
   "cell_type": "code",
   "execution_count": 19,
   "id": "5b58762f",
   "metadata": {},
   "outputs": [],
   "source": [
    "#leavetimes.nunique()"
   ]
  },
  {
   "cell_type": "markdown",
   "id": "ee60453d",
   "metadata": {},
   "source": [
    "#### check if there's tripid without any corresponding lineid and direction"
   ]
  },
  {
   "cell_type": "code",
   "execution_count": null,
   "id": "8cf86602",
   "metadata": {},
   "outputs": [],
   "source": []
  },
  {
   "cell_type": "markdown",
   "id": "3dbefc73",
   "metadata": {},
   "source": [
    "## divide by lineid"
   ]
  },
  {
   "cell_type": "code",
   "execution_count": 20,
   "id": "3dac0e54",
   "metadata": {},
   "outputs": [
    {
     "name": "stdout",
     "output_type": "stream",
     "text": [
      "/home/team9/tmp/data/test\n"
     ]
    }
   ],
   "source": [
    "cd ~/tmp/data/test"
   ]
  },
  {
   "cell_type": "code",
   "execution_count": 21,
   "id": "9f707d2c",
   "metadata": {},
   "outputs": [
    {
     "name": "stdout",
     "output_type": "stream",
     "text": [
      "['1' '13' '37' '104' '11' '102' '151' '41' '65' '7A' '140' '84' '79A'\n",
      " '15A' '17' '44' '40B' '41C' '83A' '238' '25' '38A' '63' '4' '66A' '31'\n",
      " '150' '17A' '25B' '31A' '33' '27B' '32' '14' '67' '9' '61' '43' '130'\n",
      " '68' '15' '123' '122' '120' '47' '69' '39A' '76' '40' '70' '29A' '25A'\n",
      " '38' '49' '65B' '39' '45A' '42' '77A' '27' '54A' '46A' '27A' '40D' '7'\n",
      " '53' '33B' '75' '270' '18' '16' '41B' '145' '83' '79' '16C' '66' '15B'\n",
      " '185' '26' '56A' '33A' '14C' '59' '220' '184' '142' '114' '76A' '31B'\n",
      " '68A' '66B' '111' '236' '84A' '67X' '84X' '239' '42D' '66X' '116' '41X'\n",
      " '46E' '38B' '32X' '161' '7B' '118' '25X' '38D' '7D' '44B' '33X' '25D'\n",
      " '51D' '15D' '31D' '39X' '27X' '51X' '77X' '69X' '41A' '70D' '68X' '33D'\n",
      " '40E' '16D' '33E' '41D']\n"
     ]
    }
   ],
   "source": [
    "line=leavetimes.LINEID.unique()\n",
    "print(line)"
   ]
  },
  {
   "cell_type": "markdown",
   "id": "6c29a52d",
   "metadata": {},
   "source": [
    "Line:  \n",
    "['1' '13' '37' '104' '11' '102' '151' '41' '65' '7A' '140' '84' '79A'\n",
    " '15A' '17' '44' '40B' '41C' '83A' '238' '25' '38A' '63' '4' '66A' '31'\n",
    " '150' '17A' '25B' '31A' '33' '27B' '32' '14' '67' '9' '61' '43' '130'\n",
    " '68' '15' '123' '122' '120' '47' '69' '39A' '76' '40' '70' '29A' '25A'\n",
    " '38' '49' '65B' '39' '45A' '42' '77A' '27' '54A' '46A' '27A' '40D' '7'\n",
    " '53' '33B' '75' '270' '18' '16' '41B' '145' '83' '79' '16C' '66' '15B'\n",
    " '185' '26' '56A' '33A' '14C' '59' '220' '184' '142' '114' '76A' '31B'\n",
    " '68A' '66B' '111' '236' '84A' '67X' '84X' '239' '42D' '66X' '116' '41X'\n",
    " '46E' '38B' '32X' '161' '7B' '118' '25X' '38D' '7D' '44B' '33X' '25D'\n",
    " '51D' '15D' '31D' '39X' '27X' '51X' '77X' '69X' '41A' '70D' '68X' '33D'\n",
    " '40E' '16D' '33E' '41D']"
   ]
  },
  {
   "cell_type": "code",
   "execution_count": 22,
   "id": "21a5d9e7",
   "metadata": {},
   "outputs": [],
   "source": [
    "# line46A_df_list = []\n",
    "# chunksize = 10 ** 6\n",
    "# for chunk in pd.read_csv(\"rt_leavetimes_DB_2018.txt\", sep=';', chunksize=chunksize):\n",
    "#    line39A_df_list.append(chunk[chunk['TRIPID'].isin(tripid_39A_list)])\n",
    "\n",
    "# df_line39A = pd.concat(line46A_df_list)"
   ]
  },
  {
   "cell_type": "code",
   "execution_count": 23,
   "id": "1570eb64",
   "metadata": {},
   "outputs": [],
   "source": [
    "for i in line:\n",
    "    df=leavetimes[leavetimes.LINEID ==i]\n",
    "    df.to_csv('leavetimes_'+ i+'.csv',index=True)"
   ]
  },
  {
   "cell_type": "code",
   "execution_count": null,
   "id": "cfa6148a",
   "metadata": {},
   "outputs": [],
   "source": []
  },
  {
   "cell_type": "code",
   "execution_count": null,
   "id": "0ae3d778",
   "metadata": {},
   "outputs": [],
   "source": []
  },
  {
   "cell_type": "code",
   "execution_count": null,
   "id": "83fce84a",
   "metadata": {},
   "outputs": [],
   "source": []
  },
  {
   "cell_type": "code",
   "execution_count": null,
   "id": "6c39f6a6",
   "metadata": {},
   "outputs": [],
   "source": []
  },
  {
   "cell_type": "code",
   "execution_count": null,
   "id": "4f3c11f1",
   "metadata": {},
   "outputs": [],
   "source": []
  },
  {
   "cell_type": "code",
   "execution_count": null,
   "id": "4e14cd83",
   "metadata": {},
   "outputs": [],
   "source": []
  }
 ],
 "metadata": {
  "kernelspec": {
   "display_name": "Python 3 (ipykernel)",
   "language": "python",
   "name": "python3"
  },
  "language_info": {
   "codemirror_mode": {
    "name": "ipython",
    "version": 3
   },
   "file_extension": ".py",
   "mimetype": "text/x-python",
   "name": "python",
   "nbconvert_exporter": "python",
   "pygments_lexer": "ipython3",
   "version": "3.9.12"
  }
 },
 "nbformat": 4,
 "nbformat_minor": 5
}
